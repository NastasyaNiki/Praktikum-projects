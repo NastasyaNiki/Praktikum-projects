{
 "cells": [
  {
   "cell_type": "markdown",
   "metadata": {
    "toc": true
   },
   "source": [
    "<h2>Содержание<span class=\"tocSkip\"></span></h2>\n",
    "<p> </p>\n",
    "<div class=\"toc\"><ul class=\"toc-item\"><li><span><a href=\"#1-Изучение-данных-из-файла\" data-toc-modified-id=\"1-Изучение-данных-из-файла\"><span class=\"toc-item-num\"></span>1 Изучение данных из файла</a></span></li><li><span><a href=\"#2-Предобработка-данных\" data-toc-modified-id=\"2-Предобработка-данных\"><span class=\"toc-item-num\"></span>2 Предобработка данных</a></span></li><li><span><a href=\"#3-Расчёты-и-добавление-результатов-в-таблицу\" data-toc-modified-id=\"3-Расчёты-и-добавление-результатов-в-таблицу\"><span class=\"toc-item-num\"></span>3 Расчёты и добавление результатов в таблицу</a></span></li><li><span><a href=\"#4-Исследовательский-анализ-данных\" data-toc-modified-id=\"4-Исследовательский-анализ-данных\"><span class=\"toc-item-num\"></span>4 Исследовательский анализ данных</a></span></li><li><span><a href=\"#5-Общий-вывод\" data-toc-modified-id=\"5-Общий-вывод\"><span class=\"toc-item-num\"></span>5 Общий вывод"
   ]
  },
  {
   "cell_type": "markdown",
   "metadata": {},
   "source": [
    "# Исследование объявлений о продаже квартир\n",
    "\n",
    "Представлены данные сервиса Яндекс.Недвижимость — архив объявлений о продаже квартир в Санкт-Петербурге и соседних населённых пунктах за несколько лет. Нужно научиться определять рыночную стоимость объектов недвижимости. Задача — установить параметры. Это позволит построить автоматизированную систему: она отследит аномалии и мошенническую деятельность. "
   ]
  },
  {
   "cell_type": "markdown",
   "metadata": {},
   "source": [
    "## 1 Изучение данных из файла"
   ]
  },
  {
   "cell_type": "code",
   "execution_count": 1,
   "metadata": {},
   "outputs": [],
   "source": [
    "#импорт бибилиотек\n",
    "import pandas as pd\n",
    "import matplotlib.pyplot as plt"
   ]
  },
  {
   "cell_type": "code",
   "execution_count": 2,
   "metadata": {
    "scrolled": true
   },
   "outputs": [
    {
     "data": {
      "text/html": [
       "<div>\n",
       "<style scoped>\n",
       "    .dataframe tbody tr th:only-of-type {\n",
       "        vertical-align: middle;\n",
       "    }\n",
       "\n",
       "    .dataframe tbody tr th {\n",
       "        vertical-align: top;\n",
       "    }\n",
       "\n",
       "    .dataframe thead th {\n",
       "        text-align: right;\n",
       "    }\n",
       "</style>\n",
       "<table border=\"1\" class=\"dataframe\">\n",
       "  <thead>\n",
       "    <tr style=\"text-align: right;\">\n",
       "      <th></th>\n",
       "      <th>total_images</th>\n",
       "      <th>last_price</th>\n",
       "      <th>total_area</th>\n",
       "      <th>first_day_exposition</th>\n",
       "      <th>rooms</th>\n",
       "      <th>ceiling_height</th>\n",
       "      <th>floors_total</th>\n",
       "      <th>living_area</th>\n",
       "      <th>floor</th>\n",
       "      <th>is_apartment</th>\n",
       "      <th>...</th>\n",
       "      <th>kitchen_area</th>\n",
       "      <th>balcony</th>\n",
       "      <th>locality_name</th>\n",
       "      <th>airports_nearest</th>\n",
       "      <th>cityCenters_nearest</th>\n",
       "      <th>parks_around3000</th>\n",
       "      <th>parks_nearest</th>\n",
       "      <th>ponds_around3000</th>\n",
       "      <th>ponds_nearest</th>\n",
       "      <th>days_exposition</th>\n",
       "    </tr>\n",
       "  </thead>\n",
       "  <tbody>\n",
       "    <tr>\n",
       "      <th>0</th>\n",
       "      <td>20</td>\n",
       "      <td>13000000.0</td>\n",
       "      <td>108.0</td>\n",
       "      <td>2019-03-07T00:00:00</td>\n",
       "      <td>3</td>\n",
       "      <td>2.70</td>\n",
       "      <td>16.0</td>\n",
       "      <td>51.0</td>\n",
       "      <td>8</td>\n",
       "      <td>NaN</td>\n",
       "      <td>...</td>\n",
       "      <td>25.0</td>\n",
       "      <td>NaN</td>\n",
       "      <td>Санкт-Петербург</td>\n",
       "      <td>18863.0</td>\n",
       "      <td>16028.0</td>\n",
       "      <td>1.0</td>\n",
       "      <td>482.0</td>\n",
       "      <td>2.0</td>\n",
       "      <td>755.0</td>\n",
       "      <td>NaN</td>\n",
       "    </tr>\n",
       "    <tr>\n",
       "      <th>1</th>\n",
       "      <td>7</td>\n",
       "      <td>3350000.0</td>\n",
       "      <td>40.4</td>\n",
       "      <td>2018-12-04T00:00:00</td>\n",
       "      <td>1</td>\n",
       "      <td>NaN</td>\n",
       "      <td>11.0</td>\n",
       "      <td>18.6</td>\n",
       "      <td>1</td>\n",
       "      <td>NaN</td>\n",
       "      <td>...</td>\n",
       "      <td>11.0</td>\n",
       "      <td>2.0</td>\n",
       "      <td>посёлок Шушары</td>\n",
       "      <td>12817.0</td>\n",
       "      <td>18603.0</td>\n",
       "      <td>0.0</td>\n",
       "      <td>NaN</td>\n",
       "      <td>0.0</td>\n",
       "      <td>NaN</td>\n",
       "      <td>81.0</td>\n",
       "    </tr>\n",
       "    <tr>\n",
       "      <th>2</th>\n",
       "      <td>10</td>\n",
       "      <td>5196000.0</td>\n",
       "      <td>56.0</td>\n",
       "      <td>2015-08-20T00:00:00</td>\n",
       "      <td>2</td>\n",
       "      <td>NaN</td>\n",
       "      <td>5.0</td>\n",
       "      <td>34.3</td>\n",
       "      <td>4</td>\n",
       "      <td>NaN</td>\n",
       "      <td>...</td>\n",
       "      <td>8.3</td>\n",
       "      <td>0.0</td>\n",
       "      <td>Санкт-Петербург</td>\n",
       "      <td>21741.0</td>\n",
       "      <td>13933.0</td>\n",
       "      <td>1.0</td>\n",
       "      <td>90.0</td>\n",
       "      <td>2.0</td>\n",
       "      <td>574.0</td>\n",
       "      <td>558.0</td>\n",
       "    </tr>\n",
       "    <tr>\n",
       "      <th>3</th>\n",
       "      <td>0</td>\n",
       "      <td>64900000.0</td>\n",
       "      <td>159.0</td>\n",
       "      <td>2015-07-24T00:00:00</td>\n",
       "      <td>3</td>\n",
       "      <td>NaN</td>\n",
       "      <td>14.0</td>\n",
       "      <td>NaN</td>\n",
       "      <td>9</td>\n",
       "      <td>NaN</td>\n",
       "      <td>...</td>\n",
       "      <td>NaN</td>\n",
       "      <td>0.0</td>\n",
       "      <td>Санкт-Петербург</td>\n",
       "      <td>28098.0</td>\n",
       "      <td>6800.0</td>\n",
       "      <td>2.0</td>\n",
       "      <td>84.0</td>\n",
       "      <td>3.0</td>\n",
       "      <td>234.0</td>\n",
       "      <td>424.0</td>\n",
       "    </tr>\n",
       "    <tr>\n",
       "      <th>4</th>\n",
       "      <td>2</td>\n",
       "      <td>10000000.0</td>\n",
       "      <td>100.0</td>\n",
       "      <td>2018-06-19T00:00:00</td>\n",
       "      <td>2</td>\n",
       "      <td>3.03</td>\n",
       "      <td>14.0</td>\n",
       "      <td>32.0</td>\n",
       "      <td>13</td>\n",
       "      <td>NaN</td>\n",
       "      <td>...</td>\n",
       "      <td>41.0</td>\n",
       "      <td>NaN</td>\n",
       "      <td>Санкт-Петербург</td>\n",
       "      <td>31856.0</td>\n",
       "      <td>8098.0</td>\n",
       "      <td>2.0</td>\n",
       "      <td>112.0</td>\n",
       "      <td>1.0</td>\n",
       "      <td>48.0</td>\n",
       "      <td>121.0</td>\n",
       "    </tr>\n",
       "  </tbody>\n",
       "</table>\n",
       "<p>5 rows × 22 columns</p>\n",
       "</div>"
      ],
      "text/plain": [
       "   total_images  last_price  total_area first_day_exposition  rooms  \\\n",
       "0            20  13000000.0       108.0  2019-03-07T00:00:00      3   \n",
       "1             7   3350000.0        40.4  2018-12-04T00:00:00      1   \n",
       "2            10   5196000.0        56.0  2015-08-20T00:00:00      2   \n",
       "3             0  64900000.0       159.0  2015-07-24T00:00:00      3   \n",
       "4             2  10000000.0       100.0  2018-06-19T00:00:00      2   \n",
       "\n",
       "   ceiling_height  floors_total  living_area  floor is_apartment  ...  \\\n",
       "0            2.70          16.0         51.0      8          NaN  ...   \n",
       "1             NaN          11.0         18.6      1          NaN  ...   \n",
       "2             NaN           5.0         34.3      4          NaN  ...   \n",
       "3             NaN          14.0          NaN      9          NaN  ...   \n",
       "4            3.03          14.0         32.0     13          NaN  ...   \n",
       "\n",
       "   kitchen_area  balcony    locality_name  airports_nearest  \\\n",
       "0          25.0      NaN  Санкт-Петербург           18863.0   \n",
       "1          11.0      2.0   посёлок Шушары           12817.0   \n",
       "2           8.3      0.0  Санкт-Петербург           21741.0   \n",
       "3           NaN      0.0  Санкт-Петербург           28098.0   \n",
       "4          41.0      NaN  Санкт-Петербург           31856.0   \n",
       "\n",
       "  cityCenters_nearest  parks_around3000  parks_nearest  ponds_around3000  \\\n",
       "0             16028.0               1.0          482.0               2.0   \n",
       "1             18603.0               0.0            NaN               0.0   \n",
       "2             13933.0               1.0           90.0               2.0   \n",
       "3              6800.0               2.0           84.0               3.0   \n",
       "4              8098.0               2.0          112.0               1.0   \n",
       "\n",
       "   ponds_nearest  days_exposition  \n",
       "0          755.0              NaN  \n",
       "1            NaN             81.0  \n",
       "2          574.0            558.0  \n",
       "3          234.0            424.0  \n",
       "4           48.0            121.0  \n",
       "\n",
       "[5 rows x 22 columns]"
      ]
     },
     "execution_count": 2,
     "metadata": {},
     "output_type": "execute_result"
    }
   ],
   "source": [
    "data = pd.read_csv('real_estate_data.csv', sep = '\\t') # чтение файла с данными и сохранение в data\n",
    "data.head() # получим первыt 5 строк таблицы data"
   ]
  },
  {
   "cell_type": "markdown",
   "metadata": {},
   "source": [
    "Получим общую информацию о таблице:"
   ]
  },
  {
   "cell_type": "code",
   "execution_count": 3,
   "metadata": {
    "scrolled": false
   },
   "outputs": [
    {
     "name": "stdout",
     "output_type": "stream",
     "text": [
      "<class 'pandas.core.frame.DataFrame'>\n",
      "RangeIndex: 23699 entries, 0 to 23698\n",
      "Data columns (total 22 columns):\n",
      " #   Column                Non-Null Count  Dtype  \n",
      "---  ------                --------------  -----  \n",
      " 0   total_images          23699 non-null  int64  \n",
      " 1   last_price            23699 non-null  float64\n",
      " 2   total_area            23699 non-null  float64\n",
      " 3   first_day_exposition  23699 non-null  object \n",
      " 4   rooms                 23699 non-null  int64  \n",
      " 5   ceiling_height        14504 non-null  float64\n",
      " 6   floors_total          23613 non-null  float64\n",
      " 7   living_area           21796 non-null  float64\n",
      " 8   floor                 23699 non-null  int64  \n",
      " 9   is_apartment          2775 non-null   object \n",
      " 10  studio                23699 non-null  bool   \n",
      " 11  open_plan             23699 non-null  bool   \n",
      " 12  kitchen_area          21421 non-null  float64\n",
      " 13  balcony               12180 non-null  float64\n",
      " 14  locality_name         23650 non-null  object \n",
      " 15  airports_nearest      18157 non-null  float64\n",
      " 16  cityCenters_nearest   18180 non-null  float64\n",
      " 17  parks_around3000      18181 non-null  float64\n",
      " 18  parks_nearest         8079 non-null   float64\n",
      " 19  ponds_around3000      18181 non-null  float64\n",
      " 20  ponds_nearest         9110 non-null   float64\n",
      " 21  days_exposition       20518 non-null  float64\n",
      "dtypes: bool(2), float64(14), int64(3), object(3)\n",
      "memory usage: 3.7+ MB\n"
     ]
    }
   ],
   "source": [
    "data.info()"
   ]
  },
  {
   "cell_type": "markdown",
   "metadata": {},
   "source": [
    "В таблице 22 столбца и 23699 строк. В 2 столбцах тип данных - bool, в 14 - float, в 3 - int, и 3 столбца имеют тип данных - object. Также выявлено, что некоторые столбцы имеют тип данных `float`, но отражают информацию о целом значении.\n",
    "Для дальнейшей работы удобнее изменить этот тип данных на `int`. Кроме того один столбец `is_apartment` предполагает тип данных `bool`, но имеет другой тип. В следующем разделе приведем эти данные в порядок. Кроме того, далеко не все столбцы имеют данные, в разделе 2 устраним пробелы. "
   ]
  },
  {
   "cell_type": "code",
   "execution_count": 4,
   "metadata": {
    "scrolled": false
   },
   "outputs": [
    {
     "data": {
      "text/html": [
       "<div>\n",
       "<style scoped>\n",
       "    .dataframe tbody tr th:only-of-type {\n",
       "        vertical-align: middle;\n",
       "    }\n",
       "\n",
       "    .dataframe tbody tr th {\n",
       "        vertical-align: top;\n",
       "    }\n",
       "\n",
       "    .dataframe thead th {\n",
       "        text-align: right;\n",
       "    }\n",
       "</style>\n",
       "<table border=\"1\" class=\"dataframe\">\n",
       "  <thead>\n",
       "    <tr style=\"text-align: right;\">\n",
       "      <th></th>\n",
       "      <th>total_images</th>\n",
       "      <th>last_price</th>\n",
       "      <th>total_area</th>\n",
       "      <th>rooms</th>\n",
       "      <th>ceiling_height</th>\n",
       "      <th>floors_total</th>\n",
       "      <th>living_area</th>\n",
       "      <th>floor</th>\n",
       "      <th>kitchen_area</th>\n",
       "      <th>balcony</th>\n",
       "      <th>airports_nearest</th>\n",
       "      <th>cityCenters_nearest</th>\n",
       "      <th>parks_around3000</th>\n",
       "      <th>parks_nearest</th>\n",
       "      <th>ponds_around3000</th>\n",
       "      <th>ponds_nearest</th>\n",
       "      <th>days_exposition</th>\n",
       "    </tr>\n",
       "  </thead>\n",
       "  <tbody>\n",
       "    <tr>\n",
       "      <th>count</th>\n",
       "      <td>23699.000000</td>\n",
       "      <td>2.369900e+04</td>\n",
       "      <td>23699.000000</td>\n",
       "      <td>23699.000000</td>\n",
       "      <td>14504.000000</td>\n",
       "      <td>23613.000000</td>\n",
       "      <td>21796.000000</td>\n",
       "      <td>23699.000000</td>\n",
       "      <td>21421.000000</td>\n",
       "      <td>12180.000000</td>\n",
       "      <td>18157.000000</td>\n",
       "      <td>18180.000000</td>\n",
       "      <td>18181.000000</td>\n",
       "      <td>8079.000000</td>\n",
       "      <td>18181.000000</td>\n",
       "      <td>9110.000000</td>\n",
       "      <td>20518.000000</td>\n",
       "    </tr>\n",
       "    <tr>\n",
       "      <th>mean</th>\n",
       "      <td>9.858475</td>\n",
       "      <td>6.541549e+06</td>\n",
       "      <td>60.348651</td>\n",
       "      <td>2.070636</td>\n",
       "      <td>2.771499</td>\n",
       "      <td>10.673824</td>\n",
       "      <td>34.457852</td>\n",
       "      <td>5.892358</td>\n",
       "      <td>10.569807</td>\n",
       "      <td>1.150082</td>\n",
       "      <td>28793.672193</td>\n",
       "      <td>14191.277833</td>\n",
       "      <td>0.611408</td>\n",
       "      <td>490.804555</td>\n",
       "      <td>0.770255</td>\n",
       "      <td>517.980900</td>\n",
       "      <td>180.888634</td>\n",
       "    </tr>\n",
       "    <tr>\n",
       "      <th>std</th>\n",
       "      <td>5.682529</td>\n",
       "      <td>1.088701e+07</td>\n",
       "      <td>35.654083</td>\n",
       "      <td>1.078405</td>\n",
       "      <td>1.261056</td>\n",
       "      <td>6.597173</td>\n",
       "      <td>22.030445</td>\n",
       "      <td>4.885249</td>\n",
       "      <td>5.905438</td>\n",
       "      <td>1.071300</td>\n",
       "      <td>12630.880622</td>\n",
       "      <td>8608.386210</td>\n",
       "      <td>0.802074</td>\n",
       "      <td>342.317995</td>\n",
       "      <td>0.938346</td>\n",
       "      <td>277.720643</td>\n",
       "      <td>219.727988</td>\n",
       "    </tr>\n",
       "    <tr>\n",
       "      <th>min</th>\n",
       "      <td>0.000000</td>\n",
       "      <td>1.219000e+04</td>\n",
       "      <td>12.000000</td>\n",
       "      <td>0.000000</td>\n",
       "      <td>1.000000</td>\n",
       "      <td>1.000000</td>\n",
       "      <td>2.000000</td>\n",
       "      <td>1.000000</td>\n",
       "      <td>1.300000</td>\n",
       "      <td>0.000000</td>\n",
       "      <td>0.000000</td>\n",
       "      <td>181.000000</td>\n",
       "      <td>0.000000</td>\n",
       "      <td>1.000000</td>\n",
       "      <td>0.000000</td>\n",
       "      <td>13.000000</td>\n",
       "      <td>1.000000</td>\n",
       "    </tr>\n",
       "    <tr>\n",
       "      <th>25%</th>\n",
       "      <td>6.000000</td>\n",
       "      <td>3.400000e+06</td>\n",
       "      <td>40.000000</td>\n",
       "      <td>1.000000</td>\n",
       "      <td>2.520000</td>\n",
       "      <td>5.000000</td>\n",
       "      <td>18.600000</td>\n",
       "      <td>2.000000</td>\n",
       "      <td>7.000000</td>\n",
       "      <td>0.000000</td>\n",
       "      <td>18585.000000</td>\n",
       "      <td>9238.000000</td>\n",
       "      <td>0.000000</td>\n",
       "      <td>288.000000</td>\n",
       "      <td>0.000000</td>\n",
       "      <td>294.000000</td>\n",
       "      <td>45.000000</td>\n",
       "    </tr>\n",
       "    <tr>\n",
       "      <th>50%</th>\n",
       "      <td>9.000000</td>\n",
       "      <td>4.650000e+06</td>\n",
       "      <td>52.000000</td>\n",
       "      <td>2.000000</td>\n",
       "      <td>2.650000</td>\n",
       "      <td>9.000000</td>\n",
       "      <td>30.000000</td>\n",
       "      <td>4.000000</td>\n",
       "      <td>9.100000</td>\n",
       "      <td>1.000000</td>\n",
       "      <td>26726.000000</td>\n",
       "      <td>13098.500000</td>\n",
       "      <td>0.000000</td>\n",
       "      <td>455.000000</td>\n",
       "      <td>1.000000</td>\n",
       "      <td>502.000000</td>\n",
       "      <td>95.000000</td>\n",
       "    </tr>\n",
       "    <tr>\n",
       "      <th>75%</th>\n",
       "      <td>14.000000</td>\n",
       "      <td>6.800000e+06</td>\n",
       "      <td>69.900000</td>\n",
       "      <td>3.000000</td>\n",
       "      <td>2.800000</td>\n",
       "      <td>16.000000</td>\n",
       "      <td>42.300000</td>\n",
       "      <td>8.000000</td>\n",
       "      <td>12.000000</td>\n",
       "      <td>2.000000</td>\n",
       "      <td>37273.000000</td>\n",
       "      <td>16293.000000</td>\n",
       "      <td>1.000000</td>\n",
       "      <td>612.000000</td>\n",
       "      <td>1.000000</td>\n",
       "      <td>729.000000</td>\n",
       "      <td>232.000000</td>\n",
       "    </tr>\n",
       "    <tr>\n",
       "      <th>max</th>\n",
       "      <td>50.000000</td>\n",
       "      <td>7.630000e+08</td>\n",
       "      <td>900.000000</td>\n",
       "      <td>19.000000</td>\n",
       "      <td>100.000000</td>\n",
       "      <td>60.000000</td>\n",
       "      <td>409.700000</td>\n",
       "      <td>33.000000</td>\n",
       "      <td>112.000000</td>\n",
       "      <td>5.000000</td>\n",
       "      <td>84869.000000</td>\n",
       "      <td>65968.000000</td>\n",
       "      <td>3.000000</td>\n",
       "      <td>3190.000000</td>\n",
       "      <td>3.000000</td>\n",
       "      <td>1344.000000</td>\n",
       "      <td>1580.000000</td>\n",
       "    </tr>\n",
       "  </tbody>\n",
       "</table>\n",
       "</div>"
      ],
      "text/plain": [
       "       total_images    last_price    total_area         rooms  ceiling_height  \\\n",
       "count  23699.000000  2.369900e+04  23699.000000  23699.000000    14504.000000   \n",
       "mean       9.858475  6.541549e+06     60.348651      2.070636        2.771499   \n",
       "std        5.682529  1.088701e+07     35.654083      1.078405        1.261056   \n",
       "min        0.000000  1.219000e+04     12.000000      0.000000        1.000000   \n",
       "25%        6.000000  3.400000e+06     40.000000      1.000000        2.520000   \n",
       "50%        9.000000  4.650000e+06     52.000000      2.000000        2.650000   \n",
       "75%       14.000000  6.800000e+06     69.900000      3.000000        2.800000   \n",
       "max       50.000000  7.630000e+08    900.000000     19.000000      100.000000   \n",
       "\n",
       "       floors_total   living_area         floor  kitchen_area       balcony  \\\n",
       "count  23613.000000  21796.000000  23699.000000  21421.000000  12180.000000   \n",
       "mean      10.673824     34.457852      5.892358     10.569807      1.150082   \n",
       "std        6.597173     22.030445      4.885249      5.905438      1.071300   \n",
       "min        1.000000      2.000000      1.000000      1.300000      0.000000   \n",
       "25%        5.000000     18.600000      2.000000      7.000000      0.000000   \n",
       "50%        9.000000     30.000000      4.000000      9.100000      1.000000   \n",
       "75%       16.000000     42.300000      8.000000     12.000000      2.000000   \n",
       "max       60.000000    409.700000     33.000000    112.000000      5.000000   \n",
       "\n",
       "       airports_nearest  cityCenters_nearest  parks_around3000  parks_nearest  \\\n",
       "count      18157.000000         18180.000000      18181.000000    8079.000000   \n",
       "mean       28793.672193         14191.277833          0.611408     490.804555   \n",
       "std        12630.880622          8608.386210          0.802074     342.317995   \n",
       "min            0.000000           181.000000          0.000000       1.000000   \n",
       "25%        18585.000000          9238.000000          0.000000     288.000000   \n",
       "50%        26726.000000         13098.500000          0.000000     455.000000   \n",
       "75%        37273.000000         16293.000000          1.000000     612.000000   \n",
       "max        84869.000000         65968.000000          3.000000    3190.000000   \n",
       "\n",
       "       ponds_around3000  ponds_nearest  days_exposition  \n",
       "count      18181.000000    9110.000000     20518.000000  \n",
       "mean           0.770255     517.980900       180.888634  \n",
       "std            0.938346     277.720643       219.727988  \n",
       "min            0.000000      13.000000         1.000000  \n",
       "25%            0.000000     294.000000        45.000000  \n",
       "50%            1.000000     502.000000        95.000000  \n",
       "75%            1.000000     729.000000       232.000000  \n",
       "max            3.000000    1344.000000      1580.000000  "
      ]
     },
     "execution_count": 4,
     "metadata": {},
     "output_type": "execute_result"
    }
   ],
   "source": [
    "data.describe() #также посмотрим разброс значений для каждого столбца датасета"
   ]
  },
  {
   "cell_type": "markdown",
   "metadata": {},
   "source": [
    "В столбце `total_area` максимальное значение - 900 м2, что не совсем правдоподобно для площади квартиры, то же касается максимальных значений в столбцах `rooms` и `ceiling_height` - такие значения больше подходят для промышленных зданий. Аналогичная ситуация в столбцах `living_area` и `kitchen_area` - малоправдоподобные значения данных площадей для жилых квартир. Необходимо далее проверить адекватность этих данных."
   ]
  },
  {
   "cell_type": "markdown",
   "metadata": {},
   "source": [
    "### **Вывод**\n",
    "\n",
    "При первом прочтении файла с данным выявлено немало проблем. Датасет требует предобработки данных, для дальнейшего использования при анализе."
   ]
  },
  {
   "cell_type": "markdown",
   "metadata": {},
   "source": [
    "## 2 Предобработка данных"
   ]
  },
  {
   "cell_type": "markdown",
   "metadata": {},
   "source": [
    "Посмотрим на количество пропусков в датасете."
   ]
  },
  {
   "cell_type": "code",
   "execution_count": 5,
   "metadata": {
    "scrolled": true
   },
   "outputs": [
    {
     "data": {
      "text/plain": [
       "total_images                0\n",
       "last_price                  0\n",
       "total_area                  0\n",
       "first_day_exposition        0\n",
       "rooms                       0\n",
       "ceiling_height           9195\n",
       "floors_total               86\n",
       "living_area              1903\n",
       "floor                       0\n",
       "is_apartment            20924\n",
       "studio                      0\n",
       "open_plan                   0\n",
       "kitchen_area             2278\n",
       "balcony                 11519\n",
       "locality_name              49\n",
       "airports_nearest         5542\n",
       "cityCenters_nearest      5519\n",
       "parks_around3000         5518\n",
       "parks_nearest           15620\n",
       "ponds_around3000         5518\n",
       "ponds_nearest           14589\n",
       "days_exposition          3181\n",
       "dtype: int64"
      ]
     },
     "execution_count": 5,
     "metadata": {},
     "output_type": "execute_result"
    }
   ],
   "source": [
    "data.isna().sum()"
   ]
  },
  {
   "cell_type": "markdown",
   "metadata": {},
   "source": [
    "- В столбце `ceiling_height` существуют пропущенные значения. Высота потолков довольно частно является стандартной, поэтому далее вычислим медианную величину по заполненным данным и заполним пропуски в этом столбце полученными данными.\n",
    "- В столбце `floors_total`  пропущено 0,4% значений. Данные будут использоваться в анализе, при этом достаточно точно заполнить пропуски нельзя, поэтому все строки с пропусками стоит удалить.\n",
    "- В столбце `living_area` также существуют пропуски, их можно заполнить по средним зачениям, сгруппировав квартиры по количеству комнат. То же касается и столбца `kitchen_area`.\n",
    "- В столбце `is_apartment` заполненно всего около 12% строк. Пропущенными значениями могут быть False или может хозяин квартиры просто не пожелал указывать тип \"апартаменты\". Пока оставим пропущенные значения пропущенными.\n",
    "- В столбце `balcony`заполнено 50% информации, вероятнее остальные 50% подходят под то, что балконов у квартиры просто нет. Нужно заменить эти данные на 0.\n",
    "- В столбце `locality_name` всего 49 значений из 23699 не заполнены. Данные будут использоваться в анализе, при этом достаточно точно заполнить пропуски нельзя, поэтому все строки с пропусками стоит удалить.\n",
    "- В столбцах `airports_nearest`, `cityCenters_nearest` количество пропусков примерно одинаковое, то же самое и для столбцов `parks_around3000`, `ponds_around3000` , `parks_nearest` , `ponds_nearest`. Вероятно эти данные относятся к квартирам, сильно удаленным от Санкт-Петербурга, подходящих значений для замены просто нет, оставим эти пропуски.\n",
    "- Последний стобец `days_exposition` имеет 3181 пропуск, 13% от всех значений. Либо данные отсутствуют по причине того, что объявление еще не снято с публикации (хотя данные по архиву объявлений), либо люди просто забыли снять их с публикации. Для дальнейшего использования данных в анализе заменим пропуски на медианное значение."
   ]
  },
  {
   "cell_type": "markdown",
   "metadata": {},
   "source": [
    "Заполним пропуски в стобце `ceiling_height`:"
   ]
  },
  {
   "cell_type": "code",
   "execution_count": 6,
   "metadata": {
    "scrolled": false
   },
   "outputs": [],
   "source": [
    "#вычислим медианную величину потолков и заменим полученными данными пропуски \n",
    "data['ceiling_height'] = data['ceiling_height'].fillna(data['ceiling_height'].median()) "
   ]
  },
  {
   "cell_type": "markdown",
   "metadata": {},
   "source": [
    "Удалим все пропуски в столбце `floors_total`:"
   ]
  },
  {
   "cell_type": "code",
   "execution_count": 7,
   "metadata": {},
   "outputs": [],
   "source": [
    "data.dropna(subset=['floors_total'], inplace=True)"
   ]
  },
  {
   "cell_type": "markdown",
   "metadata": {},
   "source": [
    "Заполним пропуски в стобце `living_area` и `kitchen_area`:"
   ]
  },
  {
   "cell_type": "code",
   "execution_count": 8,
   "metadata": {},
   "outputs": [],
   "source": [
    "# заменим пропущенные значения жилой площади в квартирах на среднее значение по количеству комнат\n",
    "data['living_area'] = data.groupby('rooms')['living_area'].transform(lambda x : x.fillna(x.mean()))\n",
    "\n",
    "# заменим пропущенные значения площади кухни в квартирах-студиях на нули\n",
    "data.loc[data['studio'] == True, 'kitchen_area'] = 0 \n",
    "\n",
    "# заменим пропущенные значения площади кухни в остальных квартирах на среднее значение по количеству комнат\n",
    "data['kitchen_area'] = data.groupby('rooms')['kitchen_area'].transform(lambda x : x.fillna(x.mean()))"
   ]
  },
  {
   "cell_type": "markdown",
   "metadata": {},
   "source": [
    "Заполним пропуски в стобце `balcony`:"
   ]
  },
  {
   "cell_type": "code",
   "execution_count": 9,
   "metadata": {},
   "outputs": [],
   "source": [
    "data['balcony'] = data['balcony'].fillna(0) "
   ]
  },
  {
   "cell_type": "markdown",
   "metadata": {},
   "source": [
    "Удаляем строки с пропущенными значениями в названиях населенного пункта:"
   ]
  },
  {
   "cell_type": "code",
   "execution_count": 10,
   "metadata": {},
   "outputs": [],
   "source": [
    "data.dropna(subset=['locality_name'], inplace=True)"
   ]
  },
  {
   "cell_type": "markdown",
   "metadata": {},
   "source": [
    "Заполним пропуски в стобце `days_exposition`:"
   ]
  },
  {
   "cell_type": "code",
   "execution_count": 11,
   "metadata": {},
   "outputs": [],
   "source": [
    "data['days_exposition'] = data['days_exposition'].fillna(data['days_exposition'].median()) "
   ]
  },
  {
   "cell_type": "markdown",
   "metadata": {},
   "source": [
    "Для дальнейшей работы в некоторых столбцах, имеющих численные значения нужно изменить тип данных, чтобы расчеты производились корректно и визуализировать данные было удобнее."
   ]
  },
  {
   "cell_type": "code",
   "execution_count": 12,
   "metadata": {},
   "outputs": [],
   "source": [
    "columns = ['last_price','total_area','living_area','days_exposition']    \n",
    "\n",
    "for column in columns:\n",
    "    data[column] = data[column].astype('int64')\n",
    "\n",
    "#приведем данные с столбце 'first_day_exposition' к формату даты\n",
    "data['first_day_exposition'] = pd.to_datetime(data['first_day_exposition']) "
   ]
  },
  {
   "cell_type": "markdown",
   "metadata": {},
   "source": [
    "Также проверим таблицу на наличие явных дубликатов: "
   ]
  },
  {
   "cell_type": "code",
   "execution_count": 13,
   "metadata": {
    "scrolled": true
   },
   "outputs": [
    {
     "name": "stdout",
     "output_type": "stream",
     "text": [
      "Количество явных дубликатов: 0\n"
     ]
    }
   ],
   "source": [
    "print('Количество явных дубликатов:', data.duplicated().sum())"
   ]
  },
  {
   "cell_type": "markdown",
   "metadata": {},
   "source": [
    "### **Вывод**\n",
    "\n",
    "- Для дальнейшего анализа датасета пропуски были заполнены на медианные значения в столбцах `ceiling_height`, `days_exposition`. \n",
    "- В столбцах `living_area` и `kitchen_area`, были вычислены средние значения площадей, сгруппированные по квартирам с разным количеством комнат.\n",
    "- Строки с пропусками в столбцах `floors_total` и `locality_name` были удалены.\n",
    "- Пропущенные значения в столбце `balcony` заполнены нулями.\n",
    "- Пропуски в остальных столбцах: `is_apartment`, `airports_nearest`, `cityCenters_nearest`, `parks_around3000`, `ponds_around3000` ,`parks_nearest` , `ponds_nearest` - были оставлены без изменений."
   ]
  },
  {
   "cell_type": "markdown",
   "metadata": {},
   "source": [
    "## 3 Расчёты и добавление результатов в таблицу"
   ]
  },
  {
   "cell_type": "markdown",
   "metadata": {},
   "source": [
    "Для исследовательского анализа данных сделаем несколько расчетов и добавим столбцы в таблицу:"
   ]
  },
  {
   "cell_type": "code",
   "execution_count": 14,
   "metadata": {},
   "outputs": [],
   "source": [
    "data['metre_price'] = data['last_price']/data['total_area'] #просчитаем цену квадратного метра"
   ]
  },
  {
   "cell_type": "code",
   "execution_count": 15,
   "metadata": {},
   "outputs": [],
   "source": [
    "\n",
    "#добавим в таблицу столбцы с днем недели публикации объявления, месяцем и годом.\n",
    "data['weekday'] = data['first_day_exposition'].dt.weekday\n",
    "data['month'] = data['first_day_exposition'].dt.month\n",
    "data['year'] = data['first_day_exposition'].dt.year"
   ]
  },
  {
   "cell_type": "code",
   "execution_count": 16,
   "metadata": {},
   "outputs": [],
   "source": [
    "#добавим в таблицу столбец с категорией этажа квартиры: первый, последний, другой\n",
    "def floor_type(row):\n",
    "    floor = row['floor']\n",
    "    floors_total = row['floors_total']\n",
    "    if floor == 1:\n",
    "        return 'первый'\n",
    "    if floor == floors_total:\n",
    "        return 'последний'\n",
    "    return 'другой'\n",
    "\n",
    "data['floor_type'] = data.apply(floor_type,axis = 1)"
   ]
  },
  {
   "cell_type": "code",
   "execution_count": 17,
   "metadata": {},
   "outputs": [],
   "source": [
    "#просчитаем соотношение жилой площади к общей\n",
    "data['living_area_to_total'] = round(data['living_area']/data['total_area'],2)\n",
    "\n",
    "#просчитаем соотношение площади кухни к общей\n",
    "data['kitchen_area_to_total'] = round(data['kitchen_area']/data['total_area'],2)"
   ]
  },
  {
   "cell_type": "markdown",
   "metadata": {},
   "source": [
    "## 4 Исследовательский анализ данных"
   ]
  },
  {
   "cell_type": "markdown",
   "metadata": {},
   "source": [
    "### **4.1. Изучим следующие параметры: площадь, цена, число комнат, высота потолков.**"
   ]
  },
  {
   "cell_type": "markdown",
   "metadata": {},
   "source": [
    "**4.1.1** Построим гистограмму для параметра \"площадь\":"
   ]
  },
  {
   "cell_type": "code",
   "execution_count": 18,
   "metadata": {
    "scrolled": false
   },
   "outputs": [
    {
     "data": {
      "image/png": "[encoded data removed]",
      "text/plain": [
       "<Figure size 432x288 with 1 Axes>"
      ]
     },
     "metadata": {
      "needs_background": "light"
     },
     "output_type": "display_data"
    }
   ],
   "source": [
    "data.hist('total_area',bins=100);"
   ]
  },
  {
   "cell_type": "markdown",
   "metadata": {},
   "source": [
    "Основная часть данных лежит в диапазоне от 0 до 200 м2. Также имеются данные по площади превышающие значения в 200м2. \n",
    "Нарисуем диаграмму размаха для data, ограничив диапазон по вертикали значениями -10 и 200."
   ]
  },
  {
   "cell_type": "code",
   "execution_count": 19,
   "metadata": {
    "scrolled": true
   },
   "outputs": [
    {
     "data": {
      "image/png": "[encoded data removed]",
      "text/plain": [
       "<Figure size 432x288 with 1 Axes>"
      ]
     },
     "metadata": {
      "needs_background": "light"
     },
     "output_type": "display_data"
    }
   ],
   "source": [
    "data.boxplot('total_area');\n",
    "plt.ylim(-10,200);"
   ]
  },
  {
   "cell_type": "markdown",
   "metadata": {},
   "source": [
    "Большая часть значений лежит в диапазоне до 80м2, что выглядит правдоподобно. Сравним числовое описание с диаграммой размаха:"
   ]
  },
  {
   "cell_type": "code",
   "execution_count": 20,
   "metadata": {
    "scrolled": false
   },
   "outputs": [
    {
     "data": {
      "text/plain": [
       "count    23565.000000\n",
       "mean        60.095226\n",
       "std         35.668758\n",
       "min         12.000000\n",
       "25%         40.000000\n",
       "50%         52.000000\n",
       "75%         69.000000\n",
       "max        900.000000\n",
       "Name: total_area, dtype: float64"
      ]
     },
     "execution_count": 20,
     "metadata": {},
     "output_type": "execute_result"
    }
   ],
   "source": [
    "data['total_area'].describe()"
   ]
  },
  {
   "cell_type": "markdown",
   "metadata": {},
   "source": [
    "Среднее и медиана практически равны по значениям. А значит сильных аномалей в данных нет, которые повлияли бы кратно на среднее значение."
   ]
  },
  {
   "cell_type": "code",
   "execution_count": 21,
   "metadata": {},
   "outputs": [
    {
     "data": {
      "image/png": "[encoded data removed]",
      "text/plain": [
       "<Figure size 432x288 with 1 Axes>"
      ]
     },
     "metadata": {
      "needs_background": "light"
     },
     "output_type": "display_data"
    }
   ],
   "source": [
    "data.hist('total_area',range=(0,80)); #Построим гистограмму отсеев аномальные значения"
   ]
  },
  {
   "cell_type": "markdown",
   "metadata": {},
   "source": [
    "**4.1.2.** Построим гистограмму для параметра \"цена\":"
   ]
  },
  {
   "cell_type": "code",
   "execution_count": 22,
   "metadata": {
    "scrolled": true
   },
   "outputs": [
    {
     "data": {
      "image/png": "[encoded data removed]",
      "text/plain": [
       "<Figure size 432x288 with 1 Axes>"
      ]
     },
     "metadata": {
      "needs_background": "light"
     },
     "output_type": "display_data"
    }
   ],
   "source": [
    "data.hist('last_price');"
   ]
  },
  {
   "cell_type": "code",
   "execution_count": 23,
   "metadata": {},
   "outputs": [
    {
     "data": {
      "image/png": "[encoded data removed]",
      "text/plain": [
       "<Figure size 432x288 with 1 Axes>"
      ]
     },
     "metadata": {
      "needs_background": "light"
     },
     "output_type": "display_data"
    }
   ],
   "source": [
    "data.boxplot('last_price');\n",
    "plt.ylim(-1000000, 15000000);\n",
    "plt.ylabel('Цены, 10 млн рублей');"
   ]
  },
  {
   "cell_type": "markdown",
   "metadata": {},
   "source": [
    "По диаграмме видно, что основные значения цены лежат в диапазоне до 8 млн. рублей.Сравним числовое описание с диаграммой размаха:"
   ]
  },
  {
   "cell_type": "code",
   "execution_count": 24,
   "metadata": {
    "scrolled": false
   },
   "outputs": [
    {
     "data": {
      "text/plain": [
       "count    2.356500e+04\n",
       "mean     6.540058e+06\n",
       "std      1.091093e+07\n",
       "min      1.219000e+04\n",
       "25%      3.400000e+06\n",
       "50%      4.646000e+06\n",
       "75%      6.790000e+06\n",
       "max      7.630000e+08\n",
       "Name: last_price, dtype: float64"
      ]
     },
     "execution_count": 24,
     "metadata": {},
     "output_type": "execute_result"
    }
   ],
   "source": [
    "data['last_price'].describe()"
   ]
  },
  {
   "cell_type": "markdown",
   "metadata": {},
   "source": [
    "Среднее почти в 1,5 раза больше медианной цены. Значит в данных присутствуют значения, влияющие на среднее. Отсеим их и построим гистограмму по даным диаграммы размаха."
   ]
  },
  {
   "cell_type": "code",
   "execution_count": 25,
   "metadata": {},
   "outputs": [
    {
     "data": {
      "image/png": "[encoded data removed]",
      "text/plain": [
       "<Figure size 432x288 with 1 Axes>"
      ]
     },
     "metadata": {
      "needs_background": "light"
     },
     "output_type": "display_data"
    }
   ],
   "source": [
    "data.hist('last_price', range=(0,1.2e7));"
   ]
  },
  {
   "cell_type": "markdown",
   "metadata": {},
   "source": [
    "В основном квартиры продаются по цене в диапазоне до 12 млн рублей."
   ]
  },
  {
   "cell_type": "markdown",
   "metadata": {},
   "source": [
    "**4.1.3** Построим гистограмму для параметра \"число комнат\":"
   ]
  },
  {
   "cell_type": "code",
   "execution_count": 26,
   "metadata": {
    "scrolled": true
   },
   "outputs": [
    {
     "data": {
      "image/png": "[encoded data removed]",
      "text/plain": [
       "<Figure size 432x288 with 1 Axes>"
      ]
     },
     "metadata": {
      "needs_background": "light"
     },
     "output_type": "display_data"
    }
   ],
   "source": [
    "data.hist('rooms');"
   ]
  },
  {
   "cell_type": "markdown",
   "metadata": {},
   "source": [
    "По гистограмме видно, что основные значения лежат в диапазоне до 8. Постороим диаграмму размаха по этим границам, а также вызовем метод describe() для анализа числовых значений."
   ]
  },
  {
   "cell_type": "code",
   "execution_count": 27,
   "metadata": {},
   "outputs": [
    {
     "data": {
      "image/png": "[encoded data removed]",
      "text/plain": [
       "<Figure size 432x288 with 1 Axes>"
      ]
     },
     "metadata": {
      "needs_background": "light"
     },
     "output_type": "display_data"
    }
   ],
   "source": [
    "data.boxplot('rooms');\n",
    "plt.ylim(-1, 8);\n",
    "plt.ylabel('Число комнат');"
   ]
  },
  {
   "cell_type": "code",
   "execution_count": 28,
   "metadata": {
    "scrolled": true
   },
   "outputs": [
    {
     "data": {
      "text/plain": [
       "count    23565.000000\n",
       "mean         2.070656\n",
       "std          1.078591\n",
       "min          0.000000\n",
       "25%          1.000000\n",
       "50%          2.000000\n",
       "75%          3.000000\n",
       "max         19.000000\n",
       "Name: rooms, dtype: float64"
      ]
     },
     "execution_count": 28,
     "metadata": {},
     "output_type": "execute_result"
    }
   ],
   "source": [
    "data['rooms'].describe()"
   ]
  },
  {
   "cell_type": "markdown",
   "metadata": {},
   "source": [
    "В основном значения количества комнат в квартирах лежит в диапазоне от 1 до 6. По диаграмме размаха простроим гистограмму по количеству комнат в квартирах."
   ]
  },
  {
   "cell_type": "code",
   "execution_count": 29,
   "metadata": {
    "scrolled": true
   },
   "outputs": [
    {
     "data": {
      "image/png": "[encoded data removed]",
      "text/plain": [
       "<Figure size 432x288 with 1 Axes>"
      ]
     },
     "metadata": {
      "needs_background": "light"
     },
     "output_type": "display_data"
    }
   ],
   "source": [
    "data.hist('rooms', range=(0,6));"
   ]
  },
  {
   "cell_type": "markdown",
   "metadata": {},
   "source": [
    "Ожидаемые значения квартир по количеству комнат от 1 до 4 оправдались."
   ]
  },
  {
   "cell_type": "markdown",
   "metadata": {},
   "source": [
    "**4.1.4** Построим гистограмму для параметра \"высота потолков\":"
   ]
  },
  {
   "cell_type": "code",
   "execution_count": 30,
   "metadata": {
    "scrolled": true
   },
   "outputs": [
    {
     "data": {
      "image/png": "[encoded data removed]",
      "text/plain": [
       "<Figure size 432x288 with 1 Axes>"
      ]
     },
     "metadata": {
      "needs_background": "light"
     },
     "output_type": "display_data"
    }
   ],
   "source": [
    "data.hist('ceiling_height', bins=30);"
   ]
  },
  {
   "cell_type": "markdown",
   "metadata": {},
   "source": [
    "Основные значения лежат в диапазоне от 2 до 5. Постороим диаграмму размаха по этим границам, а также вызовем метод describe() для анализа числовых значений."
   ]
  },
  {
   "cell_type": "code",
   "execution_count": 31,
   "metadata": {},
   "outputs": [
    {
     "data": {
      "image/png": "[encoded data removed]",
      "text/plain": [
       "<Figure size 432x288 with 1 Axes>"
      ]
     },
     "metadata": {
      "needs_background": "light"
     },
     "output_type": "display_data"
    }
   ],
   "source": [
    "data.boxplot('ceiling_height');\n",
    "plt.ylim(2, 5);\n",
    "plt.ylabel('Высота потолков,м');"
   ]
  },
  {
   "cell_type": "code",
   "execution_count": 32,
   "metadata": {
    "scrolled": true
   },
   "outputs": [
    {
     "data": {
      "text/plain": [
       "count    23565.000000\n",
       "mean         2.724530\n",
       "std          0.991026\n",
       "min          1.000000\n",
       "25%          2.600000\n",
       "50%          2.650000\n",
       "75%          2.700000\n",
       "max        100.000000\n",
       "Name: ceiling_height, dtype: float64"
      ]
     },
     "execution_count": 32,
     "metadata": {},
     "output_type": "execute_result"
    }
   ],
   "source": [
    "data['ceiling_height'].describe()"
   ]
  },
  {
   "cell_type": "markdown",
   "metadata": {},
   "source": [
    "Средние и медианные значения не сильно отличаются, а значит, что аномальных значений в выборке мало. По диаграмме размаха простроим гистограмму по высоте потолков."
   ]
  },
  {
   "cell_type": "code",
   "execution_count": 33,
   "metadata": {
    "scrolled": false
   },
   "outputs": [
    {
     "data": {
      "image/png": "[encoded data removed]",
      "text/plain": [
       "<Figure size 432x288 with 1 Axes>"
      ]
     },
     "metadata": {
      "needs_background": "light"
     },
     "output_type": "display_data"
    }
   ],
   "source": [
    "data.hist('ceiling_height', range=(2,5));"
   ]
  },
  {
   "cell_type": "markdown",
   "metadata": {},
   "source": [
    "Есть несколько выбивающихся значений в выборке. Но в целом ожидаемые значения высоты потолков в 2,7 м оправдались."
   ]
  },
  {
   "cell_type": "markdown",
   "metadata": {},
   "source": [
    "**4.1.5** Построим гистограмму для параметра \"время продажи квартиры\":"
   ]
  },
  {
   "cell_type": "code",
   "execution_count": 34,
   "metadata": {
    "scrolled": true
   },
   "outputs": [
    {
     "data": {
      "image/png": "[encoded data removed]",
      "text/plain": [
       "<Figure size 432x288 with 1 Axes>"
      ]
     },
     "metadata": {
      "needs_background": "light"
     },
     "output_type": "display_data"
    }
   ],
   "source": [
    "data.hist('days_exposition', bins=30);"
   ]
  },
  {
   "cell_type": "markdown",
   "metadata": {},
   "source": [
    "Посмотрим на диаграмму размаха."
   ]
  },
  {
   "cell_type": "code",
   "execution_count": 35,
   "metadata": {
    "scrolled": true
   },
   "outputs": [
    {
     "data": {
      "image/png": "[encoded data removed]",
      "text/plain": [
       "<Figure size 432x288 with 1 Axes>"
      ]
     },
     "metadata": {
      "needs_background": "light"
     },
     "output_type": "display_data"
    }
   ],
   "source": [
    "data.boxplot('days_exposition');\n",
    "plt.ylim(1, 300);\n",
    "plt.ylabel('срок размещения объявления,дней');"
   ]
  },
  {
   "cell_type": "markdown",
   "metadata": {},
   "source": [
    "Основные продажи квартир происходят до 200 дней. Посмотрим численное описание значений:"
   ]
  },
  {
   "cell_type": "code",
   "execution_count": 36,
   "metadata": {
    "scrolled": true
   },
   "outputs": [
    {
     "data": {
      "text/plain": [
       "count    23565.000000\n",
       "mean       169.203692\n",
       "std        206.497729\n",
       "min          1.000000\n",
       "25%         45.000000\n",
       "50%         95.000000\n",
       "75%        198.000000\n",
       "max       1580.000000\n",
       "Name: days_exposition, dtype: float64"
      ]
     },
     "execution_count": 36,
     "metadata": {},
     "output_type": "execute_result"
    }
   ],
   "source": [
    "data['days_exposition'].describe()"
   ]
  },
  {
   "cell_type": "markdown",
   "metadata": {},
   "source": [
    "Средние и медианные значения сильно отличаются, а значит, что в данных присутствуют аномальные значения влияющие на среднее. Ограничим диапазон данных и построим гистограмму по этим значениям."
   ]
  },
  {
   "cell_type": "code",
   "execution_count": 37,
   "metadata": {
    "scrolled": true
   },
   "outputs": [
    {
     "data": {
      "image/png": "[encoded data removed]",
      "text/plain": [
       "<Figure size 432x288 with 1 Axes>"
      ]
     },
     "metadata": {
      "needs_background": "light"
     },
     "output_type": "display_data"
    }
   ],
   "source": [
    "data.hist('days_exposition', range=(1,200), bins=40);"
   ]
  },
  {
   "cell_type": "markdown",
   "metadata": {},
   "source": [
    "Есть пиковые значения в районе 90 дней. Квартиры проданные за этот срок, ничем не отличаются по параметрам от других квартир. Возможно это значения из пропусков, где мы сделали замену на медианные значения."
   ]
  },
  {
   "cell_type": "markdown",
   "metadata": {},
   "source": [
    "### **Выводы:**\n",
    "\n",
    "Средняя квартира, выставленная на продажу, имеет следующие характеристики: это 1 - 2 -комнатная квартира площадью 40 - 60 м2 с потолками 2,65 - 2,70 м, по цене от 3 до 6 млн рублей.\n",
    "\n",
    "Как правило, продажа недвижимости занимала около 3 месяцев. При этом четверть всех объектов недвижимости была продана в течение 25 дней с момента публикации. \n",
    "Если срок сделки не превышал 14 дней, то можно рассматривать такие сделки как мошеннические. Аномально долгая продажа - продажи дольше 400 дней с момента публикации."
   ]
  },
  {
   "cell_type": "markdown",
   "metadata": {},
   "source": [
    "**4.1.6** Уберем редкие и выбивающиеся значения."
   ]
  },
  {
   "cell_type": "markdown",
   "metadata": {},
   "source": [
    "Проанализировав основные параметры квартиры, можно отбросить аномальные характеристики квартир из представленного набора данных:\n",
    "\n",
    "- 6-комнатная квартира или больше;\n",
    "- площадь более 100 м2 и менее 10м2;\n",
    "- потолки менее 2,25 м или более 3,5 м;\n",
    "- цена более 12 млн рублей и менее 1 млн рублей;\n",
    "- срок публикации объявления менее 14дней и более 400дней."
   ]
  },
  {
   "cell_type": "code",
   "execution_count": 38,
   "metadata": {
    "scrolled": false
   },
   "outputs": [],
   "source": [
    "good_data = data.query('10 <= total_area <= 100 and 0.1e7 <= last_price <= 1.2e7 and rooms <=6 and 2.25 <= ceiling_height <= 3.5 and 14 <= days_exposition <= 400')"
   ]
  },
  {
   "cell_type": "code",
   "execution_count": 39,
   "metadata": {
    "scrolled": true
   },
   "outputs": [
    {
     "name": "stdout",
     "output_type": "stream",
     "text": [
      "Доля чистых значений составила: 72.6%\n"
     ]
    }
   ],
   "source": [
    "print('Доля чистых значений составила: {:.1%}'.format(len(good_data) / len(data)))"
   ]
  },
  {
   "cell_type": "markdown",
   "metadata": {},
   "source": [
    "### **4.2 Влияние факторов на стоимость квартиры**\n",
    "\n",
    "**4.2.1** Изучим зависит ли цена от площади, числа комнат, удаленности от центра, этажности и даты размещения."
   ]
  },
  {
   "cell_type": "code",
   "execution_count": 40,
   "metadata": {
    "scrolled": false
   },
   "outputs": [
    {
     "data": {
      "image/png": "[encoded data removed]",
      "text/plain": [
       "<Figure size 360x288 with 1 Axes>"
      ]
     },
     "metadata": {
      "needs_background": "light"
     },
     "output_type": "display_data"
    }
   ],
   "source": [
    "good_data.plot(x='total_area', y='last_price', kind='scatter', figsize=(5,4), grid=True, title='Зависимость цены от площади');"
   ]
  },
  {
   "cell_type": "code",
   "execution_count": 41,
   "metadata": {
    "scrolled": true
   },
   "outputs": [
    {
     "name": "stdout",
     "output_type": "stream",
     "text": [
      "Коэффициент корреляции: 0.69\n"
     ]
    }
   ],
   "source": [
    "corr_price_area = good_data['last_price'].corr(good_data['total_area'])\n",
    "print('Коэффициент корреляции: {:.2f}'.format(corr_price_area)) "
   ]
  },
  {
   "cell_type": "markdown",
   "metadata": {},
   "source": [
    "По данному графику видно очевидное, чем больше площадь, тем больше цена квартиры. То же и подтверждает коэффициент корреляции."
   ]
  },
  {
   "cell_type": "code",
   "execution_count": 42,
   "metadata": {
    "scrolled": true
   },
   "outputs": [
    {
     "data": {
      "image/png": "[encoded data removed]",
      "text/plain": [
       "<Figure size 432x288 with 1 Axes>"
      ]
     },
     "metadata": {
      "needs_background": "light"
     },
     "output_type": "display_data"
    }
   ],
   "source": [
    "(\n",
    "    good_data\n",
    "    .pivot_table(index='rooms', values='last_price')\n",
    "    .plot(y='last_price',title='Зависимость цены от количества комнат')\n",
    ");"
   ]
  },
  {
   "cell_type": "markdown",
   "metadata": {},
   "source": [
    "Снова ожидаемая закономерность, чем больше комнат, тем дороже недвижимость."
   ]
  },
  {
   "cell_type": "code",
   "execution_count": 43,
   "metadata": {
    "scrolled": false
   },
   "outputs": [
    {
     "data": {
      "image/png": "[encoded data removed]",
      "text/plain": [
       "<Figure size 432x288 with 1 Axes>"
      ]
     },
     "metadata": {
      "needs_background": "light"
     },
     "output_type": "display_data"
    }
   ],
   "source": [
    "good_data.plot(x='cityCenters_nearest', y='last_price', kind='scatter', title='Зависимость цены от удаленности от центра');"
   ]
  },
  {
   "cell_type": "code",
   "execution_count": 44,
   "metadata": {},
   "outputs": [
    {
     "name": "stdout",
     "output_type": "stream",
     "text": [
      "Коэффициент корреляции: -0.33\n"
     ]
    }
   ],
   "source": [
    "corr_price_center = good_data['last_price'].corr(good_data['cityCenters_nearest'])\n",
    "print('Коэффициент корреляции: {:.2f}'.format(corr_price_center)) "
   ]
  },
  {
   "cell_type": "markdown",
   "metadata": {},
   "source": [
    "В основном ожидаемый результат: чем ближе к центру, тем дороже квартиры. Выбиваются лишь некоторые данные, где расстояние до центра для квартиры не единственный фактор высокой цены. Коэффициент корреляции говорит то же самое - существует отрицательная зависимость при увеличении расстояния до центра, но зависимость несильная."
   ]
  },
  {
   "cell_type": "code",
   "execution_count": 45,
   "metadata": {
    "scrolled": true
   },
   "outputs": [
    {
     "data": {
      "image/png": "[encoded data removed]",
      "text/plain": [
       "<Figure size 432x288 with 1 Axes>"
      ]
     },
     "metadata": {
      "needs_background": "light"
     },
     "output_type": "display_data"
    }
   ],
   "source": [
    "(\n",
    "    good_data\n",
    "    .pivot_table(index='floor_type', values='last_price')\n",
    "    .plot(title='Зависимость цены от типа этажа')\n",
    ");"
   ]
  },
  {
   "cell_type": "markdown",
   "metadata": {},
   "source": [
    "График зависимости показал, что дешевле всего продаются квартиры на первом этаже. На втором месте квартиры на последнем этаже, ну а самые дорогие - на любом другом."
   ]
  },
  {
   "cell_type": "markdown",
   "metadata": {},
   "source": [
    "**4.2.2.** Посмотрим на зависимость цены квартиры от дня недели, месяца и года публикации объявения."
   ]
  },
  {
   "cell_type": "code",
   "execution_count": 46,
   "metadata": {
    "scrolled": true
   },
   "outputs": [
    {
     "data": {
      "image/png": "[encoded data removed]",
      "text/plain": [
       "<Figure size 432x288 with 1 Axes>"
      ]
     },
     "metadata": {
      "needs_background": "light"
     },
     "output_type": "display_data"
    }
   ],
   "source": [
    "(\n",
    "    good_data\n",
    "    .pivot_table(index='weekday', values='last_price')\n",
    "    .plot(title='Зависимость цены от дня недели')\n",
    ");"
   ]
  },
  {
   "cell_type": "code",
   "execution_count": 47,
   "metadata": {},
   "outputs": [
    {
     "data": {
      "image/png": "[encoded data removed]",
      "text/plain": [
       "<Figure size 432x288 with 1 Axes>"
      ]
     },
     "metadata": {
      "needs_background": "light"
     },
     "output_type": "display_data"
    }
   ],
   "source": [
    "(\n",
    "    good_data\n",
    "    .pivot_table(index='month', values='last_price')\n",
    "    .plot(title='Зависимость цены от месяца')\n",
    ");"
   ]
  },
  {
   "cell_type": "code",
   "execution_count": 48,
   "metadata": {
    "scrolled": true
   },
   "outputs": [
    {
     "data": {
      "image/png": "[encoded data removed]",
      "text/plain": [
       "<Figure size 432x288 with 1 Axes>"
      ]
     },
     "metadata": {
      "needs_background": "light"
     },
     "output_type": "display_data"
    }
   ],
   "source": [
    "(\n",
    "    good_data\n",
    "    .pivot_table(index='year', values='last_price')\n",
    "    .plot(title='Зависимость цены от года')\n",
    ");"
   ]
  },
  {
   "cell_type": "markdown",
   "metadata": {},
   "source": [
    "День недели и месяц публикации объявления не играют значимой роли на стоимость, по которой объект недвижимости будет продан. Наблюдается лишь некоторый спад к концу недели, возможно потому что и количество публикаций в этот день меньше всего. \n",
    "\n",
    "График зависимости цены от года показал, что в среднем квартиры продавались по более высоким ценам в 2014 году, но это объясняется макроэкономической ситуацией. Далее рост цен произошел в 2019 году, но возможно это объясняется понижением ЦБ ключевой ставки, а значит и возросщим спросом на покупку квартир."
   ]
  },
  {
   "cell_type": "markdown",
   "metadata": {},
   "source": [
    "**4.2.3** Выберем 10 населенных пунктов с наибольшим числом объявлений."
   ]
  },
  {
   "cell_type": "code",
   "execution_count": 49,
   "metadata": {
    "scrolled": true
   },
   "outputs": [
    {
     "data": {
      "text/html": [
       "<div>\n",
       "<style scoped>\n",
       "    .dataframe tbody tr th:only-of-type {\n",
       "        vertical-align: middle;\n",
       "    }\n",
       "\n",
       "    .dataframe tbody tr th {\n",
       "        vertical-align: top;\n",
       "    }\n",
       "\n",
       "    .dataframe thead th {\n",
       "        text-align: right;\n",
       "    }\n",
       "</style>\n",
       "<table border=\"1\" class=\"dataframe\">\n",
       "  <thead>\n",
       "    <tr style=\"text-align: right;\">\n",
       "      <th></th>\n",
       "      <th>count</th>\n",
       "      <th>median</th>\n",
       "    </tr>\n",
       "    <tr>\n",
       "      <th>locality_name</th>\n",
       "      <th></th>\n",
       "      <th></th>\n",
       "    </tr>\n",
       "  </thead>\n",
       "  <tbody>\n",
       "    <tr>\n",
       "      <th>Санкт-Петербург</th>\n",
       "      <td>10860</td>\n",
       "      <td>103132.267442</td>\n",
       "    </tr>\n",
       "    <tr>\n",
       "      <th>посёлок Мурино</th>\n",
       "      <td>425</td>\n",
       "      <td>86956.521739</td>\n",
       "    </tr>\n",
       "    <tr>\n",
       "      <th>посёлок Шушары</th>\n",
       "      <td>360</td>\n",
       "      <td>77223.320158</td>\n",
       "    </tr>\n",
       "    <tr>\n",
       "      <th>Всеволожск</th>\n",
       "      <td>327</td>\n",
       "      <td>66153.846154</td>\n",
       "    </tr>\n",
       "    <tr>\n",
       "      <th>Колпино</th>\n",
       "      <td>277</td>\n",
       "      <td>74324.324324</td>\n",
       "    </tr>\n",
       "    <tr>\n",
       "      <th>Пушкин</th>\n",
       "      <td>274</td>\n",
       "      <td>100000.000000</td>\n",
       "    </tr>\n",
       "    <tr>\n",
       "      <th>посёлок Парголово</th>\n",
       "      <td>265</td>\n",
       "      <td>91642.857143</td>\n",
       "    </tr>\n",
       "    <tr>\n",
       "      <th>Гатчина</th>\n",
       "      <td>241</td>\n",
       "      <td>67857.142857</td>\n",
       "    </tr>\n",
       "    <tr>\n",
       "      <th>деревня Кудрово</th>\n",
       "      <td>230</td>\n",
       "      <td>92828.571429</td>\n",
       "    </tr>\n",
       "    <tr>\n",
       "      <th>Выборг</th>\n",
       "      <td>183</td>\n",
       "      <td>58666.666667</td>\n",
       "    </tr>\n",
       "  </tbody>\n",
       "</table>\n",
       "</div>"
      ],
      "text/plain": [
       "                   count         median\n",
       "locality_name                          \n",
       "Санкт-Петербург    10860  103132.267442\n",
       "посёлок Мурино       425   86956.521739\n",
       "посёлок Шушары       360   77223.320158\n",
       "Всеволожск           327   66153.846154\n",
       "Колпино              277   74324.324324\n",
       "Пушкин               274  100000.000000\n",
       "посёлок Парголово    265   91642.857143\n",
       "Гатчина              241   67857.142857\n",
       "деревня Кудрово      230   92828.571429\n",
       "Выборг               183   58666.666667"
      ]
     },
     "execution_count": 49,
     "metadata": {},
     "output_type": "execute_result"
    }
   ],
   "source": [
    "median_metre_price = good_data.pivot_table(index='locality_name', values='metre_price', aggfunc=['count', 'median'])\n",
    "median_metre_price.columns = ['count', 'median']\n",
    "median_metre_price.sort_values('count', ascending=False).head(10)"
   ]
  },
  {
   "cell_type": "markdown",
   "metadata": {},
   "source": [
    "Из представленных 10 населенных пунктов с наибольшим числом объявлений лидеры по средней цене квадратного метра: Санкт-Петербург, Пушкин, деревня Кудрово.\n",
    "\n",
    "Дешевле всего квартиры в Выборге, Всеволожске и Гатчине.\n",
    "\n",
    "Цена квадратного метра в деревне больше, чем в городе. Необходимо будет установить, насколько такая разница в средней цене квадратного метра обоснована и вызвана близостью к центру Санкт-Петербурга"
   ]
  },
  {
   "cell_type": "markdown",
   "metadata": {},
   "source": [
    "**4.2.4** Изучим объекты недвижимости в Санкт-Петербурге"
   ]
  },
  {
   "cell_type": "code",
   "execution_count": 50,
   "metadata": {
    "scrolled": false
   },
   "outputs": [
    {
     "data": {
      "image/png": "[encoded data removed]",
      "text/plain": [
       "<Figure size 360x360 with 1 Axes>"
      ]
     },
     "metadata": {
      "needs_background": "light"
     },
     "output_type": "display_data"
    }
   ],
   "source": [
    "#создадим столбец с расстоянием квартир до центра в км.\n",
    "data['cityCenters_nearest'] = data['cityCenters_nearest'].astype('int64', errors='ignore')\n",
    "data['cityCenters_km'] = round(data['cityCenters_nearest'] / 1000, 0) \n",
    "good_data = data.query('10 <= total_area <= 100 and 0.1e7 <= last_price <= 1.2e7 and rooms <=6 and 2.25 <= ceiling_height <= 3.5 and 14 <= days_exposition <= 400')\n",
    "\n",
    "#посчитаем среднюю цену для каждого километра\n",
    "(\n",
    "    good_data\n",
    "    .query('locality_name == \"Санкт-Петербург\"')\n",
    "    .pivot_table(index='cityCenters_km', values='last_price')\n",
    "    .plot(y='last_price', style='o',grid=True, figsize=(5,5), title='Зависимость средней цены от расстояния до центра Санкт-Петербурга')\n",
    ");"
   ]
  },
  {
   "cell_type": "markdown",
   "metadata": {},
   "source": [
    "### **Вывод**\n",
    "\n",
    "Резкий перепад цены в 1 млн рублей происходит на расстоянии в 8 км от центра, таким образом, центром Санкт-Петербурга будет считаться окружность радиусом 8 км."
   ]
  },
  {
   "cell_type": "markdown",
   "metadata": {},
   "source": [
    "### **4.3 Изучим недвижимость в центре Санкт-Петербурга.**"
   ]
  },
  {
   "cell_type": "code",
   "execution_count": 51,
   "metadata": {},
   "outputs": [],
   "source": [
    "#отфильтруем данные по расстоянию до центра в 8 км\n",
    "spb_center = good_data[(good_data['cityCenters_km'] <= 8) & (good_data['locality_name'] == 'Санкт-Петербург')]"
   ]
  },
  {
   "cell_type": "markdown",
   "metadata": {},
   "source": [
    "Построим диаграмму размаха по площади, цене, числу комнат и высоте потолков."
   ]
  },
  {
   "cell_type": "code",
   "execution_count": 52,
   "metadata": {
    "scrolled": true
   },
   "outputs": [
    {
     "name": "stdout",
     "output_type": "stream",
     "text": [
      "count    1972.000000\n",
      "mean       60.846856\n",
      "std        18.814776\n",
      "min        12.000000\n",
      "25%        46.000000\n",
      "50%        60.000000\n",
      "75%        75.000000\n",
      "max       100.000000\n",
      "Name: total_area, dtype: float64\n"
     ]
    },
    {
     "data": {
      "image/png": "[encoded data removed]",
      "text/plain": [
       "<Figure size 432x288 with 1 Axes>"
      ]
     },
     "metadata": {
      "needs_background": "light"
     },
     "output_type": "display_data"
    }
   ],
   "source": [
    "#посмотрим на числовое описание значений столбца 'total_area' и построим диаграмму размаха\n",
    "print(spb_center['total_area'].describe())\n",
    "spb_center.boxplot('total_area');\n",
    "plt.ylabel('Общая площадь');"
   ]
  },
  {
   "cell_type": "code",
   "execution_count": 53,
   "metadata": {
    "scrolled": true
   },
   "outputs": [
    {
     "name": "stdout",
     "output_type": "stream",
     "text": [
      "count    1.972000e+03\n",
      "mean     7.118260e+06\n",
      "std      2.190868e+06\n",
      "min      1.686000e+06\n",
      "25%      5.500000e+06\n",
      "50%      6.932818e+06\n",
      "75%      8.652500e+06\n",
      "max      1.200000e+07\n",
      "Name: last_price, dtype: float64\n"
     ]
    },
    {
     "data": {
      "image/png": "[encoded data removed]",
      "text/plain": [
       "<Figure size 432x288 with 1 Axes>"
      ]
     },
     "metadata": {
      "needs_background": "light"
     },
     "output_type": "display_data"
    }
   ],
   "source": [
    "#посмотрим на числовое описание значений столбца 'last_prise' и построим диаграмму размаха\n",
    "print(spb_center['last_price'].describe())\n",
    "spb_center.boxplot('last_price');\n",
    "plt.ylabel('Цена,10 млн рублей');"
   ]
  },
  {
   "cell_type": "code",
   "execution_count": 54,
   "metadata": {
    "scrolled": true
   },
   "outputs": [
    {
     "name": "stdout",
     "output_type": "stream",
     "text": [
      "count    1972.000000\n",
      "mean        2.167343\n",
      "std         0.891580\n",
      "min         0.000000\n",
      "25%         2.000000\n",
      "50%         2.000000\n",
      "75%         3.000000\n",
      "max         5.000000\n",
      "Name: rooms, dtype: float64\n"
     ]
    },
    {
     "data": {
      "image/png": "[encoded data removed]",
      "text/plain": [
       "<Figure size 432x288 with 1 Axes>"
      ]
     },
     "metadata": {
      "needs_background": "light"
     },
     "output_type": "display_data"
    }
   ],
   "source": [
    "#посмотрим на числовое описание значений столбца 'rooms' и построим диаграмму размаха\n",
    "print(spb_center['rooms'].describe())\n",
    "spb_center.boxplot('rooms');\n",
    "plt.ylabel('Число комнат');"
   ]
  },
  {
   "cell_type": "code",
   "execution_count": 55,
   "metadata": {
    "scrolled": true
   },
   "outputs": [
    {
     "name": "stdout",
     "output_type": "stream",
     "text": [
      "count    1972.000000\n",
      "mean        2.820857\n",
      "std         0.251602\n",
      "min         2.400000\n",
      "25%         2.650000\n",
      "50%         2.700000\n",
      "75%         3.000000\n",
      "max         3.500000\n",
      "Name: ceiling_height, dtype: float64\n"
     ]
    },
    {
     "data": {
      "image/png": "[encoded data removed]",
      "text/plain": [
       "<Figure size 432x288 with 1 Axes>"
      ]
     },
     "metadata": {
      "needs_background": "light"
     },
     "output_type": "display_data"
    }
   ],
   "source": [
    "#посмотрим на числовое описание значений столбца 'ceiling_height' и построим диаграмму размаха\n",
    "print(spb_center['ceiling_height'].describe())\n",
    "spb_center.boxplot('ceiling_height');\n",
    "plt.ylabel('Высота потолков, м');"
   ]
  },
  {
   "cell_type": "code",
   "execution_count": 56,
   "metadata": {
    "scrolled": true
   },
   "outputs": [
    {
     "name": "stdout",
     "output_type": "stream",
     "text": [
      "count    1972.000000\n",
      "mean      123.152637\n",
      "std        92.903847\n",
      "min        14.000000\n",
      "25%        60.000000\n",
      "50%        95.000000\n",
      "75%       165.000000\n",
      "max       400.000000\n",
      "Name: days_exposition, dtype: float64\n"
     ]
    },
    {
     "data": {
      "image/png": "[encoded data removed]",
      "text/plain": [
       "<Figure size 432x288 with 1 Axes>"
      ]
     },
     "metadata": {
      "needs_background": "light"
     },
     "output_type": "display_data"
    }
   ],
   "source": [
    "#посмотрим на числовое описание значений столбца 'days_exposition' и построим диаграмму размаха\n",
    "print(spb_center['days_exposition'].describe())\n",
    "spb_center.boxplot('days_exposition');\n",
    "plt.ylabel('Срок размещения объявдения, дни');"
   ]
  },
  {
   "cell_type": "markdown",
   "metadata": {},
   "source": [
    "Изучим влияние на стоимость квартиры таких факторов как: число комнат, этаж, удаленность от центра, дата размещения обявления."
   ]
  },
  {
   "cell_type": "code",
   "execution_count": 57,
   "metadata": {},
   "outputs": [
    {
     "data": {
      "image/png": "[encoded data removed]",
      "text/plain": [
       "<Figure size 432x288 with 1 Axes>"
      ]
     },
     "metadata": {
      "needs_background": "light"
     },
     "output_type": "display_data"
    },
    {
     "data": {
      "image/png": "[encoded data removed]",
      "text/plain": [
       "<Figure size 432x288 with 1 Axes>"
      ]
     },
     "metadata": {
      "needs_background": "light"
     },
     "output_type": "display_data"
    },
    {
     "data": {
      "image/png": "[encoded data removed]",
      "text/plain": [
       "<Figure size 432x288 with 1 Axes>"
      ]
     },
     "metadata": {
      "needs_background": "light"
     },
     "output_type": "display_data"
    },
    {
     "data": {
      "image/png": "[encoded data removed]",
      "text/plain": [
       "<Figure size 432x288 with 1 Axes>"
      ]
     },
     "metadata": {
      "needs_background": "light"
     },
     "output_type": "display_data"
    },
    {
     "data": {
      "image/png": "[encoded data removed]",
      "text/plain": [
       "<Figure size 432x288 with 1 Axes>"
      ]
     },
     "metadata": {
      "needs_background": "light"
     },
     "output_type": "display_data"
    },
    {
     "data": {
      "image/png": "[encoded data removed]",
      "text/plain": [
       "<Figure size 432x288 with 1 Axes>"
      ]
     },
     "metadata": {
      "needs_background": "light"
     },
     "output_type": "display_data"
    }
   ],
   "source": [
    "for column in ['rooms', 'floor_type', 'cityCenters_km', 'weekday', 'month', 'year']:\n",
    "        (\n",
    "            spb_center\n",
    "            .pivot_table(index=column, values='last_price')\n",
    "            .plot()\n",
    "        )\n"
   ]
  },
  {
   "cell_type": "markdown",
   "metadata": {},
   "source": [
    "### **Вывод**\n",
    "\n",
    "Изучив диаграммы размаха по таким параметрам как: площадь, цена, число комнат, высота потолков, было выявлено, что средняя квартира, выставленная на продажу в центре Санкт-Петербурга имеет 2 комнаты, общей площадью 60 кв. м с потолками 2,65 м. Срок продажи занимает 3 месяца по цене около 6,9 млн рублей.\n",
    "\n",
    "\n",
    "Изучив зависимость квартир в центра Санкт-Петербурга от числа комнат, было выявлено, что 5-комнатные квартиры пользуются большим спросом, что приводит к увеличению цены квартиры.\n",
    "\n",
    "Кроме того, в центре города наблюдается явно выраженная зависимость от этажа квартиры: квартира на последнем этаже в среднем будет стоить дороже, чем на первом. В квартирах удаленных от центра, такой сильной зависимости не наблюдается.\n",
    "\n",
    "График зависимости цены от расстояния до центр города показал, что квартира в 1 км от центра будет почти в 1,5 раза дороже квартиры в 8 км от центра.\n",
    "\n",
    "Также проявилась сильная зависимость цены квартиры и дня публикации объявления. Объявления о продаже, которые публиковались по воскресеньям, продавались в среднем по более высокой цене. А вот год продажи пиковым был в 2018 году, в отличие от районов, где большая цена была именно в 2019г."
   ]
  },
  {
   "cell_type": "markdown",
   "metadata": {},
   "source": [
    "## 5 Общий вывод"
   ]
  },
  {
   "cell_type": "markdown",
   "metadata": {},
   "source": [
    "Изучив 62% данных из исходного датасета, было выявлено, что для определения рыночной стоимости объектов недвижимости важны следующие параметры:\n",
    "\n",
    "- общая площадь квартиры\n",
    "- расстояние до центра города\n",
    "- число комнат и этаж квартиры (чем ближе к центру, тем эти факторы важнее)\n",
    "\n",
    "Кроме того, для отслеживания аномалий и мошеннических действий важен срок продажи квартиры (слишком быстрая продажа — до 14 дней, слишком долгая продажа — более 400 дней).\n",
    "Также было замечено, что при вводе данных о высоте потолков было допущено множество ручных ошибок (27 м вместо 2,7 м, потолки менее 2 м и т.д.)."
   ]
  }
 ],
 "metadata": {
  "ExecuteTimeLog": [
   {
    "duration": 1022,
    "start_time": "2022-02-10T14:14:11.229Z"
   },
   {
    "duration": 69,
    "start_time": "2022-02-10T14:14:19.494Z"
   },
   {
    "duration": 63,
    "start_time": "2022-02-10T14:15:50.167Z"
   },
   {
    "duration": 100,
    "start_time": "2022-02-10T14:17:05.629Z"
   },
   {
    "duration": 12,
    "start_time": "2022-02-10T14:17:57.564Z"
   },
   {
    "duration": 75,
    "start_time": "2022-02-10T14:18:22.962Z"
   },
   {
    "duration": 76,
    "start_time": "2022-02-10T14:19:24.727Z"
   },
   {
    "duration": 11,
    "start_time": "2022-02-10T14:19:27.357Z"
   },
   {
    "duration": 118,
    "start_time": "2022-02-10T14:34:34.887Z"
   },
   {
    "duration": 93,
    "start_time": "2022-02-10T14:34:57.694Z"
   },
   {
    "duration": 723,
    "start_time": "2022-02-12T07:45:53.499Z"
   },
   {
    "duration": 11,
    "start_time": "2022-02-12T07:45:54.224Z"
   },
   {
    "duration": 66,
    "start_time": "2022-02-12T07:45:54.236Z"
   },
   {
    "duration": 404,
    "start_time": "2022-02-12T07:47:15.604Z"
   },
   {
    "duration": 10,
    "start_time": "2022-02-12T07:47:22.221Z"
   },
   {
    "duration": 11,
    "start_time": "2022-02-12T07:47:30.221Z"
   },
   {
    "duration": 264,
    "start_time": "2022-02-12T08:37:03.500Z"
   },
   {
    "duration": 9,
    "start_time": "2022-02-12T08:38:36.509Z"
   },
   {
    "duration": 5,
    "start_time": "2022-02-12T08:39:17.088Z"
   },
   {
    "duration": 5,
    "start_time": "2022-02-12T08:42:13.688Z"
   },
   {
    "duration": 10,
    "start_time": "2022-02-12T08:42:47.032Z"
   },
   {
    "duration": 8,
    "start_time": "2022-02-12T08:42:56.766Z"
   },
   {
    "duration": 10,
    "start_time": "2022-02-12T08:43:26.600Z"
   },
   {
    "duration": 17,
    "start_time": "2022-02-12T08:45:27.965Z"
   },
   {
    "duration": 272,
    "start_time": "2022-02-12T08:46:30.073Z"
   },
   {
    "duration": 185,
    "start_time": "2022-02-12T08:47:53.091Z"
   },
   {
    "duration": 269,
    "start_time": "2022-02-12T08:48:43.898Z"
   },
   {
    "duration": 299,
    "start_time": "2022-02-12T08:49:02.551Z"
   },
   {
    "duration": 17,
    "start_time": "2022-02-12T08:49:08.828Z"
   },
   {
    "duration": 18,
    "start_time": "2022-02-12T08:49:26.444Z"
   },
   {
    "duration": 5,
    "start_time": "2022-02-12T08:50:34.776Z"
   },
   {
    "duration": 95,
    "start_time": "2022-02-12T08:51:14.512Z"
   },
   {
    "duration": 83,
    "start_time": "2022-02-12T08:51:43.988Z"
   },
   {
    "duration": 5,
    "start_time": "2022-02-12T08:52:20.011Z"
   },
   {
    "duration": 295,
    "start_time": "2022-02-12T08:53:53.034Z"
   },
   {
    "duration": 17,
    "start_time": "2022-02-12T08:53:59.279Z"
   },
   {
    "duration": 7,
    "start_time": "2022-02-12T08:54:34.762Z"
   },
   {
    "duration": 84,
    "start_time": "2022-02-12T08:54:59.904Z"
   },
   {
    "duration": 14,
    "start_time": "2022-02-12T08:54:59.990Z"
   },
   {
    "duration": 82,
    "start_time": "2022-02-12T08:55:00.007Z"
   },
   {
    "duration": 9,
    "start_time": "2022-02-12T08:55:00.091Z"
   },
   {
    "duration": 4,
    "start_time": "2022-02-12T08:55:00.119Z"
   },
   {
    "duration": 20,
    "start_time": "2022-02-12T08:55:00.125Z"
   },
   {
    "duration": 10,
    "start_time": "2022-02-12T08:55:00.147Z"
   },
   {
    "duration": 9,
    "start_time": "2022-02-12T08:55:16.589Z"
   },
   {
    "duration": 7,
    "start_time": "2022-02-12T08:55:46.516Z"
   },
   {
    "duration": 10,
    "start_time": "2022-02-12T08:56:39.465Z"
   },
   {
    "duration": 298,
    "start_time": "2022-02-12T08:57:05.787Z"
   },
   {
    "duration": 27,
    "start_time": "2022-02-12T08:57:39.443Z"
   },
   {
    "duration": 8,
    "start_time": "2022-02-12T09:56:34.700Z"
   },
   {
    "duration": 16,
    "start_time": "2022-02-12T09:57:48.320Z"
   },
   {
    "duration": 266,
    "start_time": "2022-02-12T09:58:08.526Z"
   },
   {
    "duration": 299,
    "start_time": "2022-02-12T09:58:20.968Z"
   },
   {
    "duration": 5,
    "start_time": "2022-02-12T10:15:58.248Z"
   },
   {
    "duration": 87,
    "start_time": "2022-02-12T10:18:56.335Z"
   },
   {
    "duration": 4,
    "start_time": "2022-02-12T10:19:02.525Z"
   },
   {
    "duration": 559,
    "start_time": "2022-02-12T10:19:13.864Z"
   },
   {
    "duration": 5,
    "start_time": "2022-02-12T10:19:25.315Z"
   },
   {
    "duration": 256,
    "start_time": "2022-02-12T10:19:42.550Z"
   },
   {
    "duration": 8,
    "start_time": "2022-02-12T10:19:55.556Z"
   },
   {
    "duration": 7,
    "start_time": "2022-02-12T10:20:12.362Z"
   },
   {
    "duration": 85,
    "start_time": "2022-02-12T10:21:22.639Z"
   },
   {
    "duration": 320,
    "start_time": "2022-02-12T10:21:45.762Z"
   },
   {
    "duration": 104,
    "start_time": "2022-02-12T10:22:02.014Z"
   },
   {
    "duration": 77,
    "start_time": "2022-02-12T10:22:17.556Z"
   },
   {
    "duration": 8,
    "start_time": "2022-02-12T10:25:38.412Z"
   },
   {
    "duration": 15,
    "start_time": "2022-02-12T10:27:24.227Z"
   },
   {
    "duration": 91,
    "start_time": "2022-02-12T10:28:06.262Z"
   },
   {
    "duration": 97,
    "start_time": "2022-02-12T10:28:18.835Z"
   },
   {
    "duration": 93,
    "start_time": "2022-02-12T10:28:44.019Z"
   },
   {
    "duration": 77,
    "start_time": "2022-02-12T10:28:55.762Z"
   },
   {
    "duration": 16,
    "start_time": "2022-02-12T10:29:36.057Z"
   },
   {
    "duration": 4,
    "start_time": "2022-02-12T10:31:07.969Z"
   },
   {
    "duration": 17,
    "start_time": "2022-02-12T10:33:15.933Z"
   },
   {
    "duration": 8,
    "start_time": "2022-02-12T10:33:52.301Z"
   },
   {
    "duration": 273,
    "start_time": "2022-02-12T10:35:52.013Z"
   },
   {
    "duration": 2,
    "start_time": "2022-02-12T10:36:47.429Z"
   },
   {
    "duration": 5,
    "start_time": "2022-02-12T10:41:55.069Z"
   },
   {
    "duration": 85,
    "start_time": "2022-02-12T10:43:27.503Z"
   },
   {
    "duration": 6,
    "start_time": "2022-02-12T10:43:56.910Z"
   },
   {
    "duration": 5,
    "start_time": "2022-02-12T10:45:44.573Z"
   },
   {
    "duration": 6,
    "start_time": "2022-02-12T10:46:14.070Z"
   },
   {
    "duration": 15,
    "start_time": "2022-02-12T10:47:06.450Z"
   },
   {
    "duration": 7,
    "start_time": "2022-02-12T10:49:22.853Z"
   },
   {
    "duration": 91,
    "start_time": "2022-02-12T10:51:30.804Z"
   },
   {
    "duration": 85,
    "start_time": "2022-02-12T10:51:35.868Z"
   },
   {
    "duration": 7,
    "start_time": "2022-02-12T10:52:09.191Z"
   },
   {
    "duration": 265,
    "start_time": "2022-02-12T10:53:34.104Z"
   },
   {
    "duration": 7,
    "start_time": "2022-02-12T10:53:38.698Z"
   },
   {
    "duration": 7,
    "start_time": "2022-02-12T10:54:17.057Z"
   },
   {
    "duration": 6,
    "start_time": "2022-02-12T10:54:29.092Z"
   },
   {
    "duration": 10,
    "start_time": "2022-02-12T10:54:53.758Z"
   },
   {
    "duration": 9,
    "start_time": "2022-02-12T10:55:02.486Z"
   },
   {
    "duration": 7,
    "start_time": "2022-02-12T10:55:06.491Z"
   },
   {
    "duration": 8,
    "start_time": "2022-02-12T10:55:09.283Z"
   },
   {
    "duration": 9,
    "start_time": "2022-02-12T10:55:16.637Z"
   },
   {
    "duration": 9,
    "start_time": "2022-02-12T10:55:35.962Z"
   },
   {
    "duration": 8,
    "start_time": "2022-02-12T10:57:18.610Z"
   },
   {
    "duration": 7,
    "start_time": "2022-02-12T10:57:25.901Z"
   },
   {
    "duration": 26,
    "start_time": "2022-02-12T10:58:14.860Z"
   },
   {
    "duration": 7,
    "start_time": "2022-02-12T10:58:25.498Z"
   },
   {
    "duration": 7,
    "start_time": "2022-02-12T10:58:55.608Z"
   },
   {
    "duration": 7,
    "start_time": "2022-02-12T10:59:07.128Z"
   },
   {
    "duration": 14,
    "start_time": "2022-02-12T11:00:02.164Z"
   },
   {
    "duration": 25,
    "start_time": "2022-02-12T11:00:41.922Z"
   },
   {
    "duration": 52,
    "start_time": "2022-02-12T11:04:37.002Z"
   },
   {
    "duration": 10,
    "start_time": "2022-02-12T11:05:14.487Z"
   },
   {
    "duration": 7,
    "start_time": "2022-02-12T11:06:39.626Z"
   },
   {
    "duration": 270,
    "start_time": "2022-02-12T11:14:43.968Z"
   },
   {
    "duration": 11,
    "start_time": "2022-02-12T11:15:04.666Z"
   },
   {
    "duration": 10,
    "start_time": "2022-02-12T11:15:14.069Z"
   },
   {
    "duration": 260,
    "start_time": "2022-02-12T11:15:49.056Z"
   },
   {
    "duration": 263,
    "start_time": "2022-02-12T11:17:00.494Z"
   },
   {
    "duration": 11,
    "start_time": "2022-02-12T11:17:09.696Z"
   },
   {
    "duration": 7,
    "start_time": "2022-02-12T11:17:11.384Z"
   },
   {
    "duration": 10,
    "start_time": "2022-02-12T11:19:44.796Z"
   },
   {
    "duration": 7,
    "start_time": "2022-02-12T11:19:45.936Z"
   },
   {
    "duration": 91,
    "start_time": "2022-02-12T11:20:19.260Z"
   },
   {
    "duration": 101,
    "start_time": "2022-02-12T11:20:31.680Z"
   },
   {
    "duration": 11,
    "start_time": "2022-02-12T11:20:43.521Z"
   },
   {
    "duration": 8,
    "start_time": "2022-02-12T11:20:47.475Z"
   },
   {
    "duration": 349,
    "start_time": "2022-02-12T11:21:31.305Z"
   },
   {
    "duration": 14,
    "start_time": "2022-02-12T11:21:38.713Z"
   },
   {
    "duration": 260,
    "start_time": "2022-02-12T11:23:42.549Z"
   },
   {
    "duration": 14,
    "start_time": "2022-02-12T11:23:58.744Z"
   },
   {
    "duration": 5,
    "start_time": "2022-02-12T11:24:35.336Z"
   },
   {
    "duration": 11,
    "start_time": "2022-02-12T11:24:36.817Z"
   },
   {
    "duration": 12,
    "start_time": "2022-02-12T11:24:41.137Z"
   },
   {
    "duration": 8,
    "start_time": "2022-02-12T11:24:42.198Z"
   },
   {
    "duration": 334,
    "start_time": "2022-02-12T11:25:22.628Z"
   },
   {
    "duration": 292,
    "start_time": "2022-02-12T11:26:37.194Z"
   },
   {
    "duration": 88,
    "start_time": "2022-02-12T11:27:53.469Z"
   },
   {
    "duration": 11,
    "start_time": "2022-02-12T11:28:01.074Z"
   },
   {
    "duration": 7,
    "start_time": "2022-02-12T11:28:03.008Z"
   },
   {
    "duration": 16,
    "start_time": "2022-02-12T11:28:09.850Z"
   },
   {
    "duration": 9,
    "start_time": "2022-02-12T11:28:11.378Z"
   },
   {
    "duration": 9,
    "start_time": "2022-02-12T11:28:53.890Z"
   },
   {
    "duration": 7,
    "start_time": "2022-02-12T11:28:55.322Z"
   },
   {
    "duration": 7,
    "start_time": "2022-02-12T11:29:02.835Z"
   },
   {
    "duration": 83,
    "start_time": "2022-02-12T11:29:06.021Z"
   },
   {
    "duration": 20,
    "start_time": "2022-02-12T11:29:06.106Z"
   },
   {
    "duration": 71,
    "start_time": "2022-02-12T11:29:06.128Z"
   },
   {
    "duration": 21,
    "start_time": "2022-02-12T11:29:06.201Z"
   },
   {
    "duration": 5,
    "start_time": "2022-02-12T11:29:06.224Z"
   },
   {
    "duration": 11,
    "start_time": "2022-02-12T11:29:06.231Z"
   },
   {
    "duration": 11,
    "start_time": "2022-02-12T11:29:06.244Z"
   },
   {
    "duration": 283,
    "start_time": "2022-02-12T11:29:06.257Z"
   },
   {
    "duration": 100,
    "start_time": "2022-02-12T11:29:06.442Z"
   },
   {
    "duration": 64,
    "start_time": "2022-02-12T11:29:06.479Z"
   },
   {
    "duration": 63,
    "start_time": "2022-02-12T11:29:06.481Z"
   },
   {
    "duration": 63,
    "start_time": "2022-02-12T11:29:06.482Z"
   },
   {
    "duration": 63,
    "start_time": "2022-02-12T11:29:06.483Z"
   },
   {
    "duration": 57,
    "start_time": "2022-02-12T11:29:06.491Z"
   },
   {
    "duration": 342,
    "start_time": "2022-02-12T11:29:37.356Z"
   },
   {
    "duration": 11,
    "start_time": "2022-02-12T11:30:05.903Z"
   },
   {
    "duration": 7,
    "start_time": "2022-02-12T11:30:07.566Z"
   },
   {
    "duration": 7,
    "start_time": "2022-02-12T11:30:15.219Z"
   },
   {
    "duration": 6,
    "start_time": "2022-02-12T11:30:16.841Z"
   },
   {
    "duration": 8,
    "start_time": "2022-02-12T11:35:14.536Z"
   },
   {
    "duration": 8,
    "start_time": "2022-02-12T11:35:28.600Z"
   },
   {
    "duration": 261,
    "start_time": "2022-02-12T11:36:20.351Z"
   },
   {
    "duration": 267,
    "start_time": "2022-02-12T11:36:58.757Z"
   },
   {
    "duration": 41,
    "start_time": "2022-02-12T11:37:18.670Z"
   },
   {
    "duration": 259,
    "start_time": "2022-02-12T11:37:50.227Z"
   },
   {
    "duration": 276,
    "start_time": "2022-02-12T11:37:52.915Z"
   },
   {
    "duration": 273,
    "start_time": "2022-02-12T11:38:07.202Z"
   },
   {
    "duration": 12,
    "start_time": "2022-02-12T11:38:14.380Z"
   },
   {
    "duration": 527,
    "start_time": "2022-02-12T11:38:27.483Z"
   },
   {
    "duration": 10,
    "start_time": "2022-02-12T11:38:31.793Z"
   },
   {
    "duration": 60,
    "start_time": "2022-02-12T11:38:58.067Z"
   },
   {
    "duration": 311,
    "start_time": "2022-02-12T11:40:48.668Z"
   },
   {
    "duration": 10,
    "start_time": "2022-02-12T11:41:48.560Z"
   },
   {
    "duration": 6,
    "start_time": "2022-02-12T11:42:14.073Z"
   },
   {
    "duration": 38,
    "start_time": "2022-02-12T11:42:15.246Z"
   },
   {
    "duration": 4,
    "start_time": "2022-02-12T11:42:16.683Z"
   },
   {
    "duration": 4,
    "start_time": "2022-02-12T11:42:18.167Z"
   },
   {
    "duration": 9,
    "start_time": "2022-02-12T11:42:19.339Z"
   },
   {
    "duration": 11,
    "start_time": "2022-02-12T11:46:32.622Z"
   },
   {
    "duration": 284,
    "start_time": "2022-02-12T11:46:48.867Z"
   },
   {
    "duration": 5,
    "start_time": "2022-02-12T11:46:55.010Z"
   },
   {
    "duration": 8,
    "start_time": "2022-02-12T11:47:36.432Z"
   },
   {
    "duration": 4,
    "start_time": "2022-02-12T11:50:53.217Z"
   },
   {
    "duration": 6836,
    "start_time": "2022-02-12T11:51:07.802Z"
   },
   {
    "duration": 7425,
    "start_time": "2022-02-12T11:51:30.973Z"
   },
   {
    "duration": 80,
    "start_time": "2022-02-12T11:51:38.320Z"
   },
   {
    "duration": 6,
    "start_time": "2022-02-12T11:56:48.520Z"
   },
   {
    "duration": 13,
    "start_time": "2022-02-12T11:56:50.406Z"
   },
   {
    "duration": 5,
    "start_time": "2022-02-12T11:57:06.920Z"
   },
   {
    "duration": 5,
    "start_time": "2022-02-12T11:58:07.267Z"
   },
   {
    "duration": 84,
    "start_time": "2022-02-12T11:58:13.466Z"
   },
   {
    "duration": 10,
    "start_time": "2022-02-12T11:58:13.552Z"
   },
   {
    "duration": 88,
    "start_time": "2022-02-12T11:58:13.565Z"
   },
   {
    "duration": 10,
    "start_time": "2022-02-12T11:58:13.655Z"
   },
   {
    "duration": 6,
    "start_time": "2022-02-12T11:58:13.667Z"
   },
   {
    "duration": 4,
    "start_time": "2022-02-12T11:58:13.675Z"
   },
   {
    "duration": 54,
    "start_time": "2022-02-12T11:58:13.680Z"
   },
   {
    "duration": 3,
    "start_time": "2022-02-12T11:58:13.736Z"
   },
   {
    "duration": 5,
    "start_time": "2022-02-12T11:58:13.742Z"
   },
   {
    "duration": 13,
    "start_time": "2022-02-12T11:58:13.749Z"
   },
   {
    "duration": 281,
    "start_time": "2022-02-12T11:58:36.606Z"
   },
   {
    "duration": 264,
    "start_time": "2022-02-12T12:00:23.415Z"
   },
   {
    "duration": 4,
    "start_time": "2022-02-12T12:00:31.112Z"
   },
   {
    "duration": 4,
    "start_time": "2022-02-12T12:00:32.997Z"
   },
   {
    "duration": 4,
    "start_time": "2022-02-12T12:00:39.525Z"
   },
   {
    "duration": 6,
    "start_time": "2022-02-12T12:02:09.727Z"
   },
   {
    "duration": 80,
    "start_time": "2022-02-12T12:02:33.694Z"
   },
   {
    "duration": 10,
    "start_time": "2022-02-12T12:02:33.777Z"
   },
   {
    "duration": 126,
    "start_time": "2022-02-12T12:02:33.789Z"
   },
   {
    "duration": 8,
    "start_time": "2022-02-12T12:02:33.917Z"
   },
   {
    "duration": 9,
    "start_time": "2022-02-12T12:02:33.927Z"
   },
   {
    "duration": 83,
    "start_time": "2022-02-12T12:02:45.379Z"
   },
   {
    "duration": 10,
    "start_time": "2022-02-12T12:02:45.464Z"
   },
   {
    "duration": 80,
    "start_time": "2022-02-12T12:02:45.476Z"
   },
   {
    "duration": 11,
    "start_time": "2022-02-12T12:02:45.558Z"
   },
   {
    "duration": 8,
    "start_time": "2022-02-12T12:02:45.571Z"
   },
   {
    "duration": 7,
    "start_time": "2022-02-12T12:02:55.671Z"
   },
   {
    "duration": 10,
    "start_time": "2022-02-12T12:03:04.382Z"
   },
   {
    "duration": 23,
    "start_time": "2022-02-12T12:03:52.574Z"
   },
   {
    "duration": 263,
    "start_time": "2022-02-12T12:06:31.313Z"
   },
   {
    "duration": 262,
    "start_time": "2022-02-12T12:07:09.228Z"
   },
   {
    "duration": 369,
    "start_time": "2022-02-12T12:07:29.251Z"
   },
   {
    "duration": 388,
    "start_time": "2022-02-12T12:08:15.815Z"
   },
   {
    "duration": 11,
    "start_time": "2022-02-12T12:08:53.671Z"
   },
   {
    "duration": 84,
    "start_time": "2022-02-12T12:09:14.002Z"
   },
   {
    "duration": 10,
    "start_time": "2022-02-12T12:09:14.088Z"
   },
   {
    "duration": 81,
    "start_time": "2022-02-12T12:09:14.100Z"
   },
   {
    "duration": 8,
    "start_time": "2022-02-12T12:09:14.183Z"
   },
   {
    "duration": 9,
    "start_time": "2022-02-12T12:09:14.192Z"
   },
   {
    "duration": 44,
    "start_time": "2022-02-12T12:09:14.202Z"
   },
   {
    "duration": 4,
    "start_time": "2022-02-12T12:09:14.248Z"
   },
   {
    "duration": 7,
    "start_time": "2022-02-12T12:09:14.253Z"
   },
   {
    "duration": 14,
    "start_time": "2022-02-12T12:09:14.261Z"
   },
   {
    "duration": 8,
    "start_time": "2022-02-12T12:09:14.277Z"
   },
   {
    "duration": 40,
    "start_time": "2022-02-12T12:09:14.286Z"
   },
   {
    "duration": 3,
    "start_time": "2022-02-12T12:09:14.328Z"
   },
   {
    "duration": 6,
    "start_time": "2022-02-12T12:09:45.489Z"
   },
   {
    "duration": 522,
    "start_time": "2022-02-12T12:16:03.063Z"
   },
   {
    "duration": 12,
    "start_time": "2022-02-12T12:16:28.982Z"
   },
   {
    "duration": 5,
    "start_time": "2022-02-12T12:19:20.074Z"
   },
   {
    "duration": 5,
    "start_time": "2022-02-12T12:19:45.149Z"
   },
   {
    "duration": 10,
    "start_time": "2022-02-12T12:29:27.936Z"
   },
   {
    "duration": 14,
    "start_time": "2022-02-12T12:29:36.956Z"
   },
   {
    "duration": 8,
    "start_time": "2022-02-12T12:31:21.807Z"
   },
   {
    "duration": 16,
    "start_time": "2022-02-12T12:31:55.648Z"
   },
   {
    "duration": 19,
    "start_time": "2022-02-12T12:32:08.519Z"
   },
   {
    "duration": 5,
    "start_time": "2022-02-12T12:38:35.677Z"
   },
   {
    "duration": 257,
    "start_time": "2022-02-12T12:38:50.594Z"
   },
   {
    "duration": 3,
    "start_time": "2022-02-12T12:38:55.190Z"
   },
   {
    "duration": 4,
    "start_time": "2022-02-12T12:38:56.512Z"
   },
   {
    "duration": 7,
    "start_time": "2022-02-12T12:39:05.376Z"
   },
   {
    "duration": 4,
    "start_time": "2022-02-12T12:40:08.468Z"
   },
   {
    "duration": 4,
    "start_time": "2022-02-12T12:40:16.886Z"
   },
   {
    "duration": 4,
    "start_time": "2022-02-12T12:40:50.250Z"
   },
   {
    "duration": 4,
    "start_time": "2022-02-12T12:41:09.149Z"
   },
   {
    "duration": 14,
    "start_time": "2022-02-12T12:46:13.036Z"
   },
   {
    "duration": 17,
    "start_time": "2022-02-12T12:47:22.246Z"
   },
   {
    "duration": 250,
    "start_time": "2022-02-12T12:48:24.016Z"
   },
   {
    "duration": 7,
    "start_time": "2022-02-12T12:48:29.863Z"
   },
   {
    "duration": 86,
    "start_time": "2022-02-12T12:48:38.610Z"
   },
   {
    "duration": 270,
    "start_time": "2022-02-12T12:48:41.514Z"
   },
   {
    "duration": 13,
    "start_time": "2022-02-12T12:48:47.117Z"
   },
   {
    "duration": 37,
    "start_time": "2022-02-12T12:49:00.145Z"
   },
   {
    "duration": 7411,
    "start_time": "2022-02-12T12:49:34.503Z"
   },
   {
    "duration": 378,
    "start_time": "2022-02-12T12:49:58.108Z"
   },
   {
    "duration": 19,
    "start_time": "2022-02-12T12:50:14.372Z"
   },
   {
    "duration": 37,
    "start_time": "2022-02-12T12:50:49.878Z"
   },
   {
    "duration": 1072,
    "start_time": "2022-02-12T13:00:17.576Z"
   },
   {
    "duration": 665,
    "start_time": "2022-02-12T13:00:30.268Z"
   },
   {
    "duration": 560,
    "start_time": "2022-02-12T13:05:58.613Z"
   },
   {
    "duration": 37,
    "start_time": "2022-02-12T13:06:01.767Z"
   },
   {
    "duration": 5,
    "start_time": "2022-02-12T13:09:09.658Z"
   },
   {
    "duration": 19,
    "start_time": "2022-02-12T13:09:32.698Z"
   },
   {
    "duration": 669,
    "start_time": "2022-02-13T08:09:15.144Z"
   },
   {
    "duration": 10,
    "start_time": "2022-02-13T08:09:15.815Z"
   },
   {
    "duration": 70,
    "start_time": "2022-02-13T08:09:15.826Z"
   },
   {
    "duration": 8,
    "start_time": "2022-02-13T08:09:15.897Z"
   },
   {
    "duration": 4,
    "start_time": "2022-02-13T08:09:15.906Z"
   },
   {
    "duration": 24,
    "start_time": "2022-02-13T08:09:15.911Z"
   },
   {
    "duration": 3,
    "start_time": "2022-02-13T08:09:15.936Z"
   },
   {
    "duration": 3,
    "start_time": "2022-02-13T08:09:15.941Z"
   },
   {
    "duration": 7,
    "start_time": "2022-02-13T08:09:15.972Z"
   },
   {
    "duration": 22,
    "start_time": "2022-02-13T08:09:15.980Z"
   },
   {
    "duration": 5,
    "start_time": "2022-02-13T08:09:16.004Z"
   },
   {
    "duration": 17,
    "start_time": "2022-02-13T08:09:16.011Z"
   },
   {
    "duration": 456,
    "start_time": "2022-02-13T08:09:16.029Z"
   },
   {
    "duration": 6,
    "start_time": "2022-02-13T08:09:16.487Z"
   },
   {
    "duration": 89,
    "start_time": "2022-02-13T08:10:13.090Z"
   },
   {
    "duration": 3,
    "start_time": "2022-02-13T08:10:17.754Z"
   },
   {
    "duration": 5,
    "start_time": "2022-02-13T08:10:17.758Z"
   },
   {
    "duration": 5,
    "start_time": "2022-02-13T08:10:17.764Z"
   },
   {
    "duration": 25,
    "start_time": "2022-02-13T08:10:17.770Z"
   },
   {
    "duration": 3,
    "start_time": "2022-02-13T08:10:17.796Z"
   },
   {
    "duration": 14,
    "start_time": "2022-02-13T08:10:17.800Z"
   },
   {
    "duration": 447,
    "start_time": "2022-02-13T08:10:17.816Z"
   },
   {
    "duration": 8,
    "start_time": "2022-02-13T08:10:18.265Z"
   },
   {
    "duration": 10,
    "start_time": "2022-02-13T08:10:34.933Z"
   },
   {
    "duration": 103,
    "start_time": "2022-02-13T08:21:29.441Z"
   },
   {
    "duration": 135,
    "start_time": "2022-02-13T08:22:00.520Z"
   },
   {
    "duration": 153,
    "start_time": "2022-02-13T08:22:21.372Z"
   },
   {
    "duration": 230,
    "start_time": "2022-02-13T08:24:45.082Z"
   },
   {
    "duration": 143,
    "start_time": "2022-02-13T08:26:05.185Z"
   },
   {
    "duration": 81,
    "start_time": "2022-02-13T08:26:44.981Z"
   },
   {
    "duration": 9,
    "start_time": "2022-02-13T08:26:45.063Z"
   },
   {
    "duration": 58,
    "start_time": "2022-02-13T08:26:45.074Z"
   },
   {
    "duration": 7,
    "start_time": "2022-02-13T08:26:45.134Z"
   },
   {
    "duration": 3,
    "start_time": "2022-02-13T08:26:45.142Z"
   },
   {
    "duration": 660,
    "start_time": "2022-02-13T08:26:45.146Z"
   },
   {
    "duration": 3,
    "start_time": "2022-02-13T08:26:45.808Z"
   },
   {
    "duration": 7,
    "start_time": "2022-02-13T08:26:45.812Z"
   },
   {
    "duration": 7,
    "start_time": "2022-02-13T08:26:45.821Z"
   },
   {
    "duration": 20,
    "start_time": "2022-02-13T08:26:45.829Z"
   },
   {
    "duration": 3,
    "start_time": "2022-02-13T08:26:45.850Z"
   },
   {
    "duration": 18,
    "start_time": "2022-02-13T08:26:45.871Z"
   },
   {
    "duration": 444,
    "start_time": "2022-02-13T08:26:45.891Z"
   },
   {
    "duration": 5,
    "start_time": "2022-02-13T08:26:46.336Z"
   },
   {
    "duration": 159,
    "start_time": "2022-02-13T08:26:46.343Z"
   },
   {
    "duration": 5,
    "start_time": "2022-02-13T08:28:38.158Z"
   },
   {
    "duration": 14,
    "start_time": "2022-02-13T08:28:47.362Z"
   },
   {
    "duration": 193,
    "start_time": "2022-02-13T08:29:27.794Z"
   },
   {
    "duration": 434,
    "start_time": "2022-02-13T10:15:58.607Z"
   },
   {
    "duration": 75,
    "start_time": "2022-02-13T10:16:06.682Z"
   },
   {
    "duration": 9,
    "start_time": "2022-02-13T10:16:06.759Z"
   },
   {
    "duration": 63,
    "start_time": "2022-02-13T10:16:06.770Z"
   },
   {
    "duration": 8,
    "start_time": "2022-02-13T10:16:06.835Z"
   },
   {
    "duration": 3,
    "start_time": "2022-02-13T10:16:06.844Z"
   },
   {
    "duration": 684,
    "start_time": "2022-02-13T10:16:06.849Z"
   },
   {
    "duration": 4,
    "start_time": "2022-02-13T10:16:07.535Z"
   },
   {
    "duration": 18,
    "start_time": "2022-02-13T10:16:07.542Z"
   },
   {
    "duration": 24,
    "start_time": "2022-02-13T10:16:07.562Z"
   },
   {
    "duration": 32,
    "start_time": "2022-02-13T10:16:07.588Z"
   },
   {
    "duration": 5,
    "start_time": "2022-02-13T10:16:07.622Z"
   },
   {
    "duration": 31,
    "start_time": "2022-02-13T10:16:07.628Z"
   },
   {
    "duration": 482,
    "start_time": "2022-02-13T10:16:07.661Z"
   },
   {
    "duration": 5,
    "start_time": "2022-02-13T10:16:08.144Z"
   },
   {
    "duration": 355,
    "start_time": "2022-02-13T10:16:08.150Z"
   },
   {
    "duration": 152,
    "start_time": "2022-02-13T10:16:21.625Z"
   },
   {
    "duration": 166,
    "start_time": "2022-02-13T10:17:17.761Z"
   },
   {
    "duration": 171,
    "start_time": "2022-02-13T10:21:11.358Z"
   },
   {
    "duration": 150,
    "start_time": "2022-02-13T10:21:38.335Z"
   },
   {
    "duration": 601,
    "start_time": "2022-02-13T10:22:34.111Z"
   },
   {
    "duration": 842,
    "start_time": "2022-02-13T10:22:46.613Z"
   },
   {
    "duration": 468,
    "start_time": "2022-02-13T10:22:52.000Z"
   },
   {
    "duration": 298,
    "start_time": "2022-02-13T10:23:04.542Z"
   },
   {
    "duration": 294,
    "start_time": "2022-02-13T10:23:19.000Z"
   },
   {
    "duration": 209,
    "start_time": "2022-02-13T10:23:46.406Z"
   },
   {
    "duration": 573,
    "start_time": "2022-02-13T10:23:51.807Z"
   },
   {
    "duration": 352,
    "start_time": "2022-02-13T10:23:55.699Z"
   },
   {
    "duration": 165,
    "start_time": "2022-02-13T10:24:25.419Z"
   },
   {
    "duration": 8,
    "start_time": "2022-02-13T10:25:06.196Z"
   },
   {
    "duration": 21,
    "start_time": "2022-02-13T10:33:52.129Z"
   },
   {
    "duration": 20,
    "start_time": "2022-02-13T10:33:55.932Z"
   },
   {
    "duration": 85,
    "start_time": "2022-02-13T10:34:12.187Z"
   },
   {
    "duration": 9,
    "start_time": "2022-02-13T10:34:12.274Z"
   },
   {
    "duration": 60,
    "start_time": "2022-02-13T10:34:12.285Z"
   },
   {
    "duration": 28,
    "start_time": "2022-02-13T10:34:12.347Z"
   },
   {
    "duration": 19,
    "start_time": "2022-02-13T10:34:12.377Z"
   },
   {
    "duration": 5,
    "start_time": "2022-02-13T10:36:23.509Z"
   },
   {
    "duration": 21,
    "start_time": "2022-02-13T10:43:07.993Z"
   },
   {
    "duration": 76,
    "start_time": "2022-02-13T10:43:12.396Z"
   },
   {
    "duration": 10,
    "start_time": "2022-02-13T10:43:12.474Z"
   },
   {
    "duration": 60,
    "start_time": "2022-02-13T10:43:12.486Z"
   },
   {
    "duration": 24,
    "start_time": "2022-02-13T10:43:12.549Z"
   },
   {
    "duration": 19,
    "start_time": "2022-02-13T10:43:12.575Z"
   },
   {
    "duration": 4,
    "start_time": "2022-02-13T10:43:12.595Z"
   },
   {
    "duration": 756,
    "start_time": "2022-02-13T10:43:12.600Z"
   },
   {
    "duration": 3,
    "start_time": "2022-02-13T10:43:13.359Z"
   },
   {
    "duration": 8,
    "start_time": "2022-02-13T10:43:13.363Z"
   },
   {
    "duration": 8,
    "start_time": "2022-02-13T10:43:13.373Z"
   },
   {
    "duration": 24,
    "start_time": "2022-02-13T10:43:13.383Z"
   },
   {
    "duration": 24,
    "start_time": "2022-02-13T10:43:13.408Z"
   },
   {
    "duration": 3,
    "start_time": "2022-02-13T10:43:13.433Z"
   },
   {
    "duration": 19,
    "start_time": "2022-02-13T10:43:13.438Z"
   },
   {
    "duration": 553,
    "start_time": "2022-02-13T10:43:13.459Z"
   },
   {
    "duration": 5,
    "start_time": "2022-02-13T10:43:14.013Z"
   },
   {
    "duration": 316,
    "start_time": "2022-02-13T10:43:14.019Z"
   },
   {
    "duration": 8,
    "start_time": "2022-02-13T10:43:14.336Z"
   },
   {
    "duration": 181,
    "start_time": "2022-02-13T10:43:14.345Z"
   },
   {
    "duration": 211,
    "start_time": "2022-02-13T10:43:14.528Z"
   },
   {
    "duration": 232,
    "start_time": "2022-02-13T10:43:14.740Z"
   },
   {
    "duration": 4,
    "start_time": "2022-02-13T10:44:02.873Z"
   },
   {
    "duration": 4,
    "start_time": "2022-02-13T10:44:05.008Z"
   },
   {
    "duration": 17,
    "start_time": "2022-02-13T10:44:06.359Z"
   },
   {
    "duration": 74,
    "start_time": "2022-02-13T10:44:10.242Z"
   },
   {
    "duration": 9,
    "start_time": "2022-02-13T10:44:10.318Z"
   },
   {
    "duration": 94,
    "start_time": "2022-02-13T10:44:10.329Z"
   },
   {
    "duration": 7,
    "start_time": "2022-02-13T10:44:10.425Z"
   },
   {
    "duration": 31,
    "start_time": "2022-02-13T10:44:10.433Z"
   },
   {
    "duration": 8,
    "start_time": "2022-02-13T10:44:10.465Z"
   },
   {
    "duration": 803,
    "start_time": "2022-02-13T10:44:10.475Z"
   },
   {
    "duration": 3,
    "start_time": "2022-02-13T10:44:11.280Z"
   },
   {
    "duration": 18,
    "start_time": "2022-02-13T10:44:11.285Z"
   },
   {
    "duration": 20,
    "start_time": "2022-02-13T10:44:11.304Z"
   },
   {
    "duration": 27,
    "start_time": "2022-02-13T10:44:11.325Z"
   },
   {
    "duration": 11,
    "start_time": "2022-02-13T10:45:10.776Z"
   },
   {
    "duration": 19,
    "start_time": "2022-02-13T10:45:12.239Z"
   },
   {
    "duration": 10,
    "start_time": "2022-02-13T10:55:54.168Z"
   },
   {
    "duration": 100,
    "start_time": "2022-02-13T10:58:34.817Z"
   },
   {
    "duration": 10,
    "start_time": "2022-02-13T10:59:00.051Z"
   },
   {
    "duration": 134,
    "start_time": "2022-02-13T11:00:08.440Z"
   },
   {
    "duration": 8,
    "start_time": "2022-02-13T11:00:19.549Z"
   },
   {
    "duration": 25,
    "start_time": "2022-02-13T11:00:47.593Z"
   },
   {
    "duration": 9,
    "start_time": "2022-02-13T11:00:49.659Z"
   },
   {
    "duration": 83,
    "start_time": "2022-02-13T11:00:53.882Z"
   },
   {
    "duration": 10,
    "start_time": "2022-02-13T11:00:53.967Z"
   },
   {
    "duration": 64,
    "start_time": "2022-02-13T11:00:53.979Z"
   },
   {
    "duration": 30,
    "start_time": "2022-02-13T11:00:54.045Z"
   },
   {
    "duration": 23,
    "start_time": "2022-02-13T11:00:54.077Z"
   },
   {
    "duration": 5,
    "start_time": "2022-02-13T11:00:54.101Z"
   },
   {
    "duration": 10,
    "start_time": "2022-02-13T11:00:54.107Z"
   },
   {
    "duration": 62,
    "start_time": "2022-02-13T11:00:54.119Z"
   },
   {
    "duration": 8,
    "start_time": "2022-02-13T11:00:54.184Z"
   },
   {
    "duration": 26,
    "start_time": "2022-02-13T11:01:37.518Z"
   },
   {
    "duration": 43,
    "start_time": "2022-02-13T11:02:55.033Z"
   },
   {
    "duration": 37,
    "start_time": "2022-02-13T11:02:59.328Z"
   },
   {
    "duration": 7,
    "start_time": "2022-02-13T11:03:25.833Z"
   },
   {
    "duration": 7,
    "start_time": "2022-02-13T11:04:23.163Z"
   },
   {
    "duration": 5,
    "start_time": "2022-02-13T11:06:03.671Z"
   },
   {
    "duration": 142,
    "start_time": "2022-02-13T11:12:30.876Z"
   },
   {
    "duration": 495,
    "start_time": "2022-02-13T11:13:07.731Z"
   },
   {
    "duration": 134,
    "start_time": "2022-02-13T11:13:14.622Z"
   },
   {
    "duration": 8,
    "start_time": "2022-02-13T11:14:29.698Z"
   },
   {
    "duration": 119,
    "start_time": "2022-02-13T11:16:09.510Z"
   },
   {
    "duration": 167,
    "start_time": "2022-02-13T11:16:17.582Z"
   },
   {
    "duration": 285,
    "start_time": "2022-02-13T11:17:14.049Z"
   },
   {
    "duration": 282,
    "start_time": "2022-02-13T11:17:55.713Z"
   },
   {
    "duration": 272,
    "start_time": "2022-02-13T11:18:10.379Z"
   },
   {
    "duration": 286,
    "start_time": "2022-02-13T11:21:31.170Z"
   },
   {
    "duration": 120,
    "start_time": "2022-02-13T11:25:15.540Z"
   },
   {
    "duration": 256,
    "start_time": "2022-02-13T11:27:56.956Z"
   },
   {
    "duration": 20,
    "start_time": "2022-02-13T11:29:29.498Z"
   },
   {
    "duration": 121,
    "start_time": "2022-02-13T11:40:26.996Z"
   },
   {
    "duration": 116,
    "start_time": "2022-02-13T11:40:37.909Z"
   },
   {
    "duration": 123,
    "start_time": "2022-02-13T11:41:01.690Z"
   },
   {
    "duration": 130,
    "start_time": "2022-02-13T11:42:28.180Z"
   },
   {
    "duration": 121,
    "start_time": "2022-02-13T11:42:35.155Z"
   },
   {
    "duration": 128,
    "start_time": "2022-02-13T11:43:10.996Z"
   },
   {
    "duration": 142,
    "start_time": "2022-02-13T11:43:31.765Z"
   },
   {
    "duration": 136,
    "start_time": "2022-02-13T11:43:40.001Z"
   },
   {
    "duration": 118,
    "start_time": "2022-02-13T11:51:49.242Z"
   },
   {
    "duration": 172,
    "start_time": "2022-02-13T11:53:12.312Z"
   },
   {
    "duration": 121,
    "start_time": "2022-02-13T11:54:49.557Z"
   },
   {
    "duration": 120,
    "start_time": "2022-02-13T11:55:06.028Z"
   },
   {
    "duration": 190,
    "start_time": "2022-02-13T11:55:12.325Z"
   },
   {
    "duration": 308,
    "start_time": "2022-02-13T11:55:26.750Z"
   },
   {
    "duration": 132,
    "start_time": "2022-02-13T11:55:33.320Z"
   },
   {
    "duration": 174,
    "start_time": "2022-02-13T11:55:39.306Z"
   },
   {
    "duration": 138,
    "start_time": "2022-02-13T11:55:47.992Z"
   },
   {
    "duration": 36,
    "start_time": "2022-02-13T11:58:30.333Z"
   },
   {
    "duration": 32,
    "start_time": "2022-02-13T11:58:53.000Z"
   },
   {
    "duration": 126,
    "start_time": "2022-02-13T12:00:47.895Z"
   },
   {
    "duration": 355,
    "start_time": "2022-02-13T12:01:45.247Z"
   },
   {
    "duration": 404,
    "start_time": "2022-02-13T12:01:51.704Z"
   },
   {
    "duration": 134,
    "start_time": "2022-02-13T12:02:00.349Z"
   },
   {
    "duration": 123,
    "start_time": "2022-02-13T12:09:53.209Z"
   },
   {
    "duration": 141,
    "start_time": "2022-02-13T12:10:06.887Z"
   },
   {
    "duration": 140,
    "start_time": "2022-02-13T12:10:16.292Z"
   },
   {
    "duration": 161,
    "start_time": "2022-02-13T12:10:37.822Z"
   },
   {
    "duration": 131,
    "start_time": "2022-02-13T12:10:53.145Z"
   },
   {
    "duration": 161,
    "start_time": "2022-02-13T12:13:31.861Z"
   },
   {
    "duration": 351,
    "start_time": "2022-02-13T12:14:09.031Z"
   },
   {
    "duration": 181,
    "start_time": "2022-02-13T12:14:14.867Z"
   },
   {
    "duration": 154,
    "start_time": "2022-02-13T12:14:43.667Z"
   },
   {
    "duration": 78,
    "start_time": "2022-02-13T12:16:06.189Z"
   },
   {
    "duration": 9,
    "start_time": "2022-02-13T12:16:06.269Z"
   },
   {
    "duration": 64,
    "start_time": "2022-02-13T12:16:06.280Z"
   },
   {
    "duration": 8,
    "start_time": "2022-02-13T12:16:06.347Z"
   },
   {
    "duration": 20,
    "start_time": "2022-02-13T12:16:06.371Z"
   },
   {
    "duration": 4,
    "start_time": "2022-02-13T12:16:06.393Z"
   },
   {
    "duration": 20,
    "start_time": "2022-02-13T12:16:06.399Z"
   },
   {
    "duration": 38,
    "start_time": "2022-02-13T12:16:06.421Z"
   },
   {
    "duration": 3,
    "start_time": "2022-02-13T12:16:06.460Z"
   },
   {
    "duration": 18,
    "start_time": "2022-02-13T12:16:06.464Z"
   },
   {
    "duration": 4,
    "start_time": "2022-02-13T12:16:06.483Z"
   },
   {
    "duration": 123,
    "start_time": "2022-02-13T12:18:21.638Z"
   },
   {
    "duration": 117,
    "start_time": "2022-02-13T12:18:32.529Z"
   },
   {
    "duration": 139,
    "start_time": "2022-02-13T12:18:42.992Z"
   },
   {
    "duration": 153,
    "start_time": "2022-02-13T12:18:48.152Z"
   },
   {
    "duration": 127,
    "start_time": "2022-02-13T12:19:34.401Z"
   },
   {
    "duration": 505,
    "start_time": "2022-02-13T12:21:34.871Z"
   },
   {
    "duration": 988,
    "start_time": "2022-02-13T12:21:45.936Z"
   },
   {
    "duration": 1185,
    "start_time": "2022-02-13T12:23:19.136Z"
   },
   {
    "duration": 912,
    "start_time": "2022-02-13T12:23:50.230Z"
   },
   {
    "duration": 1113,
    "start_time": "2022-02-13T12:23:55.188Z"
   },
   {
    "duration": 398,
    "start_time": "2022-02-13T12:25:14.853Z"
   },
   {
    "duration": 673,
    "start_time": "2022-02-13T12:25:20.239Z"
   },
   {
    "duration": 728,
    "start_time": "2022-02-13T12:25:41.448Z"
   },
   {
    "duration": 775,
    "start_time": "2022-02-13T12:25:54.588Z"
   },
   {
    "duration": 369,
    "start_time": "2022-02-13T12:26:13.364Z"
   },
   {
    "duration": 364,
    "start_time": "2022-02-13T12:26:32.075Z"
   },
   {
    "duration": 331,
    "start_time": "2022-02-13T12:26:37.698Z"
   },
   {
    "duration": 463,
    "start_time": "2022-02-13T12:27:27.085Z"
   },
   {
    "duration": 489,
    "start_time": "2022-02-13T12:27:36.244Z"
   },
   {
    "duration": 2758,
    "start_time": "2022-02-13T12:27:43.243Z"
   },
   {
    "duration": 363,
    "start_time": "2022-02-13T12:30:23.018Z"
   },
   {
    "duration": 129,
    "start_time": "2022-02-13T12:31:21.041Z"
   },
   {
    "duration": 132,
    "start_time": "2022-02-13T12:31:26.665Z"
   },
   {
    "duration": 126,
    "start_time": "2022-02-13T12:31:45.386Z"
   },
   {
    "duration": 128,
    "start_time": "2022-02-13T12:31:48.333Z"
   },
   {
    "duration": 181,
    "start_time": "2022-02-13T12:32:17.747Z"
   },
   {
    "duration": 163,
    "start_time": "2022-02-13T12:32:40.377Z"
   },
   {
    "duration": 175,
    "start_time": "2022-02-13T12:32:45.461Z"
   },
   {
    "duration": 170,
    "start_time": "2022-02-13T12:32:49.354Z"
   },
   {
    "duration": 154,
    "start_time": "2022-02-13T12:33:12.327Z"
   },
   {
    "duration": 169,
    "start_time": "2022-02-13T12:35:26.969Z"
   },
   {
    "duration": 163,
    "start_time": "2022-02-13T12:36:36.403Z"
   },
   {
    "duration": 9,
    "start_time": "2022-02-13T12:38:18.799Z"
   },
   {
    "duration": 128,
    "start_time": "2022-02-13T12:39:03.867Z"
   },
   {
    "duration": 113,
    "start_time": "2022-02-13T12:39:35.839Z"
   },
   {
    "duration": 113,
    "start_time": "2022-02-13T12:39:45.539Z"
   },
   {
    "duration": 113,
    "start_time": "2022-02-13T12:41:43.842Z"
   },
   {
    "duration": 182,
    "start_time": "2022-02-13T12:45:35.685Z"
   },
   {
    "duration": 178,
    "start_time": "2022-02-13T12:45:46.685Z"
   },
   {
    "duration": 180,
    "start_time": "2022-02-13T12:46:16.341Z"
   },
   {
    "duration": 154,
    "start_time": "2022-02-13T12:46:49.332Z"
   },
   {
    "duration": 117,
    "start_time": "2022-02-13T12:47:53.160Z"
   },
   {
    "duration": 9,
    "start_time": "2022-02-13T12:48:20.970Z"
   },
   {
    "duration": 116,
    "start_time": "2022-02-13T12:48:56.404Z"
   },
   {
    "duration": 117,
    "start_time": "2022-02-13T12:49:00.640Z"
   },
   {
    "duration": 122,
    "start_time": "2022-02-13T12:49:08.468Z"
   },
   {
    "duration": 127,
    "start_time": "2022-02-13T12:49:37.874Z"
   },
   {
    "duration": 119,
    "start_time": "2022-02-13T12:49:40.642Z"
   },
   {
    "duration": 212,
    "start_time": "2022-02-13T12:51:18.134Z"
   },
   {
    "duration": 1328,
    "start_time": "2022-02-13T12:51:36.026Z"
   },
   {
    "duration": 1249,
    "start_time": "2022-02-13T12:51:44.708Z"
   },
   {
    "duration": 258,
    "start_time": "2022-02-13T12:51:55.012Z"
   },
   {
    "duration": 181,
    "start_time": "2022-02-13T12:52:00.052Z"
   },
   {
    "duration": 200,
    "start_time": "2022-02-13T12:52:06.061Z"
   },
   {
    "duration": 204,
    "start_time": "2022-02-13T12:52:12.540Z"
   },
   {
    "duration": 6,
    "start_time": "2022-02-13T12:56:41.866Z"
   },
   {
    "duration": 6,
    "start_time": "2022-02-13T12:56:57.436Z"
   },
   {
    "duration": 375,
    "start_time": "2022-02-13T12:57:18.965Z"
   },
   {
    "duration": 3,
    "start_time": "2022-02-13T12:57:20.790Z"
   },
   {
    "duration": 6,
    "start_time": "2022-02-13T12:57:33.773Z"
   },
   {
    "duration": 8,
    "start_time": "2022-02-13T12:59:56.106Z"
   },
   {
    "duration": 314,
    "start_time": "2022-02-13T13:07:08.067Z"
   },
   {
    "duration": 352,
    "start_time": "2022-02-13T13:07:20.104Z"
   },
   {
    "duration": 340,
    "start_time": "2022-02-13T13:15:05.743Z"
   },
   {
    "duration": 8,
    "start_time": "2022-02-13T13:15:18.456Z"
   },
   {
    "duration": 6,
    "start_time": "2022-02-13T13:15:37.187Z"
   },
   {
    "duration": 6,
    "start_time": "2022-02-13T13:15:54.997Z"
   },
   {
    "duration": 6,
    "start_time": "2022-02-13T13:16:13.356Z"
   },
   {
    "duration": 5,
    "start_time": "2022-02-13T13:16:14.864Z"
   },
   {
    "duration": 7,
    "start_time": "2022-02-13T13:17:14.230Z"
   },
   {
    "duration": 5,
    "start_time": "2022-02-13T13:17:15.344Z"
   },
   {
    "duration": 7,
    "start_time": "2022-02-13T13:17:35.750Z"
   },
   {
    "duration": 6,
    "start_time": "2022-02-13T13:17:37.210Z"
   },
   {
    "duration": 69,
    "start_time": "2022-02-13T13:17:39.592Z"
   },
   {
    "duration": 9,
    "start_time": "2022-02-13T13:17:39.662Z"
   },
   {
    "duration": 60,
    "start_time": "2022-02-13T13:17:39.673Z"
   },
   {
    "duration": 9,
    "start_time": "2022-02-13T13:17:39.735Z"
   },
   {
    "duration": 5,
    "start_time": "2022-02-13T13:17:39.745Z"
   },
   {
    "duration": 7,
    "start_time": "2022-02-13T13:17:39.771Z"
   },
   {
    "duration": 7,
    "start_time": "2022-02-13T13:17:39.779Z"
   },
   {
    "duration": 7,
    "start_time": "2022-02-13T13:17:39.789Z"
   },
   {
    "duration": 27,
    "start_time": "2022-02-13T13:17:39.799Z"
   },
   {
    "duration": 4,
    "start_time": "2022-02-13T13:17:39.827Z"
   },
   {
    "duration": 44,
    "start_time": "2022-02-13T13:17:39.832Z"
   },
   {
    "duration": 4,
    "start_time": "2022-02-13T13:17:39.877Z"
   },
   {
    "duration": 11,
    "start_time": "2022-02-13T13:17:39.883Z"
   },
   {
    "duration": 20,
    "start_time": "2022-02-13T13:17:39.896Z"
   },
   {
    "duration": 4,
    "start_time": "2022-02-13T13:17:39.917Z"
   },
   {
    "duration": 16,
    "start_time": "2022-02-13T13:17:39.923Z"
   },
   {
    "duration": 442,
    "start_time": "2022-02-13T13:17:39.941Z"
   },
   {
    "duration": 6,
    "start_time": "2022-02-13T13:17:40.385Z"
   },
   {
    "duration": 298,
    "start_time": "2022-02-13T13:17:40.393Z"
   },
   {
    "duration": 135,
    "start_time": "2022-02-13T13:17:40.693Z"
   },
   {
    "duration": 7,
    "start_time": "2022-02-13T13:17:40.830Z"
   },
   {
    "duration": 184,
    "start_time": "2022-02-13T13:17:40.838Z"
   },
   {
    "duration": 170,
    "start_time": "2022-02-13T13:17:41.025Z"
   },
   {
    "duration": 138,
    "start_time": "2022-02-13T13:17:41.196Z"
   },
   {
    "duration": 7,
    "start_time": "2022-02-13T13:17:41.336Z"
   },
   {
    "duration": 170,
    "start_time": "2022-02-13T13:17:41.344Z"
   },
   {
    "duration": 173,
    "start_time": "2022-02-13T13:17:41.516Z"
   },
   {
    "duration": 118,
    "start_time": "2022-02-13T13:17:41.691Z"
   },
   {
    "duration": 7,
    "start_time": "2022-02-13T13:17:41.811Z"
   },
   {
    "duration": 198,
    "start_time": "2022-02-13T13:17:41.819Z"
   },
   {
    "duration": 156,
    "start_time": "2022-02-13T13:17:42.018Z"
   },
   {
    "duration": 134,
    "start_time": "2022-02-13T13:17:42.176Z"
   },
   {
    "duration": 8,
    "start_time": "2022-02-13T13:17:42.312Z"
   },
   {
    "duration": 186,
    "start_time": "2022-02-13T13:17:42.321Z"
   },
   {
    "duration": 7,
    "start_time": "2022-02-13T13:19:16.754Z"
   },
   {
    "duration": 7,
    "start_time": "2022-02-13T13:19:18.239Z"
   },
   {
    "duration": 7,
    "start_time": "2022-02-13T13:20:03.397Z"
   },
   {
    "duration": 105,
    "start_time": "2022-02-13T13:22:44.700Z"
   },
   {
    "duration": 32494,
    "start_time": "2022-02-13T13:22:51.315Z"
   },
   {
    "duration": 5,
    "start_time": "2022-02-13T13:28:46.885Z"
   },
   {
    "duration": 8,
    "start_time": "2022-02-13T13:28:48.391Z"
   },
   {
    "duration": 111,
    "start_time": "2022-02-13T13:29:48.332Z"
   },
   {
    "duration": 6,
    "start_time": "2022-02-13T13:30:10.202Z"
   },
   {
    "duration": 7,
    "start_time": "2022-02-13T13:30:12.830Z"
   },
   {
    "duration": 4,
    "start_time": "2022-02-13T13:30:19.367Z"
   },
   {
    "duration": 312,
    "start_time": "2022-02-13T13:30:54.101Z"
   },
   {
    "duration": 5,
    "start_time": "2022-02-13T13:31:03.123Z"
   },
   {
    "duration": 4,
    "start_time": "2022-02-13T13:31:04.495Z"
   },
   {
    "duration": 6,
    "start_time": "2022-02-13T13:31:34.668Z"
   },
   {
    "duration": 5,
    "start_time": "2022-02-13T13:31:35.658Z"
   },
   {
    "duration": 5,
    "start_time": "2022-02-13T13:31:42.115Z"
   },
   {
    "duration": 5,
    "start_time": "2022-02-13T13:31:43.172Z"
   },
   {
    "duration": 6,
    "start_time": "2022-02-13T13:32:01.893Z"
   },
   {
    "duration": 70,
    "start_time": "2022-02-13T13:32:18.551Z"
   },
   {
    "duration": 9,
    "start_time": "2022-02-13T13:32:18.622Z"
   },
   {
    "duration": 75,
    "start_time": "2022-02-13T13:32:18.632Z"
   },
   {
    "duration": 7,
    "start_time": "2022-02-13T13:32:18.709Z"
   },
   {
    "duration": 70,
    "start_time": "2022-02-13T13:32:21.462Z"
   },
   {
    "duration": 9,
    "start_time": "2022-02-13T13:32:21.534Z"
   },
   {
    "duration": 79,
    "start_time": "2022-02-13T13:32:21.544Z"
   },
   {
    "duration": 8,
    "start_time": "2022-02-13T13:32:21.625Z"
   },
   {
    "duration": 12,
    "start_time": "2022-02-13T13:32:21.635Z"
   },
   {
    "duration": 14,
    "start_time": "2022-02-13T13:32:21.648Z"
   },
   {
    "duration": 23,
    "start_time": "2022-02-13T13:32:21.664Z"
   },
   {
    "duration": 13,
    "start_time": "2022-02-13T13:32:21.690Z"
   },
   {
    "duration": 39,
    "start_time": "2022-02-13T13:32:21.705Z"
   },
   {
    "duration": 5,
    "start_time": "2022-02-13T13:32:21.745Z"
   },
   {
    "duration": 15,
    "start_time": "2022-02-13T13:32:21.752Z"
   },
   {
    "duration": 24,
    "start_time": "2022-02-13T13:32:21.769Z"
   },
   {
    "duration": 14,
    "start_time": "2022-02-13T13:32:21.794Z"
   },
   {
    "duration": 35,
    "start_time": "2022-02-13T13:32:21.810Z"
   },
   {
    "duration": 6,
    "start_time": "2022-02-13T13:32:21.847Z"
   },
   {
    "duration": 30,
    "start_time": "2022-02-13T13:32:21.855Z"
   },
   {
    "duration": 434,
    "start_time": "2022-02-13T13:32:21.887Z"
   },
   {
    "duration": 5,
    "start_time": "2022-02-13T13:32:22.322Z"
   },
   {
    "duration": 557,
    "start_time": "2022-02-13T13:32:22.329Z"
   },
   {
    "duration": 140,
    "start_time": "2022-02-13T13:32:22.888Z"
   },
   {
    "duration": 8,
    "start_time": "2022-02-13T13:32:23.029Z"
   },
   {
    "duration": 169,
    "start_time": "2022-02-13T13:32:23.038Z"
   },
   {
    "duration": 167,
    "start_time": "2022-02-13T13:32:23.210Z"
   },
   {
    "duration": 132,
    "start_time": "2022-02-13T13:32:23.378Z"
   },
   {
    "duration": 8,
    "start_time": "2022-02-13T13:32:23.512Z"
   },
   {
    "duration": 176,
    "start_time": "2022-02-13T13:32:23.522Z"
   },
   {
    "duration": 181,
    "start_time": "2022-02-13T13:32:23.699Z"
   },
   {
    "duration": 127,
    "start_time": "2022-02-13T13:32:23.882Z"
   },
   {
    "duration": 7,
    "start_time": "2022-02-13T13:32:24.011Z"
   },
   {
    "duration": 196,
    "start_time": "2022-02-13T13:32:24.019Z"
   },
   {
    "duration": 162,
    "start_time": "2022-02-13T13:32:24.217Z"
   },
   {
    "duration": 125,
    "start_time": "2022-02-13T13:32:24.381Z"
   },
   {
    "duration": 8,
    "start_time": "2022-02-13T13:32:24.507Z"
   },
   {
    "duration": 175,
    "start_time": "2022-02-13T13:32:24.516Z"
   },
   {
    "duration": 7,
    "start_time": "2022-02-13T13:32:41.875Z"
   },
   {
    "duration": 6,
    "start_time": "2022-02-13T13:32:44.238Z"
   },
   {
    "duration": 6,
    "start_time": "2022-02-13T13:32:45.160Z"
   },
   {
    "duration": 6,
    "start_time": "2022-02-13T13:32:59.332Z"
   },
   {
    "duration": 6,
    "start_time": "2022-02-13T13:33:00.820Z"
   },
   {
    "duration": 5,
    "start_time": "2022-02-13T13:33:08.093Z"
   },
   {
    "duration": 6,
    "start_time": "2022-02-13T13:33:09.259Z"
   },
   {
    "duration": 5,
    "start_time": "2022-02-13T13:33:11.932Z"
   },
   {
    "duration": 5,
    "start_time": "2022-02-13T13:33:12.611Z"
   },
   {
    "duration": 6,
    "start_time": "2022-02-13T13:33:14.443Z"
   },
   {
    "duration": 6,
    "start_time": "2022-02-13T13:33:46.428Z"
   },
   {
    "duration": 6,
    "start_time": "2022-02-13T13:33:47.283Z"
   },
   {
    "duration": 72,
    "start_time": "2022-02-13T13:33:51.988Z"
   },
   {
    "duration": 9,
    "start_time": "2022-02-13T13:33:52.062Z"
   },
   {
    "duration": 61,
    "start_time": "2022-02-13T13:33:52.073Z"
   },
   {
    "duration": 7,
    "start_time": "2022-02-13T13:33:52.136Z"
   },
   {
    "duration": 4,
    "start_time": "2022-02-13T13:33:52.144Z"
   },
   {
    "duration": 21,
    "start_time": "2022-02-13T13:33:52.150Z"
   },
   {
    "duration": 6,
    "start_time": "2022-02-13T13:33:52.173Z"
   },
   {
    "duration": 7,
    "start_time": "2022-02-13T13:36:27.728Z"
   },
   {
    "duration": 7,
    "start_time": "2022-02-13T13:36:28.836Z"
   },
   {
    "duration": 49,
    "start_time": "2022-02-13T13:36:50.096Z"
   },
   {
    "duration": 13,
    "start_time": "2022-02-13T13:36:51.199Z"
   },
   {
    "duration": 11,
    "start_time": "2022-02-13T13:38:00.477Z"
   },
   {
    "duration": 8,
    "start_time": "2022-02-13T13:38:05.830Z"
   },
   {
    "duration": 10,
    "start_time": "2022-02-13T13:38:16.562Z"
   },
   {
    "duration": 9,
    "start_time": "2022-02-13T13:38:17.894Z"
   },
   {
    "duration": 7,
    "start_time": "2022-02-13T13:38:18.634Z"
   },
   {
    "duration": 10,
    "start_time": "2022-02-13T13:38:45.952Z"
   },
   {
    "duration": 8,
    "start_time": "2022-02-13T13:38:49.728Z"
   },
   {
    "duration": 10,
    "start_time": "2022-02-13T13:39:36.146Z"
   },
   {
    "duration": 14,
    "start_time": "2022-02-13T13:39:44.089Z"
   },
   {
    "duration": 7,
    "start_time": "2022-02-13T13:39:45.146Z"
   },
   {
    "duration": 74,
    "start_time": "2022-02-13T13:39:54.427Z"
   },
   {
    "duration": 9,
    "start_time": "2022-02-13T13:39:54.503Z"
   },
   {
    "duration": 71,
    "start_time": "2022-02-13T13:39:54.515Z"
   },
   {
    "duration": 9,
    "start_time": "2022-02-13T13:39:54.589Z"
   },
   {
    "duration": 4,
    "start_time": "2022-02-13T13:39:54.599Z"
   },
   {
    "duration": 7,
    "start_time": "2022-02-13T13:39:54.605Z"
   },
   {
    "duration": 9,
    "start_time": "2022-02-13T13:39:54.614Z"
   },
   {
    "duration": 7,
    "start_time": "2022-02-13T13:39:54.626Z"
   },
   {
    "duration": 60,
    "start_time": "2022-02-13T13:39:54.636Z"
   },
   {
    "duration": 4,
    "start_time": "2022-02-13T13:39:54.697Z"
   },
   {
    "duration": 14,
    "start_time": "2022-02-13T13:39:54.703Z"
   },
   {
    "duration": 4,
    "start_time": "2022-02-13T13:39:54.719Z"
   },
   {
    "duration": 20,
    "start_time": "2022-02-13T13:39:54.725Z"
   },
   {
    "duration": 42,
    "start_time": "2022-02-13T13:39:54.747Z"
   },
   {
    "duration": 5,
    "start_time": "2022-02-13T13:39:54.791Z"
   },
   {
    "duration": 17,
    "start_time": "2022-02-13T13:39:54.797Z"
   },
   {
    "duration": 504,
    "start_time": "2022-02-13T13:39:54.816Z"
   },
   {
    "duration": 7,
    "start_time": "2022-02-13T13:39:55.322Z"
   },
   {
    "duration": 460,
    "start_time": "2022-02-13T13:39:55.330Z"
   },
   {
    "duration": 199,
    "start_time": "2022-02-13T13:39:55.792Z"
   },
   {
    "duration": 9,
    "start_time": "2022-02-13T13:39:55.993Z"
   },
   {
    "duration": 197,
    "start_time": "2022-02-13T13:39:56.004Z"
   },
   {
    "duration": 210,
    "start_time": "2022-02-13T13:39:56.205Z"
   },
   {
    "duration": 272,
    "start_time": "2022-02-13T13:39:56.417Z"
   },
   {
    "duration": 8,
    "start_time": "2022-02-13T13:39:56.691Z"
   },
   {
    "duration": 359,
    "start_time": "2022-02-13T13:39:56.701Z"
   },
   {
    "duration": 216,
    "start_time": "2022-02-13T13:39:57.062Z"
   },
   {
    "duration": 178,
    "start_time": "2022-02-13T13:39:57.280Z"
   },
   {
    "duration": 16,
    "start_time": "2022-02-13T13:39:57.459Z"
   },
   {
    "duration": 246,
    "start_time": "2022-02-13T13:39:57.477Z"
   },
   {
    "duration": 167,
    "start_time": "2022-02-13T13:39:57.725Z"
   },
   {
    "duration": 145,
    "start_time": "2022-02-13T13:39:57.894Z"
   },
   {
    "duration": 9,
    "start_time": "2022-02-13T13:39:58.041Z"
   },
   {
    "duration": 202,
    "start_time": "2022-02-13T13:39:58.052Z"
   },
   {
    "duration": 5,
    "start_time": "2022-02-13T13:41:45.235Z"
   },
   {
    "duration": 122,
    "start_time": "2022-02-13T13:44:05.270Z"
   },
   {
    "duration": 100,
    "start_time": "2022-02-13T13:47:43.723Z"
   },
   {
    "duration": 258,
    "start_time": "2022-02-13T13:49:56.477Z"
   },
   {
    "duration": 685,
    "start_time": "2022-02-14T13:50:54.048Z"
   },
   {
    "duration": 12,
    "start_time": "2022-02-14T13:50:54.734Z"
   },
   {
    "duration": 82,
    "start_time": "2022-02-14T13:50:54.748Z"
   },
   {
    "duration": 8,
    "start_time": "2022-02-14T13:50:54.833Z"
   },
   {
    "duration": 4,
    "start_time": "2022-02-14T13:50:54.843Z"
   },
   {
    "duration": 9,
    "start_time": "2022-02-14T13:50:54.849Z"
   },
   {
    "duration": 26,
    "start_time": "2022-02-14T13:50:54.860Z"
   },
   {
    "duration": 3,
    "start_time": "2022-02-14T13:50:54.888Z"
   },
   {
    "duration": 36,
    "start_time": "2022-02-14T13:50:54.894Z"
   },
   {
    "duration": 3,
    "start_time": "2022-02-14T13:50:54.933Z"
   },
   {
    "duration": 16,
    "start_time": "2022-02-14T13:50:54.938Z"
   },
   {
    "duration": 23,
    "start_time": "2022-02-14T13:50:54.955Z"
   },
   {
    "duration": 5,
    "start_time": "2022-02-14T13:50:54.980Z"
   },
   {
    "duration": 43,
    "start_time": "2022-02-14T13:50:54.987Z"
   },
   {
    "duration": 472,
    "start_time": "2022-02-14T13:50:55.032Z"
   },
   {
    "duration": 6,
    "start_time": "2022-02-14T13:50:55.506Z"
   },
   {
    "duration": 423,
    "start_time": "2022-02-14T13:50:55.513Z"
   },
   {
    "duration": 294,
    "start_time": "2022-02-14T13:50:55.937Z"
   },
   {
    "duration": 9,
    "start_time": "2022-02-14T13:50:56.233Z"
   },
   {
    "duration": 183,
    "start_time": "2022-02-14T13:50:56.244Z"
   },
   {
    "duration": 172,
    "start_time": "2022-02-14T13:50:56.430Z"
   },
   {
    "duration": 141,
    "start_time": "2022-02-14T13:50:56.603Z"
   },
   {
    "duration": 8,
    "start_time": "2022-02-14T13:50:56.745Z"
   },
   {
    "duration": 179,
    "start_time": "2022-02-14T13:50:56.754Z"
   },
   {
    "duration": 178,
    "start_time": "2022-02-14T13:50:56.935Z"
   },
   {
    "duration": 126,
    "start_time": "2022-02-14T13:50:57.115Z"
   },
   {
    "duration": 8,
    "start_time": "2022-02-14T13:50:57.244Z"
   },
   {
    "duration": 230,
    "start_time": "2022-02-14T13:50:57.253Z"
   },
   {
    "duration": 166,
    "start_time": "2022-02-14T13:50:57.484Z"
   },
   {
    "duration": 147,
    "start_time": "2022-02-14T13:50:57.651Z"
   },
   {
    "duration": 7,
    "start_time": "2022-02-14T13:50:57.800Z"
   },
   {
    "duration": 257,
    "start_time": "2022-02-14T13:50:57.808Z"
   },
   {
    "duration": 11,
    "start_time": "2022-02-14T13:56:14.627Z"
   },
   {
    "duration": 338,
    "start_time": "2022-02-14T13:56:28.869Z"
   },
   {
    "duration": 146,
    "start_time": "2022-02-14T13:57:55.722Z"
   },
   {
    "duration": 189,
    "start_time": "2022-02-14T13:58:48.487Z"
   },
   {
    "duration": 9,
    "start_time": "2022-02-14T14:00:39.567Z"
   },
   {
    "duration": 137,
    "start_time": "2022-02-14T14:02:53.714Z"
   },
   {
    "duration": 137,
    "start_time": "2022-02-14T14:03:04.428Z"
   },
   {
    "duration": 125,
    "start_time": "2022-02-14T14:03:27.756Z"
   },
   {
    "duration": 125,
    "start_time": "2022-02-14T14:03:34.076Z"
   },
   {
    "duration": 117,
    "start_time": "2022-02-14T14:03:41.750Z"
   },
   {
    "duration": 119,
    "start_time": "2022-02-14T14:04:43.061Z"
   },
   {
    "duration": 173,
    "start_time": "2022-02-14T14:05:04.571Z"
   },
   {
    "duration": 225,
    "start_time": "2022-02-14T14:05:23.230Z"
   },
   {
    "duration": 158,
    "start_time": "2022-02-14T14:05:30.386Z"
   },
   {
    "duration": 183,
    "start_time": "2022-02-14T14:05:35.170Z"
   },
   {
    "duration": 196,
    "start_time": "2022-02-14T14:05:46.691Z"
   },
   {
    "duration": 174,
    "start_time": "2022-02-14T14:07:01.590Z"
   },
   {
    "duration": 172,
    "start_time": "2022-02-14T14:07:10.425Z"
   },
   {
    "duration": 40,
    "start_time": "2022-02-14T14:11:54.551Z"
   },
   {
    "duration": 122,
    "start_time": "2022-02-14T14:14:39.522Z"
   },
   {
    "duration": 212,
    "start_time": "2022-02-14T14:16:19.931Z"
   },
   {
    "duration": 132,
    "start_time": "2022-02-14T14:16:39.395Z"
   },
   {
    "duration": 141,
    "start_time": "2022-02-14T14:16:44.251Z"
   },
   {
    "duration": 189,
    "start_time": "2022-02-14T14:17:07.410Z"
   },
   {
    "duration": 308,
    "start_time": "2022-02-14T14:17:12.447Z"
   },
   {
    "duration": 205,
    "start_time": "2022-02-14T14:17:21.535Z"
   },
   {
    "duration": 12,
    "start_time": "2022-02-14T14:20:50.470Z"
   },
   {
    "duration": 6,
    "start_time": "2022-02-14T14:21:36.781Z"
   },
   {
    "duration": 32,
    "start_time": "2022-02-14T14:22:40.230Z"
   },
   {
    "duration": 32,
    "start_time": "2022-02-14T14:24:06.896Z"
   },
   {
    "duration": 3,
    "start_time": "2022-02-14T14:26:22.103Z"
   },
   {
    "duration": 65,
    "start_time": "2022-02-14T14:27:06.227Z"
   },
   {
    "duration": 7,
    "start_time": "2022-02-14T14:27:16.054Z"
   },
   {
    "duration": 7,
    "start_time": "2022-02-14T14:27:47.625Z"
   },
   {
    "duration": 233,
    "start_time": "2022-02-14T14:28:24.499Z"
   },
   {
    "duration": 220,
    "start_time": "2022-02-14T14:30:43.102Z"
   },
   {
    "duration": 7,
    "start_time": "2022-02-14T14:31:07.469Z"
   },
   {
    "duration": 6,
    "start_time": "2022-02-14T14:31:08.616Z"
   },
   {
    "duration": 6,
    "start_time": "2022-02-14T14:31:26.639Z"
   },
   {
    "duration": 7,
    "start_time": "2022-02-14T14:31:28.105Z"
   },
   {
    "duration": 7,
    "start_time": "2022-02-14T14:31:29.767Z"
   },
   {
    "duration": 185,
    "start_time": "2022-02-14T14:35:19.696Z"
   },
   {
    "duration": 164,
    "start_time": "2022-02-14T14:35:22.823Z"
   },
   {
    "duration": 167,
    "start_time": "2022-02-14T14:35:31.069Z"
   },
   {
    "duration": 163,
    "start_time": "2022-02-14T14:35:45.820Z"
   },
   {
    "duration": 159,
    "start_time": "2022-02-14T14:36:33.047Z"
   },
   {
    "duration": 200,
    "start_time": "2022-02-14T14:36:38.332Z"
   },
   {
    "duration": 60,
    "start_time": "2022-02-14T14:46:37.061Z"
   },
   {
    "duration": 76,
    "start_time": "2022-02-14T14:47:02.804Z"
   },
   {
    "duration": 19,
    "start_time": "2022-02-14T14:48:43.803Z"
   },
   {
    "duration": 42,
    "start_time": "2022-02-14T14:49:03.221Z"
   },
   {
    "duration": 3,
    "start_time": "2022-02-14T14:50:04.219Z"
   },
   {
    "duration": 13,
    "start_time": "2022-02-14T14:50:16.195Z"
   },
   {
    "duration": 57,
    "start_time": "2022-02-14T14:52:12.650Z"
   },
   {
    "duration": 91,
    "start_time": "2022-02-14T14:52:23.224Z"
   },
   {
    "duration": 65,
    "start_time": "2022-02-14T14:53:57.166Z"
   },
   {
    "duration": 57,
    "start_time": "2022-02-14T14:54:15.656Z"
   },
   {
    "duration": 57,
    "start_time": "2022-02-14T14:54:34.876Z"
   },
   {
    "duration": 57,
    "start_time": "2022-02-14T14:55:10.715Z"
   },
   {
    "duration": 61,
    "start_time": "2022-02-14T14:55:39.448Z"
   },
   {
    "duration": 12,
    "start_time": "2022-02-14T14:56:38.037Z"
   },
   {
    "duration": 3,
    "start_time": "2022-02-14T14:56:39.659Z"
   },
   {
    "duration": 137,
    "start_time": "2022-02-14T14:59:47.288Z"
   },
   {
    "duration": 246,
    "start_time": "2022-02-14T15:00:14.647Z"
   },
   {
    "duration": 221,
    "start_time": "2022-02-14T15:00:17.842Z"
   },
   {
    "duration": 187,
    "start_time": "2022-02-14T15:00:22.589Z"
   },
   {
    "duration": 61,
    "start_time": "2022-02-14T15:00:57.353Z"
   },
   {
    "duration": 141,
    "start_time": "2022-02-14T15:02:31.270Z"
   },
   {
    "duration": 145,
    "start_time": "2022-02-14T15:02:39.266Z"
   },
   {
    "duration": 432,
    "start_time": "2022-02-14T15:03:19.351Z"
   },
   {
    "duration": 182,
    "start_time": "2022-02-14T15:04:18.370Z"
   },
   {
    "duration": 195,
    "start_time": "2022-02-14T15:04:48.566Z"
   },
   {
    "duration": 136,
    "start_time": "2022-02-14T15:04:56.484Z"
   },
   {
    "duration": 141,
    "start_time": "2022-02-14T15:04:59.342Z"
   },
   {
    "duration": 181,
    "start_time": "2022-02-14T15:05:17.501Z"
   },
   {
    "duration": 60,
    "start_time": "2022-02-14T15:07:39.747Z"
   },
   {
    "duration": 273,
    "start_time": "2022-02-14T15:08:28.459Z"
   },
   {
    "duration": 128,
    "start_time": "2022-02-14T15:09:13.820Z"
   },
   {
    "duration": 54,
    "start_time": "2022-02-14T15:09:41.721Z"
   },
   {
    "duration": 3,
    "start_time": "2022-02-14T15:18:26.275Z"
   },
   {
    "duration": 13,
    "start_time": "2022-02-14T15:18:27.660Z"
   },
   {
    "duration": 4,
    "start_time": "2022-02-14T15:18:28.563Z"
   },
   {
    "duration": 14,
    "start_time": "2022-02-14T15:31:46.369Z"
   },
   {
    "duration": 3238,
    "start_time": "2022-02-14T15:32:34.588Z"
   },
   {
    "duration": 3289,
    "start_time": "2022-02-14T15:32:44.060Z"
   },
   {
    "duration": 4015,
    "start_time": "2022-02-14T15:32:56.255Z"
   },
   {
    "duration": 278,
    "start_time": "2022-02-14T15:33:58.960Z"
   },
   {
    "duration": 1378,
    "start_time": "2022-02-14T15:34:05.758Z"
   },
   {
    "duration": 1120,
    "start_time": "2022-02-14T15:34:13.205Z"
   },
   {
    "duration": 175,
    "start_time": "2022-02-14T15:36:27.081Z"
   },
   {
    "duration": 372,
    "start_time": "2022-02-14T15:36:36.753Z"
   },
   {
    "duration": 396,
    "start_time": "2022-02-14T15:36:41.572Z"
   },
   {
    "duration": 536,
    "start_time": "2022-02-14T15:36:53.496Z"
   },
   {
    "duration": 60853,
    "start_time": "2022-02-14T15:37:21.464Z"
   },
   {
    "duration": 438,
    "start_time": "2022-02-14T15:39:03.795Z"
   },
   {
    "duration": 428,
    "start_time": "2022-02-14T15:40:43.308Z"
   },
   {
    "duration": 342,
    "start_time": "2022-02-14T15:41:25.477Z"
   },
   {
    "duration": 426,
    "start_time": "2022-02-14T15:41:32.926Z"
   },
   {
    "duration": 424,
    "start_time": "2022-02-14T15:41:43.073Z"
   },
   {
    "duration": 420,
    "start_time": "2022-02-14T15:41:54.369Z"
   },
   {
    "duration": 387,
    "start_time": "2022-02-14T15:42:53.362Z"
   },
   {
    "duration": 538,
    "start_time": "2022-02-14T15:46:21.173Z"
   },
   {
    "duration": 560,
    "start_time": "2022-02-14T15:46:35.682Z"
   },
   {
    "duration": 421,
    "start_time": "2022-02-14T15:48:28.613Z"
   },
   {
    "duration": 384,
    "start_time": "2022-02-14T15:49:16.647Z"
   },
   {
    "duration": 163,
    "start_time": "2022-02-14T15:51:04.385Z"
   },
   {
    "duration": 622,
    "start_time": "2022-02-14T15:51:45.399Z"
   },
   {
    "duration": 187,
    "start_time": "2022-02-14T15:51:57.822Z"
   },
   {
    "duration": 242,
    "start_time": "2022-02-14T15:52:07.201Z"
   },
   {
    "duration": 522,
    "start_time": "2022-02-14T15:56:11.149Z"
   },
   {
    "duration": 182,
    "start_time": "2022-02-14T15:57:09.783Z"
   },
   {
    "duration": 189,
    "start_time": "2022-02-14T15:57:33.902Z"
   },
   {
    "duration": 395,
    "start_time": "2022-02-14T15:57:45.443Z"
   },
   {
    "duration": 194,
    "start_time": "2022-02-14T15:58:09.162Z"
   },
   {
    "duration": 181,
    "start_time": "2022-02-14T15:58:26.575Z"
   },
   {
    "duration": 53,
    "start_time": "2022-02-14T16:01:23.071Z"
   },
   {
    "duration": 61,
    "start_time": "2022-02-14T16:01:42.079Z"
   },
   {
    "duration": 5334,
    "start_time": "2022-02-14T16:01:45.202Z"
   },
   {
    "duration": 4826,
    "start_time": "2022-02-14T16:02:12.433Z"
   },
   {
    "duration": 13,
    "start_time": "2022-02-14T16:02:41.713Z"
   },
   {
    "duration": 4957,
    "start_time": "2022-02-14T16:03:17.379Z"
   },
   {
    "duration": 284,
    "start_time": "2022-02-14T16:04:16.072Z"
   },
   {
    "duration": 4329,
    "start_time": "2022-02-14T16:04:39.223Z"
   },
   {
    "duration": 211,
    "start_time": "2022-02-14T16:04:51.530Z"
   },
   {
    "duration": 162,
    "start_time": "2022-02-14T16:05:51.377Z"
   },
   {
    "duration": 62,
    "start_time": "2022-02-14T16:06:47.323Z"
   },
   {
    "duration": 420,
    "start_time": "2022-02-14T16:07:59.495Z"
   },
   {
    "duration": 5114,
    "start_time": "2022-02-14T16:09:16.713Z"
   },
   {
    "duration": 4301,
    "start_time": "2022-02-14T16:09:52.112Z"
   },
   {
    "duration": 217,
    "start_time": "2022-02-14T16:10:07.883Z"
   },
   {
    "duration": 4607,
    "start_time": "2022-02-14T16:11:02.849Z"
   },
   {
    "duration": 4419,
    "start_time": "2022-02-14T16:12:14.087Z"
   },
   {
    "duration": 5167,
    "start_time": "2022-02-14T16:13:05.414Z"
   },
   {
    "duration": 524,
    "start_time": "2022-02-14T16:13:19.830Z"
   },
   {
    "duration": 418,
    "start_time": "2022-02-14T16:13:27.930Z"
   },
   {
    "duration": 5073,
    "start_time": "2022-02-14T16:18:50.942Z"
   },
   {
    "duration": 9,
    "start_time": "2022-02-14T16:19:02.979Z"
   },
   {
    "duration": 12,
    "start_time": "2022-02-14T16:19:17.102Z"
   },
   {
    "duration": 179,
    "start_time": "2022-02-14T16:21:21.091Z"
   },
   {
    "duration": 4339,
    "start_time": "2022-02-14T16:21:47.500Z"
   },
   {
    "duration": 104,
    "start_time": "2022-02-14T16:21:58.728Z"
   },
   {
    "duration": 93,
    "start_time": "2022-02-14T16:22:42.291Z"
   },
   {
    "duration": 91,
    "start_time": "2022-02-14T16:22:49.716Z"
   },
   {
    "duration": 97,
    "start_time": "2022-02-14T16:23:21.011Z"
   },
   {
    "duration": 95,
    "start_time": "2022-02-14T16:24:11.165Z"
   },
   {
    "duration": 67,
    "start_time": "2022-02-14T16:24:17.221Z"
   },
   {
    "duration": 112,
    "start_time": "2022-02-14T16:24:23.203Z"
   },
   {
    "duration": 203,
    "start_time": "2022-02-14T16:24:52.518Z"
   },
   {
    "duration": 4610,
    "start_time": "2022-02-14T16:25:12.906Z"
   },
   {
    "duration": 59,
    "start_time": "2022-02-14T16:25:44.203Z"
   },
   {
    "duration": 324,
    "start_time": "2022-02-14T16:25:46.519Z"
   },
   {
    "duration": 947,
    "start_time": "2022-02-14T16:25:55.452Z"
   },
   {
    "duration": 146,
    "start_time": "2022-02-14T16:25:57.836Z"
   },
   {
    "duration": 373,
    "start_time": "2022-02-14T16:30:16.829Z"
   },
   {
    "duration": 147,
    "start_time": "2022-02-14T16:30:31.641Z"
   },
   {
    "duration": 144,
    "start_time": "2022-02-14T16:31:07.348Z"
   },
   {
    "duration": 146,
    "start_time": "2022-02-14T16:31:26.857Z"
   },
   {
    "duration": 151,
    "start_time": "2022-02-14T16:31:54.377Z"
   },
   {
    "duration": 419,
    "start_time": "2022-02-14T16:32:38.001Z"
   },
   {
    "duration": 357,
    "start_time": "2022-02-14T16:33:20.355Z"
   },
   {
    "duration": 356,
    "start_time": "2022-02-14T16:33:26.107Z"
   },
   {
    "duration": 138,
    "start_time": "2022-02-14T16:33:36.075Z"
   },
   {
    "duration": 694,
    "start_time": "2022-02-15T13:52:17.648Z"
   },
   {
    "duration": 10,
    "start_time": "2022-02-15T13:52:18.344Z"
   },
   {
    "duration": 77,
    "start_time": "2022-02-15T13:52:18.356Z"
   },
   {
    "duration": 9,
    "start_time": "2022-02-15T13:52:18.435Z"
   },
   {
    "duration": 5,
    "start_time": "2022-02-15T13:52:18.446Z"
   },
   {
    "duration": 10,
    "start_time": "2022-02-15T13:52:18.452Z"
   },
   {
    "duration": 28,
    "start_time": "2022-02-15T13:52:18.463Z"
   },
   {
    "duration": 36,
    "start_time": "2022-02-15T13:52:18.494Z"
   },
   {
    "duration": 11,
    "start_time": "2022-02-15T13:52:18.532Z"
   },
   {
    "duration": 3,
    "start_time": "2022-02-15T13:52:18.545Z"
   },
   {
    "duration": 14,
    "start_time": "2022-02-15T13:52:18.550Z"
   },
   {
    "duration": 22,
    "start_time": "2022-02-15T13:52:18.566Z"
   },
   {
    "duration": 41,
    "start_time": "2022-02-15T13:52:18.590Z"
   },
   {
    "duration": 13,
    "start_time": "2022-02-15T13:52:18.633Z"
   },
   {
    "duration": 483,
    "start_time": "2022-02-15T13:52:18.647Z"
   },
   {
    "duration": 8,
    "start_time": "2022-02-15T13:52:19.132Z"
   },
   {
    "duration": 766,
    "start_time": "2022-02-15T13:52:19.142Z"
   },
   {
    "duration": 145,
    "start_time": "2022-02-15T13:52:19.910Z"
   },
   {
    "duration": 9,
    "start_time": "2022-02-15T13:52:20.057Z"
   },
   {
    "duration": 186,
    "start_time": "2022-02-15T13:52:20.068Z"
   },
   {
    "duration": 176,
    "start_time": "2022-02-15T13:52:20.256Z"
   },
   {
    "duration": 137,
    "start_time": "2022-02-15T13:52:20.435Z"
   },
   {
    "duration": 8,
    "start_time": "2022-02-15T13:52:20.577Z"
   },
   {
    "duration": 183,
    "start_time": "2022-02-15T13:52:20.587Z"
   },
   {
    "duration": 183,
    "start_time": "2022-02-15T13:52:20.772Z"
   },
   {
    "duration": 144,
    "start_time": "2022-02-15T13:52:20.956Z"
   },
   {
    "duration": 7,
    "start_time": "2022-02-15T13:52:21.102Z"
   },
   {
    "duration": 181,
    "start_time": "2022-02-15T13:52:21.111Z"
   },
   {
    "duration": 192,
    "start_time": "2022-02-15T13:52:21.293Z"
   },
   {
    "duration": 137,
    "start_time": "2022-02-15T13:52:21.487Z"
   },
   {
    "duration": 8,
    "start_time": "2022-02-15T13:52:21.629Z"
   },
   {
    "duration": 246,
    "start_time": "2022-02-15T13:52:21.638Z"
   },
   {
    "duration": 212,
    "start_time": "2022-02-15T13:52:21.885Z"
   },
   {
    "duration": 133,
    "start_time": "2022-02-15T13:52:22.099Z"
   },
   {
    "duration": 8,
    "start_time": "2022-02-15T13:52:22.233Z"
   },
   {
    "duration": 231,
    "start_time": "2022-02-15T13:52:22.242Z"
   },
   {
    "duration": 13,
    "start_time": "2022-02-15T13:52:22.474Z"
   },
   {
    "duration": 5,
    "start_time": "2022-02-15T13:52:22.488Z"
   },
   {
    "duration": 442,
    "start_time": "2022-02-15T13:52:22.494Z"
   },
   {
    "duration": 166,
    "start_time": "2022-02-15T13:52:22.938Z"
   },
   {
    "duration": 428,
    "start_time": "2022-02-15T13:52:23.106Z"
   },
   {
    "duration": 150,
    "start_time": "2022-02-15T13:52:23.535Z"
   },
   {
    "duration": 158,
    "start_time": "2022-02-15T13:53:52.186Z"
   },
   {
    "duration": 1236,
    "start_time": "2022-02-15T13:57:24.650Z"
   },
   {
    "duration": 58,
    "start_time": "2022-02-15T14:01:24.845Z"
   },
   {
    "duration": 54,
    "start_time": "2022-02-15T14:01:48.125Z"
   },
   {
    "duration": 214,
    "start_time": "2022-02-15T14:01:58.586Z"
   },
   {
    "duration": 180,
    "start_time": "2022-02-15T14:02:10.443Z"
   },
   {
    "duration": 167,
    "start_time": "2022-02-15T14:02:36.545Z"
   },
   {
    "duration": 327,
    "start_time": "2022-02-15T14:02:52.565Z"
   },
   {
    "duration": 224,
    "start_time": "2022-02-15T14:03:26.138Z"
   },
   {
    "duration": 319,
    "start_time": "2022-02-15T14:04:04.859Z"
   },
   {
    "duration": 371,
    "start_time": "2022-02-15T14:04:13.253Z"
   },
   {
    "duration": 2029,
    "start_time": "2022-02-15T14:04:39.492Z"
   },
   {
    "duration": 169,
    "start_time": "2022-02-15T14:05:35.737Z"
   },
   {
    "duration": 174,
    "start_time": "2022-02-15T14:07:22.052Z"
   },
   {
    "duration": 179,
    "start_time": "2022-02-15T14:07:34.042Z"
   },
   {
    "duration": 174,
    "start_time": "2022-02-15T14:07:59.444Z"
   },
   {
    "duration": 190,
    "start_time": "2022-02-15T14:08:01.301Z"
   },
   {
    "duration": 171,
    "start_time": "2022-02-15T14:08:23.183Z"
   },
   {
    "duration": 179,
    "start_time": "2022-02-15T14:08:24.802Z"
   },
   {
    "duration": 189,
    "start_time": "2022-02-15T14:08:27.071Z"
   },
   {
    "duration": 10,
    "start_time": "2022-02-15T14:09:20.289Z"
   },
   {
    "duration": 6,
    "start_time": "2022-02-15T14:11:22.873Z"
   },
   {
    "duration": 75,
    "start_time": "2022-02-15T14:13:44.484Z"
   },
   {
    "duration": 3,
    "start_time": "2022-02-15T14:13:59.926Z"
   },
   {
    "duration": 67,
    "start_time": "2022-02-15T14:14:14.994Z"
   },
   {
    "duration": 57,
    "start_time": "2022-02-15T14:14:24.714Z"
   },
   {
    "duration": 79,
    "start_time": "2022-02-15T14:14:31.398Z"
   },
   {
    "duration": 65,
    "start_time": "2022-02-15T14:18:36.714Z"
   },
   {
    "duration": 54,
    "start_time": "2022-02-15T14:19:18.543Z"
   },
   {
    "duration": 54,
    "start_time": "2022-02-15T14:19:44.576Z"
   },
   {
    "duration": 63,
    "start_time": "2022-02-15T14:19:51.932Z"
   },
   {
    "duration": 58,
    "start_time": "2022-02-15T14:19:58.817Z"
   },
   {
    "duration": 56,
    "start_time": "2022-02-15T14:20:01.757Z"
   },
   {
    "duration": 3,
    "start_time": "2022-02-15T14:20:09.459Z"
   },
   {
    "duration": 5,
    "start_time": "2022-02-15T14:20:22.627Z"
   },
   {
    "duration": 4163,
    "start_time": "2022-02-15T14:21:17.749Z"
   },
   {
    "duration": 4091,
    "start_time": "2022-02-15T14:22:05.290Z"
   },
   {
    "duration": 172,
    "start_time": "2022-02-15T14:22:29.681Z"
   },
   {
    "duration": 5,
    "start_time": "2022-02-15T14:22:58.616Z"
   },
   {
    "duration": 170,
    "start_time": "2022-02-15T14:23:23.793Z"
   },
   {
    "duration": 174,
    "start_time": "2022-02-15T14:24:33.363Z"
   },
   {
    "duration": 187,
    "start_time": "2022-02-15T14:24:46.140Z"
   },
   {
    "duration": 411,
    "start_time": "2022-02-15T14:26:53.899Z"
   },
   {
    "duration": 4,
    "start_time": "2022-02-15T14:27:31.701Z"
   },
   {
    "duration": 376,
    "start_time": "2022-02-15T14:31:12.154Z"
   },
   {
    "duration": 5,
    "start_time": "2022-02-15T14:31:49.910Z"
   },
   {
    "duration": 7,
    "start_time": "2022-02-15T14:32:01.946Z"
   },
   {
    "duration": 5,
    "start_time": "2022-02-15T14:32:08.990Z"
   },
   {
    "duration": 6,
    "start_time": "2022-02-15T14:36:11.092Z"
   },
   {
    "duration": 23,
    "start_time": "2022-02-15T14:43:19.292Z"
   },
   {
    "duration": 21,
    "start_time": "2022-02-15T14:44:11.009Z"
   },
   {
    "duration": 732,
    "start_time": "2022-02-15T14:44:20.219Z"
   },
   {
    "duration": 25,
    "start_time": "2022-02-15T14:44:26.364Z"
   },
   {
    "duration": 21,
    "start_time": "2022-02-15T14:46:04.169Z"
   },
   {
    "duration": 8,
    "start_time": "2022-02-15T14:48:13.682Z"
   },
   {
    "duration": 24,
    "start_time": "2022-02-15T14:49:00.326Z"
   },
   {
    "duration": 23,
    "start_time": "2022-02-15T14:49:07.320Z"
   },
   {
    "duration": 22,
    "start_time": "2022-02-15T14:49:28.137Z"
   },
   {
    "duration": 23,
    "start_time": "2022-02-15T14:49:37.025Z"
   },
   {
    "duration": 4,
    "start_time": "2022-02-15T14:56:10.976Z"
   },
   {
    "duration": 12,
    "start_time": "2022-02-15T14:58:46.675Z"
   },
   {
    "duration": 171,
    "start_time": "2022-02-15T14:59:10.325Z"
   },
   {
    "duration": 6,
    "start_time": "2022-02-15T14:59:51.501Z"
   },
   {
    "duration": 4289,
    "start_time": "2022-02-15T15:00:31.375Z"
   },
   {
    "duration": 1701,
    "start_time": "2022-02-15T15:00:33.965Z"
   },
   {
    "duration": 5,
    "start_time": "2022-02-15T15:00:52.385Z"
   },
   {
    "duration": 12,
    "start_time": "2022-02-15T15:00:54.653Z"
   },
   {
    "duration": 4288,
    "start_time": "2022-02-15T15:02:10.733Z"
   },
   {
    "duration": 10547,
    "start_time": "2022-02-15T15:03:30.448Z"
   },
   {
    "duration": 8,
    "start_time": "2022-02-15T15:07:53.271Z"
   },
   {
    "duration": 187,
    "start_time": "2022-02-15T15:08:07.063Z"
   },
   {
    "duration": 8,
    "start_time": "2022-02-15T15:11:05.197Z"
   },
   {
    "duration": 8,
    "start_time": "2022-02-15T15:11:29.136Z"
   },
   {
    "duration": 206,
    "start_time": "2022-02-15T15:11:33.435Z"
   },
   {
    "duration": 204,
    "start_time": "2022-02-15T15:12:20.911Z"
   },
   {
    "duration": 174,
    "start_time": "2022-02-15T15:12:47.504Z"
   },
   {
    "duration": 11,
    "start_time": "2022-02-15T15:12:50.902Z"
   },
   {
    "duration": 396,
    "start_time": "2022-02-15T15:14:02.993Z"
   },
   {
    "duration": 3,
    "start_time": "2022-02-15T15:14:16.470Z"
   },
   {
    "duration": 177,
    "start_time": "2022-02-15T15:14:29.136Z"
   },
   {
    "duration": 14,
    "start_time": "2022-02-15T15:15:02.369Z"
   },
   {
    "duration": 21,
    "start_time": "2022-02-15T15:15:42.083Z"
   },
   {
    "duration": 2753,
    "start_time": "2022-02-15T15:18:37.950Z"
   },
   {
    "duration": 60,
    "start_time": "2022-02-15T15:19:44.634Z"
   },
   {
    "duration": 55,
    "start_time": "2022-02-15T15:20:19.241Z"
   },
   {
    "duration": 238,
    "start_time": "2022-02-15T15:25:02.807Z"
   },
   {
    "duration": 2422,
    "start_time": "2022-02-15T15:25:12.673Z"
   },
   {
    "duration": 10,
    "start_time": "2022-02-15T15:25:15.097Z"
   },
   {
    "duration": 80,
    "start_time": "2022-02-15T15:25:15.109Z"
   },
   {
    "duration": 8,
    "start_time": "2022-02-15T15:25:15.191Z"
   },
   {
    "duration": 4,
    "start_time": "2022-02-15T15:25:15.200Z"
   },
   {
    "duration": 24,
    "start_time": "2022-02-15T15:25:15.206Z"
   },
   {
    "duration": 30,
    "start_time": "2022-02-15T15:25:15.232Z"
   },
   {
    "duration": 3,
    "start_time": "2022-02-15T15:25:15.264Z"
   },
   {
    "duration": 10,
    "start_time": "2022-02-15T15:25:15.270Z"
   },
   {
    "duration": 3,
    "start_time": "2022-02-15T15:25:15.282Z"
   },
   {
    "duration": 14,
    "start_time": "2022-02-15T15:25:15.287Z"
   },
   {
    "duration": 47,
    "start_time": "2022-02-15T15:25:15.303Z"
   },
   {
    "duration": 5,
    "start_time": "2022-02-15T15:25:15.352Z"
   },
   {
    "duration": 12,
    "start_time": "2022-02-15T15:25:15.359Z"
   },
   {
    "duration": 581,
    "start_time": "2022-02-15T15:25:15.373Z"
   },
   {
    "duration": 7,
    "start_time": "2022-02-15T15:25:15.956Z"
   },
   {
    "duration": 433,
    "start_time": "2022-02-15T15:25:15.965Z"
   },
   {
    "duration": 137,
    "start_time": "2022-02-15T15:25:16.400Z"
   },
   {
    "duration": 8,
    "start_time": "2022-02-15T15:25:16.539Z"
   },
   {
    "duration": 177,
    "start_time": "2022-02-15T15:25:16.548Z"
   },
   {
    "duration": 176,
    "start_time": "2022-02-15T15:25:16.726Z"
   },
   {
    "duration": 139,
    "start_time": "2022-02-15T15:25:16.904Z"
   },
   {
    "duration": 8,
    "start_time": "2022-02-15T15:25:17.044Z"
   },
   {
    "duration": 178,
    "start_time": "2022-02-15T15:25:17.053Z"
   },
   {
    "duration": 179,
    "start_time": "2022-02-15T15:25:17.233Z"
   },
   {
    "duration": 134,
    "start_time": "2022-02-15T15:25:17.414Z"
   },
   {
    "duration": 8,
    "start_time": "2022-02-15T15:25:17.552Z"
   },
   {
    "duration": 186,
    "start_time": "2022-02-15T15:25:17.561Z"
   },
   {
    "duration": 197,
    "start_time": "2022-02-15T15:25:17.748Z"
   },
   {
    "duration": 139,
    "start_time": "2022-02-15T15:25:17.947Z"
   },
   {
    "duration": 8,
    "start_time": "2022-02-15T15:25:18.087Z"
   },
   {
    "duration": 260,
    "start_time": "2022-02-15T15:25:18.097Z"
   },
   {
    "duration": 218,
    "start_time": "2022-02-15T15:25:18.359Z"
   },
   {
    "duration": 132,
    "start_time": "2022-02-15T15:25:18.579Z"
   },
   {
    "duration": 17,
    "start_time": "2022-02-15T15:25:18.713Z"
   },
   {
    "duration": 227,
    "start_time": "2022-02-15T15:25:18.731Z"
   },
   {
    "duration": 12,
    "start_time": "2022-02-15T15:25:18.960Z"
   },
   {
    "duration": 4,
    "start_time": "2022-02-15T15:25:18.974Z"
   },
   {
    "duration": 441,
    "start_time": "2022-02-15T15:25:18.979Z"
   },
   {
    "duration": 9,
    "start_time": "2022-02-15T15:25:19.423Z"
   },
   {
    "duration": 181,
    "start_time": "2022-02-15T15:25:19.433Z"
   },
   {
    "duration": 419,
    "start_time": "2022-02-15T15:25:19.616Z"
   },
   {
    "duration": 6,
    "start_time": "2022-02-15T15:25:20.037Z"
   },
   {
    "duration": 165,
    "start_time": "2022-02-15T15:25:20.045Z"
   },
   {
    "duration": 188,
    "start_time": "2022-02-15T15:25:20.212Z"
   },
   {
    "duration": 182,
    "start_time": "2022-02-15T15:25:20.402Z"
   },
   {
    "duration": 196,
    "start_time": "2022-02-15T15:25:20.586Z"
   },
   {
    "duration": 22,
    "start_time": "2022-02-15T15:25:20.784Z"
   },
   {
    "duration": 212,
    "start_time": "2022-02-15T15:25:20.808Z"
   },
   {
    "duration": -49,
    "start_time": "2022-02-15T15:25:21.072Z"
   },
   {
    "duration": 175,
    "start_time": "2022-02-15T15:25:25.556Z"
   },
   {
    "duration": 11,
    "start_time": "2022-02-15T15:25:58.022Z"
   },
   {
    "duration": 18,
    "start_time": "2022-02-15T15:28:01.637Z"
   },
   {
    "duration": 200,
    "start_time": "2022-02-15T15:30:30.296Z"
   },
   {
    "duration": 190,
    "start_time": "2022-02-15T15:31:33.273Z"
   },
   {
    "duration": 20,
    "start_time": "2022-02-15T15:32:52.230Z"
   },
   {
    "duration": 162,
    "start_time": "2022-02-15T15:33:35.968Z"
   },
   {
    "duration": 12,
    "start_time": "2022-02-15T15:33:36.133Z"
   },
   {
    "duration": 82,
    "start_time": "2022-02-15T15:33:36.148Z"
   },
   {
    "duration": 10,
    "start_time": "2022-02-15T15:33:36.233Z"
   },
   {
    "duration": 5,
    "start_time": "2022-02-15T15:33:36.245Z"
   },
   {
    "duration": 8,
    "start_time": "2022-02-15T15:33:36.252Z"
   },
   {
    "duration": 28,
    "start_time": "2022-02-15T15:33:36.261Z"
   },
   {
    "duration": 40,
    "start_time": "2022-02-15T15:33:36.292Z"
   },
   {
    "duration": 10,
    "start_time": "2022-02-15T15:33:36.334Z"
   },
   {
    "duration": 5,
    "start_time": "2022-02-15T15:33:36.346Z"
   },
   {
    "duration": 16,
    "start_time": "2022-02-15T15:33:36.353Z"
   },
   {
    "duration": 20,
    "start_time": "2022-02-15T15:33:36.371Z"
   },
   {
    "duration": 4,
    "start_time": "2022-02-15T15:33:36.392Z"
   },
   {
    "duration": 38,
    "start_time": "2022-02-15T15:33:36.397Z"
   },
   {
    "duration": 447,
    "start_time": "2022-02-15T15:33:36.437Z"
   },
   {
    "duration": 5,
    "start_time": "2022-02-15T15:33:36.886Z"
   },
   {
    "duration": 305,
    "start_time": "2022-02-15T15:33:36.892Z"
   },
   {
    "duration": 136,
    "start_time": "2022-02-15T15:33:37.199Z"
   },
   {
    "duration": 8,
    "start_time": "2022-02-15T15:33:37.336Z"
   },
   {
    "duration": 225,
    "start_time": "2022-02-15T15:33:37.346Z"
   },
   {
    "duration": 199,
    "start_time": "2022-02-15T15:33:37.573Z"
   },
   {
    "duration": 148,
    "start_time": "2022-02-15T15:33:37.774Z"
   },
   {
    "duration": 8,
    "start_time": "2022-02-15T15:33:37.931Z"
   },
   {
    "duration": 206,
    "start_time": "2022-02-15T15:33:37.941Z"
   },
   {
    "duration": 191,
    "start_time": "2022-02-15T15:33:38.148Z"
   },
   {
    "duration": 194,
    "start_time": "2022-02-15T15:33:38.340Z"
   },
   {
    "duration": 7,
    "start_time": "2022-02-15T15:33:38.536Z"
   },
   {
    "duration": 184,
    "start_time": "2022-02-15T15:33:38.545Z"
   },
   {
    "duration": 200,
    "start_time": "2022-02-15T15:33:38.730Z"
   },
   {
    "duration": 133,
    "start_time": "2022-02-15T15:33:38.931Z"
   },
   {
    "duration": 8,
    "start_time": "2022-02-15T15:33:39.066Z"
   },
   {
    "duration": 199,
    "start_time": "2022-02-15T15:33:39.076Z"
   },
   {
    "duration": 205,
    "start_time": "2022-02-15T15:33:39.277Z"
   },
   {
    "duration": 128,
    "start_time": "2022-02-15T15:33:39.483Z"
   },
   {
    "duration": 18,
    "start_time": "2022-02-15T15:33:39.612Z"
   },
   {
    "duration": 221,
    "start_time": "2022-02-15T15:33:39.632Z"
   },
   {
    "duration": 11,
    "start_time": "2022-02-15T15:33:39.855Z"
   },
   {
    "duration": 3,
    "start_time": "2022-02-15T15:33:39.868Z"
   },
   {
    "duration": 463,
    "start_time": "2022-02-15T15:33:39.872Z"
   },
   {
    "duration": 4,
    "start_time": "2022-02-15T15:33:40.337Z"
   },
   {
    "duration": 180,
    "start_time": "2022-02-15T15:33:40.342Z"
   },
   {
    "duration": 410,
    "start_time": "2022-02-15T15:33:40.523Z"
   },
   {
    "duration": 4,
    "start_time": "2022-02-15T15:33:40.935Z"
   },
   {
    "duration": 224,
    "start_time": "2022-02-15T15:33:40.941Z"
   },
   {
    "duration": 179,
    "start_time": "2022-02-15T15:33:41.166Z"
   },
   {
    "duration": 185,
    "start_time": "2022-02-15T15:33:41.347Z"
   },
   {
    "duration": 196,
    "start_time": "2022-02-15T15:33:41.534Z"
   },
   {
    "duration": 22,
    "start_time": "2022-02-15T15:33:41.731Z"
   },
   {
    "duration": 20,
    "start_time": "2022-02-15T15:33:41.755Z"
   },
   {
    "duration": 12,
    "start_time": "2022-02-15T15:34:22.698Z"
   },
   {
    "duration": 20,
    "start_time": "2022-02-15T15:34:25.355Z"
   },
   {
    "duration": 20,
    "start_time": "2022-02-15T15:35:33.508Z"
   },
   {
    "duration": 14,
    "start_time": "2022-02-15T15:35:47.434Z"
   },
   {
    "duration": 21,
    "start_time": "2022-02-15T15:35:48.809Z"
   },
   {
    "duration": 215,
    "start_time": "2022-02-15T15:36:37.294Z"
   },
   {
    "duration": 27,
    "start_time": "2022-02-15T15:36:45.867Z"
   },
   {
    "duration": 458,
    "start_time": "2022-02-15T15:37:50.103Z"
   },
   {
    "duration": 202,
    "start_time": "2022-02-15T15:40:11.243Z"
   },
   {
    "duration": -96,
    "start_time": "2022-02-15T15:40:11.543Z"
   },
   {
    "duration": 5,
    "start_time": "2022-02-15T15:40:24.382Z"
   },
   {
    "duration": 21,
    "start_time": "2022-02-15T15:40:34.423Z"
   },
   {
    "duration": 6,
    "start_time": "2022-02-15T15:41:53.533Z"
   },
   {
    "duration": 15,
    "start_time": "2022-02-15T15:42:00.192Z"
   },
   {
    "duration": 448,
    "start_time": "2022-02-15T15:43:07.491Z"
   },
   {
    "duration": 453,
    "start_time": "2022-02-15T15:43:28.798Z"
   },
   {
    "duration": 28,
    "start_time": "2022-02-15T15:43:35.730Z"
   },
   {
    "duration": 180,
    "start_time": "2022-02-15T15:44:34.973Z"
   },
   {
    "duration": 246,
    "start_time": "2022-02-15T15:44:56.863Z"
   },
   {
    "duration": 233,
    "start_time": "2022-02-15T15:45:02.508Z"
   },
   {
    "duration": 222,
    "start_time": "2022-02-15T15:45:08.204Z"
   },
   {
    "duration": 191,
    "start_time": "2022-02-15T15:46:31.048Z"
   },
   {
    "duration": 208,
    "start_time": "2022-02-15T15:46:35.822Z"
   },
   {
    "duration": 218,
    "start_time": "2022-02-15T15:46:53.478Z"
   },
   {
    "duration": 266,
    "start_time": "2022-02-15T15:47:18.974Z"
   },
   {
    "duration": 197,
    "start_time": "2022-02-15T15:47:25.948Z"
   },
   {
    "duration": 339,
    "start_time": "2022-02-15T15:47:38.931Z"
   },
   {
    "duration": 195,
    "start_time": "2022-02-15T15:47:54.863Z"
   },
   {
    "duration": 6,
    "start_time": "2022-02-15T15:51:03.029Z"
   },
   {
    "duration": 63,
    "start_time": "2022-02-15T15:57:10.569Z"
   },
   {
    "duration": 55,
    "start_time": "2022-02-15T15:58:16.539Z"
   },
   {
    "duration": 122,
    "start_time": "2022-02-15T15:58:21.805Z"
   },
   {
    "duration": 128,
    "start_time": "2022-02-15T15:58:32.603Z"
   },
   {
    "duration": 127,
    "start_time": "2022-02-15T15:59:36.258Z"
   },
   {
    "duration": 125,
    "start_time": "2022-02-15T16:00:28.864Z"
   },
   {
    "duration": 136,
    "start_time": "2022-02-15T16:01:07.475Z"
   },
   {
    "duration": 133,
    "start_time": "2022-02-15T16:02:22.217Z"
   },
   {
    "duration": 1435,
    "start_time": "2022-02-15T16:04:53.955Z"
   },
   {
    "duration": 1065,
    "start_time": "2022-02-15T16:07:25.318Z"
   },
   {
    "duration": 57,
    "start_time": "2022-02-15T16:07:36.050Z"
   },
   {
    "duration": 1031,
    "start_time": "2022-02-15T16:08:15.464Z"
   },
   {
    "duration": 1193,
    "start_time": "2022-02-15T16:11:53.967Z"
   },
   {
    "duration": 1163,
    "start_time": "2022-02-15T16:12:11.519Z"
   },
   {
    "duration": 11,
    "start_time": "2022-02-15T16:12:19.461Z"
   },
   {
    "duration": 998,
    "start_time": "2022-02-15T16:12:49.904Z"
   },
   {
    "duration": 1087,
    "start_time": "2022-02-15T16:13:41.855Z"
   },
   {
    "duration": 822,
    "start_time": "2022-02-23T04:42:04.341Z"
   },
   {
    "duration": 10,
    "start_time": "2022-02-23T04:42:05.165Z"
   },
   {
    "duration": 88,
    "start_time": "2022-02-23T04:42:05.177Z"
   },
   {
    "duration": 9,
    "start_time": "2022-02-23T04:42:05.266Z"
   },
   {
    "duration": 4,
    "start_time": "2022-02-23T04:42:05.276Z"
   },
   {
    "duration": 13,
    "start_time": "2022-02-23T04:42:05.282Z"
   },
   {
    "duration": 30,
    "start_time": "2022-02-23T04:42:05.297Z"
   },
   {
    "duration": 4,
    "start_time": "2022-02-23T04:42:05.329Z"
   },
   {
    "duration": 10,
    "start_time": "2022-02-23T04:42:05.359Z"
   },
   {
    "duration": 4,
    "start_time": "2022-02-23T04:42:05.371Z"
   },
   {
    "duration": 18,
    "start_time": "2022-02-23T04:42:05.377Z"
   },
   {
    "duration": 25,
    "start_time": "2022-02-23T04:42:05.397Z"
   },
   {
    "duration": 35,
    "start_time": "2022-02-23T04:42:05.424Z"
   },
   {
    "duration": 13,
    "start_time": "2022-02-23T04:42:05.461Z"
   },
   {
    "duration": 461,
    "start_time": "2022-02-23T04:42:05.476Z"
   },
   {
    "duration": 5,
    "start_time": "2022-02-23T04:42:05.939Z"
   },
   {
    "duration": 416,
    "start_time": "2022-02-23T04:42:05.946Z"
   },
   {
    "duration": 154,
    "start_time": "2022-02-23T04:42:06.364Z"
   },
   {
    "duration": 8,
    "start_time": "2022-02-23T04:42:06.520Z"
   },
   {
    "duration": 203,
    "start_time": "2022-02-23T04:42:06.530Z"
   },
   {
    "duration": 204,
    "start_time": "2022-02-23T04:42:06.735Z"
   },
   {
    "duration": 159,
    "start_time": "2022-02-23T04:42:06.941Z"
   },
   {
    "duration": 8,
    "start_time": "2022-02-23T04:42:07.103Z"
   },
   {
    "duration": 203,
    "start_time": "2022-02-23T04:42:07.113Z"
   },
   {
    "duration": 228,
    "start_time": "2022-02-23T04:42:07.318Z"
   },
   {
    "duration": 176,
    "start_time": "2022-02-23T04:42:07.547Z"
   },
   {
    "duration": 9,
    "start_time": "2022-02-23T04:42:07.725Z"
   },
   {
    "duration": 209,
    "start_time": "2022-02-23T04:42:07.735Z"
   },
   {
    "duration": 230,
    "start_time": "2022-02-23T04:42:07.946Z"
   },
   {
    "duration": 162,
    "start_time": "2022-02-23T04:42:08.178Z"
   },
   {
    "duration": 17,
    "start_time": "2022-02-23T04:42:08.342Z"
   },
   {
    "duration": 277,
    "start_time": "2022-02-23T04:42:08.360Z"
   },
   {
    "duration": 235,
    "start_time": "2022-02-23T04:42:08.639Z"
   },
   {
    "duration": 155,
    "start_time": "2022-02-23T04:42:08.876Z"
   },
   {
    "duration": 8,
    "start_time": "2022-02-23T04:42:09.033Z"
   },
   {
    "duration": 266,
    "start_time": "2022-02-23T04:42:09.043Z"
   },
   {
    "duration": 15,
    "start_time": "2022-02-23T04:42:09.311Z"
   },
   {
    "duration": 3,
    "start_time": "2022-02-23T04:42:09.328Z"
   },
   {
    "duration": 474,
    "start_time": "2022-02-23T04:42:09.333Z"
   },
   {
    "duration": 5,
    "start_time": "2022-02-23T04:42:09.808Z"
   },
   {
    "duration": 224,
    "start_time": "2022-02-23T04:42:09.815Z"
   },
   {
    "duration": 435,
    "start_time": "2022-02-23T04:42:10.041Z"
   },
   {
    "duration": 5,
    "start_time": "2022-02-23T04:42:10.478Z"
   },
   {
    "duration": 178,
    "start_time": "2022-02-23T04:42:10.484Z"
   },
   {
    "duration": 220,
    "start_time": "2022-02-23T04:42:10.664Z"
   },
   {
    "duration": 206,
    "start_time": "2022-02-23T04:42:10.886Z"
   },
   {
    "duration": 230,
    "start_time": "2022-02-23T04:42:11.094Z"
   },
   {
    "duration": 23,
    "start_time": "2022-02-23T04:42:11.326Z"
   },
   {
    "duration": 288,
    "start_time": "2022-02-23T04:42:11.358Z"
   },
   {
    "duration": 13,
    "start_time": "2022-02-23T04:42:11.648Z"
   },
   {
    "duration": 141,
    "start_time": "2022-02-23T04:42:11.663Z"
   },
   {
    "duration": 160,
    "start_time": "2022-02-23T04:42:11.805Z"
   },
   {
    "duration": 153,
    "start_time": "2022-02-23T04:42:11.967Z"
   },
   {
    "duration": 160,
    "start_time": "2022-02-23T04:42:12.122Z"
   },
   {
    "duration": 176,
    "start_time": "2022-02-23T04:42:12.284Z"
   },
   {
    "duration": 1183,
    "start_time": "2022-02-23T04:42:12.463Z"
   },
   {
    "duration": 5,
    "start_time": "2022-02-23T04:45:13.498Z"
   },
   {
    "duration": 89,
    "start_time": "2022-02-23T04:47:07.478Z"
   },
   {
    "duration": 60,
    "start_time": "2022-02-23T04:56:14.161Z"
   },
   {
    "duration": 71,
    "start_time": "2022-02-23T04:56:37.793Z"
   },
   {
    "duration": 783,
    "start_time": "2022-02-23T04:57:06.439Z"
   },
   {
    "duration": 10,
    "start_time": "2022-02-23T04:57:07.224Z"
   },
   {
    "duration": 86,
    "start_time": "2022-02-23T04:57:07.236Z"
   },
   {
    "duration": 8,
    "start_time": "2022-02-23T04:57:07.324Z"
   },
   {
    "duration": 4,
    "start_time": "2022-02-23T04:57:07.335Z"
   },
   {
    "duration": 27,
    "start_time": "2022-02-23T04:57:07.341Z"
   },
   {
    "duration": 29,
    "start_time": "2022-02-23T04:57:07.370Z"
   },
   {
    "duration": 3,
    "start_time": "2022-02-23T04:57:07.402Z"
   },
   {
    "duration": 13,
    "start_time": "2022-02-23T04:57:07.408Z"
   },
   {
    "duration": 13,
    "start_time": "2022-02-23T04:57:07.422Z"
   },
   {
    "duration": 31,
    "start_time": "2022-02-23T04:57:07.437Z"
   },
   {
    "duration": 28,
    "start_time": "2022-02-23T04:57:07.470Z"
   },
   {
    "duration": 5,
    "start_time": "2022-02-23T04:57:07.500Z"
   },
   {
    "duration": 15,
    "start_time": "2022-02-23T04:57:07.507Z"
   },
   {
    "duration": 486,
    "start_time": "2022-02-23T04:57:07.524Z"
   },
   {
    "duration": 5,
    "start_time": "2022-02-23T04:57:08.012Z"
   },
   {
    "duration": 407,
    "start_time": "2022-02-23T04:57:08.019Z"
   },
   {
    "duration": 157,
    "start_time": "2022-02-23T04:57:08.428Z"
   },
   {
    "duration": 8,
    "start_time": "2022-02-23T04:57:08.587Z"
   },
   {
    "duration": 197,
    "start_time": "2022-02-23T04:57:08.596Z"
   },
   {
    "duration": 202,
    "start_time": "2022-02-23T04:57:08.794Z"
   },
   {
    "duration": 158,
    "start_time": "2022-02-23T04:57:08.998Z"
   },
   {
    "duration": 9,
    "start_time": "2022-02-23T04:57:09.160Z"
   },
   {
    "duration": 203,
    "start_time": "2022-02-23T04:57:09.171Z"
   },
   {
    "duration": 214,
    "start_time": "2022-02-23T04:57:09.375Z"
   },
   {
    "duration": 168,
    "start_time": "2022-02-23T04:57:09.591Z"
   },
   {
    "duration": 10,
    "start_time": "2022-02-23T04:57:09.761Z"
   },
   {
    "duration": 232,
    "start_time": "2022-02-23T04:57:09.772Z"
   },
   {
    "duration": 226,
    "start_time": "2022-02-23T04:57:10.005Z"
   },
   {
    "duration": 151,
    "start_time": "2022-02-23T04:57:10.233Z"
   },
   {
    "duration": 10,
    "start_time": "2022-02-23T04:57:10.385Z"
   },
   {
    "duration": 299,
    "start_time": "2022-02-23T04:57:10.397Z"
   },
   {
    "duration": 242,
    "start_time": "2022-02-23T04:57:10.698Z"
   },
   {
    "duration": 153,
    "start_time": "2022-02-23T04:57:10.942Z"
   },
   {
    "duration": 8,
    "start_time": "2022-02-23T04:57:11.096Z"
   },
   {
    "duration": 264,
    "start_time": "2022-02-23T04:57:11.106Z"
   },
   {
    "duration": 13,
    "start_time": "2022-02-23T04:57:11.372Z"
   },
   {
    "duration": 3,
    "start_time": "2022-02-23T04:57:11.387Z"
   },
   {
    "duration": 482,
    "start_time": "2022-02-23T04:57:11.391Z"
   },
   {
    "duration": 5,
    "start_time": "2022-02-23T04:57:11.875Z"
   },
   {
    "duration": 217,
    "start_time": "2022-02-23T04:57:11.881Z"
   },
   {
    "duration": 471,
    "start_time": "2022-02-23T04:57:12.099Z"
   },
   {
    "duration": 5,
    "start_time": "2022-02-23T04:57:12.572Z"
   },
   {
    "duration": 187,
    "start_time": "2022-02-23T04:57:12.578Z"
   },
   {
    "duration": 203,
    "start_time": "2022-02-23T04:57:12.767Z"
   },
   {
    "duration": 185,
    "start_time": "2022-02-23T04:57:12.972Z"
   },
   {
    "duration": 204,
    "start_time": "2022-02-23T04:57:13.159Z"
   },
   {
    "duration": 23,
    "start_time": "2022-02-23T04:57:13.364Z"
   },
   {
    "duration": 313,
    "start_time": "2022-02-23T04:57:13.388Z"
   },
   {
    "duration": 7,
    "start_time": "2022-02-23T04:57:13.702Z"
   },
   {
    "duration": 149,
    "start_time": "2022-02-23T04:57:13.711Z"
   },
   {
    "duration": 158,
    "start_time": "2022-02-23T04:57:13.862Z"
   },
   {
    "duration": 155,
    "start_time": "2022-02-23T04:57:14.022Z"
   },
   {
    "duration": 149,
    "start_time": "2022-02-23T04:57:14.178Z"
   },
   {
    "duration": 181,
    "start_time": "2022-02-23T04:57:14.329Z"
   },
   {
    "duration": 1183,
    "start_time": "2022-02-23T04:57:14.512Z"
   },
   {
    "duration": 227,
    "start_time": "2022-02-23T04:58:06.209Z"
   },
   {
    "duration": 4,
    "start_time": "2022-02-23T05:01:13.245Z"
   },
   {
    "duration": 706,
    "start_time": "2022-02-23T05:01:18.984Z"
   },
   {
    "duration": 11,
    "start_time": "2022-02-23T05:01:19.692Z"
   },
   {
    "duration": 79,
    "start_time": "2022-02-23T05:01:19.704Z"
   },
   {
    "duration": 7,
    "start_time": "2022-02-23T05:01:19.785Z"
   },
   {
    "duration": 4,
    "start_time": "2022-02-23T05:01:19.794Z"
   },
   {
    "duration": 12,
    "start_time": "2022-02-23T05:01:19.799Z"
   },
   {
    "duration": 50,
    "start_time": "2022-02-23T05:01:19.812Z"
   },
   {
    "duration": 3,
    "start_time": "2022-02-23T05:01:19.865Z"
   },
   {
    "duration": 14,
    "start_time": "2022-02-23T05:01:19.870Z"
   },
   {
    "duration": 3,
    "start_time": "2022-02-23T05:01:19.886Z"
   },
   {
    "duration": 17,
    "start_time": "2022-02-23T05:01:19.891Z"
   },
   {
    "duration": 24,
    "start_time": "2022-02-23T05:01:19.910Z"
   },
   {
    "duration": 6,
    "start_time": "2022-02-23T05:01:19.960Z"
   },
   {
    "duration": 17,
    "start_time": "2022-02-23T05:01:19.968Z"
   },
   {
    "duration": 482,
    "start_time": "2022-02-23T05:01:19.987Z"
   },
   {
    "duration": 5,
    "start_time": "2022-02-23T05:01:20.471Z"
   },
   {
    "duration": 406,
    "start_time": "2022-02-23T05:01:20.478Z"
   },
   {
    "duration": 154,
    "start_time": "2022-02-23T05:01:20.886Z"
   },
   {
    "duration": 8,
    "start_time": "2022-02-23T05:01:21.042Z"
   },
   {
    "duration": 197,
    "start_time": "2022-02-23T05:01:21.051Z"
   },
   {
    "duration": 195,
    "start_time": "2022-02-23T05:01:21.250Z"
   },
   {
    "duration": 159,
    "start_time": "2022-02-23T05:01:21.446Z"
   },
   {
    "duration": 9,
    "start_time": "2022-02-23T05:01:21.609Z"
   },
   {
    "duration": 205,
    "start_time": "2022-02-23T05:01:21.620Z"
   },
   {
    "duration": 211,
    "start_time": "2022-02-23T05:01:21.827Z"
   },
   {
    "duration": 157,
    "start_time": "2022-02-23T05:01:22.039Z"
   },
   {
    "duration": 8,
    "start_time": "2022-02-23T05:01:22.198Z"
   },
   {
    "duration": 225,
    "start_time": "2022-02-23T05:01:22.208Z"
   },
   {
    "duration": 256,
    "start_time": "2022-02-23T05:01:22.434Z"
   },
   {
    "duration": 159,
    "start_time": "2022-02-23T05:01:22.692Z"
   },
   {
    "duration": 13,
    "start_time": "2022-02-23T05:01:22.853Z"
   },
   {
    "duration": 300,
    "start_time": "2022-02-23T05:01:22.868Z"
   },
   {
    "duration": 235,
    "start_time": "2022-02-23T05:01:23.170Z"
   },
   {
    "duration": 145,
    "start_time": "2022-02-23T05:01:23.407Z"
   },
   {
    "duration": 9,
    "start_time": "2022-02-23T05:01:23.558Z"
   },
   {
    "duration": 265,
    "start_time": "2022-02-23T05:01:23.568Z"
   },
   {
    "duration": 13,
    "start_time": "2022-02-23T05:01:23.835Z"
   },
   {
    "duration": 3,
    "start_time": "2022-02-23T05:01:23.859Z"
   },
   {
    "duration": 421,
    "start_time": "2022-02-23T05:01:23.864Z"
   },
   {
    "duration": 5,
    "start_time": "2022-02-23T05:01:24.286Z"
   },
   {
    "duration": 202,
    "start_time": "2022-02-23T05:01:24.292Z"
   },
   {
    "duration": 434,
    "start_time": "2022-02-23T05:01:24.496Z"
   },
   {
    "duration": 4,
    "start_time": "2022-02-23T05:01:24.932Z"
   },
   {
    "duration": 175,
    "start_time": "2022-02-23T05:01:24.938Z"
   },
   {
    "duration": 203,
    "start_time": "2022-02-23T05:01:25.114Z"
   },
   {
    "duration": 222,
    "start_time": "2022-02-23T05:01:25.319Z"
   },
   {
    "duration": 219,
    "start_time": "2022-02-23T05:01:25.542Z"
   },
   {
    "duration": 24,
    "start_time": "2022-02-23T05:01:25.762Z"
   },
   {
    "duration": 314,
    "start_time": "2022-02-23T05:01:25.787Z"
   },
   {
    "duration": 7,
    "start_time": "2022-02-23T05:01:26.103Z"
   },
   {
    "duration": 150,
    "start_time": "2022-02-23T05:01:26.112Z"
   },
   {
    "duration": 157,
    "start_time": "2022-02-23T05:01:26.264Z"
   },
   {
    "duration": 158,
    "start_time": "2022-02-23T05:01:26.422Z"
   },
   {
    "duration": 146,
    "start_time": "2022-02-23T05:01:26.581Z"
   },
   {
    "duration": 163,
    "start_time": "2022-02-23T05:01:26.729Z"
   },
   {
    "duration": 1127,
    "start_time": "2022-02-23T05:01:26.894Z"
   },
   {
    "duration": 5,
    "start_time": "2022-02-23T05:05:22.461Z"
   },
   {
    "duration": 94,
    "start_time": "2022-02-23T05:05:32.298Z"
   },
   {
    "duration": 13,
    "start_time": "2022-02-23T05:05:32.394Z"
   },
   {
    "duration": 109,
    "start_time": "2022-02-23T05:05:32.409Z"
   },
   {
    "duration": 9,
    "start_time": "2022-02-23T05:05:32.520Z"
   },
   {
    "duration": 6,
    "start_time": "2022-02-23T05:05:32.530Z"
   },
   {
    "duration": 28,
    "start_time": "2022-02-23T05:05:32.537Z"
   },
   {
    "duration": 32,
    "start_time": "2022-02-23T05:05:32.566Z"
   },
   {
    "duration": 3,
    "start_time": "2022-02-23T05:05:32.601Z"
   },
   {
    "duration": 14,
    "start_time": "2022-02-23T05:05:32.606Z"
   },
   {
    "duration": 5,
    "start_time": "2022-02-23T05:05:32.622Z"
   },
   {
    "duration": 36,
    "start_time": "2022-02-23T05:05:32.628Z"
   },
   {
    "duration": 24,
    "start_time": "2022-02-23T05:05:32.665Z"
   },
   {
    "duration": 5,
    "start_time": "2022-02-23T05:05:32.691Z"
   },
   {
    "duration": 17,
    "start_time": "2022-02-23T05:05:32.697Z"
   },
   {
    "duration": 561,
    "start_time": "2022-02-23T05:05:32.715Z"
   },
   {
    "duration": 5,
    "start_time": "2022-02-23T05:05:33.277Z"
   },
   {
    "duration": 341,
    "start_time": "2022-02-23T05:05:33.284Z"
   },
   {
    "duration": 150,
    "start_time": "2022-02-23T05:05:33.626Z"
   },
   {
    "duration": 10,
    "start_time": "2022-02-23T05:05:33.778Z"
   },
   {
    "duration": 214,
    "start_time": "2022-02-23T05:05:33.790Z"
   },
   {
    "duration": 208,
    "start_time": "2022-02-23T05:05:34.006Z"
   },
   {
    "duration": 163,
    "start_time": "2022-02-23T05:05:34.216Z"
   },
   {
    "duration": 9,
    "start_time": "2022-02-23T05:05:34.383Z"
   },
   {
    "duration": 197,
    "start_time": "2022-02-23T05:05:34.394Z"
   },
   {
    "duration": 209,
    "start_time": "2022-02-23T05:05:34.593Z"
   },
   {
    "duration": 148,
    "start_time": "2022-02-23T05:05:34.804Z"
   },
   {
    "duration": 10,
    "start_time": "2022-02-23T05:05:34.954Z"
   },
   {
    "duration": 286,
    "start_time": "2022-02-23T05:05:34.966Z"
   },
   {
    "duration": 220,
    "start_time": "2022-02-23T05:05:35.254Z"
   },
   {
    "duration": 152,
    "start_time": "2022-02-23T05:05:35.476Z"
   },
   {
    "duration": 9,
    "start_time": "2022-02-23T05:05:35.629Z"
   },
   {
    "duration": 204,
    "start_time": "2022-02-23T05:05:35.640Z"
   },
   {
    "duration": 239,
    "start_time": "2022-02-23T05:05:35.845Z"
   },
   {
    "duration": 141,
    "start_time": "2022-02-23T05:05:36.086Z"
   },
   {
    "duration": 8,
    "start_time": "2022-02-23T05:05:36.229Z"
   },
   {
    "duration": 259,
    "start_time": "2022-02-23T05:05:36.239Z"
   },
   {
    "duration": 14,
    "start_time": "2022-02-23T05:05:36.501Z"
   },
   {
    "duration": 4,
    "start_time": "2022-02-23T05:05:36.517Z"
   },
   {
    "duration": 474,
    "start_time": "2022-02-23T05:05:36.523Z"
   },
   {
    "duration": 5,
    "start_time": "2022-02-23T05:05:36.998Z"
   },
   {
    "duration": 214,
    "start_time": "2022-02-23T05:05:37.005Z"
   },
   {
    "duration": 452,
    "start_time": "2022-02-23T05:05:37.220Z"
   },
   {
    "duration": 5,
    "start_time": "2022-02-23T05:05:37.674Z"
   },
   {
    "duration": 175,
    "start_time": "2022-02-23T05:05:37.681Z"
   },
   {
    "duration": 265,
    "start_time": "2022-02-23T05:05:37.858Z"
   },
   {
    "duration": 189,
    "start_time": "2022-02-23T05:05:38.125Z"
   },
   {
    "duration": 205,
    "start_time": "2022-02-23T05:05:38.316Z"
   },
   {
    "duration": 24,
    "start_time": "2022-02-23T05:05:38.523Z"
   },
   {
    "duration": 227,
    "start_time": "2022-02-23T05:05:38.559Z"
   },
   {
    "duration": 6,
    "start_time": "2022-02-23T05:05:38.788Z"
   },
   {
    "duration": 146,
    "start_time": "2022-02-23T05:05:38.796Z"
   },
   {
    "duration": 155,
    "start_time": "2022-02-23T05:05:38.944Z"
   },
   {
    "duration": 149,
    "start_time": "2022-02-23T05:05:39.101Z"
   },
   {
    "duration": 162,
    "start_time": "2022-02-23T05:05:39.252Z"
   },
   {
    "duration": 167,
    "start_time": "2022-02-23T05:05:39.416Z"
   },
   {
    "duration": 1261,
    "start_time": "2022-02-23T05:05:39.585Z"
   },
   {
    "duration": 777,
    "start_time": "2022-02-23T05:11:21.945Z"
   },
   {
    "duration": 11,
    "start_time": "2022-02-23T05:11:22.724Z"
   },
   {
    "duration": 81,
    "start_time": "2022-02-23T05:11:22.737Z"
   },
   {
    "duration": 9,
    "start_time": "2022-02-23T05:11:22.820Z"
   },
   {
    "duration": 5,
    "start_time": "2022-02-23T05:11:22.831Z"
   },
   {
    "duration": 24,
    "start_time": "2022-02-23T05:11:22.837Z"
   },
   {
    "duration": 31,
    "start_time": "2022-02-23T05:11:22.862Z"
   },
   {
    "duration": 4,
    "start_time": "2022-02-23T05:11:22.895Z"
   },
   {
    "duration": 16,
    "start_time": "2022-02-23T05:11:22.901Z"
   },
   {
    "duration": 7,
    "start_time": "2022-02-23T05:11:22.919Z"
   },
   {
    "duration": 35,
    "start_time": "2022-02-23T05:11:22.927Z"
   },
   {
    "duration": 23,
    "start_time": "2022-02-23T05:11:22.963Z"
   },
   {
    "duration": 4,
    "start_time": "2022-02-23T05:11:22.988Z"
   },
   {
    "duration": 14,
    "start_time": "2022-02-23T05:11:22.994Z"
   },
   {
    "duration": 479,
    "start_time": "2022-02-23T05:11:23.010Z"
   },
   {
    "duration": 5,
    "start_time": "2022-02-23T05:11:23.491Z"
   },
   {
    "duration": 386,
    "start_time": "2022-02-23T05:11:23.498Z"
   },
   {
    "duration": 156,
    "start_time": "2022-02-23T05:11:23.886Z"
   },
   {
    "duration": 16,
    "start_time": "2022-02-23T05:11:24.044Z"
   },
   {
    "duration": 198,
    "start_time": "2022-02-23T05:11:24.061Z"
   },
   {
    "duration": 196,
    "start_time": "2022-02-23T05:11:24.260Z"
   },
   {
    "duration": 160,
    "start_time": "2022-02-23T05:11:24.458Z"
   },
   {
    "duration": 10,
    "start_time": "2022-02-23T05:11:24.622Z"
   },
   {
    "duration": 210,
    "start_time": "2022-02-23T05:11:24.634Z"
   },
   {
    "duration": 220,
    "start_time": "2022-02-23T05:11:24.846Z"
   },
   {
    "duration": 165,
    "start_time": "2022-02-23T05:11:25.068Z"
   },
   {
    "duration": 9,
    "start_time": "2022-02-23T05:11:25.234Z"
   },
   {
    "duration": 209,
    "start_time": "2022-02-23T05:11:25.244Z"
   },
   {
    "duration": 233,
    "start_time": "2022-02-23T05:11:25.459Z"
   },
   {
    "duration": 156,
    "start_time": "2022-02-23T05:11:25.694Z"
   },
   {
    "duration": 13,
    "start_time": "2022-02-23T05:11:25.852Z"
   },
   {
    "duration": 295,
    "start_time": "2022-02-23T05:11:25.867Z"
   },
   {
    "duration": 253,
    "start_time": "2022-02-23T05:11:26.164Z"
   },
   {
    "duration": 150,
    "start_time": "2022-02-23T05:11:26.419Z"
   },
   {
    "duration": 8,
    "start_time": "2022-02-23T05:11:26.571Z"
   },
   {
    "duration": 270,
    "start_time": "2022-02-23T05:11:26.581Z"
   },
   {
    "duration": 14,
    "start_time": "2022-02-23T05:11:26.853Z"
   },
   {
    "duration": 3,
    "start_time": "2022-02-23T05:11:26.869Z"
   },
   {
    "duration": 485,
    "start_time": "2022-02-23T05:11:26.874Z"
   },
   {
    "duration": 5,
    "start_time": "2022-02-23T05:11:27.360Z"
   },
   {
    "duration": 212,
    "start_time": "2022-02-23T05:11:27.367Z"
   },
   {
    "duration": 457,
    "start_time": "2022-02-23T05:11:27.581Z"
   },
   {
    "duration": 4,
    "start_time": "2022-02-23T05:11:28.040Z"
   },
   {
    "duration": 181,
    "start_time": "2022-02-23T05:11:28.046Z"
   },
   {
    "duration": 198,
    "start_time": "2022-02-23T05:11:28.230Z"
   },
   {
    "duration": 188,
    "start_time": "2022-02-23T05:11:28.429Z"
   },
   {
    "duration": 198,
    "start_time": "2022-02-23T05:11:28.618Z"
   },
   {
    "duration": 23,
    "start_time": "2022-02-23T05:11:28.817Z"
   },
   {
    "duration": 313,
    "start_time": "2022-02-23T05:11:28.841Z"
   },
   {
    "duration": 8,
    "start_time": "2022-02-23T05:11:29.155Z"
   },
   {
    "duration": 147,
    "start_time": "2022-02-23T05:11:29.165Z"
   },
   {
    "duration": 154,
    "start_time": "2022-02-23T05:11:29.314Z"
   },
   {
    "duration": 149,
    "start_time": "2022-02-23T05:11:29.470Z"
   },
   {
    "duration": 162,
    "start_time": "2022-02-23T05:11:29.622Z"
   },
   {
    "duration": 169,
    "start_time": "2022-02-23T05:11:29.786Z"
   },
   {
    "duration": 1178,
    "start_time": "2022-02-23T05:11:29.956Z"
   }
  ],
  "kernelspec": {
   "display_name": "Python 3 (ipykernel)",
   "language": "python",
   "name": "python3"
  },
  "language_info": {
   "codemirror_mode": {
    "name": "ipython",
    "version": 3
   },
   "file_extension": ".py",
   "mimetype": "text/x-python",
   "name": "python",
   "nbconvert_exporter": "python",
   "pygments_lexer": "ipython3",
   "version": "3.9.7"
  },
  "toc": {
   "base_numbering": 1,
   "nav_menu": {},
   "number_sections": true,
   "sideBar": true,
   "skip_h1_title": true,
   "title_cell": "Содержание",
   "title_sidebar": "Contents",
   "toc_cell": true,
   "toc_position": {
    "height": "calc(100% - 180px)",
    "left": "10px",
    "top": "150px",
    "width": "165px"
   },
   "toc_section_display": true,
   "toc_window_display": true
  }
 },
 "nbformat": 4,
 "nbformat_minor": 2
}
