{
 "cells": [
  {
   "cell_type": "markdown",
   "metadata": {},
   "source": [
    "# Определение перспективного тарифа для телеком-компании\n",
    "\n",
    "Компания \"Мегалайн\" - федеральный оператор сотовой связи, предлагает клиентам два тарифных плана: \"Смарт\" и \"Ультра\". Чтобы скорректировать рекламный бюджет, коммерческий департмент хочет понять, какой тариф приносит больше денег.\n",
    "\n",
    "Необходимо провести предварительный анализ на небольшой выборке клиентов. Даны данные 500 пользователей \"Мегалайна\": кто они, откуда, каким тарифом пользуются, сколько звонков и сообщений каждый отправил за 2018 год. Необходимо проанализировать поведение клиентов и сделать вывод - какой тариф лучше."
   ]
  },
  {
   "cell_type": "markdown",
   "metadata": {},
   "source": [
    "## Обзор данных"
   ]
  },
  {
   "cell_type": "markdown",
   "metadata": {},
   "source": [
    "Импортируем все необходимые для работы библиотеки:"
   ]
  },
  {
   "cell_type": "code",
   "execution_count": 1,
   "metadata": {},
   "outputs": [],
   "source": [
    "import pandas as pd\n",
    "import numpy as np\n",
    "import matplotlib.pyplot as plt\n",
    "from scipy import stats as st\n",
    "import seaborn as sns"
   ]
  },
  {
   "cell_type": "markdown",
   "metadata": {},
   "source": [
    "Прочитаем файлы `calls.csv`, `internet.csv`, `messages.csv`, `tariffs.csv`, `users.csv`  и сохраним их в переменной `calls`, `internet`, `messages`, `tariffs` и `users` соответственно:"
   ]
  },
  {
   "cell_type": "code",
   "execution_count": 2,
   "metadata": {},
   "outputs": [],
   "source": [
    "calls = pd.read_csv('calls.csv')\n",
    "internet = pd.read_csv('internet.csv')\n",
    "messages = pd.read_csv('messages.csv')\n",
    "tariffs = pd.read_csv('tariffs.csv')\n",
    "users = pd.read_csv('users.csv')"
   ]
  },
  {
   "cell_type": "markdown",
   "metadata": {},
   "source": [
    "**Ознакомимся с каждым датасетом отдельно:**"
   ]
  },
  {
   "cell_type": "markdown",
   "metadata": {},
   "source": [
    "**1.** Получим информацию о таблице `calls`:"
   ]
  },
  {
   "cell_type": "code",
   "execution_count": 3,
   "metadata": {
    "scrolled": true
   },
   "outputs": [
    {
     "data": {
      "text/html": [
       "<div>\n",
       "<style scoped>\n",
       "    .dataframe tbody tr th:only-of-type {\n",
       "        vertical-align: middle;\n",
       "    }\n",
       "\n",
       "    .dataframe tbody tr th {\n",
       "        vertical-align: top;\n",
       "    }\n",
       "\n",
       "    .dataframe thead th {\n",
       "        text-align: right;\n",
       "    }\n",
       "</style>\n",
       "<table border=\"1\" class=\"dataframe\">\n",
       "  <thead>\n",
       "    <tr style=\"text-align: right;\">\n",
       "      <th></th>\n",
       "      <th>id</th>\n",
       "      <th>call_date</th>\n",
       "      <th>duration</th>\n",
       "      <th>user_id</th>\n",
       "    </tr>\n",
       "  </thead>\n",
       "  <tbody>\n",
       "    <tr>\n",
       "      <th>0</th>\n",
       "      <td>1000_0</td>\n",
       "      <td>2018-07-25</td>\n",
       "      <td>0.00</td>\n",
       "      <td>1000</td>\n",
       "    </tr>\n",
       "    <tr>\n",
       "      <th>1</th>\n",
       "      <td>1000_1</td>\n",
       "      <td>2018-08-17</td>\n",
       "      <td>0.00</td>\n",
       "      <td>1000</td>\n",
       "    </tr>\n",
       "    <tr>\n",
       "      <th>2</th>\n",
       "      <td>1000_2</td>\n",
       "      <td>2018-06-11</td>\n",
       "      <td>2.85</td>\n",
       "      <td>1000</td>\n",
       "    </tr>\n",
       "    <tr>\n",
       "      <th>3</th>\n",
       "      <td>1000_3</td>\n",
       "      <td>2018-09-21</td>\n",
       "      <td>13.80</td>\n",
       "      <td>1000</td>\n",
       "    </tr>\n",
       "    <tr>\n",
       "      <th>4</th>\n",
       "      <td>1000_4</td>\n",
       "      <td>2018-12-15</td>\n",
       "      <td>5.18</td>\n",
       "      <td>1000</td>\n",
       "    </tr>\n",
       "    <tr>\n",
       "      <th>5</th>\n",
       "      <td>1000_5</td>\n",
       "      <td>2018-11-02</td>\n",
       "      <td>0.00</td>\n",
       "      <td>1000</td>\n",
       "    </tr>\n",
       "    <tr>\n",
       "      <th>6</th>\n",
       "      <td>1000_6</td>\n",
       "      <td>2018-10-18</td>\n",
       "      <td>0.00</td>\n",
       "      <td>1000</td>\n",
       "    </tr>\n",
       "    <tr>\n",
       "      <th>7</th>\n",
       "      <td>1000_7</td>\n",
       "      <td>2018-08-22</td>\n",
       "      <td>18.31</td>\n",
       "      <td>1000</td>\n",
       "    </tr>\n",
       "    <tr>\n",
       "      <th>8</th>\n",
       "      <td>1000_8</td>\n",
       "      <td>2018-09-15</td>\n",
       "      <td>18.44</td>\n",
       "      <td>1000</td>\n",
       "    </tr>\n",
       "    <tr>\n",
       "      <th>9</th>\n",
       "      <td>1000_9</td>\n",
       "      <td>2018-08-15</td>\n",
       "      <td>0.00</td>\n",
       "      <td>1000</td>\n",
       "    </tr>\n",
       "  </tbody>\n",
       "</table>\n",
       "</div>"
      ],
      "text/plain": [
       "       id   call_date  duration  user_id\n",
       "0  1000_0  2018-07-25      0.00     1000\n",
       "1  1000_1  2018-08-17      0.00     1000\n",
       "2  1000_2  2018-06-11      2.85     1000\n",
       "3  1000_3  2018-09-21     13.80     1000\n",
       "4  1000_4  2018-12-15      5.18     1000\n",
       "5  1000_5  2018-11-02      0.00     1000\n",
       "6  1000_6  2018-10-18      0.00     1000\n",
       "7  1000_7  2018-08-22     18.31     1000\n",
       "8  1000_8  2018-09-15     18.44     1000\n",
       "9  1000_9  2018-08-15      0.00     1000"
      ]
     },
     "metadata": {},
     "output_type": "display_data"
    }
   ],
   "source": [
    "display(calls.head(10)) # получение первых 10 строк таблицы calls"
   ]
  },
  {
   "cell_type": "code",
   "execution_count": 4,
   "metadata": {
    "scrolled": true
   },
   "outputs": [
    {
     "name": "stdout",
     "output_type": "stream",
     "text": [
      "<class 'pandas.core.frame.DataFrame'>\n",
      "RangeIndex: 202607 entries, 0 to 202606\n",
      "Data columns (total 4 columns):\n",
      " #   Column     Non-Null Count   Dtype  \n",
      "---  ------     --------------   -----  \n",
      " 0   id         202607 non-null  object \n",
      " 1   call_date  202607 non-null  object \n",
      " 2   duration   202607 non-null  float64\n",
      " 3   user_id    202607 non-null  int64  \n",
      "dtypes: float64(1), int64(1), object(2)\n",
      "memory usage: 6.2+ MB\n"
     ]
    }
   ],
   "source": [
    "calls.info()"
   ]
  },
  {
   "cell_type": "markdown",
   "metadata": {},
   "source": [
    "В таблице четыре столбца. Тип данных в столбцах `id` и `call_date` — object, в столбце `duration` - float, в столбце `user_id` - int.\n",
    "\n",
    "Согласно документации к данным:\n",
    "\n",
    "- id — уникальный номер звонка;\n",
    "- call_date — дата звонка;\n",
    "- duration — длительность звонка в минутах;\n",
    "- user_id — идентификатор пользователя, сделавшего звонок."
   ]
  },
  {
   "cell_type": "markdown",
   "metadata": {},
   "source": [
    "**2.** Получим информацию о таблице `internet`:"
   ]
  },
  {
   "cell_type": "code",
   "execution_count": 5,
   "metadata": {
    "scrolled": true
   },
   "outputs": [
    {
     "data": {
      "text/html": [
       "<div>\n",
       "<style scoped>\n",
       "    .dataframe tbody tr th:only-of-type {\n",
       "        vertical-align: middle;\n",
       "    }\n",
       "\n",
       "    .dataframe tbody tr th {\n",
       "        vertical-align: top;\n",
       "    }\n",
       "\n",
       "    .dataframe thead th {\n",
       "        text-align: right;\n",
       "    }\n",
       "</style>\n",
       "<table border=\"1\" class=\"dataframe\">\n",
       "  <thead>\n",
       "    <tr style=\"text-align: right;\">\n",
       "      <th></th>\n",
       "      <th>Unnamed: 0</th>\n",
       "      <th>id</th>\n",
       "      <th>mb_used</th>\n",
       "      <th>session_date</th>\n",
       "      <th>user_id</th>\n",
       "    </tr>\n",
       "  </thead>\n",
       "  <tbody>\n",
       "    <tr>\n",
       "      <th>0</th>\n",
       "      <td>0</td>\n",
       "      <td>1000_0</td>\n",
       "      <td>112.95</td>\n",
       "      <td>2018-11-25</td>\n",
       "      <td>1000</td>\n",
       "    </tr>\n",
       "    <tr>\n",
       "      <th>1</th>\n",
       "      <td>1</td>\n",
       "      <td>1000_1</td>\n",
       "      <td>1052.81</td>\n",
       "      <td>2018-09-07</td>\n",
       "      <td>1000</td>\n",
       "    </tr>\n",
       "    <tr>\n",
       "      <th>2</th>\n",
       "      <td>2</td>\n",
       "      <td>1000_2</td>\n",
       "      <td>1197.26</td>\n",
       "      <td>2018-06-25</td>\n",
       "      <td>1000</td>\n",
       "    </tr>\n",
       "    <tr>\n",
       "      <th>3</th>\n",
       "      <td>3</td>\n",
       "      <td>1000_3</td>\n",
       "      <td>550.27</td>\n",
       "      <td>2018-08-22</td>\n",
       "      <td>1000</td>\n",
       "    </tr>\n",
       "    <tr>\n",
       "      <th>4</th>\n",
       "      <td>4</td>\n",
       "      <td>1000_4</td>\n",
       "      <td>302.56</td>\n",
       "      <td>2018-09-24</td>\n",
       "      <td>1000</td>\n",
       "    </tr>\n",
       "    <tr>\n",
       "      <th>5</th>\n",
       "      <td>5</td>\n",
       "      <td>1000_5</td>\n",
       "      <td>399.97</td>\n",
       "      <td>2018-10-02</td>\n",
       "      <td>1000</td>\n",
       "    </tr>\n",
       "    <tr>\n",
       "      <th>6</th>\n",
       "      <td>6</td>\n",
       "      <td>1000_6</td>\n",
       "      <td>540.08</td>\n",
       "      <td>2018-09-07</td>\n",
       "      <td>1000</td>\n",
       "    </tr>\n",
       "    <tr>\n",
       "      <th>7</th>\n",
       "      <td>7</td>\n",
       "      <td>1000_7</td>\n",
       "      <td>415.70</td>\n",
       "      <td>2018-07-11</td>\n",
       "      <td>1000</td>\n",
       "    </tr>\n",
       "    <tr>\n",
       "      <th>8</th>\n",
       "      <td>8</td>\n",
       "      <td>1000_8</td>\n",
       "      <td>505.40</td>\n",
       "      <td>2018-10-08</td>\n",
       "      <td>1000</td>\n",
       "    </tr>\n",
       "    <tr>\n",
       "      <th>9</th>\n",
       "      <td>9</td>\n",
       "      <td>1000_9</td>\n",
       "      <td>345.54</td>\n",
       "      <td>2018-09-03</td>\n",
       "      <td>1000</td>\n",
       "    </tr>\n",
       "  </tbody>\n",
       "</table>\n",
       "</div>"
      ],
      "text/plain": [
       "   Unnamed: 0      id  mb_used session_date  user_id\n",
       "0           0  1000_0   112.95   2018-11-25     1000\n",
       "1           1  1000_1  1052.81   2018-09-07     1000\n",
       "2           2  1000_2  1197.26   2018-06-25     1000\n",
       "3           3  1000_3   550.27   2018-08-22     1000\n",
       "4           4  1000_4   302.56   2018-09-24     1000\n",
       "5           5  1000_5   399.97   2018-10-02     1000\n",
       "6           6  1000_6   540.08   2018-09-07     1000\n",
       "7           7  1000_7   415.70   2018-07-11     1000\n",
       "8           8  1000_8   505.40   2018-10-08     1000\n",
       "9           9  1000_9   345.54   2018-09-03     1000"
      ]
     },
     "metadata": {},
     "output_type": "display_data"
    }
   ],
   "source": [
    "display(internet.head(10)) # получение первых 10 строк таблицы internet"
   ]
  },
  {
   "cell_type": "code",
   "execution_count": 6,
   "metadata": {
    "scrolled": true
   },
   "outputs": [
    {
     "name": "stdout",
     "output_type": "stream",
     "text": [
      "<class 'pandas.core.frame.DataFrame'>\n",
      "RangeIndex: 149396 entries, 0 to 149395\n",
      "Data columns (total 5 columns):\n",
      " #   Column        Non-Null Count   Dtype  \n",
      "---  ------        --------------   -----  \n",
      " 0   Unnamed: 0    149396 non-null  int64  \n",
      " 1   id            149396 non-null  object \n",
      " 2   mb_used       149396 non-null  float64\n",
      " 3   session_date  149396 non-null  object \n",
      " 4   user_id       149396 non-null  int64  \n",
      "dtypes: float64(1), int64(2), object(2)\n",
      "memory usage: 5.7+ MB\n"
     ]
    }
   ],
   "source": [
    "internet.info()"
   ]
  },
  {
   "cell_type": "markdown",
   "metadata": {},
   "source": [
    "В таблице пять столбцов. Тип данных в столбцах `id` и `session_date` — object, в столбце `mb_used` - float, в столбце `user_id` и `Unnamed` - int. \n",
    "\n",
    "Согласно документации к данным:\n",
    "\n",
    "- id — уникальный номер сессии;\n",
    "- mb_used — объем потраченного за сессию интернет-трафика (в мегабайтах);\n",
    "- session_date — дата интернет-сессии;\n",
    "- user_id — идентификатор пользователя."
   ]
  },
  {
   "cell_type": "markdown",
   "metadata": {},
   "source": [
    "**3.** Получим информацию о таблице `messages`:"
   ]
  },
  {
   "cell_type": "code",
   "execution_count": 7,
   "metadata": {
    "scrolled": false
   },
   "outputs": [
    {
     "data": {
      "text/html": [
       "<div>\n",
       "<style scoped>\n",
       "    .dataframe tbody tr th:only-of-type {\n",
       "        vertical-align: middle;\n",
       "    }\n",
       "\n",
       "    .dataframe tbody tr th {\n",
       "        vertical-align: top;\n",
       "    }\n",
       "\n",
       "    .dataframe thead th {\n",
       "        text-align: right;\n",
       "    }\n",
       "</style>\n",
       "<table border=\"1\" class=\"dataframe\">\n",
       "  <thead>\n",
       "    <tr style=\"text-align: right;\">\n",
       "      <th></th>\n",
       "      <th>id</th>\n",
       "      <th>message_date</th>\n",
       "      <th>user_id</th>\n",
       "    </tr>\n",
       "  </thead>\n",
       "  <tbody>\n",
       "    <tr>\n",
       "      <th>0</th>\n",
       "      <td>1000_0</td>\n",
       "      <td>2018-06-27</td>\n",
       "      <td>1000</td>\n",
       "    </tr>\n",
       "    <tr>\n",
       "      <th>1</th>\n",
       "      <td>1000_1</td>\n",
       "      <td>2018-10-08</td>\n",
       "      <td>1000</td>\n",
       "    </tr>\n",
       "    <tr>\n",
       "      <th>2</th>\n",
       "      <td>1000_2</td>\n",
       "      <td>2018-08-04</td>\n",
       "      <td>1000</td>\n",
       "    </tr>\n",
       "    <tr>\n",
       "      <th>3</th>\n",
       "      <td>1000_3</td>\n",
       "      <td>2018-06-16</td>\n",
       "      <td>1000</td>\n",
       "    </tr>\n",
       "    <tr>\n",
       "      <th>4</th>\n",
       "      <td>1000_4</td>\n",
       "      <td>2018-12-05</td>\n",
       "      <td>1000</td>\n",
       "    </tr>\n",
       "    <tr>\n",
       "      <th>5</th>\n",
       "      <td>1000_5</td>\n",
       "      <td>2018-06-20</td>\n",
       "      <td>1000</td>\n",
       "    </tr>\n",
       "    <tr>\n",
       "      <th>6</th>\n",
       "      <td>1000_6</td>\n",
       "      <td>2018-11-19</td>\n",
       "      <td>1000</td>\n",
       "    </tr>\n",
       "    <tr>\n",
       "      <th>7</th>\n",
       "      <td>1000_7</td>\n",
       "      <td>2018-10-29</td>\n",
       "      <td>1000</td>\n",
       "    </tr>\n",
       "    <tr>\n",
       "      <th>8</th>\n",
       "      <td>1000_8</td>\n",
       "      <td>2018-06-25</td>\n",
       "      <td>1000</td>\n",
       "    </tr>\n",
       "    <tr>\n",
       "      <th>9</th>\n",
       "      <td>1000_9</td>\n",
       "      <td>2018-12-18</td>\n",
       "      <td>1000</td>\n",
       "    </tr>\n",
       "  </tbody>\n",
       "</table>\n",
       "</div>"
      ],
      "text/plain": [
       "       id message_date  user_id\n",
       "0  1000_0   2018-06-27     1000\n",
       "1  1000_1   2018-10-08     1000\n",
       "2  1000_2   2018-08-04     1000\n",
       "3  1000_3   2018-06-16     1000\n",
       "4  1000_4   2018-12-05     1000\n",
       "5  1000_5   2018-06-20     1000\n",
       "6  1000_6   2018-11-19     1000\n",
       "7  1000_7   2018-10-29     1000\n",
       "8  1000_8   2018-06-25     1000\n",
       "9  1000_9   2018-12-18     1000"
      ]
     },
     "metadata": {},
     "output_type": "display_data"
    }
   ],
   "source": [
    "display(messages.head(10)) # получение первых 10 строк таблицы messages"
   ]
  },
  {
   "cell_type": "code",
   "execution_count": 8,
   "metadata": {},
   "outputs": [
    {
     "name": "stdout",
     "output_type": "stream",
     "text": [
      "<class 'pandas.core.frame.DataFrame'>\n",
      "RangeIndex: 123036 entries, 0 to 123035\n",
      "Data columns (total 3 columns):\n",
      " #   Column        Non-Null Count   Dtype \n",
      "---  ------        --------------   ----- \n",
      " 0   id            123036 non-null  object\n",
      " 1   message_date  123036 non-null  object\n",
      " 2   user_id       123036 non-null  int64 \n",
      "dtypes: int64(1), object(2)\n",
      "memory usage: 2.8+ MB\n"
     ]
    }
   ],
   "source": [
    "messages.info()"
   ]
  },
  {
   "cell_type": "markdown",
   "metadata": {},
   "source": [
    "В таблице три столбца. Тип данных в столбцах `id` и `message_date` — object, в столбце `user_id` - int.\n",
    "\n",
    "Согласно документации к данным:\n",
    "\n",
    "- id — уникальный номер сообщения;\n",
    "- message_date — дата сообщения;\n",
    "- user_id — идентификатор пользователя, отправившего сообщение."
   ]
  },
  {
   "cell_type": "markdown",
   "metadata": {},
   "source": [
    "**4.** Получим информацию о таблице `tariffs`:"
   ]
  },
  {
   "cell_type": "code",
   "execution_count": 9,
   "metadata": {
    "scrolled": false
   },
   "outputs": [
    {
     "data": {
      "text/html": [
       "<div>\n",
       "<style scoped>\n",
       "    .dataframe tbody tr th:only-of-type {\n",
       "        vertical-align: middle;\n",
       "    }\n",
       "\n",
       "    .dataframe tbody tr th {\n",
       "        vertical-align: top;\n",
       "    }\n",
       "\n",
       "    .dataframe thead th {\n",
       "        text-align: right;\n",
       "    }\n",
       "</style>\n",
       "<table border=\"1\" class=\"dataframe\">\n",
       "  <thead>\n",
       "    <tr style=\"text-align: right;\">\n",
       "      <th></th>\n",
       "      <th>messages_included</th>\n",
       "      <th>mb_per_month_included</th>\n",
       "      <th>minutes_included</th>\n",
       "      <th>rub_monthly_fee</th>\n",
       "      <th>rub_per_gb</th>\n",
       "      <th>rub_per_message</th>\n",
       "      <th>rub_per_minute</th>\n",
       "      <th>tariff_name</th>\n",
       "    </tr>\n",
       "  </thead>\n",
       "  <tbody>\n",
       "    <tr>\n",
       "      <th>0</th>\n",
       "      <td>50</td>\n",
       "      <td>15360</td>\n",
       "      <td>500</td>\n",
       "      <td>550</td>\n",
       "      <td>200</td>\n",
       "      <td>3</td>\n",
       "      <td>3</td>\n",
       "      <td>smart</td>\n",
       "    </tr>\n",
       "    <tr>\n",
       "      <th>1</th>\n",
       "      <td>1000</td>\n",
       "      <td>30720</td>\n",
       "      <td>3000</td>\n",
       "      <td>1950</td>\n",
       "      <td>150</td>\n",
       "      <td>1</td>\n",
       "      <td>1</td>\n",
       "      <td>ultra</td>\n",
       "    </tr>\n",
       "  </tbody>\n",
       "</table>\n",
       "</div>"
      ],
      "text/plain": [
       "   messages_included  mb_per_month_included  minutes_included  \\\n",
       "0                 50                  15360               500   \n",
       "1               1000                  30720              3000   \n",
       "\n",
       "   rub_monthly_fee  rub_per_gb  rub_per_message  rub_per_minute tariff_name  \n",
       "0              550         200                3               3       smart  \n",
       "1             1950         150                1               1       ultra  "
      ]
     },
     "metadata": {},
     "output_type": "display_data"
    }
   ],
   "source": [
    "display(tariffs.head(10)) # получение первых 10 строк таблицы tariffs"
   ]
  },
  {
   "cell_type": "code",
   "execution_count": 10,
   "metadata": {},
   "outputs": [
    {
     "name": "stdout",
     "output_type": "stream",
     "text": [
      "<class 'pandas.core.frame.DataFrame'>\n",
      "RangeIndex: 2 entries, 0 to 1\n",
      "Data columns (total 8 columns):\n",
      " #   Column                 Non-Null Count  Dtype \n",
      "---  ------                 --------------  ----- \n",
      " 0   messages_included      2 non-null      int64 \n",
      " 1   mb_per_month_included  2 non-null      int64 \n",
      " 2   minutes_included       2 non-null      int64 \n",
      " 3   rub_monthly_fee        2 non-null      int64 \n",
      " 4   rub_per_gb             2 non-null      int64 \n",
      " 5   rub_per_message        2 non-null      int64 \n",
      " 6   rub_per_minute         2 non-null      int64 \n",
      " 7   tariff_name            2 non-null      object\n",
      "dtypes: int64(7), object(1)\n",
      "memory usage: 256.0+ bytes\n"
     ]
    }
   ],
   "source": [
    "tariffs.info()"
   ]
  },
  {
   "cell_type": "markdown",
   "metadata": {},
   "source": [
    "В таблице восемь столбцов. Тип данных в столбце `tariff_name` — object, в остальных столбцах - int.\n",
    "\n",
    "Согласно документации к данным:\n",
    "\n",
    "- tariff_name — название тарифа;\n",
    "- rub_monthly_fee — ежемесячная абонентская плата в рублях;\n",
    "- minutes_included — количество минут разговора в месяц, включённых в абонентскую плату;\n",
    "- messages_included - количество сообщений в месяц, включённых в абонентскую плату;\n",
    "- mb_per_month_included - объём интернет-трафика, включённого в абонентскую плату (в мегабайтах)\n",
    "- rub_per_minute - стоимость минуты разговора сверх тарифного пакета;\n",
    "- rub_per_message - стоимость отправки сообщения сверх тарифного пакета;\n",
    "- rub_per_gb - стоимость дополнительного гигабайта интернет-трафика сверх тарифного пакета.\n"
   ]
  },
  {
   "cell_type": "markdown",
   "metadata": {},
   "source": [
    "**5.** Получим информацию о таблице `users`:"
   ]
  },
  {
   "cell_type": "code",
   "execution_count": 11,
   "metadata": {
    "scrolled": false
   },
   "outputs": [
    {
     "data": {
      "text/html": [
       "<div>\n",
       "<style scoped>\n",
       "    .dataframe tbody tr th:only-of-type {\n",
       "        vertical-align: middle;\n",
       "    }\n",
       "\n",
       "    .dataframe tbody tr th {\n",
       "        vertical-align: top;\n",
       "    }\n",
       "\n",
       "    .dataframe thead th {\n",
       "        text-align: right;\n",
       "    }\n",
       "</style>\n",
       "<table border=\"1\" class=\"dataframe\">\n",
       "  <thead>\n",
       "    <tr style=\"text-align: right;\">\n",
       "      <th></th>\n",
       "      <th>user_id</th>\n",
       "      <th>age</th>\n",
       "      <th>churn_date</th>\n",
       "      <th>city</th>\n",
       "      <th>first_name</th>\n",
       "      <th>last_name</th>\n",
       "      <th>reg_date</th>\n",
       "      <th>tariff</th>\n",
       "    </tr>\n",
       "  </thead>\n",
       "  <tbody>\n",
       "    <tr>\n",
       "      <th>0</th>\n",
       "      <td>1000</td>\n",
       "      <td>52</td>\n",
       "      <td>NaN</td>\n",
       "      <td>Краснодар</td>\n",
       "      <td>Рафаил</td>\n",
       "      <td>Верещагин</td>\n",
       "      <td>2018-05-25</td>\n",
       "      <td>ultra</td>\n",
       "    </tr>\n",
       "    <tr>\n",
       "      <th>1</th>\n",
       "      <td>1001</td>\n",
       "      <td>41</td>\n",
       "      <td>NaN</td>\n",
       "      <td>Москва</td>\n",
       "      <td>Иван</td>\n",
       "      <td>Ежов</td>\n",
       "      <td>2018-11-01</td>\n",
       "      <td>smart</td>\n",
       "    </tr>\n",
       "    <tr>\n",
       "      <th>2</th>\n",
       "      <td>1002</td>\n",
       "      <td>59</td>\n",
       "      <td>NaN</td>\n",
       "      <td>Стерлитамак</td>\n",
       "      <td>Евгений</td>\n",
       "      <td>Абрамович</td>\n",
       "      <td>2018-06-17</td>\n",
       "      <td>smart</td>\n",
       "    </tr>\n",
       "    <tr>\n",
       "      <th>3</th>\n",
       "      <td>1003</td>\n",
       "      <td>23</td>\n",
       "      <td>NaN</td>\n",
       "      <td>Москва</td>\n",
       "      <td>Белла</td>\n",
       "      <td>Белякова</td>\n",
       "      <td>2018-08-17</td>\n",
       "      <td>ultra</td>\n",
       "    </tr>\n",
       "    <tr>\n",
       "      <th>4</th>\n",
       "      <td>1004</td>\n",
       "      <td>68</td>\n",
       "      <td>NaN</td>\n",
       "      <td>Новокузнецк</td>\n",
       "      <td>Татьяна</td>\n",
       "      <td>Авдеенко</td>\n",
       "      <td>2018-05-14</td>\n",
       "      <td>ultra</td>\n",
       "    </tr>\n",
       "    <tr>\n",
       "      <th>5</th>\n",
       "      <td>1005</td>\n",
       "      <td>67</td>\n",
       "      <td>NaN</td>\n",
       "      <td>Набережные Челны</td>\n",
       "      <td>Афанасий</td>\n",
       "      <td>Горлов</td>\n",
       "      <td>2018-01-25</td>\n",
       "      <td>smart</td>\n",
       "    </tr>\n",
       "    <tr>\n",
       "      <th>6</th>\n",
       "      <td>1006</td>\n",
       "      <td>21</td>\n",
       "      <td>NaN</td>\n",
       "      <td>Ульяновск</td>\n",
       "      <td>Леонид</td>\n",
       "      <td>Ермолаев</td>\n",
       "      <td>2018-02-26</td>\n",
       "      <td>smart</td>\n",
       "    </tr>\n",
       "    <tr>\n",
       "      <th>7</th>\n",
       "      <td>1007</td>\n",
       "      <td>65</td>\n",
       "      <td>NaN</td>\n",
       "      <td>Москва</td>\n",
       "      <td>Юна</td>\n",
       "      <td>Березина</td>\n",
       "      <td>2018-04-19</td>\n",
       "      <td>smart</td>\n",
       "    </tr>\n",
       "    <tr>\n",
       "      <th>8</th>\n",
       "      <td>1008</td>\n",
       "      <td>63</td>\n",
       "      <td>NaN</td>\n",
       "      <td>Челябинск</td>\n",
       "      <td>Рустэм</td>\n",
       "      <td>Пономарёв</td>\n",
       "      <td>2018-12-19</td>\n",
       "      <td>smart</td>\n",
       "    </tr>\n",
       "    <tr>\n",
       "      <th>9</th>\n",
       "      <td>1009</td>\n",
       "      <td>24</td>\n",
       "      <td>NaN</td>\n",
       "      <td>Пермь</td>\n",
       "      <td>Василиса</td>\n",
       "      <td>Блинова</td>\n",
       "      <td>2018-03-22</td>\n",
       "      <td>smart</td>\n",
       "    </tr>\n",
       "  </tbody>\n",
       "</table>\n",
       "</div>"
      ],
      "text/plain": [
       "   user_id  age churn_date              city first_name  last_name  \\\n",
       "0     1000   52        NaN         Краснодар     Рафаил  Верещагин   \n",
       "1     1001   41        NaN            Москва       Иван       Ежов   \n",
       "2     1002   59        NaN       Стерлитамак    Евгений  Абрамович   \n",
       "3     1003   23        NaN            Москва      Белла   Белякова   \n",
       "4     1004   68        NaN       Новокузнецк    Татьяна   Авдеенко   \n",
       "5     1005   67        NaN  Набережные Челны   Афанасий     Горлов   \n",
       "6     1006   21        NaN         Ульяновск     Леонид   Ермолаев   \n",
       "7     1007   65        NaN            Москва        Юна   Березина   \n",
       "8     1008   63        NaN         Челябинск     Рустэм  Пономарёв   \n",
       "9     1009   24        NaN             Пермь   Василиса    Блинова   \n",
       "\n",
       "     reg_date tariff  \n",
       "0  2018-05-25  ultra  \n",
       "1  2018-11-01  smart  \n",
       "2  2018-06-17  smart  \n",
       "3  2018-08-17  ultra  \n",
       "4  2018-05-14  ultra  \n",
       "5  2018-01-25  smart  \n",
       "6  2018-02-26  smart  \n",
       "7  2018-04-19  smart  \n",
       "8  2018-12-19  smart  \n",
       "9  2018-03-22  smart  "
      ]
     },
     "metadata": {},
     "output_type": "display_data"
    }
   ],
   "source": [
    "display(users.head(10)) # получение первых 10 строк таблицы users"
   ]
  },
  {
   "cell_type": "code",
   "execution_count": 12,
   "metadata": {},
   "outputs": [
    {
     "name": "stdout",
     "output_type": "stream",
     "text": [
      "<class 'pandas.core.frame.DataFrame'>\n",
      "RangeIndex: 500 entries, 0 to 499\n",
      "Data columns (total 8 columns):\n",
      " #   Column      Non-Null Count  Dtype \n",
      "---  ------      --------------  ----- \n",
      " 0   user_id     500 non-null    int64 \n",
      " 1   age         500 non-null    int64 \n",
      " 2   churn_date  38 non-null     object\n",
      " 3   city        500 non-null    object\n",
      " 4   first_name  500 non-null    object\n",
      " 5   last_name   500 non-null    object\n",
      " 6   reg_date    500 non-null    object\n",
      " 7   tariff      500 non-null    object\n",
      "dtypes: int64(2), object(6)\n",
      "memory usage: 31.4+ KB\n"
     ]
    }
   ],
   "source": [
    "users.info()"
   ]
  },
  {
   "cell_type": "markdown",
   "metadata": {},
   "source": [
    "В таблице восемь столбцов. Тип данных в столбце `user_id` и `age ` — int, в остальных столбцах - object.\n",
    "\n",
    "Согласно документации к данным:\n",
    "\n",
    "- user_id  — уникальный идентификатор пользователя;\n",
    "- first_name — имя пользователя;\n",
    "- last_name — фамилия пользователя;\n",
    "- age - возраст пользователя (годы);\n",
    "- reg_date - дата подключения тарифа (день,месяц,год);\n",
    "- churn_date - дата прекращения пользования тарифом;\n",
    "- city - город проживания пользователя;\n",
    "- tariff - название тарифного плана."
   ]
  },
  {
   "cell_type": "markdown",
   "metadata": {},
   "source": [
    "**6.** Проверим датасеты на наличие дубликатов:"
   ]
  },
  {
   "cell_type": "code",
   "execution_count": 13,
   "metadata": {
    "scrolled": true
   },
   "outputs": [
    {
     "name": "stdout",
     "output_type": "stream",
     "text": [
      "Количество дубликатов в датасете со звонками: 0\n",
      "Количество дубликатов в датасете с интернет-трафиком: 0\n",
      "Количество дубликатов в датасете с сообщениями: 0\n",
      "Количество дубликатов в датасете с тарифами: 0\n",
      "Количество дубликатов в датасете с пользователями: 0\n"
     ]
    }
   ],
   "source": [
    "print('Количество дубликатов в датасете со звонками:',calls.duplicated().sum())\n",
    "print('Количество дубликатов в датасете с интернет-трафиком:',internet.duplicated().sum())\n",
    "print('Количество дубликатов в датасете с сообщениями:',messages.duplicated().sum())\n",
    "print('Количество дубликатов в датасете с тарифами:',tariffs.duplicated().sum())\n",
    "print('Количество дубликатов в датасете с пользователями:',users.duplicated().sum())"
   ]
  },
  {
   "cell_type": "markdown",
   "metadata": {},
   "source": [
    "**Вывод**\n",
    "\n",
    "В каждой строке таблиц — полные данные о том каким тарифом пользовался пользователь и как он это делал, и дана информация по пользователю в разрезе идентификации пользователя. \n",
    "\n",
    "Данных достаточно для проверки гипотез. Встречаются пропуски в столбце `churn_date`, но согласно документации данные отсутствуют потому, что тариф ещё действовал на момент выгрузки данных.\n",
    "\n",
    "В датасете `internet` существует лишний столбец, дублирующий индексацию строк.\n",
    "\n",
    "Некоторые значения в датасетах требуют изменения типа данных и округления значений:\n",
    "- в датасете `calls` - столбец duration нужно округлить до ровного значения, поскольку \"Мегалайн\" всегда округляет секунды до минут\n",
    "- в датасете `internet` - столбец mb_used нужно округлить до ровного значения, поскольку \"Мегалайн\" всегда округляет мегабайты до гигабайт, и для расчета ровные значения использовать удобнее.\n",
    "- в датасетах `users`, `messages`, `internet`, `calls` ячейки с датами нужно привести к формату даты."
   ]
  },
  {
   "cell_type": "markdown",
   "metadata": {},
   "source": [
    "## Подготовка данных"
   ]
  },
  {
   "cell_type": "markdown",
   "metadata": {},
   "source": [
    "### Исправление ошибок"
   ]
  },
  {
   "cell_type": "markdown",
   "metadata": {},
   "source": [
    "Приведем данные к нужным типам:"
   ]
  },
  {
   "cell_type": "code",
   "execution_count": 14,
   "metadata": {},
   "outputs": [],
   "source": [
    "calls['call_date'] = pd.to_datetime(calls['call_date'], format='%Y-%m-%d')\n",
    "internet['session_date'] = pd.to_datetime(internet['session_date'], format='%Y-%m-%d')\n",
    "messages['message_date'] = pd.to_datetime(messages['message_date'], format='%Y-%m-%d')\n",
    "users['churn_date'] = pd.to_datetime(users['churn_date'], format='%Y-%m-%d')\n",
    "users['reg_date'] = pd.to_datetime(users['reg_date'], format='%Y-%m-%d')"
   ]
  },
  {
   "cell_type": "code",
   "execution_count": 15,
   "metadata": {},
   "outputs": [
    {
     "name": "stdout",
     "output_type": "stream",
     "text": [
      "Количество данных по звонкам не за 2018 год: 0\n",
      "Количество данных по интернет трафику не за 2018 год: 0\n",
      "Количество данных по сообщениям не за 2018 год: 0\n",
      "Количество данных по дате прекращения пользования тарифом не за 2018 год: 0\n",
      "Количество данных по дате подключения тарифа не за 2018 год: 0\n"
     ]
    }
   ],
   "source": [
    "print('Количество данных по звонкам не за 2018 год:',\n",
    "      calls[(calls['call_date'] > \"2018-12-31\") & (calls['call_date'] < \"2018-01-01\")]['call_date'].count())\n",
    "print('Количество данных по интернет трафику не за 2018 год:',\n",
    "      internet[(internet['session_date'] > \"2018-12-31\") & (internet['session_date'] < \"2018-01-01\")]['session_date'].count())\n",
    "print('Количество данных по сообщениям не за 2018 год:',\n",
    "      messages[(messages['message_date'] > \"2018-12-31\") & (messages['message_date'] < \"2018-01-01\")]['message_date'].count())\n",
    "print('Количество данных по дате прекращения пользования тарифом не за 2018 год:',\n",
    "      users[(users['churn_date'] > \"2018-12-31\") & (users['churn_date'] < \"2018-01-01\")]['churn_date'].count())\n",
    "print('Количество данных по дате подключения тарифа не за 2018 год:',\n",
    "      users[(users['reg_date']> \"2018-12-31\") &(users['reg_date']< \"2018-01-01\")]['reg_date'].count())"
   ]
  },
  {
   "cell_type": "markdown",
   "metadata": {},
   "source": [
    "Откруглим значения секунд разговора и интернет-трафика в датасетах `calls` и `internet`:"
   ]
  },
  {
   "cell_type": "code",
   "execution_count": 16,
   "metadata": {},
   "outputs": [],
   "source": [
    "calls['duration'] = calls['duration'].apply(np.ceil)\n",
    "internet['mb_used'] = internet['mb_used'].apply(np.ceil)"
   ]
  },
  {
   "cell_type": "markdown",
   "metadata": {},
   "source": [
    "В датесете `internet` выявлен столбец дублирующий индексацию во всем датафрейме. Избавимся от столбца `Unnamed: 0`:"
   ]
  },
  {
   "cell_type": "code",
   "execution_count": 17,
   "metadata": {},
   "outputs": [],
   "source": [
    "internet = internet.loc[:,'id' : 'user_id']"
   ]
  },
  {
   "cell_type": "markdown",
   "metadata": {},
   "source": [
    "### Объединение таблиц"
   ]
  },
  {
   "cell_type": "markdown",
   "metadata": {},
   "source": [
    "Далее, для того чтобы посчитать для каждого пользователя количество сделанных звонков, отправленных сообщений и объем израсходованного интернет-трафика по месяцам, добавим в датасеты `calls`, `internet`, `messages` столбцы со значением месяца:"
   ]
  },
  {
   "cell_type": "code",
   "execution_count": 18,
   "metadata": {},
   "outputs": [],
   "source": [
    "calls['month'] = calls['call_date'].dt.month\n",
    "internet['month'] = internet['session_date'].dt.month\n",
    "messages['month'] = messages['message_date'].dt.month"
   ]
  },
  {
   "cell_type": "code",
   "execution_count": 19,
   "metadata": {
    "scrolled": true
   },
   "outputs": [
    {
     "data": {
      "text/html": [
       "<div>\n",
       "<style scoped>\n",
       "    .dataframe tbody tr th:only-of-type {\n",
       "        vertical-align: middle;\n",
       "    }\n",
       "\n",
       "    .dataframe tbody tr th {\n",
       "        vertical-align: top;\n",
       "    }\n",
       "\n",
       "    .dataframe thead th {\n",
       "        text-align: right;\n",
       "    }\n",
       "</style>\n",
       "<table border=\"1\" class=\"dataframe\">\n",
       "  <thead>\n",
       "    <tr style=\"text-align: right;\">\n",
       "      <th></th>\n",
       "      <th>user_id</th>\n",
       "      <th>month</th>\n",
       "      <th>calls</th>\n",
       "      <th>duration</th>\n",
       "    </tr>\n",
       "  </thead>\n",
       "  <tbody>\n",
       "    <tr>\n",
       "      <th>0</th>\n",
       "      <td>1000</td>\n",
       "      <td>5</td>\n",
       "      <td>22</td>\n",
       "      <td>159.0</td>\n",
       "    </tr>\n",
       "    <tr>\n",
       "      <th>1</th>\n",
       "      <td>1000</td>\n",
       "      <td>6</td>\n",
       "      <td>43</td>\n",
       "      <td>172.0</td>\n",
       "    </tr>\n",
       "    <tr>\n",
       "      <th>2</th>\n",
       "      <td>1000</td>\n",
       "      <td>7</td>\n",
       "      <td>47</td>\n",
       "      <td>340.0</td>\n",
       "    </tr>\n",
       "    <tr>\n",
       "      <th>3</th>\n",
       "      <td>1000</td>\n",
       "      <td>8</td>\n",
       "      <td>52</td>\n",
       "      <td>408.0</td>\n",
       "    </tr>\n",
       "    <tr>\n",
       "      <th>4</th>\n",
       "      <td>1000</td>\n",
       "      <td>9</td>\n",
       "      <td>58</td>\n",
       "      <td>466.0</td>\n",
       "    </tr>\n",
       "  </tbody>\n",
       "</table>\n",
       "</div>"
      ],
      "text/plain": [
       "   user_id  month  calls  duration\n",
       "0     1000      5     22     159.0\n",
       "1     1000      6     43     172.0\n",
       "2     1000      7     47     340.0\n",
       "3     1000      8     52     408.0\n",
       "4     1000      9     58     466.0"
      ]
     },
     "execution_count": 19,
     "metadata": {},
     "output_type": "execute_result"
    }
   ],
   "source": [
    "# сводная таблица по звонкам\n",
    "calls_pivot = calls.pivot_table(index = ['user_id','month'], values = 'duration', aggfunc = ['count','sum'])\n",
    "calls_pivot.columns = ['calls', 'duration']\n",
    "calls_pivot.reset_index().head()"
   ]
  },
  {
   "cell_type": "code",
   "execution_count": 20,
   "metadata": {
    "scrolled": true
   },
   "outputs": [
    {
     "data": {
      "text/html": [
       "<div>\n",
       "<style scoped>\n",
       "    .dataframe tbody tr th:only-of-type {\n",
       "        vertical-align: middle;\n",
       "    }\n",
       "\n",
       "    .dataframe tbody tr th {\n",
       "        vertical-align: top;\n",
       "    }\n",
       "\n",
       "    .dataframe thead th {\n",
       "        text-align: right;\n",
       "    }\n",
       "</style>\n",
       "<table border=\"1\" class=\"dataframe\">\n",
       "  <thead>\n",
       "    <tr style=\"text-align: right;\">\n",
       "      <th></th>\n",
       "      <th>user_id</th>\n",
       "      <th>month</th>\n",
       "      <th>messages</th>\n",
       "    </tr>\n",
       "  </thead>\n",
       "  <tbody>\n",
       "    <tr>\n",
       "      <th>0</th>\n",
       "      <td>1000</td>\n",
       "      <td>5</td>\n",
       "      <td>22</td>\n",
       "    </tr>\n",
       "    <tr>\n",
       "      <th>1</th>\n",
       "      <td>1000</td>\n",
       "      <td>6</td>\n",
       "      <td>60</td>\n",
       "    </tr>\n",
       "    <tr>\n",
       "      <th>2</th>\n",
       "      <td>1000</td>\n",
       "      <td>7</td>\n",
       "      <td>75</td>\n",
       "    </tr>\n",
       "    <tr>\n",
       "      <th>3</th>\n",
       "      <td>1000</td>\n",
       "      <td>8</td>\n",
       "      <td>81</td>\n",
       "    </tr>\n",
       "    <tr>\n",
       "      <th>4</th>\n",
       "      <td>1000</td>\n",
       "      <td>9</td>\n",
       "      <td>57</td>\n",
       "    </tr>\n",
       "  </tbody>\n",
       "</table>\n",
       "</div>"
      ],
      "text/plain": [
       "   user_id  month  messages\n",
       "0     1000      5        22\n",
       "1     1000      6        60\n",
       "2     1000      7        75\n",
       "3     1000      8        81\n",
       "4     1000      9        57"
      ]
     },
     "execution_count": 20,
     "metadata": {},
     "output_type": "execute_result"
    }
   ],
   "source": [
    "# сводная таблица по сообщениям\n",
    "messages_pivot = messages.pivot_table(index = ['user_id','month'], values = 'id', aggfunc = 'count')\n",
    "messages_pivot.columns = ['messages']\n",
    "messages_pivot.reset_index().head()"
   ]
  },
  {
   "cell_type": "code",
   "execution_count": 21,
   "metadata": {
    "scrolled": true
   },
   "outputs": [
    {
     "data": {
      "text/html": [
       "<div>\n",
       "<style scoped>\n",
       "    .dataframe tbody tr th:only-of-type {\n",
       "        vertical-align: middle;\n",
       "    }\n",
       "\n",
       "    .dataframe tbody tr th {\n",
       "        vertical-align: top;\n",
       "    }\n",
       "\n",
       "    .dataframe thead th {\n",
       "        text-align: right;\n",
       "    }\n",
       "</style>\n",
       "<table border=\"1\" class=\"dataframe\">\n",
       "  <thead>\n",
       "    <tr style=\"text-align: right;\">\n",
       "      <th></th>\n",
       "      <th>user_id</th>\n",
       "      <th>month</th>\n",
       "      <th>mb_used</th>\n",
       "    </tr>\n",
       "  </thead>\n",
       "  <tbody>\n",
       "    <tr>\n",
       "      <th>0</th>\n",
       "      <td>1000</td>\n",
       "      <td>5</td>\n",
       "      <td>2256.0</td>\n",
       "    </tr>\n",
       "    <tr>\n",
       "      <th>1</th>\n",
       "      <td>1000</td>\n",
       "      <td>6</td>\n",
       "      <td>23257.0</td>\n",
       "    </tr>\n",
       "    <tr>\n",
       "      <th>2</th>\n",
       "      <td>1000</td>\n",
       "      <td>7</td>\n",
       "      <td>14016.0</td>\n",
       "    </tr>\n",
       "    <tr>\n",
       "      <th>3</th>\n",
       "      <td>1000</td>\n",
       "      <td>8</td>\n",
       "      <td>14070.0</td>\n",
       "    </tr>\n",
       "    <tr>\n",
       "      <th>4</th>\n",
       "      <td>1000</td>\n",
       "      <td>9</td>\n",
       "      <td>14581.0</td>\n",
       "    </tr>\n",
       "  </tbody>\n",
       "</table>\n",
       "</div>"
      ],
      "text/plain": [
       "   user_id  month  mb_used\n",
       "0     1000      5   2256.0\n",
       "1     1000      6  23257.0\n",
       "2     1000      7  14016.0\n",
       "3     1000      8  14070.0\n",
       "4     1000      9  14581.0"
      ]
     },
     "execution_count": 21,
     "metadata": {},
     "output_type": "execute_result"
    }
   ],
   "source": [
    "# сводная таблица по интернет-трафику\n",
    "internet_pivot = internet.pivot_table(index = ['user_id','month'], values = 'mb_used', aggfunc = 'sum')\n",
    "internet_pivot.columns = ['mb_used']\n",
    "internet_pivot.reset_index().head()"
   ]
  },
  {
   "cell_type": "code",
   "execution_count": 22,
   "metadata": {
    "scrolled": true
   },
   "outputs": [
    {
     "data": {
      "text/html": [
       "<div>\n",
       "<style scoped>\n",
       "    .dataframe tbody tr th:only-of-type {\n",
       "        vertical-align: middle;\n",
       "    }\n",
       "\n",
       "    .dataframe tbody tr th {\n",
       "        vertical-align: top;\n",
       "    }\n",
       "\n",
       "    .dataframe thead th {\n",
       "        text-align: right;\n",
       "    }\n",
       "</style>\n",
       "<table border=\"1\" class=\"dataframe\">\n",
       "  <thead>\n",
       "    <tr style=\"text-align: right;\">\n",
       "      <th></th>\n",
       "      <th>index</th>\n",
       "      <th>user_id</th>\n",
       "      <th>month</th>\n",
       "      <th>calls</th>\n",
       "      <th>duration</th>\n",
       "      <th>messages</th>\n",
       "      <th>mb_used</th>\n",
       "    </tr>\n",
       "  </thead>\n",
       "  <tbody>\n",
       "    <tr>\n",
       "      <th>0</th>\n",
       "      <td>0</td>\n",
       "      <td>1000</td>\n",
       "      <td>5</td>\n",
       "      <td>22.0</td>\n",
       "      <td>159.0</td>\n",
       "      <td>22.0</td>\n",
       "      <td>2256.0</td>\n",
       "    </tr>\n",
       "    <tr>\n",
       "      <th>1</th>\n",
       "      <td>1</td>\n",
       "      <td>1000</td>\n",
       "      <td>6</td>\n",
       "      <td>43.0</td>\n",
       "      <td>172.0</td>\n",
       "      <td>60.0</td>\n",
       "      <td>23257.0</td>\n",
       "    </tr>\n",
       "    <tr>\n",
       "      <th>2</th>\n",
       "      <td>2</td>\n",
       "      <td>1000</td>\n",
       "      <td>7</td>\n",
       "      <td>47.0</td>\n",
       "      <td>340.0</td>\n",
       "      <td>75.0</td>\n",
       "      <td>14016.0</td>\n",
       "    </tr>\n",
       "    <tr>\n",
       "      <th>3</th>\n",
       "      <td>3</td>\n",
       "      <td>1000</td>\n",
       "      <td>8</td>\n",
       "      <td>52.0</td>\n",
       "      <td>408.0</td>\n",
       "      <td>81.0</td>\n",
       "      <td>14070.0</td>\n",
       "    </tr>\n",
       "    <tr>\n",
       "      <th>4</th>\n",
       "      <td>4</td>\n",
       "      <td>1000</td>\n",
       "      <td>9</td>\n",
       "      <td>58.0</td>\n",
       "      <td>466.0</td>\n",
       "      <td>57.0</td>\n",
       "      <td>14581.0</td>\n",
       "    </tr>\n",
       "  </tbody>\n",
       "</table>\n",
       "</div>"
      ],
      "text/plain": [
       "   index  user_id  month  calls  duration  messages  mb_used\n",
       "0      0     1000      5   22.0     159.0      22.0   2256.0\n",
       "1      1     1000      6   43.0     172.0      60.0  23257.0\n",
       "2      2     1000      7   47.0     340.0      75.0  14016.0\n",
       "3      3     1000      8   52.0     408.0      81.0  14070.0\n",
       "4      4     1000      9   58.0     466.0      57.0  14581.0"
      ]
     },
     "execution_count": 22,
     "metadata": {},
     "output_type": "execute_result"
    }
   ],
   "source": [
    "# объединяем все три сводные таблицы в одну\n",
    "cm_data = calls_pivot.merge(messages_pivot, on = ['user_id','month'], how = 'outer')\n",
    "cm_data = cm_data.reset_index()\n",
    "cmi_data = cm_data.merge(internet_pivot, on = ['user_id','month'], how = 'outer')\n",
    "cmi_data.reset_index().head()"
   ]
  },
  {
   "cell_type": "code",
   "execution_count": 23,
   "metadata": {
    "scrolled": true
   },
   "outputs": [
    {
     "data": {
      "text/plain": [
       "user_id       0\n",
       "month         0\n",
       "calls        40\n",
       "duration     40\n",
       "messages    497\n",
       "mb_used      11\n",
       "dtype: int64"
      ]
     },
     "execution_count": 23,
     "metadata": {},
     "output_type": "execute_result"
    }
   ],
   "source": [
    "#Проверим получившуюся таблицу на пропуски\n",
    "cmi_data.isna().sum()"
   ]
  },
  {
   "cell_type": "code",
   "execution_count": 24,
   "metadata": {},
   "outputs": [],
   "source": [
    "#Заменим пропуски в датасете на 0, поскольку абонент не писал и не пользовался интернетом\n",
    "cmi_data.loc[cmi_data['messages'].isna(), 'messages'] = 0\n",
    "cmi_data.loc[cmi_data['mb_used'].isna(), 'mb_used'] = 0"
   ]
  },
  {
   "cell_type": "markdown",
   "metadata": {},
   "source": [
    "### Расчет помесячной выручки"
   ]
  },
  {
   "cell_type": "markdown",
   "metadata": {},
   "source": [
    "Посчитаем помесячную выручку с каждого пользователя (вычтем бесплатный лимит из суммарного количества звонков, сообщений и интернет-трафика; остаток умножим на значение из тарифного плана; прибавим абонентскую плату, соответствующую тарифному плану)."
   ]
  },
  {
   "cell_type": "code",
   "execution_count": 25,
   "metadata": {},
   "outputs": [],
   "source": [
    "#Объединим датасет cmi_data с датасетами tariffs предварительно переименовав столбец в датасете tariffs\n",
    "tariffs.rename(columns = {'tariff_name':'tariff'}, inplace = True)\n",
    "pre_total_data = cmi_data.merge(users, on = 'user_id', how = 'left')\n",
    "total_data = pre_total_data.merge(tariffs, on = 'tariff', how = 'outer')"
   ]
  },
  {
   "cell_type": "code",
   "execution_count": 26,
   "metadata": {
    "scrolled": false
   },
   "outputs": [
    {
     "data": {
      "text/html": [
       "<div>\n",
       "<style scoped>\n",
       "    .dataframe tbody tr th:only-of-type {\n",
       "        vertical-align: middle;\n",
       "    }\n",
       "\n",
       "    .dataframe tbody tr th {\n",
       "        vertical-align: top;\n",
       "    }\n",
       "\n",
       "    .dataframe thead th {\n",
       "        text-align: right;\n",
       "    }\n",
       "</style>\n",
       "<table border=\"1\" class=\"dataframe\">\n",
       "  <thead>\n",
       "    <tr style=\"text-align: right;\">\n",
       "      <th></th>\n",
       "      <th>user_id</th>\n",
       "      <th>month</th>\n",
       "      <th>calls</th>\n",
       "      <th>duration</th>\n",
       "      <th>messages</th>\n",
       "      <th>mb_used</th>\n",
       "      <th>age</th>\n",
       "      <th>churn_date</th>\n",
       "      <th>city</th>\n",
       "      <th>first_name</th>\n",
       "      <th>...</th>\n",
       "      <th>reg_date</th>\n",
       "      <th>tariff</th>\n",
       "      <th>messages_included</th>\n",
       "      <th>mb_per_month_included</th>\n",
       "      <th>minutes_included</th>\n",
       "      <th>rub_monthly_fee</th>\n",
       "      <th>rub_per_gb</th>\n",
       "      <th>rub_per_message</th>\n",
       "      <th>rub_per_minute</th>\n",
       "      <th>revenue</th>\n",
       "    </tr>\n",
       "  </thead>\n",
       "  <tbody>\n",
       "    <tr>\n",
       "      <th>0</th>\n",
       "      <td>1000</td>\n",
       "      <td>5</td>\n",
       "      <td>22.0</td>\n",
       "      <td>159.0</td>\n",
       "      <td>22.0</td>\n",
       "      <td>2256.0</td>\n",
       "      <td>52</td>\n",
       "      <td>NaT</td>\n",
       "      <td>Краснодар</td>\n",
       "      <td>Рафаил</td>\n",
       "      <td>...</td>\n",
       "      <td>2018-05-25</td>\n",
       "      <td>ultra</td>\n",
       "      <td>1000</td>\n",
       "      <td>30720</td>\n",
       "      <td>3000</td>\n",
       "      <td>1950</td>\n",
       "      <td>150</td>\n",
       "      <td>1</td>\n",
       "      <td>1</td>\n",
       "      <td>1950.0</td>\n",
       "    </tr>\n",
       "    <tr>\n",
       "      <th>1</th>\n",
       "      <td>1000</td>\n",
       "      <td>6</td>\n",
       "      <td>43.0</td>\n",
       "      <td>172.0</td>\n",
       "      <td>60.0</td>\n",
       "      <td>23257.0</td>\n",
       "      <td>52</td>\n",
       "      <td>NaT</td>\n",
       "      <td>Краснодар</td>\n",
       "      <td>Рафаил</td>\n",
       "      <td>...</td>\n",
       "      <td>2018-05-25</td>\n",
       "      <td>ultra</td>\n",
       "      <td>1000</td>\n",
       "      <td>30720</td>\n",
       "      <td>3000</td>\n",
       "      <td>1950</td>\n",
       "      <td>150</td>\n",
       "      <td>1</td>\n",
       "      <td>1</td>\n",
       "      <td>1950.0</td>\n",
       "    </tr>\n",
       "    <tr>\n",
       "      <th>2</th>\n",
       "      <td>1000</td>\n",
       "      <td>7</td>\n",
       "      <td>47.0</td>\n",
       "      <td>340.0</td>\n",
       "      <td>75.0</td>\n",
       "      <td>14016.0</td>\n",
       "      <td>52</td>\n",
       "      <td>NaT</td>\n",
       "      <td>Краснодар</td>\n",
       "      <td>Рафаил</td>\n",
       "      <td>...</td>\n",
       "      <td>2018-05-25</td>\n",
       "      <td>ultra</td>\n",
       "      <td>1000</td>\n",
       "      <td>30720</td>\n",
       "      <td>3000</td>\n",
       "      <td>1950</td>\n",
       "      <td>150</td>\n",
       "      <td>1</td>\n",
       "      <td>1</td>\n",
       "      <td>1950.0</td>\n",
       "    </tr>\n",
       "    <tr>\n",
       "      <th>3</th>\n",
       "      <td>1000</td>\n",
       "      <td>8</td>\n",
       "      <td>52.0</td>\n",
       "      <td>408.0</td>\n",
       "      <td>81.0</td>\n",
       "      <td>14070.0</td>\n",
       "      <td>52</td>\n",
       "      <td>NaT</td>\n",
       "      <td>Краснодар</td>\n",
       "      <td>Рафаил</td>\n",
       "      <td>...</td>\n",
       "      <td>2018-05-25</td>\n",
       "      <td>ultra</td>\n",
       "      <td>1000</td>\n",
       "      <td>30720</td>\n",
       "      <td>3000</td>\n",
       "      <td>1950</td>\n",
       "      <td>150</td>\n",
       "      <td>1</td>\n",
       "      <td>1</td>\n",
       "      <td>1950.0</td>\n",
       "    </tr>\n",
       "    <tr>\n",
       "      <th>4</th>\n",
       "      <td>1000</td>\n",
       "      <td>9</td>\n",
       "      <td>58.0</td>\n",
       "      <td>466.0</td>\n",
       "      <td>57.0</td>\n",
       "      <td>14581.0</td>\n",
       "      <td>52</td>\n",
       "      <td>NaT</td>\n",
       "      <td>Краснодар</td>\n",
       "      <td>Рафаил</td>\n",
       "      <td>...</td>\n",
       "      <td>2018-05-25</td>\n",
       "      <td>ultra</td>\n",
       "      <td>1000</td>\n",
       "      <td>30720</td>\n",
       "      <td>3000</td>\n",
       "      <td>1950</td>\n",
       "      <td>150</td>\n",
       "      <td>1</td>\n",
       "      <td>1</td>\n",
       "      <td>1950.0</td>\n",
       "    </tr>\n",
       "  </tbody>\n",
       "</table>\n",
       "<p>5 rows × 21 columns</p>\n",
       "</div>"
      ],
      "text/plain": [
       "   user_id  month  calls  duration  messages  mb_used  age churn_date  \\\n",
       "0     1000      5   22.0     159.0      22.0   2256.0   52        NaT   \n",
       "1     1000      6   43.0     172.0      60.0  23257.0   52        NaT   \n",
       "2     1000      7   47.0     340.0      75.0  14016.0   52        NaT   \n",
       "3     1000      8   52.0     408.0      81.0  14070.0   52        NaT   \n",
       "4     1000      9   58.0     466.0      57.0  14581.0   52        NaT   \n",
       "\n",
       "        city first_name  ...   reg_date tariff messages_included  \\\n",
       "0  Краснодар     Рафаил  ... 2018-05-25  ultra              1000   \n",
       "1  Краснодар     Рафаил  ... 2018-05-25  ultra              1000   \n",
       "2  Краснодар     Рафаил  ... 2018-05-25  ultra              1000   \n",
       "3  Краснодар     Рафаил  ... 2018-05-25  ultra              1000   \n",
       "4  Краснодар     Рафаил  ... 2018-05-25  ultra              1000   \n",
       "\n",
       "   mb_per_month_included  minutes_included  rub_monthly_fee  rub_per_gb  \\\n",
       "0                  30720              3000             1950         150   \n",
       "1                  30720              3000             1950         150   \n",
       "2                  30720              3000             1950         150   \n",
       "3                  30720              3000             1950         150   \n",
       "4                  30720              3000             1950         150   \n",
       "\n",
       "   rub_per_message  rub_per_minute  revenue  \n",
       "0                1               1   1950.0  \n",
       "1                1               1   1950.0  \n",
       "2                1               1   1950.0  \n",
       "3                1               1   1950.0  \n",
       "4                1               1   1950.0  \n",
       "\n",
       "[5 rows x 21 columns]"
      ]
     },
     "metadata": {},
     "output_type": "display_data"
    }
   ],
   "source": [
    "#Напишем фукцию одной строки и добавим в таблицу ваше столбец с выручкой\n",
    "def revenue(row):\n",
    "    messages = row['messages']\n",
    "    mb_used = row['mb_used']\n",
    "    tariff = row['tariff']\n",
    "    duration = row['duration']\n",
    "    calls = row['calls']\n",
    "    minutes_tariff = row['minutes_included']\n",
    "    mb_tariff = row['mb_per_month_included']\n",
    "    messages_tariff = row['messages_included']\n",
    "    minutes_cost = row['rub_per_minute']\n",
    "    gb_cost = row['rub_per_gb']\n",
    "    messages_cost = row['rub_per_message'] \n",
    "    tariff_fee = row['rub_monthly_fee']\n",
    "    \n",
    "    revenue = 0\n",
    "    \n",
    "    if duration>minutes_tariff:\n",
    "        calls_revenue = (duration-minutes_tariff)*minutes_cost\n",
    "        revenue +=  calls_revenue\n",
    "    elif messages>messages_tariff:\n",
    "        messages_revenue = (messages-messages_tariff)*messages_cost\n",
    "        revenue +=  messages_revenue\n",
    "    elif mb_used>mb_tariff:\n",
    "        internet_revenue = np.ceil(((mb_used-mb_tariff)/1024))*gb_cost\n",
    "        revenue +=  internet_revenue\n",
    "    return revenue+tariff_fee\n",
    "\n",
    "total_data['revenue'] = total_data.apply(revenue, axis=1)\n",
    "\n",
    "display(total_data.head())"
   ]
  },
  {
   "cell_type": "markdown",
   "metadata": {},
   "source": [
    "**Вывод**\n",
    "\n",
    "Данные приведены к нужным типам, пропуски устранены, исходные таблицы объеденены в одну, а также выполнен расчет помесячной выручки.\n",
    "Итоговые данные готовы к анализу."
   ]
  },
  {
   "cell_type": "markdown",
   "metadata": {},
   "source": [
    "## Анализ данных"
   ]
  },
  {
   "cell_type": "markdown",
   "metadata": {},
   "source": [
    "Посчитаем среднее количество минут разговора, сообщений и объёма интернет-трафика по каждому пользователю тарифа в месяц и построим гистограммы для этих значений. Также вычислим дисперсию и стандартное отклонение в этих данных."
   ]
  },
  {
   "cell_type": "markdown",
   "metadata": {},
   "source": [
    "### Количество минут разговора"
   ]
  },
  {
   "cell_type": "code",
   "execution_count": 27,
   "metadata": {
    "scrolled": false
   },
   "outputs": [
    {
     "data": {
      "image/png": "[encoded data removed]",
      "text/plain": [
       "<Figure size 432x288 with 1 Axes>"
      ]
     },
     "metadata": {
      "needs_background": "light"
     },
     "output_type": "display_data"
    }
   ],
   "source": [
    "#Построим график для количества минут разговора по каждому тарифу за каждый месяц\n",
    "ultra_duration = total_data.query('tariff == \"ultra\"')['duration']\n",
    "smart_duration = total_data.query('tariff == \"smart\"')['duration']\n",
    "names = ['ultra', 'smart']\n",
    "colors = ['cornflowerblue','seagreen']\n",
    "\n",
    "fig, ax = plt.subplots()\n",
    "ax.hist([ultra_duration,smart_duration], label = names, color = colors)\n",
    "ax.legend()\n",
    "plt.xlabel('количество использованных минут в месяц')\n",
    "plt.ylabel('частота')\n",
    "plt.title('количество минут разговора по каждому тарифу в месяц')\n",
    "plt.show()"
   ]
  },
  {
   "cell_type": "markdown",
   "metadata": {},
   "source": [
    "На тарифе \"Ультра\" значения количества минут разговора неравномерны. На тарифе \"Смарт\" значения практически не меняются и остаются в среднем равными 450 минутам."
   ]
  },
  {
   "cell_type": "markdown",
   "metadata": {},
   "source": [
    "Вычислим дисперсию и стандартное отклонение в данных по использованным минутам."
   ]
  },
  {
   "cell_type": "code",
   "execution_count": 28,
   "metadata": {
    "scrolled": true
   },
   "outputs": [
    {
     "data": {
      "text/html": [
       "<div>\n",
       "<style scoped>\n",
       "    .dataframe tbody tr th:only-of-type {\n",
       "        vertical-align: middle;\n",
       "    }\n",
       "\n",
       "    .dataframe tbody tr th {\n",
       "        vertical-align: top;\n",
       "    }\n",
       "\n",
       "    .dataframe thead tr th {\n",
       "        text-align: left;\n",
       "    }\n",
       "\n",
       "    .dataframe thead tr:last-of-type th {\n",
       "        text-align: right;\n",
       "    }\n",
       "</style>\n",
       "<table border=\"1\" class=\"dataframe\">\n",
       "  <thead>\n",
       "    <tr>\n",
       "      <th></th>\n",
       "      <th>median</th>\n",
       "      <th>var</th>\n",
       "      <th>std</th>\n",
       "    </tr>\n",
       "    <tr>\n",
       "      <th></th>\n",
       "      <th>duration</th>\n",
       "      <th>duration</th>\n",
       "      <th>duration</th>\n",
       "    </tr>\n",
       "    <tr>\n",
       "      <th>tariff</th>\n",
       "      <th></th>\n",
       "      <th></th>\n",
       "      <th></th>\n",
       "    </tr>\n",
       "  </thead>\n",
       "  <tbody>\n",
       "    <tr>\n",
       "      <th>smart</th>\n",
       "      <td>423.0</td>\n",
       "      <td>35844.189551</td>\n",
       "      <td>189.325618</td>\n",
       "    </tr>\n",
       "    <tr>\n",
       "      <th>ultra</th>\n",
       "      <td>528.0</td>\n",
       "      <td>94203.418396</td>\n",
       "      <td>306.925754</td>\n",
       "    </tr>\n",
       "  </tbody>\n",
       "</table>\n",
       "</div>"
      ],
      "text/plain": [
       "         median           var         std\n",
       "       duration      duration    duration\n",
       "tariff                                   \n",
       "smart     423.0  35844.189551  189.325618\n",
       "ultra     528.0  94203.418396  306.925754"
      ]
     },
     "execution_count": 28,
     "metadata": {},
     "output_type": "execute_result"
    }
   ],
   "source": [
    "total_data.pivot_table(index=['tariff'], \n",
    "                       values='duration', \n",
    "                       aggfunc=[np.median, np.var, np.std])"
   ]
  },
  {
   "cell_type": "markdown",
   "metadata": {},
   "source": [
    "По тарифу \"Ультра\" минуты разговора имеют большую дисперсию и большее стандартное отклонение, чем на тарифе \"Смарт\". Кроме того, выбросов в данных больше на тарифе \"Ультра\" чем на тарифе \"Смарт\"."
   ]
  },
  {
   "cell_type": "markdown",
   "metadata": {},
   "source": [
    "### Количество использованных мегабайт интернет-трафика"
   ]
  },
  {
   "cell_type": "code",
   "execution_count": 29,
   "metadata": {
    "scrolled": false
   },
   "outputs": [
    {
     "data": {
      "image/png": "[encoded data removed]",
      "text/plain": [
       "<Figure size 432x288 with 1 Axes>"
      ]
     },
     "metadata": {
      "needs_background": "light"
     },
     "output_type": "display_data"
    }
   ],
   "source": [
    "#Построим график для количества использованных Мб интернет трафика по каждому тарифу за каждый месяц\n",
    "ultra_mb = total_data.query('tariff == \"ultra\"')['mb_used']\n",
    "smart_mb = total_data.query('tariff == \"smart\"')['mb_used']\n",
    "names = ['ultra', 'smart']\n",
    "colors = ['cornflowerblue','seagreen']\n",
    "\n",
    "fig, ax = plt.subplots()\n",
    "ax.hist([ultra_mb,smart_mb], label = names, color = colors, bins = 10)\n",
    "ax.legend()\n",
    "plt.xlabel('количество использованных Мб в месяц')\n",
    "plt.ylabel('частота')\n",
    "plt.title('количество использованных Мб по каждому тарифу в месяц')\n",
    "plt.show()"
   ]
  },
  {
   "cell_type": "markdown",
   "metadata": {},
   "source": [
    "На обоих тарифах количество потраченных мегабайт интернет-трафика находятся в коридиоре значений от 15 до 25 Гб в месяц."
   ]
  },
  {
   "cell_type": "markdown",
   "metadata": {},
   "source": [
    "Вычислим дисперсию и стандартное отклонение в данных по использованным мегабайтам трафика."
   ]
  },
  {
   "cell_type": "code",
   "execution_count": 30,
   "metadata": {
    "scrolled": false
   },
   "outputs": [
    {
     "data": {
      "text/html": [
       "<div>\n",
       "<style scoped>\n",
       "    .dataframe tbody tr th:only-of-type {\n",
       "        vertical-align: middle;\n",
       "    }\n",
       "\n",
       "    .dataframe tbody tr th {\n",
       "        vertical-align: top;\n",
       "    }\n",
       "\n",
       "    .dataframe thead tr th {\n",
       "        text-align: left;\n",
       "    }\n",
       "\n",
       "    .dataframe thead tr:last-of-type th {\n",
       "        text-align: right;\n",
       "    }\n",
       "</style>\n",
       "<table border=\"1\" class=\"dataframe\">\n",
       "  <thead>\n",
       "    <tr>\n",
       "      <th></th>\n",
       "      <th>median</th>\n",
       "      <th>var</th>\n",
       "      <th>std</th>\n",
       "    </tr>\n",
       "    <tr>\n",
       "      <th></th>\n",
       "      <th>mb_used</th>\n",
       "      <th>mb_used</th>\n",
       "      <th>mb_used</th>\n",
       "    </tr>\n",
       "    <tr>\n",
       "      <th>tariff</th>\n",
       "      <th></th>\n",
       "      <th></th>\n",
       "      <th></th>\n",
       "    </tr>\n",
       "  </thead>\n",
       "  <tbody>\n",
       "    <tr>\n",
       "      <th>smart</th>\n",
       "      <td>16531.0</td>\n",
       "      <td>3.454591e+07</td>\n",
       "      <td>5877.576978</td>\n",
       "    </tr>\n",
       "    <tr>\n",
       "      <th>ultra</th>\n",
       "      <td>19324.0</td>\n",
       "      <td>1.019356e+08</td>\n",
       "      <td>10096.317202</td>\n",
       "    </tr>\n",
       "  </tbody>\n",
       "</table>\n",
       "</div>"
      ],
      "text/plain": [
       "         median           var           std\n",
       "        mb_used       mb_used       mb_used\n",
       "tariff                                     \n",
       "smart   16531.0  3.454591e+07   5877.576978\n",
       "ultra   19324.0  1.019356e+08  10096.317202"
      ]
     },
     "execution_count": 30,
     "metadata": {},
     "output_type": "execute_result"
    }
   ],
   "source": [
    "total_data.pivot_table(index=['tariff'], \n",
    "                       values='mb_used', \n",
    "                       aggfunc=[np.median, np.var, np.std])"
   ]
  },
  {
   "cell_type": "markdown",
   "metadata": {},
   "source": [
    "Наблюдается такая же ситуация по дисперсии и стандартному отклонению в значениях интернет-трафика по тарифу \"Ультра\" как и в данных по минутам разговора."
   ]
  },
  {
   "cell_type": "markdown",
   "metadata": {},
   "source": [
    "### Количество отправленных смс"
   ]
  },
  {
   "cell_type": "code",
   "execution_count": 31,
   "metadata": {},
   "outputs": [
    {
     "data": {
      "image/png": "[encoded data removed]",
      "text/plain": [
       "<Figure size 432x288 with 1 Axes>"
      ]
     },
     "metadata": {
      "needs_background": "light"
     },
     "output_type": "display_data"
    }
   ],
   "source": [
    "#Построим график для количества отправленных сообщений по каждому тарифу за каждый месяц\n",
    "ultra = total_data.query('tariff == \"ultra\"')['messages']\n",
    "smart = total_data.query('tariff == \"smart\"')['messages']\n",
    "names = ['ultra', 'smart']\n",
    "colors = ['cornflowerblue','seagreen']\n",
    "\n",
    "fig, ax = plt.subplots()\n",
    "ax.hist([ultra,smart], label = names, color = colors, bins = 10)\n",
    "ax.legend()\n",
    "plt.xlabel('количество отправленных сообщений в месяц')\n",
    "plt.ylabel('частота')\n",
    "plt.title('количество отправленных сообщений по каждому тарифу в месяц')\n",
    "plt.show()"
   ]
  },
  {
   "cell_type": "markdown",
   "metadata": {},
   "source": [
    "На тарифе \"Смарт\" количество отправленных сообщений сильно не меняется, значения находятся в диапазоне от 20 до 30 сообщений в месяц. А вот на тарифе \"Ультра\" ярко выраженной моды не налюдается."
   ]
  },
  {
   "cell_type": "markdown",
   "metadata": {},
   "source": [
    "Вычислим дисперсию и стандартное отклонение в данных по количеству отправленных сообщений."
   ]
  },
  {
   "cell_type": "code",
   "execution_count": 32,
   "metadata": {
    "scrolled": false
   },
   "outputs": [
    {
     "data": {
      "text/html": [
       "<div>\n",
       "<style scoped>\n",
       "    .dataframe tbody tr th:only-of-type {\n",
       "        vertical-align: middle;\n",
       "    }\n",
       "\n",
       "    .dataframe tbody tr th {\n",
       "        vertical-align: top;\n",
       "    }\n",
       "\n",
       "    .dataframe thead tr th {\n",
       "        text-align: left;\n",
       "    }\n",
       "\n",
       "    .dataframe thead tr:last-of-type th {\n",
       "        text-align: right;\n",
       "    }\n",
       "</style>\n",
       "<table border=\"1\" class=\"dataframe\">\n",
       "  <thead>\n",
       "    <tr>\n",
       "      <th></th>\n",
       "      <th>median</th>\n",
       "      <th>var</th>\n",
       "      <th>std</th>\n",
       "    </tr>\n",
       "    <tr>\n",
       "      <th></th>\n",
       "      <th>messages</th>\n",
       "      <th>messages</th>\n",
       "      <th>messages</th>\n",
       "    </tr>\n",
       "    <tr>\n",
       "      <th>tariff</th>\n",
       "      <th></th>\n",
       "      <th></th>\n",
       "      <th></th>\n",
       "    </tr>\n",
       "  </thead>\n",
       "  <tbody>\n",
       "    <tr>\n",
       "      <th>smart</th>\n",
       "      <td>28.0</td>\n",
       "      <td>796.812958</td>\n",
       "      <td>28.227876</td>\n",
       "    </tr>\n",
       "    <tr>\n",
       "      <th>ultra</th>\n",
       "      <td>38.0</td>\n",
       "      <td>2285.266143</td>\n",
       "      <td>47.804457</td>\n",
       "    </tr>\n",
       "  </tbody>\n",
       "</table>\n",
       "</div>"
      ],
      "text/plain": [
       "         median          var        std\n",
       "       messages     messages   messages\n",
       "tariff                                 \n",
       "smart      28.0   796.812958  28.227876\n",
       "ultra      38.0  2285.266143  47.804457"
      ]
     },
     "execution_count": 32,
     "metadata": {},
     "output_type": "execute_result"
    }
   ],
   "source": [
    "total_data.pivot_table(index=['tariff'], \n",
    "                       values='messages', \n",
    "                       aggfunc=[np.median, np.var, np.std])"
   ]
  },
  {
   "cell_type": "markdown",
   "metadata": {},
   "source": [
    "Снова в тарифе Ультра наблюдается большая дисперсия, чем на тарифе \"Смарт\"."
   ]
  },
  {
   "cell_type": "markdown",
   "metadata": {},
   "source": [
    "**Вывод**\n",
    "\n",
    "Минуты разговора, число сообщений и объем потраченного интернет-трафика по тарифу «Ультра» имеет большую дисперсию по сравнению с тарифом «Смарт», и медианы по вышеперечисленным признакам также смещены в большую сторону. \n",
    "По гистограммам наглядно видно, что дисперсия по тарифу \"Смарт\" меньше, чем у пользователей с тарифом \"Ультра\" по всем показателям: по длительности разговора, числу сообщений и использованному интернет-трафику. Также на гистограммах видно, что средне у \"Смарта\" явно выражена.\n",
    "\n",
    "Таким образом, можно предположить, что поведение пользователей тарифа \"Ультра\" более непредсказуемое с точки зрения потребления телекоммуникационных услуг, возможно их жизнь нестандартна, и каждый месяц им необходимо разное количество минут, сообщений и интернет-трафика. А пользователи более дешевого тарифа, скорее всего предпочитают более размеренную жизнь, а значит из месяца в месяца примерно одинаково используют количество минут, сообщений и интеренет трафика из пакета тарифа. "
   ]
  },
  {
   "cell_type": "markdown",
   "metadata": {},
   "source": [
    "## Проверка гипотезы"
   ]
  },
  {
   "cell_type": "markdown",
   "metadata": {},
   "source": [
    "### Статистический тест №1"
   ]
  },
  {
   "cell_type": "markdown",
   "metadata": {},
   "source": [
    "H0  — средняя выручка пользователей тарифа «Ультра» равна средней выручке пользователей тарифа «Смарт».\n",
    "\n",
    "H1 — средняя выручка пользователей тарифов «Ультра» и «Смарт» различаются.\n",
    "\n",
    "α=1%"
   ]
  },
  {
   "cell_type": "code",
   "execution_count": 33,
   "metadata": {},
   "outputs": [
    {
     "name": "stdout",
     "output_type": "stream",
     "text": [
      "p-значение: 0.0\n",
      "Отвергаем нулевую гипотезу\n"
     ]
    }
   ],
   "source": [
    "ultra = total_data.query('tariff == \"ultra\"')['revenue']\n",
    "smart = total_data.query('tariff == \"smart\"')['revenue']\n",
    "\n",
    "alpha = 0.01\n",
    "\n",
    "results = st.ttest_ind(\n",
    "    ultra, \n",
    "    smart, \n",
    "    equal_var=False)\n",
    "\n",
    "print('p-значение:', results.pvalue)\n",
    "\n",
    "if (results.pvalue < alpha):\n",
    "    print(\"Отвергаем нулевую гипотезу\")\n",
    "else:\n",
    "    print(\"Не получилось отвергнуть нулевую гипотезу\")"
   ]
  },
  {
   "cell_type": "code",
   "execution_count": 34,
   "metadata": {},
   "outputs": [
    {
     "data": {
      "text/html": [
       "<div>\n",
       "<style scoped>\n",
       "    .dataframe tbody tr th:only-of-type {\n",
       "        vertical-align: middle;\n",
       "    }\n",
       "\n",
       "    .dataframe tbody tr th {\n",
       "        vertical-align: top;\n",
       "    }\n",
       "\n",
       "    .dataframe thead th {\n",
       "        text-align: right;\n",
       "    }\n",
       "</style>\n",
       "<table border=\"1\" class=\"dataframe\">\n",
       "  <thead>\n",
       "    <tr style=\"text-align: right;\">\n",
       "      <th></th>\n",
       "      <th>revenue</th>\n",
       "    </tr>\n",
       "    <tr>\n",
       "      <th>tariff</th>\n",
       "      <th></th>\n",
       "    </tr>\n",
       "  </thead>\n",
       "  <tbody>\n",
       "    <tr>\n",
       "      <th>smart</th>\n",
       "      <td>724.0</td>\n",
       "    </tr>\n",
       "    <tr>\n",
       "      <th>ultra</th>\n",
       "      <td>1950.0</td>\n",
       "    </tr>\n",
       "  </tbody>\n",
       "</table>\n",
       "</div>"
      ],
      "text/plain": [
       "        revenue\n",
       "tariff         \n",
       "smart     724.0\n",
       "ultra    1950.0"
      ]
     },
     "execution_count": 34,
     "metadata": {},
     "output_type": "execute_result"
    }
   ],
   "source": [
    "total_data.pivot_table(index='tariff', values='revenue', aggfunc='median')"
   ]
  },
  {
   "cell_type": "markdown",
   "metadata": {},
   "source": [
    "**Вывод**\n",
    "\n",
    "Средние значения выручки по тарифам различаются почти в 3 раза. \n",
    "А значит пользователь с тарифом \"Смарт\" с абонентской платой в 550 рублей по итогам месяца заплатит больше из-за нехватки услуг в рамках тарифного пакета.\n",
    "\n",
    "После проведенного теста можно с уверенностью в 99% утверждать, что выручка с разных тарифов у \"Мегалайна\" различается."
   ]
  },
  {
   "cell_type": "markdown",
   "metadata": {},
   "source": [
    "### Статистический тест №2"
   ]
  },
  {
   "cell_type": "markdown",
   "metadata": {},
   "source": [
    "H0  — средняя выручка пользователей из Москвы равна средней выручке пользователей из других регионов.\n",
    "\n",
    "H1 — средняя выручка пользователей из Москвы отличается от средней выручке пользователей из других регионов.\n",
    "\n",
    "α=1%"
   ]
  },
  {
   "cell_type": "code",
   "execution_count": 35,
   "metadata": {
    "scrolled": true
   },
   "outputs": [
    {
     "name": "stdout",
     "output_type": "stream",
     "text": [
      "p-значение: 0.0033360821130007305\n",
      "Отвергаем нулевую гипотезу\n"
     ]
    }
   ],
   "source": [
    "moscow = total_data.query('city == \"Москва\"')['revenue']\n",
    "regions = total_data.query('city != \"Москва\"')['revenue']\n",
    "\n",
    "alpha = 0.01\n",
    "\n",
    "results = st.ttest_ind(\n",
    "    moscow, \n",
    "    regions, \n",
    "    equal_var=False)\n",
    "\n",
    "print('p-значение:', results.pvalue)\n",
    "\n",
    "if (results.pvalue < alpha):\n",
    "    print(\"Отвергаем нулевую гипотезу\")\n",
    "else:\n",
    "    print(\"Не получилось отвергнуть нулевую гипотезу\")"
   ]
  },
  {
   "cell_type": "code",
   "execution_count": 36,
   "metadata": {},
   "outputs": [
    {
     "data": {
      "text/html": [
       "<div>\n",
       "<style scoped>\n",
       "    .dataframe tbody tr th:only-of-type {\n",
       "        vertical-align: middle;\n",
       "    }\n",
       "\n",
       "    .dataframe tbody tr th {\n",
       "        vertical-align: top;\n",
       "    }\n",
       "\n",
       "    .dataframe thead th {\n",
       "        text-align: right;\n",
       "    }\n",
       "</style>\n",
       "<table border=\"1\" class=\"dataframe\">\n",
       "  <thead>\n",
       "    <tr style=\"text-align: right;\">\n",
       "      <th></th>\n",
       "      <th>revenue</th>\n",
       "    </tr>\n",
       "    <tr>\n",
       "      <th>region</th>\n",
       "      <th></th>\n",
       "    </tr>\n",
       "  </thead>\n",
       "  <tbody>\n",
       "    <tr>\n",
       "      <th>Другой регион</th>\n",
       "      <td>1015.0</td>\n",
       "    </tr>\n",
       "    <tr>\n",
       "      <th>Москва</th>\n",
       "      <td>1350.0</td>\n",
       "    </tr>\n",
       "  </tbody>\n",
       "</table>\n",
       "</div>"
      ],
      "text/plain": [
       "               revenue\n",
       "region                \n",
       "Другой регион   1015.0\n",
       "Москва          1350.0"
      ]
     },
     "execution_count": 36,
     "metadata": {},
     "output_type": "execute_result"
    }
   ],
   "source": [
    "#Проверим тест посчитав среднюю выручку по Москве и Регионам\n",
    "def change_region(city):\n",
    "    if city == 'Москва': \n",
    "        return 'Москва'\n",
    "    \n",
    "    else: \n",
    "        return 'Другой регион'\n",
    "    \n",
    "total_data['region'] = total_data['city'].apply(change_region)\n",
    "total_data.pivot_table(index='region', values='revenue', aggfunc='median')"
   ]
  },
  {
   "cell_type": "markdown",
   "metadata": {},
   "source": [
    "**Вывод**\n",
    "\n",
    "Статистический тест опроверг гипотезу о том, что выручка в Москве равна средней выручке в регионах. И действительно, по сводной таблице можно наблюдать, что выручка все же в Москве больше."
   ]
  },
  {
   "cell_type": "markdown",
   "metadata": {},
   "source": [
    "## Общий вывод"
   ]
  },
  {
   "cell_type": "markdown",
   "metadata": {},
   "source": [
    "По результатам анализа, выявлено, что выручка \"Мегалайн\" от тарифа \"Ультра\" больше, чем от тарифа \"Смарт\". \n",
    "\n",
    "Пользователям тарифа «Смарт» не хватает услуг в рамках тарифного пакета: кроме абонентской платы пользователи в среднем доплачивают еще 150 рублей ежемесячно.\n",
    "\n",
    "Пользователи тарифа «Ультра», напротив, не используют тарифный пакет в полном объеме.\n",
    "Средние доходы от пользователей в Москве отличаются от доходов в других населенных пунктах, примерно на 250 рублей в месяц больше."
   ]
  }
 ],
 "metadata": {
  "ExecuteTimeLog": [
   {
    "duration": 923,
    "start_time": "2022-02-27T09:48:52.337Z"
   },
   {
    "duration": 119,
    "start_time": "2022-02-27T09:49:22.076Z"
   },
   {
    "duration": 94,
    "start_time": "2022-02-27T09:50:55.108Z"
   },
   {
    "duration": 380,
    "start_time": "2022-02-27T09:51:12.850Z"
   },
   {
    "duration": 10,
    "start_time": "2022-02-27T09:52:58.994Z"
   },
   {
    "duration": 9,
    "start_time": "2022-02-27T09:53:00.983Z"
   },
   {
    "duration": 7,
    "start_time": "2022-02-27T09:53:02.625Z"
   },
   {
    "duration": 8,
    "start_time": "2022-02-27T09:53:04.132Z"
   },
   {
    "duration": 10,
    "start_time": "2022-02-27T09:53:05.775Z"
   },
   {
    "duration": 18,
    "start_time": "2022-02-27T09:54:11.797Z"
   },
   {
    "duration": 16,
    "start_time": "2022-02-27T10:03:35.352Z"
   },
   {
    "duration": 13,
    "start_time": "2022-02-27T10:07:18.670Z"
   },
   {
    "duration": 6,
    "start_time": "2022-02-27T10:09:16.428Z"
   },
   {
    "duration": 6,
    "start_time": "2022-02-27T10:17:10.409Z"
   },
   {
    "duration": 7,
    "start_time": "2022-02-27T10:34:53.018Z"
   },
   {
    "duration": 8,
    "start_time": "2022-02-27T10:35:01.284Z"
   },
   {
    "duration": 8,
    "start_time": "2022-02-27T10:40:22.525Z"
   },
   {
    "duration": 8,
    "start_time": "2022-02-27T10:40:39.618Z"
   },
   {
    "duration": 257,
    "start_time": "2022-02-28T13:55:03.890Z"
   },
   {
    "duration": 1029,
    "start_time": "2022-02-28T13:55:18.684Z"
   },
   {
    "duration": 375,
    "start_time": "2022-02-28T13:55:19.715Z"
   },
   {
    "duration": 12,
    "start_time": "2022-02-28T13:55:20.091Z"
   },
   {
    "duration": 23,
    "start_time": "2022-02-28T13:55:20.104Z"
   },
   {
    "duration": 9,
    "start_time": "2022-02-28T13:55:20.128Z"
   },
   {
    "duration": 21,
    "start_time": "2022-02-28T13:55:20.139Z"
   },
   {
    "duration": 9,
    "start_time": "2022-02-28T13:55:20.162Z"
   },
   {
    "duration": 18,
    "start_time": "2022-02-28T13:55:20.173Z"
   },
   {
    "duration": 8,
    "start_time": "2022-02-28T13:55:20.193Z"
   },
   {
    "duration": 33,
    "start_time": "2022-02-28T13:55:20.203Z"
   },
   {
    "duration": 9,
    "start_time": "2022-02-28T13:55:20.238Z"
   },
   {
    "duration": 9,
    "start_time": "2022-02-28T13:55:20.249Z"
   },
   {
    "duration": 84,
    "start_time": "2022-02-28T13:55:20.259Z"
   },
   {
    "duration": 328,
    "start_time": "2022-02-28T14:00:35.928Z"
   },
   {
    "duration": 193,
    "start_time": "2022-02-28T14:01:15.316Z"
   },
   {
    "duration": 185,
    "start_time": "2022-02-28T14:01:20.364Z"
   },
   {
    "duration": 182,
    "start_time": "2022-02-28T14:01:42.351Z"
   },
   {
    "duration": 5,
    "start_time": "2022-02-28T14:02:17.450Z"
   },
   {
    "duration": 10,
    "start_time": "2022-02-28T14:02:42.107Z"
   },
   {
    "duration": 188,
    "start_time": "2022-02-28T14:04:36.117Z"
   },
   {
    "duration": 7,
    "start_time": "2022-02-28T14:04:41.223Z"
   },
   {
    "duration": 8,
    "start_time": "2022-02-28T14:04:44.651Z"
   },
   {
    "duration": 6,
    "start_time": "2022-02-28T14:04:51.980Z"
   },
   {
    "duration": 8,
    "start_time": "2022-02-28T14:04:53.196Z"
   },
   {
    "duration": 14,
    "start_time": "2022-02-28T14:05:20.531Z"
   },
   {
    "duration": 6,
    "start_time": "2022-02-28T14:05:30.364Z"
   },
   {
    "duration": 9,
    "start_time": "2022-02-28T14:05:32.525Z"
   },
   {
    "duration": 15,
    "start_time": "2022-02-28T14:05:34.798Z"
   },
   {
    "duration": 5,
    "start_time": "2022-02-28T14:06:43.601Z"
   },
   {
    "duration": 9,
    "start_time": "2022-02-28T14:06:44.524Z"
   },
   {
    "duration": 7,
    "start_time": "2022-02-28T14:06:55.121Z"
   },
   {
    "duration": 10,
    "start_time": "2022-02-28T14:06:56.202Z"
   },
   {
    "duration": 6,
    "start_time": "2022-02-28T14:07:38.480Z"
   },
   {
    "duration": 4546,
    "start_time": "2022-02-28T14:10:36.163Z"
   },
   {
    "duration": 5786,
    "start_time": "2022-02-28T14:10:44.106Z"
   },
   {
    "duration": 5234,
    "start_time": "2022-02-28T14:11:18.428Z"
   },
   {
    "duration": 10,
    "start_time": "2022-02-28T14:12:46.710Z"
   },
   {
    "duration": 16,
    "start_time": "2022-02-28T14:12:53.708Z"
   },
   {
    "duration": 10,
    "start_time": "2022-02-28T14:13:12.477Z"
   },
   {
    "duration": 207,
    "start_time": "2022-02-28T14:17:02.444Z"
   },
   {
    "duration": 1806,
    "start_time": "2022-02-28T14:18:05.334Z"
   },
   {
    "duration": 4915,
    "start_time": "2022-02-28T14:20:46.479Z"
   },
   {
    "duration": 7,
    "start_time": "2022-02-28T14:21:04.616Z"
   },
   {
    "duration": 8,
    "start_time": "2022-02-28T14:21:29.454Z"
   },
   {
    "duration": 8,
    "start_time": "2022-02-28T14:23:25.868Z"
   },
   {
    "duration": 208,
    "start_time": "2022-02-28T14:24:49.611Z"
   },
   {
    "duration": 13,
    "start_time": "2022-02-28T14:25:03.879Z"
   },
   {
    "duration": 92,
    "start_time": "2022-02-28T14:25:47.891Z"
   },
   {
    "duration": 78,
    "start_time": "2022-02-28T14:34:24.694Z"
   },
   {
    "duration": 7,
    "start_time": "2022-02-28T14:34:33.111Z"
   },
   {
    "duration": 55,
    "start_time": "2022-02-28T14:44:00.379Z"
   },
   {
    "duration": 4665,
    "start_time": "2022-02-28T14:45:06.259Z"
   },
   {
    "duration": 10,
    "start_time": "2022-02-28T14:45:12.560Z"
   },
   {
    "duration": 13,
    "start_time": "2022-02-28T14:45:34.768Z"
   },
   {
    "duration": 5,
    "start_time": "2022-02-28T14:45:49.144Z"
   },
   {
    "duration": 5,
    "start_time": "2022-02-28T14:45:54.161Z"
   },
   {
    "duration": 4,
    "start_time": "2022-02-28T14:45:59.652Z"
   },
   {
    "duration": 13,
    "start_time": "2022-02-28T14:46:21.747Z"
   },
   {
    "duration": 6,
    "start_time": "2022-02-28T14:48:36.117Z"
   },
   {
    "duration": 236,
    "start_time": "2022-03-01T14:26:52.690Z"
   },
   {
    "duration": 1023,
    "start_time": "2022-03-01T14:27:03.025Z"
   },
   {
    "duration": 453,
    "start_time": "2022-03-01T14:27:04.050Z"
   },
   {
    "duration": 13,
    "start_time": "2022-03-01T14:27:04.505Z"
   },
   {
    "duration": 24,
    "start_time": "2022-03-01T14:27:04.519Z"
   },
   {
    "duration": 9,
    "start_time": "2022-03-01T14:27:04.544Z"
   },
   {
    "duration": 19,
    "start_time": "2022-03-01T14:27:04.555Z"
   },
   {
    "duration": 7,
    "start_time": "2022-03-01T14:27:04.576Z"
   },
   {
    "duration": 17,
    "start_time": "2022-03-01T14:27:04.586Z"
   },
   {
    "duration": 8,
    "start_time": "2022-03-01T14:27:04.605Z"
   },
   {
    "duration": 11,
    "start_time": "2022-03-01T14:27:04.615Z"
   },
   {
    "duration": 36,
    "start_time": "2022-03-01T14:27:04.628Z"
   },
   {
    "duration": 11,
    "start_time": "2022-03-01T14:27:04.666Z"
   },
   {
    "duration": 83,
    "start_time": "2022-03-01T14:27:04.678Z"
   },
   {
    "duration": 6,
    "start_time": "2022-03-01T14:27:04.762Z"
   },
   {
    "duration": 12,
    "start_time": "2022-03-01T14:27:04.769Z"
   },
   {
    "duration": 52,
    "start_time": "2022-03-01T14:27:04.783Z"
   },
   {
    "duration": 588,
    "start_time": "2022-03-01T14:27:04.837Z"
   },
   {
    "duration": 480,
    "start_time": "2022-03-01T14:27:06.922Z"
   },
   {
    "duration": 562,
    "start_time": "2022-03-01T14:27:24.716Z"
   },
   {
    "duration": 60,
    "start_time": "2022-03-01T14:27:46.317Z"
   },
   {
    "duration": 47,
    "start_time": "2022-03-01T14:29:03.539Z"
   },
   {
    "duration": 41,
    "start_time": "2022-03-01T14:32:34.633Z"
   },
   {
    "duration": 26,
    "start_time": "2022-03-01T14:32:45.097Z"
   },
   {
    "duration": 25,
    "start_time": "2022-03-01T14:33:01.591Z"
   },
   {
    "duration": 39,
    "start_time": "2022-03-01T14:35:52.161Z"
   },
   {
    "duration": 40,
    "start_time": "2022-03-01T14:37:14.737Z"
   },
   {
    "duration": 45,
    "start_time": "2022-03-01T14:38:04.760Z"
   },
   {
    "duration": 866,
    "start_time": "2022-03-01T14:40:45.022Z"
   },
   {
    "duration": 41,
    "start_time": "2022-03-01T14:42:25.080Z"
   },
   {
    "duration": 44,
    "start_time": "2022-03-01T14:42:50.933Z"
   },
   {
    "duration": 1151,
    "start_time": "2022-03-01T14:43:10.822Z"
   },
   {
    "duration": 1263,
    "start_time": "2022-03-01T14:43:19.084Z"
   },
   {
    "duration": 1227,
    "start_time": "2022-03-01T14:44:13.330Z"
   },
   {
    "duration": 809,
    "start_time": "2022-03-01T14:45:04.336Z"
   },
   {
    "duration": 1376,
    "start_time": "2022-03-01T14:45:30.006Z"
   },
   {
    "duration": 316,
    "start_time": "2022-03-01T14:45:45.515Z"
   },
   {
    "duration": 32,
    "start_time": "2022-03-01T14:46:06.687Z"
   },
   {
    "duration": 789,
    "start_time": "2022-03-01T14:46:41.086Z"
   },
   {
    "duration": 788,
    "start_time": "2022-03-01T14:46:58.727Z"
   },
   {
    "duration": 846,
    "start_time": "2022-03-01T14:47:19.336Z"
   },
   {
    "duration": 31,
    "start_time": "2022-03-01T14:49:08.934Z"
   },
   {
    "duration": 32,
    "start_time": "2022-03-01T14:49:51.931Z"
   },
   {
    "duration": 806,
    "start_time": "2022-03-01T14:50:18.055Z"
   },
   {
    "duration": 32,
    "start_time": "2022-03-01T14:51:05.484Z"
   },
   {
    "duration": 33,
    "start_time": "2022-03-01T14:51:53.095Z"
   },
   {
    "duration": 27,
    "start_time": "2022-03-01T14:52:59.337Z"
   },
   {
    "duration": 17,
    "start_time": "2022-03-01T14:53:35.995Z"
   },
   {
    "duration": 24,
    "start_time": "2022-03-01T14:53:39.858Z"
   },
   {
    "duration": 42,
    "start_time": "2022-03-01T14:53:43.052Z"
   },
   {
    "duration": 36,
    "start_time": "2022-03-01T14:53:44.559Z"
   },
   {
    "duration": 10,
    "start_time": "2022-03-01T14:56:52.232Z"
   },
   {
    "duration": 32,
    "start_time": "2022-03-01T14:57:01.975Z"
   },
   {
    "duration": 188,
    "start_time": "2022-03-01T14:58:36.401Z"
   },
   {
    "duration": 7,
    "start_time": "2022-03-01T14:58:51.033Z"
   },
   {
    "duration": 8,
    "start_time": "2022-03-01T14:58:56.793Z"
   },
   {
    "duration": 8,
    "start_time": "2022-03-01T14:59:35.740Z"
   },
   {
    "duration": 8,
    "start_time": "2022-03-01T14:59:50.320Z"
   },
   {
    "duration": 42,
    "start_time": "2022-03-01T15:03:40.722Z"
   },
   {
    "duration": 32,
    "start_time": "2022-03-01T15:04:15.417Z"
   },
   {
    "duration": 29,
    "start_time": "2022-03-01T15:04:36.858Z"
   },
   {
    "duration": 11,
    "start_time": "2022-03-01T15:04:46.264Z"
   },
   {
    "duration": 19,
    "start_time": "2022-03-01T15:05:22.513Z"
   },
   {
    "duration": 30,
    "start_time": "2022-03-01T15:05:33.153Z"
   },
   {
    "duration": 33,
    "start_time": "2022-03-01T15:09:34.385Z"
   },
   {
    "duration": 258,
    "start_time": "2022-03-01T15:14:30.882Z"
   },
   {
    "duration": 16,
    "start_time": "2022-03-01T15:14:48.928Z"
   },
   {
    "duration": 32,
    "start_time": "2022-03-01T15:15:00.130Z"
   },
   {
    "duration": 194,
    "start_time": "2022-03-01T15:19:03.203Z"
   },
   {
    "duration": 3,
    "start_time": "2022-03-01T15:21:02.901Z"
   },
   {
    "duration": 7,
    "start_time": "2022-03-01T15:21:07.223Z"
   },
   {
    "duration": 12,
    "start_time": "2022-03-01T15:21:22.526Z"
   },
   {
    "duration": 3,
    "start_time": "2022-03-01T15:21:37.027Z"
   },
   {
    "duration": 370,
    "start_time": "2022-03-01T15:21:37.040Z"
   },
   {
    "duration": 9,
    "start_time": "2022-03-01T15:21:37.412Z"
   },
   {
    "duration": 21,
    "start_time": "2022-03-01T15:21:37.423Z"
   },
   {
    "duration": 8,
    "start_time": "2022-03-01T15:21:37.446Z"
   },
   {
    "duration": 18,
    "start_time": "2022-03-01T15:21:37.455Z"
   },
   {
    "duration": 8,
    "start_time": "2022-03-01T15:21:37.474Z"
   },
   {
    "duration": 17,
    "start_time": "2022-03-01T15:21:37.483Z"
   },
   {
    "duration": 9,
    "start_time": "2022-03-01T15:21:37.502Z"
   },
   {
    "duration": 3,
    "start_time": "2022-03-01T15:21:37.514Z"
   },
   {
    "duration": 40,
    "start_time": "2022-03-01T15:21:37.519Z"
   },
   {
    "duration": 6,
    "start_time": "2022-03-01T15:21:37.561Z"
   },
   {
    "duration": 13,
    "start_time": "2022-03-01T15:21:37.568Z"
   },
   {
    "duration": 8,
    "start_time": "2022-03-01T15:21:37.583Z"
   },
   {
    "duration": 94,
    "start_time": "2022-03-01T15:21:37.593Z"
   },
   {
    "duration": 6,
    "start_time": "2022-03-01T15:21:37.688Z"
   },
   {
    "duration": 8,
    "start_time": "2022-03-01T15:21:37.695Z"
   },
   {
    "duration": 70,
    "start_time": "2022-03-01T15:21:37.705Z"
   },
   {
    "duration": 45,
    "start_time": "2022-03-01T15:21:37.776Z"
   },
   {
    "duration": 42,
    "start_time": "2022-03-01T15:21:37.823Z"
   },
   {
    "duration": 24,
    "start_time": "2022-03-01T15:21:37.867Z"
   },
   {
    "duration": 27,
    "start_time": "2022-03-01T15:21:37.893Z"
   },
   {
    "duration": 58,
    "start_time": "2022-03-01T15:21:37.921Z"
   },
   {
    "duration": 16,
    "start_time": "2022-03-01T15:21:37.981Z"
   },
   {
    "duration": 2,
    "start_time": "2022-03-01T15:21:37.999Z"
   },
   {
    "duration": 9,
    "start_time": "2022-03-01T15:25:08.154Z"
   },
   {
    "duration": 405,
    "start_time": "2022-03-01T15:27:21.290Z"
   },
   {
    "duration": 10,
    "start_time": "2022-03-01T15:28:10.360Z"
   },
   {
    "duration": 187,
    "start_time": "2022-03-01T15:28:55.968Z"
   },
   {
    "duration": 218,
    "start_time": "2022-03-01T15:29:08.208Z"
   },
   {
    "duration": 21,
    "start_time": "2022-03-01T15:29:44.545Z"
   },
   {
    "duration": 362,
    "start_time": "2022-03-01T15:30:49.368Z"
   },
   {
    "duration": 1082,
    "start_time": "2022-03-01T15:31:18.567Z"
   },
   {
    "duration": 443,
    "start_time": "2022-03-01T15:31:19.651Z"
   },
   {
    "duration": 12,
    "start_time": "2022-03-01T15:31:20.096Z"
   },
   {
    "duration": 23,
    "start_time": "2022-03-01T15:31:20.110Z"
   },
   {
    "duration": 9,
    "start_time": "2022-03-01T15:31:20.134Z"
   },
   {
    "duration": 22,
    "start_time": "2022-03-01T15:31:20.145Z"
   },
   {
    "duration": 8,
    "start_time": "2022-03-01T15:31:20.169Z"
   },
   {
    "duration": 20,
    "start_time": "2022-03-01T15:31:20.179Z"
   },
   {
    "duration": 13,
    "start_time": "2022-03-01T15:31:20.202Z"
   },
   {
    "duration": 9,
    "start_time": "2022-03-01T15:31:20.217Z"
   },
   {
    "duration": 7,
    "start_time": "2022-03-01T15:31:20.228Z"
   },
   {
    "duration": 15,
    "start_time": "2022-03-01T15:31:20.260Z"
   },
   {
    "duration": 11,
    "start_time": "2022-03-01T15:31:20.277Z"
   },
   {
    "duration": 87,
    "start_time": "2022-03-01T15:31:20.289Z"
   },
   {
    "duration": 6,
    "start_time": "2022-03-01T15:31:20.378Z"
   },
   {
    "duration": 14,
    "start_time": "2022-03-01T15:31:20.385Z"
   },
   {
    "duration": 65,
    "start_time": "2022-03-01T15:31:20.401Z"
   },
   {
    "duration": 65,
    "start_time": "2022-03-01T15:31:20.467Z"
   },
   {
    "duration": 46,
    "start_time": "2022-03-01T15:31:20.534Z"
   },
   {
    "duration": 27,
    "start_time": "2022-03-01T15:31:20.582Z"
   },
   {
    "duration": 49,
    "start_time": "2022-03-01T15:31:20.612Z"
   },
   {
    "duration": 32,
    "start_time": "2022-03-01T15:31:20.663Z"
   },
   {
    "duration": 16,
    "start_time": "2022-03-01T15:31:20.697Z"
   },
   {
    "duration": 328,
    "start_time": "2022-03-01T15:31:20.715Z"
   },
   {
    "duration": 10,
    "start_time": "2022-03-01T15:32:10.381Z"
   },
   {
    "duration": 9,
    "start_time": "2022-03-01T15:32:18.398Z"
   },
   {
    "duration": 10,
    "start_time": "2022-03-01T15:32:51.404Z"
   },
   {
    "duration": 10,
    "start_time": "2022-03-01T15:33:03.488Z"
   },
   {
    "duration": 6,
    "start_time": "2022-03-01T15:33:07.132Z"
   },
   {
    "duration": 9,
    "start_time": "2022-03-01T15:33:11.479Z"
   },
   {
    "duration": 10,
    "start_time": "2022-03-01T15:33:14.334Z"
   },
   {
    "duration": 10,
    "start_time": "2022-03-01T15:33:55.305Z"
   },
   {
    "duration": 3,
    "start_time": "2022-03-01T15:34:10.752Z"
   },
   {
    "duration": 382,
    "start_time": "2022-03-01T15:34:10.757Z"
   },
   {
    "duration": 8,
    "start_time": "2022-03-01T15:34:11.141Z"
   },
   {
    "duration": 34,
    "start_time": "2022-03-01T15:34:11.151Z"
   },
   {
    "duration": 11,
    "start_time": "2022-03-01T15:34:11.187Z"
   },
   {
    "duration": 19,
    "start_time": "2022-03-01T15:34:11.200Z"
   },
   {
    "duration": 8,
    "start_time": "2022-03-01T15:34:11.222Z"
   },
   {
    "duration": 37,
    "start_time": "2022-03-01T15:34:11.232Z"
   },
   {
    "duration": 7,
    "start_time": "2022-03-01T15:34:11.271Z"
   },
   {
    "duration": 8,
    "start_time": "2022-03-01T15:34:11.280Z"
   },
   {
    "duration": 14,
    "start_time": "2022-03-01T15:34:11.290Z"
   },
   {
    "duration": 11,
    "start_time": "2022-03-01T15:34:11.305Z"
   },
   {
    "duration": 92,
    "start_time": "2022-03-01T15:34:11.318Z"
   },
   {
    "duration": 5,
    "start_time": "2022-03-01T15:34:11.411Z"
   },
   {
    "duration": 7,
    "start_time": "2022-03-01T15:34:11.418Z"
   },
   {
    "duration": 70,
    "start_time": "2022-03-01T15:34:11.427Z"
   },
   {
    "duration": 61,
    "start_time": "2022-03-01T15:34:11.498Z"
   },
   {
    "duration": 31,
    "start_time": "2022-03-01T15:34:11.560Z"
   },
   {
    "duration": 32,
    "start_time": "2022-03-01T15:34:11.594Z"
   },
   {
    "duration": 52,
    "start_time": "2022-03-01T15:34:11.627Z"
   },
   {
    "duration": 34,
    "start_time": "2022-03-01T15:34:11.680Z"
   },
   {
    "duration": 16,
    "start_time": "2022-03-01T15:34:11.716Z"
   },
   {
    "duration": 32,
    "start_time": "2022-03-01T15:34:11.734Z"
   },
   {
    "duration": 4,
    "start_time": "2022-03-01T15:34:11.768Z"
   },
   {
    "duration": 27,
    "start_time": "2022-03-01T15:34:32.656Z"
   },
   {
    "duration": 24,
    "start_time": "2022-03-01T15:34:55.202Z"
   },
   {
    "duration": 26,
    "start_time": "2022-03-01T15:35:03.300Z"
   },
   {
    "duration": 25,
    "start_time": "2022-03-01T15:35:58.648Z"
   },
   {
    "duration": 28,
    "start_time": "2022-03-01T15:36:12.512Z"
   },
   {
    "duration": 14,
    "start_time": "2022-03-01T15:36:57.286Z"
   },
   {
    "duration": 75,
    "start_time": "2022-03-01T15:50:42.454Z"
   },
   {
    "duration": 72,
    "start_time": "2022-03-01T15:53:01.639Z"
   },
   {
    "duration": 66,
    "start_time": "2022-03-01T15:53:13.812Z"
   },
   {
    "duration": 74,
    "start_time": "2022-03-01T15:53:34.221Z"
   },
   {
    "duration": 58,
    "start_time": "2022-03-01T15:54:27.995Z"
   },
   {
    "duration": 77,
    "start_time": "2022-03-01T15:54:43.784Z"
   },
   {
    "duration": 62,
    "start_time": "2022-03-01T15:56:32.220Z"
   },
   {
    "duration": 5,
    "start_time": "2022-03-01T15:56:50.937Z"
   },
   {
    "duration": 4,
    "start_time": "2022-03-01T15:56:53.301Z"
   },
   {
    "duration": 5,
    "start_time": "2022-03-01T15:57:28.647Z"
   },
   {
    "duration": 328,
    "start_time": "2022-03-01T15:58:04.558Z"
   },
   {
    "duration": 1066,
    "start_time": "2022-03-01T15:59:58.583Z"
   },
   {
    "duration": 377,
    "start_time": "2022-03-01T15:59:59.651Z"
   },
   {
    "duration": 12,
    "start_time": "2022-03-01T16:00:00.030Z"
   },
   {
    "duration": 34,
    "start_time": "2022-03-01T16:00:00.044Z"
   },
   {
    "duration": 8,
    "start_time": "2022-03-01T16:00:00.080Z"
   },
   {
    "duration": 26,
    "start_time": "2022-03-01T16:00:00.090Z"
   },
   {
    "duration": 9,
    "start_time": "2022-03-01T16:00:00.118Z"
   },
   {
    "duration": 30,
    "start_time": "2022-03-01T16:00:00.129Z"
   },
   {
    "duration": 8,
    "start_time": "2022-03-01T16:00:00.162Z"
   },
   {
    "duration": 28,
    "start_time": "2022-03-01T16:00:00.171Z"
   },
   {
    "duration": 23,
    "start_time": "2022-03-01T16:00:00.201Z"
   },
   {
    "duration": 14,
    "start_time": "2022-03-01T16:00:00.226Z"
   },
   {
    "duration": 85,
    "start_time": "2022-03-01T16:00:00.242Z"
   },
   {
    "duration": 6,
    "start_time": "2022-03-01T16:00:00.328Z"
   },
   {
    "duration": 15,
    "start_time": "2022-03-01T16:00:00.335Z"
   },
   {
    "duration": 57,
    "start_time": "2022-03-01T16:00:00.352Z"
   },
   {
    "duration": 72,
    "start_time": "2022-03-01T16:00:00.411Z"
   },
   {
    "duration": 34,
    "start_time": "2022-03-01T16:00:00.485Z"
   },
   {
    "duration": 53,
    "start_time": "2022-03-01T16:00:00.520Z"
   },
   {
    "duration": 32,
    "start_time": "2022-03-01T16:00:00.574Z"
   },
   {
    "duration": 33,
    "start_time": "2022-03-01T16:00:00.608Z"
   },
   {
    "duration": 18,
    "start_time": "2022-03-01T16:00:00.660Z"
   },
   {
    "duration": 17,
    "start_time": "2022-03-01T16:00:00.681Z"
   },
   {
    "duration": 460,
    "start_time": "2022-03-01T16:00:00.700Z"
   },
   {
    "duration": 35,
    "start_time": "2022-03-01T16:00:24.062Z"
   },
   {
    "duration": 323,
    "start_time": "2022-03-01T16:00:27.706Z"
   },
   {
    "duration": 1431,
    "start_time": "2022-03-02T13:30:13.650Z"
   },
   {
    "duration": 471,
    "start_time": "2022-03-02T13:30:15.083Z"
   },
   {
    "duration": 17,
    "start_time": "2022-03-02T13:30:15.558Z"
   },
   {
    "duration": 31,
    "start_time": "2022-03-02T13:30:15.578Z"
   },
   {
    "duration": 12,
    "start_time": "2022-03-02T13:30:15.612Z"
   },
   {
    "duration": 43,
    "start_time": "2022-03-02T13:30:15.627Z"
   },
   {
    "duration": 10,
    "start_time": "2022-03-02T13:30:15.673Z"
   },
   {
    "duration": 18,
    "start_time": "2022-03-02T13:30:15.688Z"
   },
   {
    "duration": 46,
    "start_time": "2022-03-02T13:30:15.708Z"
   },
   {
    "duration": 9,
    "start_time": "2022-03-02T13:30:15.757Z"
   },
   {
    "duration": 17,
    "start_time": "2022-03-02T13:30:15.769Z"
   },
   {
    "duration": 10,
    "start_time": "2022-03-02T13:30:15.788Z"
   },
   {
    "duration": 129,
    "start_time": "2022-03-02T13:30:15.800Z"
   },
   {
    "duration": 19,
    "start_time": "2022-03-02T13:30:15.932Z"
   },
   {
    "duration": 23,
    "start_time": "2022-03-02T13:30:15.953Z"
   },
   {
    "duration": 77,
    "start_time": "2022-03-02T13:30:15.979Z"
   },
   {
    "duration": 77,
    "start_time": "2022-03-02T13:30:16.059Z"
   },
   {
    "duration": 49,
    "start_time": "2022-03-02T13:30:16.139Z"
   },
   {
    "duration": 41,
    "start_time": "2022-03-02T13:30:16.190Z"
   },
   {
    "duration": 40,
    "start_time": "2022-03-02T13:30:16.251Z"
   },
   {
    "duration": 71,
    "start_time": "2022-03-02T13:30:16.293Z"
   },
   {
    "duration": 24,
    "start_time": "2022-03-02T13:30:16.366Z"
   },
   {
    "duration": 76,
    "start_time": "2022-03-02T13:30:16.394Z"
   },
   {
    "duration": 593,
    "start_time": "2022-03-02T13:30:16.472Z"
   },
   {
    "duration": 56,
    "start_time": "2022-03-02T13:30:35.503Z"
   },
   {
    "duration": 51,
    "start_time": "2022-03-02T13:30:44.550Z"
   },
   {
    "duration": 51,
    "start_time": "2022-03-02T13:31:02.661Z"
   },
   {
    "duration": 289,
    "start_time": "2022-03-02T13:31:20.502Z"
   },
   {
    "duration": 53,
    "start_time": "2022-03-02T13:31:24.485Z"
   },
   {
    "duration": 421,
    "start_time": "2022-03-02T13:37:14.390Z"
   },
   {
    "duration": 459,
    "start_time": "2022-03-02T13:37:35.646Z"
   },
   {
    "duration": 19,
    "start_time": "2022-03-02T13:38:45.712Z"
   },
   {
    "duration": 251,
    "start_time": "2022-03-02T13:42:22.508Z"
   },
   {
    "duration": 250,
    "start_time": "2022-03-02T13:42:29.317Z"
   },
   {
    "duration": 257,
    "start_time": "2022-03-02T13:43:09.479Z"
   },
   {
    "duration": 247,
    "start_time": "2022-03-02T13:43:23.498Z"
   },
   {
    "duration": 4,
    "start_time": "2022-03-02T13:44:02.136Z"
   },
   {
    "duration": 478,
    "start_time": "2022-03-02T13:44:02.143Z"
   },
   {
    "duration": 13,
    "start_time": "2022-03-02T13:44:02.624Z"
   },
   {
    "duration": 34,
    "start_time": "2022-03-02T13:44:02.639Z"
   },
   {
    "duration": 15,
    "start_time": "2022-03-02T13:44:02.675Z"
   },
   {
    "duration": 23,
    "start_time": "2022-03-02T13:44:02.693Z"
   },
   {
    "duration": 33,
    "start_time": "2022-03-02T13:44:02.718Z"
   },
   {
    "duration": 20,
    "start_time": "2022-03-02T13:44:02.757Z"
   },
   {
    "duration": 12,
    "start_time": "2022-03-02T13:44:02.781Z"
   },
   {
    "duration": 12,
    "start_time": "2022-03-02T13:44:02.796Z"
   },
   {
    "duration": 18,
    "start_time": "2022-03-02T13:44:02.853Z"
   },
   {
    "duration": 12,
    "start_time": "2022-03-02T13:44:02.873Z"
   },
   {
    "duration": 115,
    "start_time": "2022-03-02T13:44:02.887Z"
   },
   {
    "duration": 6,
    "start_time": "2022-03-02T13:44:03.004Z"
   },
   {
    "duration": 10,
    "start_time": "2022-03-02T13:44:03.013Z"
   },
   {
    "duration": 89,
    "start_time": "2022-03-02T13:44:03.026Z"
   },
   {
    "duration": 86,
    "start_time": "2022-03-02T13:44:03.117Z"
   },
   {
    "duration": 34,
    "start_time": "2022-03-02T13:44:03.206Z"
   },
   {
    "duration": 31,
    "start_time": "2022-03-02T13:44:03.243Z"
   },
   {
    "duration": 43,
    "start_time": "2022-03-02T13:44:03.277Z"
   },
   {
    "duration": 72,
    "start_time": "2022-03-02T13:44:03.322Z"
   },
   {
    "duration": 25,
    "start_time": "2022-03-02T13:44:03.396Z"
   },
   {
    "duration": 277,
    "start_time": "2022-03-02T13:44:03.425Z"
   },
   {
    "duration": 1112,
    "start_time": "2022-03-02T13:44:02.592Z"
   },
   {
    "duration": 20,
    "start_time": "2022-03-02T13:44:29.833Z"
   },
   {
    "duration": 40,
    "start_time": "2022-03-02T13:44:44.473Z"
   },
   {
    "duration": 92,
    "start_time": "2022-03-02T13:49:14.340Z"
   },
   {
    "duration": 42,
    "start_time": "2022-03-02T13:49:15.938Z"
   },
   {
    "duration": 39,
    "start_time": "2022-03-02T13:49:21.631Z"
   },
   {
    "duration": 44,
    "start_time": "2022-03-02T13:49:25.073Z"
   },
   {
    "duration": 43,
    "start_time": "2022-03-02T13:49:42.054Z"
   },
   {
    "duration": 40,
    "start_time": "2022-03-02T13:50:11.695Z"
   },
   {
    "duration": 56,
    "start_time": "2022-03-02T13:51:28.086Z"
   },
   {
    "duration": 5,
    "start_time": "2022-03-02T13:51:59.188Z"
   },
   {
    "duration": 471,
    "start_time": "2022-03-02T13:51:59.197Z"
   },
   {
    "duration": 12,
    "start_time": "2022-03-02T13:51:59.672Z"
   },
   {
    "duration": 27,
    "start_time": "2022-03-02T13:51:59.686Z"
   },
   {
    "duration": 12,
    "start_time": "2022-03-02T13:51:59.716Z"
   },
   {
    "duration": 38,
    "start_time": "2022-03-02T13:51:59.730Z"
   },
   {
    "duration": 10,
    "start_time": "2022-03-02T13:51:59.770Z"
   },
   {
    "duration": 18,
    "start_time": "2022-03-02T13:51:59.782Z"
   },
   {
    "duration": 45,
    "start_time": "2022-03-02T13:51:59.806Z"
   },
   {
    "duration": 9,
    "start_time": "2022-03-02T13:51:59.855Z"
   },
   {
    "duration": 18,
    "start_time": "2022-03-02T13:51:59.867Z"
   },
   {
    "duration": 12,
    "start_time": "2022-03-02T13:51:59.888Z"
   },
   {
    "duration": 131,
    "start_time": "2022-03-02T13:51:59.903Z"
   },
   {
    "duration": 14,
    "start_time": "2022-03-02T13:52:00.037Z"
   },
   {
    "duration": 10,
    "start_time": "2022-03-02T13:52:00.054Z"
   },
   {
    "duration": 88,
    "start_time": "2022-03-02T13:52:00.067Z"
   },
   {
    "duration": 81,
    "start_time": "2022-03-02T13:52:00.157Z"
   },
   {
    "duration": 44,
    "start_time": "2022-03-02T13:52:00.251Z"
   },
   {
    "duration": 61,
    "start_time": "2022-03-02T13:52:00.297Z"
   },
   {
    "duration": 58,
    "start_time": "2022-03-02T13:52:00.360Z"
   },
   {
    "duration": 75,
    "start_time": "2022-03-02T13:52:00.421Z"
   },
   {
    "duration": 26,
    "start_time": "2022-03-02T13:52:00.498Z"
   },
   {
    "duration": 56,
    "start_time": "2022-03-02T13:52:00.527Z"
   },
   {
    "duration": 475,
    "start_time": "2022-03-02T13:52:00.586Z"
   },
   {
    "duration": 48,
    "start_time": "2022-03-02T13:53:39.650Z"
   },
   {
    "duration": 248,
    "start_time": "2022-03-02T13:53:53.500Z"
   },
   {
    "duration": 56,
    "start_time": "2022-03-02T13:55:11.599Z"
   },
   {
    "duration": 45,
    "start_time": "2022-03-02T13:55:26.043Z"
   },
   {
    "duration": 51,
    "start_time": "2022-03-02T13:55:42.401Z"
   },
   {
    "duration": 35,
    "start_time": "2022-03-02T13:55:57.131Z"
   },
   {
    "duration": 11,
    "start_time": "2022-03-02T13:56:04.065Z"
   },
   {
    "duration": 9,
    "start_time": "2022-03-02T13:56:06.340Z"
   },
   {
    "duration": 232,
    "start_time": "2022-03-02T13:56:23.155Z"
   },
   {
    "duration": 37,
    "start_time": "2022-03-02T13:56:32.024Z"
   },
   {
    "duration": 42,
    "start_time": "2022-03-02T14:05:15.207Z"
   },
   {
    "duration": 38,
    "start_time": "2022-03-02T14:05:22.645Z"
   },
   {
    "duration": 38,
    "start_time": "2022-03-02T14:06:33.015Z"
   },
   {
    "duration": 38,
    "start_time": "2022-03-02T14:06:45.297Z"
   },
   {
    "duration": 428,
    "start_time": "2022-03-02T14:11:01.056Z"
   },
   {
    "duration": 42,
    "start_time": "2022-03-02T14:11:31.453Z"
   },
   {
    "duration": 41,
    "start_time": "2022-03-02T14:12:20.760Z"
   },
   {
    "duration": 426,
    "start_time": "2022-03-02T14:12:39.650Z"
   },
   {
    "duration": 424,
    "start_time": "2022-03-02T14:14:09.815Z"
   },
   {
    "duration": 463,
    "start_time": "2022-03-02T14:15:06.373Z"
   },
   {
    "duration": 446,
    "start_time": "2022-03-02T14:15:15.037Z"
   },
   {
    "duration": 477,
    "start_time": "2022-03-02T14:16:32.707Z"
   },
   {
    "duration": 467,
    "start_time": "2022-03-02T14:20:10.712Z"
   },
   {
    "duration": 467,
    "start_time": "2022-03-02T14:20:22.387Z"
   },
   {
    "duration": 16,
    "start_time": "2022-03-02T14:28:23.375Z"
   },
   {
    "duration": 267,
    "start_time": "2022-03-02T14:28:58.482Z"
   },
   {
    "duration": 26,
    "start_time": "2022-03-02T14:29:06.008Z"
   },
   {
    "duration": 64,
    "start_time": "2022-03-02T14:31:16.647Z"
   },
   {
    "duration": 446,
    "start_time": "2022-03-02T14:31:20.920Z"
   },
   {
    "duration": 26,
    "start_time": "2022-03-02T14:31:24.542Z"
   },
   {
    "duration": 45,
    "start_time": "2022-03-02T14:31:37.120Z"
   },
   {
    "duration": 23,
    "start_time": "2022-03-02T14:31:55.639Z"
   },
   {
    "duration": 493,
    "start_time": "2022-03-02T14:31:59.304Z"
   },
   {
    "duration": 26,
    "start_time": "2022-03-02T14:32:04.141Z"
   },
   {
    "duration": 77,
    "start_time": "2022-03-02T14:36:32.213Z"
   },
   {
    "duration": 76,
    "start_time": "2022-03-02T14:43:44.208Z"
   },
   {
    "duration": 582,
    "start_time": "2022-03-02T14:43:51.249Z"
   },
   {
    "duration": 616,
    "start_time": "2022-03-02T14:44:30.357Z"
   },
   {
    "duration": 548,
    "start_time": "2022-03-02T14:44:46.555Z"
   },
   {
    "duration": 276,
    "start_time": "2022-03-02T14:45:02.351Z"
   },
   {
    "duration": 25,
    "start_time": "2022-03-02T14:45:22.493Z"
   },
   {
    "duration": 251,
    "start_time": "2022-03-02T14:46:28.123Z"
   },
   {
    "duration": 277,
    "start_time": "2022-03-02T14:46:43.062Z"
   },
   {
    "duration": 6,
    "start_time": "2022-03-02T14:47:01.669Z"
   },
   {
    "duration": 7,
    "start_time": "2022-03-02T14:47:14.067Z"
   },
   {
    "duration": 605,
    "start_time": "2022-03-02T14:48:02.152Z"
   },
   {
    "duration": 233,
    "start_time": "2022-03-02T14:50:05.698Z"
   },
   {
    "duration": 220,
    "start_time": "2022-03-02T14:50:14.406Z"
   },
   {
    "duration": 251,
    "start_time": "2022-03-02T14:50:39.899Z"
   },
   {
    "duration": 243,
    "start_time": "2022-03-02T14:50:46.807Z"
   },
   {
    "duration": 9,
    "start_time": "2022-03-02T14:51:16.754Z"
   },
   {
    "duration": 9,
    "start_time": "2022-03-02T14:51:38.106Z"
   },
   {
    "duration": 10,
    "start_time": "2022-03-02T14:51:51.537Z"
   },
   {
    "duration": 271,
    "start_time": "2022-03-02T14:52:31.361Z"
   },
   {
    "duration": 247,
    "start_time": "2022-03-02T14:52:45.471Z"
   },
   {
    "duration": 8,
    "start_time": "2022-03-02T14:54:49.108Z"
   },
   {
    "duration": 4,
    "start_time": "2022-03-02T14:54:52.711Z"
   },
   {
    "duration": 467,
    "start_time": "2022-03-02T14:54:52.718Z"
   },
   {
    "duration": 12,
    "start_time": "2022-03-02T14:54:53.188Z"
   },
   {
    "duration": 27,
    "start_time": "2022-03-02T14:54:53.203Z"
   },
   {
    "duration": 21,
    "start_time": "2022-03-02T14:54:53.233Z"
   },
   {
    "duration": 23,
    "start_time": "2022-03-02T14:54:53.256Z"
   },
   {
    "duration": 10,
    "start_time": "2022-03-02T14:54:53.281Z"
   },
   {
    "duration": 19,
    "start_time": "2022-03-02T14:54:53.293Z"
   },
   {
    "duration": 44,
    "start_time": "2022-03-02T14:54:53.316Z"
   },
   {
    "duration": 9,
    "start_time": "2022-03-02T14:54:53.363Z"
   },
   {
    "duration": 16,
    "start_time": "2022-03-02T14:54:53.374Z"
   },
   {
    "duration": 9,
    "start_time": "2022-03-02T14:54:53.393Z"
   },
   {
    "duration": 137,
    "start_time": "2022-03-02T14:54:53.405Z"
   },
   {
    "duration": 11,
    "start_time": "2022-03-02T14:54:53.544Z"
   },
   {
    "duration": 10,
    "start_time": "2022-03-02T14:54:53.558Z"
   },
   {
    "duration": 90,
    "start_time": "2022-03-02T14:54:53.571Z"
   },
   {
    "duration": 89,
    "start_time": "2022-03-02T14:54:53.664Z"
   },
   {
    "duration": 43,
    "start_time": "2022-03-02T14:54:53.756Z"
   },
   {
    "duration": 61,
    "start_time": "2022-03-02T14:54:53.801Z"
   },
   {
    "duration": 38,
    "start_time": "2022-03-02T14:54:53.864Z"
   },
   {
    "duration": 8,
    "start_time": "2022-03-02T14:54:53.905Z"
   },
   {
    "duration": 39,
    "start_time": "2022-03-02T14:54:53.915Z"
   },
   {
    "duration": 21,
    "start_time": "2022-03-02T14:54:53.956Z"
   },
   {
    "duration": 493,
    "start_time": "2022-03-02T14:54:53.979Z"
   },
   {
    "duration": 254,
    "start_time": "2022-03-02T14:54:54.474Z"
   },
   {
    "duration": 1158,
    "start_time": "2022-03-02T14:54:53.573Z"
   },
   {
    "duration": 9,
    "start_time": "2022-03-02T14:56:15.608Z"
   },
   {
    "duration": 20,
    "start_time": "2022-03-02T14:57:15.921Z"
   },
   {
    "duration": 11,
    "start_time": "2022-03-02T14:57:17.005Z"
   },
   {
    "duration": 239,
    "start_time": "2022-03-02T14:57:39.299Z"
   },
   {
    "duration": 490,
    "start_time": "2022-03-02T14:57:58.836Z"
   },
   {
    "duration": 1465,
    "start_time": "2022-03-02T14:58:21.235Z"
   },
   {
    "duration": 475,
    "start_time": "2022-03-02T14:58:22.703Z"
   },
   {
    "duration": 16,
    "start_time": "2022-03-02T14:58:23.181Z"
   },
   {
    "duration": 27,
    "start_time": "2022-03-02T14:58:23.200Z"
   },
   {
    "duration": 12,
    "start_time": "2022-03-02T14:58:23.230Z"
   },
   {
    "duration": 29,
    "start_time": "2022-03-02T14:58:23.244Z"
   },
   {
    "duration": 11,
    "start_time": "2022-03-02T14:58:23.275Z"
   },
   {
    "duration": 18,
    "start_time": "2022-03-02T14:58:23.291Z"
   },
   {
    "duration": 47,
    "start_time": "2022-03-02T14:58:23.312Z"
   },
   {
    "duration": 11,
    "start_time": "2022-03-02T14:58:23.362Z"
   },
   {
    "duration": 17,
    "start_time": "2022-03-02T14:58:23.375Z"
   },
   {
    "duration": 11,
    "start_time": "2022-03-02T14:58:23.395Z"
   },
   {
    "duration": 134,
    "start_time": "2022-03-02T14:58:23.409Z"
   },
   {
    "duration": 6,
    "start_time": "2022-03-02T14:58:23.546Z"
   },
   {
    "duration": 13,
    "start_time": "2022-03-02T14:58:23.554Z"
   },
   {
    "duration": 92,
    "start_time": "2022-03-02T14:58:23.569Z"
   },
   {
    "duration": 91,
    "start_time": "2022-03-02T14:58:23.663Z"
   },
   {
    "duration": 42,
    "start_time": "2022-03-02T14:58:23.756Z"
   },
   {
    "duration": 61,
    "start_time": "2022-03-02T14:58:23.801Z"
   },
   {
    "duration": 34,
    "start_time": "2022-03-02T14:58:23.865Z"
   },
   {
    "duration": 6,
    "start_time": "2022-03-02T14:58:23.902Z"
   },
   {
    "duration": 9,
    "start_time": "2022-03-02T14:58:23.911Z"
   },
   {
    "duration": 20,
    "start_time": "2022-03-02T14:58:23.954Z"
   },
   {
    "duration": 453,
    "start_time": "2022-03-02T14:58:23.976Z"
   },
   {
    "duration": 34,
    "start_time": "2022-03-02T14:58:24.431Z"
   },
   {
    "duration": 5,
    "start_time": "2022-03-02T15:00:34.758Z"
   },
   {
    "duration": 27,
    "start_time": "2022-03-02T15:00:36.579Z"
   },
   {
    "duration": 22,
    "start_time": "2022-03-02T15:11:10.293Z"
   },
   {
    "duration": 35,
    "start_time": "2022-03-02T15:11:42.830Z"
   },
   {
    "duration": 58,
    "start_time": "2022-03-02T15:16:44.678Z"
   },
   {
    "duration": 77,
    "start_time": "2022-03-02T15:19:22.864Z"
   },
   {
    "duration": 717,
    "start_time": "2022-03-02T15:20:50.705Z"
   },
   {
    "duration": 550,
    "start_time": "2022-03-02T15:23:51.900Z"
   },
   {
    "duration": 391,
    "start_time": "2022-03-02T15:24:12.439Z"
   },
   {
    "duration": 66,
    "start_time": "2022-03-02T15:24:19.033Z"
   },
   {
    "duration": 42,
    "start_time": "2022-03-02T15:24:53.232Z"
   },
   {
    "duration": 54,
    "start_time": "2022-03-02T15:25:38.868Z"
   },
   {
    "duration": 39,
    "start_time": "2022-03-02T15:28:02.736Z"
   },
   {
    "duration": 408,
    "start_time": "2022-03-02T15:28:09.319Z"
   },
   {
    "duration": 336,
    "start_time": "2022-03-02T15:28:27.634Z"
   },
   {
    "duration": 303,
    "start_time": "2022-03-02T15:30:04.696Z"
   },
   {
    "duration": 451,
    "start_time": "2022-03-02T15:30:14.653Z"
   },
   {
    "duration": 272,
    "start_time": "2022-03-02T15:30:57.551Z"
   },
   {
    "duration": 405,
    "start_time": "2022-03-02T15:31:03.243Z"
   },
   {
    "duration": 83,
    "start_time": "2022-03-02T15:39:12.304Z"
   },
   {
    "duration": 421,
    "start_time": "2022-03-02T15:39:41.175Z"
   },
   {
    "duration": 452,
    "start_time": "2022-03-02T15:40:00.543Z"
   },
   {
    "duration": 467,
    "start_time": "2022-03-02T15:40:16.926Z"
   },
   {
    "duration": 467,
    "start_time": "2022-03-02T15:40:24.578Z"
   },
   {
    "duration": 438,
    "start_time": "2022-03-02T15:40:36.821Z"
   },
   {
    "duration": 425,
    "start_time": "2022-03-02T15:41:03.684Z"
   },
   {
    "duration": 440,
    "start_time": "2022-03-02T15:41:11.535Z"
   },
   {
    "duration": 455,
    "start_time": "2022-03-02T15:41:36.419Z"
   },
   {
    "duration": 238,
    "start_time": "2022-03-02T15:45:42.640Z"
   },
   {
    "duration": 380,
    "start_time": "2022-03-02T15:46:24.151Z"
   },
   {
    "duration": 255,
    "start_time": "2022-03-02T15:46:39.336Z"
   },
   {
    "duration": 447,
    "start_time": "2022-03-02T15:49:09.841Z"
   },
   {
    "duration": 1398,
    "start_time": "2022-03-02T15:51:14.289Z"
   },
   {
    "duration": 1301,
    "start_time": "2022-03-02T15:51:52.201Z"
   },
   {
    "duration": 1544,
    "start_time": "2022-03-02T15:55:06.086Z"
   },
   {
    "duration": 992,
    "start_time": "2022-03-02T15:55:19.181Z"
   },
   {
    "duration": 1091,
    "start_time": "2022-03-02T15:56:29.808Z"
   },
   {
    "duration": 1021,
    "start_time": "2022-03-02T15:56:45.871Z"
   },
   {
    "duration": 6079,
    "start_time": "2022-03-02T15:58:00.731Z"
   },
   {
    "duration": 43,
    "start_time": "2022-03-02T15:58:49.242Z"
   },
   {
    "duration": 5978,
    "start_time": "2022-03-02T15:58:55.226Z"
   },
   {
    "duration": 2110,
    "start_time": "2022-03-02T16:00:14.966Z"
   },
   {
    "duration": 717,
    "start_time": "2022-03-02T16:00:45.255Z"
   },
   {
    "duration": 6231,
    "start_time": "2022-03-02T16:01:09.412Z"
   },
   {
    "duration": 6305,
    "start_time": "2022-03-02T16:01:30.140Z"
   },
   {
    "duration": 1471,
    "start_time": "2022-03-02T16:01:43.234Z"
   },
   {
    "duration": 1045,
    "start_time": "2022-03-02T16:01:59.181Z"
   },
   {
    "duration": 1049,
    "start_time": "2022-03-02T16:02:23.644Z"
   },
   {
    "duration": 265,
    "start_time": "2022-03-02T16:07:07.033Z"
   },
   {
    "duration": 7146,
    "start_time": "2022-03-02T16:07:33.245Z"
   },
   {
    "duration": 247,
    "start_time": "2022-03-02T16:09:23.406Z"
   },
   {
    "duration": 6058,
    "start_time": "2022-03-02T16:09:49.301Z"
   },
   {
    "duration": 960,
    "start_time": "2022-03-06T05:30:23.747Z"
   },
   {
    "duration": 373,
    "start_time": "2022-03-06T05:30:24.709Z"
   },
   {
    "duration": 11,
    "start_time": "2022-03-06T05:30:25.084Z"
   },
   {
    "duration": 21,
    "start_time": "2022-03-06T05:30:25.097Z"
   },
   {
    "duration": 9,
    "start_time": "2022-03-06T05:30:25.120Z"
   },
   {
    "duration": 17,
    "start_time": "2022-03-06T05:30:25.130Z"
   },
   {
    "duration": 7,
    "start_time": "2022-03-06T05:30:25.149Z"
   },
   {
    "duration": 14,
    "start_time": "2022-03-06T05:30:25.158Z"
   },
   {
    "duration": 7,
    "start_time": "2022-03-06T05:30:25.174Z"
   },
   {
    "duration": 6,
    "start_time": "2022-03-06T05:30:25.183Z"
   },
   {
    "duration": 44,
    "start_time": "2022-03-06T05:30:25.190Z"
   },
   {
    "duration": 6,
    "start_time": "2022-03-06T05:30:25.236Z"
   },
   {
    "duration": 66,
    "start_time": "2022-03-06T05:30:25.244Z"
   },
   {
    "duration": 21,
    "start_time": "2022-03-06T05:30:25.312Z"
   },
   {
    "duration": 9,
    "start_time": "2022-03-06T05:30:25.335Z"
   },
   {
    "duration": 49,
    "start_time": "2022-03-06T05:30:25.346Z"
   },
   {
    "duration": 73,
    "start_time": "2022-03-06T05:30:25.397Z"
   },
   {
    "duration": 31,
    "start_time": "2022-03-06T05:30:25.472Z"
   },
   {
    "duration": 44,
    "start_time": "2022-03-06T05:30:25.505Z"
   },
   {
    "duration": 23,
    "start_time": "2022-03-06T05:30:25.551Z"
   },
   {
    "duration": 5,
    "start_time": "2022-03-06T05:30:25.575Z"
   },
   {
    "duration": 7,
    "start_time": "2022-03-06T05:30:25.582Z"
   },
   {
    "duration": 11,
    "start_time": "2022-03-06T05:30:25.592Z"
   },
   {
    "duration": 272,
    "start_time": "2022-03-06T05:30:25.605Z"
   },
   {
    "duration": 17,
    "start_time": "2022-03-06T05:30:25.879Z"
   },
   {
    "duration": 4260,
    "start_time": "2022-03-06T05:30:25.898Z"
   },
   {
    "duration": 2499,
    "start_time": "2022-03-06T05:30:27.661Z"
   },
   {
    "duration": 336,
    "start_time": "2022-03-06T05:39:23.318Z"
   },
   {
    "duration": 226,
    "start_time": "2022-03-06T05:39:54.024Z"
   },
   {
    "duration": 345,
    "start_time": "2022-03-06T05:40:15.826Z"
   },
   {
    "duration": 178,
    "start_time": "2022-03-06T05:42:48.479Z"
   },
   {
    "duration": 174,
    "start_time": "2022-03-06T05:43:38.442Z"
   },
   {
    "duration": 173,
    "start_time": "2022-03-06T05:44:03.480Z"
   },
   {
    "duration": 66,
    "start_time": "2022-03-06T05:45:30.668Z"
   },
   {
    "duration": 168,
    "start_time": "2022-03-06T05:45:38.317Z"
   },
   {
    "duration": 177,
    "start_time": "2022-03-06T05:46:07.301Z"
   },
   {
    "duration": 5,
    "start_time": "2022-03-06T05:46:17.110Z"
   },
   {
    "duration": 24799,
    "start_time": "2022-03-06T05:46:53.043Z"
   },
   {
    "duration": 58,
    "start_time": "2022-03-06T05:50:15.476Z"
   },
   {
    "duration": 229,
    "start_time": "2022-03-06T05:50:29.921Z"
   },
   {
    "duration": 185,
    "start_time": "2022-03-06T05:51:26.645Z"
   },
   {
    "duration": 186,
    "start_time": "2022-03-06T05:51:44.851Z"
   },
   {
    "duration": 194,
    "start_time": "2022-03-06T05:51:58.483Z"
   },
   {
    "duration": 11,
    "start_time": "2022-03-06T05:53:09.380Z"
   },
   {
    "duration": 14,
    "start_time": "2022-03-06T05:53:19.397Z"
   },
   {
    "duration": 24,
    "start_time": "2022-03-06T05:53:37.983Z"
   },
   {
    "duration": 21,
    "start_time": "2022-03-06T05:54:08.398Z"
   },
   {
    "duration": 19,
    "start_time": "2022-03-06T05:54:21.312Z"
   },
   {
    "duration": 190,
    "start_time": "2022-03-06T05:54:31.749Z"
   },
   {
    "duration": 20,
    "start_time": "2022-03-06T05:54:38.053Z"
   },
   {
    "duration": 21,
    "start_time": "2022-03-06T05:54:48.604Z"
   },
   {
    "duration": 205,
    "start_time": "2022-03-06T05:55:01.614Z"
   },
   {
    "duration": 189,
    "start_time": "2022-03-06T05:55:42.358Z"
   },
   {
    "duration": 201,
    "start_time": "2022-03-06T06:00:40.673Z"
   },
   {
    "duration": 214,
    "start_time": "2022-03-06T06:01:08.790Z"
   },
   {
    "duration": 178,
    "start_time": "2022-03-06T06:01:21.097Z"
   },
   {
    "duration": 196,
    "start_time": "2022-03-06T06:02:48.352Z"
   },
   {
    "duration": 194,
    "start_time": "2022-03-06T06:02:59.581Z"
   },
   {
    "duration": 206,
    "start_time": "2022-03-06T06:03:49.283Z"
   },
   {
    "duration": 193,
    "start_time": "2022-03-06T06:04:33.474Z"
   },
   {
    "duration": 4434,
    "start_time": "2022-03-06T06:05:00.789Z"
   },
   {
    "duration": 321,
    "start_time": "2022-03-06T06:05:13.187Z"
   },
   {
    "duration": 195,
    "start_time": "2022-03-06T06:05:22.254Z"
   },
   {
    "duration": 198,
    "start_time": "2022-03-06T06:07:13.272Z"
   },
   {
    "duration": 244,
    "start_time": "2022-03-06T06:07:42.676Z"
   },
   {
    "duration": 395,
    "start_time": "2022-03-06T06:08:58.052Z"
   },
   {
    "duration": 237,
    "start_time": "2022-03-06T06:09:08.968Z"
   },
   {
    "duration": 180,
    "start_time": "2022-03-06T06:09:32.792Z"
   },
   {
    "duration": 332,
    "start_time": "2022-03-06T06:09:37.561Z"
   },
   {
    "duration": 223,
    "start_time": "2022-03-06T06:09:48.185Z"
   },
   {
    "duration": 233,
    "start_time": "2022-03-06T06:10:19.930Z"
   },
   {
    "duration": 231,
    "start_time": "2022-03-06T06:10:51.114Z"
   },
   {
    "duration": 17,
    "start_time": "2022-03-06T06:11:10.882Z"
   },
   {
    "duration": 236,
    "start_time": "2022-03-06T06:11:24.865Z"
   },
   {
    "duration": 221,
    "start_time": "2022-03-06T06:11:36.384Z"
   },
   {
    "duration": 226,
    "start_time": "2022-03-06T06:11:38.298Z"
   },
   {
    "duration": 367,
    "start_time": "2022-03-06T06:12:56.215Z"
   },
   {
    "duration": 349,
    "start_time": "2022-03-06T06:13:26.552Z"
   },
   {
    "duration": 769,
    "start_time": "2022-03-06T06:14:08.307Z"
   },
   {
    "duration": 350,
    "start_time": "2022-03-06T06:14:45.633Z"
   },
   {
    "duration": 240,
    "start_time": "2022-03-06T06:15:11.037Z"
   },
   {
    "duration": 34,
    "start_time": "2022-03-06T06:25:42.566Z"
   },
   {
    "duration": 207,
    "start_time": "2022-03-06T06:25:55.955Z"
   },
   {
    "duration": 41,
    "start_time": "2022-03-06T06:26:00.074Z"
   },
   {
    "duration": 44,
    "start_time": "2022-03-06T06:26:04.144Z"
   },
   {
    "duration": 42,
    "start_time": "2022-03-06T06:26:22.032Z"
   },
   {
    "duration": 184,
    "start_time": "2022-03-06T06:37:35.662Z"
   },
   {
    "duration": 238,
    "start_time": "2022-03-06T06:38:14.483Z"
   },
   {
    "duration": 371,
    "start_time": "2022-03-06T06:38:36.862Z"
   },
   {
    "duration": 228,
    "start_time": "2022-03-06T06:39:09.038Z"
   },
   {
    "duration": 184,
    "start_time": "2022-03-06T06:44:58.102Z"
   },
   {
    "duration": 179,
    "start_time": "2022-03-06T06:45:14.619Z"
   },
   {
    "duration": 10,
    "start_time": "2022-03-06T06:46:17.437Z"
   },
   {
    "duration": 229,
    "start_time": "2022-03-06T06:46:26.258Z"
   },
   {
    "duration": 188,
    "start_time": "2022-03-06T06:46:53.281Z"
   },
   {
    "duration": 16,
    "start_time": "2022-03-06T06:47:30.699Z"
   },
   {
    "duration": 203,
    "start_time": "2022-03-06T06:48:10.208Z"
   },
   {
    "duration": 184,
    "start_time": "2022-03-06T06:48:15.248Z"
   },
   {
    "duration": 985,
    "start_time": "2022-03-06T06:48:31.321Z"
   },
   {
    "duration": 370,
    "start_time": "2022-03-06T06:48:32.308Z"
   },
   {
    "duration": 11,
    "start_time": "2022-03-06T06:48:32.680Z"
   },
   {
    "duration": 28,
    "start_time": "2022-03-06T06:48:32.693Z"
   },
   {
    "duration": 8,
    "start_time": "2022-03-06T06:48:32.722Z"
   },
   {
    "duration": 17,
    "start_time": "2022-03-06T06:48:32.732Z"
   },
   {
    "duration": 7,
    "start_time": "2022-03-06T06:48:32.750Z"
   },
   {
    "duration": 16,
    "start_time": "2022-03-06T06:48:32.759Z"
   },
   {
    "duration": 7,
    "start_time": "2022-03-06T06:48:32.777Z"
   },
   {
    "duration": 7,
    "start_time": "2022-03-06T06:48:32.785Z"
   },
   {
    "duration": 40,
    "start_time": "2022-03-06T06:48:32.794Z"
   },
   {
    "duration": 6,
    "start_time": "2022-03-06T06:48:32.835Z"
   },
   {
    "duration": 68,
    "start_time": "2022-03-06T06:48:32.842Z"
   },
   {
    "duration": 22,
    "start_time": "2022-03-06T06:48:32.911Z"
   },
   {
    "duration": 9,
    "start_time": "2022-03-06T06:48:32.934Z"
   },
   {
    "duration": 53,
    "start_time": "2022-03-06T06:48:32.945Z"
   },
   {
    "duration": 67,
    "start_time": "2022-03-06T06:48:32.999Z"
   },
   {
    "duration": 29,
    "start_time": "2022-03-06T06:48:33.068Z"
   },
   {
    "duration": 46,
    "start_time": "2022-03-06T06:48:33.098Z"
   },
   {
    "duration": 23,
    "start_time": "2022-03-06T06:48:33.146Z"
   },
   {
    "duration": 5,
    "start_time": "2022-03-06T06:48:33.171Z"
   },
   {
    "duration": 8,
    "start_time": "2022-03-06T06:48:33.177Z"
   },
   {
    "duration": 14,
    "start_time": "2022-03-06T06:48:33.187Z"
   },
   {
    "duration": 283,
    "start_time": "2022-03-06T06:48:33.203Z"
   },
   {
    "duration": 244,
    "start_time": "2022-03-06T06:48:33.488Z"
   },
   {
    "duration": 232,
    "start_time": "2022-03-06T06:48:33.734Z"
   },
   {
    "duration": 234,
    "start_time": "2022-03-06T06:48:33.968Z"
   },
   {
    "duration": 216,
    "start_time": "2022-03-06T06:48:34.203Z"
   },
   {
    "duration": 267,
    "start_time": "2022-03-06T06:48:34.420Z"
   },
   {
    "duration": 9,
    "start_time": "2022-03-06T06:50:14.950Z"
   },
   {
    "duration": 8,
    "start_time": "2022-03-06T06:50:23.587Z"
   },
   {
    "duration": 14,
    "start_time": "2022-03-06T06:53:42.849Z"
   },
   {
    "duration": 17,
    "start_time": "2022-03-06T06:54:10.884Z"
   },
   {
    "duration": 20,
    "start_time": "2022-03-06T06:54:27.782Z"
   },
   {
    "duration": 61,
    "start_time": "2022-03-06T06:55:21.646Z"
   },
   {
    "duration": 307,
    "start_time": "2022-03-06T06:55:28.801Z"
   },
   {
    "duration": 190,
    "start_time": "2022-03-06T06:55:43.945Z"
   },
   {
    "duration": 16,
    "start_time": "2022-03-06T06:55:57.264Z"
   },
   {
    "duration": 18,
    "start_time": "2022-03-06T06:56:10.426Z"
   },
   {
    "duration": 3,
    "start_time": "2022-03-06T06:59:35.176Z"
   },
   {
    "duration": 183,
    "start_time": "2022-03-06T07:00:04.988Z"
   },
   {
    "duration": 172,
    "start_time": "2022-03-06T07:00:08.456Z"
   },
   {
    "duration": 204,
    "start_time": "2022-03-06T07:00:15.317Z"
   },
   {
    "duration": 175,
    "start_time": "2022-03-06T07:00:37.074Z"
   },
   {
    "duration": 191,
    "start_time": "2022-03-06T07:00:43.620Z"
   },
   {
    "duration": 169,
    "start_time": "2022-03-06T07:00:59.710Z"
   },
   {
    "duration": 183,
    "start_time": "2022-03-06T07:03:21.369Z"
   },
   {
    "duration": 4,
    "start_time": "2022-03-06T07:03:29.492Z"
   },
   {
    "duration": 60,
    "start_time": "2022-03-06T07:05:08.807Z"
   },
   {
    "duration": 286,
    "start_time": "2022-03-06T07:05:41.634Z"
   },
   {
    "duration": 65,
    "start_time": "2022-03-06T07:06:00.264Z"
   },
   {
    "duration": 63,
    "start_time": "2022-03-06T07:06:16.756Z"
   },
   {
    "duration": 329,
    "start_time": "2022-03-06T07:06:25.058Z"
   },
   {
    "duration": 4,
    "start_time": "2022-03-06T07:07:48.557Z"
   },
   {
    "duration": 5,
    "start_time": "2022-03-06T07:08:18.546Z"
   },
   {
    "duration": 16,
    "start_time": "2022-03-06T07:09:05.778Z"
   },
   {
    "duration": 180,
    "start_time": "2022-03-06T07:10:23.786Z"
   },
   {
    "duration": 8,
    "start_time": "2022-03-06T07:12:29.049Z"
   },
   {
    "duration": 11,
    "start_time": "2022-03-06T07:13:42.303Z"
   },
   {
    "duration": 9,
    "start_time": "2022-03-06T07:14:35.830Z"
   },
   {
    "duration": 175,
    "start_time": "2022-03-06T07:14:45.216Z"
   },
   {
    "duration": 170,
    "start_time": "2022-03-06T07:14:52.188Z"
   },
   {
    "duration": 8,
    "start_time": "2022-03-06T07:14:56.843Z"
   },
   {
    "duration": 55,
    "start_time": "2022-03-06T07:15:14.149Z"
   },
   {
    "duration": 8,
    "start_time": "2022-03-06T07:15:18.220Z"
   },
   {
    "duration": 9,
    "start_time": "2022-03-06T07:15:27.086Z"
   },
   {
    "duration": 13,
    "start_time": "2022-03-06T07:15:57.191Z"
   },
   {
    "duration": 12,
    "start_time": "2022-03-06T07:16:08.193Z"
   },
   {
    "duration": 19,
    "start_time": "2022-03-06T07:16:36.093Z"
   },
   {
    "duration": 225,
    "start_time": "2022-03-06T07:19:05.474Z"
   },
   {
    "duration": 66,
    "start_time": "2022-03-06T07:19:40.334Z"
   },
   {
    "duration": 67,
    "start_time": "2022-03-06T07:19:42.219Z"
   },
   {
    "duration": 230,
    "start_time": "2022-03-06T07:19:45.749Z"
   },
   {
    "duration": 228,
    "start_time": "2022-03-06T07:20:24.425Z"
   },
   {
    "duration": 17,
    "start_time": "2022-03-06T07:30:18.968Z"
   },
   {
    "duration": 207,
    "start_time": "2022-03-06T10:15:54.124Z"
   },
   {
    "duration": 137,
    "start_time": "2022-03-06T10:17:47.659Z"
   },
   {
    "duration": 193,
    "start_time": "2022-03-06T10:18:39.859Z"
   },
   {
    "duration": 181,
    "start_time": "2022-03-06T10:18:45.628Z"
   },
   {
    "duration": 182,
    "start_time": "2022-03-06T10:19:02.541Z"
   },
   {
    "duration": 397,
    "start_time": "2022-03-06T10:19:36.558Z"
   },
   {
    "duration": 823,
    "start_time": "2022-03-06T10:19:46.844Z"
   },
   {
    "duration": 169,
    "start_time": "2022-03-06T10:20:27.050Z"
   },
   {
    "duration": 167,
    "start_time": "2022-03-06T10:20:39.084Z"
   },
   {
    "duration": 173,
    "start_time": "2022-03-06T10:20:46.315Z"
   },
   {
    "duration": 242,
    "start_time": "2022-03-06T10:20:52.591Z"
   },
   {
    "duration": 362,
    "start_time": "2022-03-06T10:21:23.977Z"
   },
   {
    "duration": 355,
    "start_time": "2022-03-06T10:21:40.917Z"
   },
   {
    "duration": 4708,
    "start_time": "2022-03-06T10:22:04.093Z"
   },
   {
    "duration": 450,
    "start_time": "2022-03-06T10:22:35.889Z"
   },
   {
    "duration": 356,
    "start_time": "2022-03-06T10:23:09.478Z"
   },
   {
    "duration": 195,
    "start_time": "2022-03-06T10:26:35.736Z"
   },
   {
    "duration": 17,
    "start_time": "2022-03-06T10:28:18.119Z"
   },
   {
    "duration": 182,
    "start_time": "2022-03-06T10:28:20.363Z"
   },
   {
    "duration": 377,
    "start_time": "2022-03-06T10:31:01.036Z"
   },
   {
    "duration": 134,
    "start_time": "2022-03-06T10:31:35.324Z"
   },
   {
    "duration": 137,
    "start_time": "2022-03-06T10:32:16.433Z"
   },
   {
    "duration": 182,
    "start_time": "2022-03-06T10:34:24.368Z"
   },
   {
    "duration": 132,
    "start_time": "2022-03-06T10:34:37.485Z"
   },
   {
    "duration": 223,
    "start_time": "2022-03-06T10:35:43.145Z"
   },
   {
    "duration": 227,
    "start_time": "2022-03-06T10:35:55.945Z"
   },
   {
    "duration": 222,
    "start_time": "2022-03-06T10:36:06.115Z"
   },
   {
    "duration": 66,
    "start_time": "2022-03-06T10:39:59.380Z"
   },
   {
    "duration": 232,
    "start_time": "2022-03-06T10:40:14.986Z"
   },
   {
    "duration": 327,
    "start_time": "2022-03-06T10:40:35.776Z"
   },
   {
    "duration": 339,
    "start_time": "2022-03-06T10:41:45.458Z"
   },
   {
    "duration": 366,
    "start_time": "2022-03-06T10:42:47.650Z"
   },
   {
    "duration": 173,
    "start_time": "2022-03-06T10:43:10.197Z"
   },
   {
    "duration": 326,
    "start_time": "2022-03-06T10:43:14.449Z"
   },
   {
    "duration": 350,
    "start_time": "2022-03-06T10:43:47.046Z"
   },
   {
    "duration": 348,
    "start_time": "2022-03-06T10:43:56.546Z"
   },
   {
    "duration": 229,
    "start_time": "2022-03-06T10:44:35.291Z"
   },
   {
    "duration": 229,
    "start_time": "2022-03-06T10:44:46.203Z"
   },
   {
    "duration": 231,
    "start_time": "2022-03-06T10:44:57.049Z"
   },
   {
    "duration": 225,
    "start_time": "2022-03-06T10:45:25.574Z"
   },
   {
    "duration": 225,
    "start_time": "2022-03-06T10:45:37.548Z"
   },
   {
    "duration": 229,
    "start_time": "2022-03-06T10:45:55.255Z"
   },
   {
    "duration": 331,
    "start_time": "2022-03-06T10:46:04.210Z"
   },
   {
    "duration": 244,
    "start_time": "2022-03-06T10:46:07.947Z"
   },
   {
    "duration": 354,
    "start_time": "2022-03-06T10:47:01.090Z"
   },
   {
    "duration": 338,
    "start_time": "2022-03-06T10:47:06.087Z"
   },
   {
    "duration": 369,
    "start_time": "2022-03-06T10:47:09.777Z"
   },
   {
    "duration": 339,
    "start_time": "2022-03-06T10:47:23.061Z"
   },
   {
    "duration": 332,
    "start_time": "2022-03-06T10:48:48.509Z"
   },
   {
    "duration": 360,
    "start_time": "2022-03-06T10:49:45.793Z"
   },
   {
    "duration": 239,
    "start_time": "2022-03-06T10:49:54.050Z"
   },
   {
    "duration": 232,
    "start_time": "2022-03-06T10:50:02.016Z"
   },
   {
    "duration": 238,
    "start_time": "2022-03-06T10:50:28.117Z"
   },
   {
    "duration": 347,
    "start_time": "2022-03-06T10:51:02.585Z"
   },
   {
    "duration": 229,
    "start_time": "2022-03-06T10:51:14.573Z"
   },
   {
    "duration": 230,
    "start_time": "2022-03-06T10:51:23.602Z"
   },
   {
    "duration": 230,
    "start_time": "2022-03-06T10:51:44.502Z"
   },
   {
    "duration": 224,
    "start_time": "2022-03-06T10:52:42.057Z"
   },
   {
    "duration": 220,
    "start_time": "2022-03-06T10:53:11.350Z"
   },
   {
    "duration": 218,
    "start_time": "2022-03-06T10:53:38.154Z"
   },
   {
    "duration": 231,
    "start_time": "2022-03-06T10:53:44.226Z"
   },
   {
    "duration": 225,
    "start_time": "2022-03-06T10:54:02.968Z"
   },
   {
    "duration": 69,
    "start_time": "2022-03-06T10:54:14.528Z"
   },
   {
    "duration": 231,
    "start_time": "2022-03-06T10:54:20.924Z"
   },
   {
    "duration": 229,
    "start_time": "2022-03-06T10:54:46.192Z"
   },
   {
    "duration": 335,
    "start_time": "2022-03-06T10:54:54.628Z"
   },
   {
    "duration": 233,
    "start_time": "2022-03-06T10:55:31.102Z"
   },
   {
    "duration": 224,
    "start_time": "2022-03-06T10:55:45.738Z"
   },
   {
    "duration": 237,
    "start_time": "2022-03-06T10:55:53.062Z"
   },
   {
    "duration": 230,
    "start_time": "2022-03-06T10:55:57.652Z"
   },
   {
    "duration": 16,
    "start_time": "2022-03-06T10:56:21.594Z"
   },
   {
    "duration": 57,
    "start_time": "2022-03-06T10:57:03.848Z"
   },
   {
    "duration": 226,
    "start_time": "2022-03-06T10:57:33.145Z"
   },
   {
    "duration": 35,
    "start_time": "2022-03-06T10:58:05.628Z"
   },
   {
    "duration": 16,
    "start_time": "2022-03-06T10:58:26.558Z"
   },
   {
    "duration": 64,
    "start_time": "2022-03-06T10:59:12.930Z"
   },
   {
    "duration": 234,
    "start_time": "2022-03-06T11:00:24.954Z"
   },
   {
    "duration": 242,
    "start_time": "2022-03-06T11:01:09.330Z"
   },
   {
    "duration": 235,
    "start_time": "2022-03-06T11:01:37.898Z"
   },
   {
    "duration": 231,
    "start_time": "2022-03-06T11:01:53.421Z"
   },
   {
    "duration": 3,
    "start_time": "2022-03-06T11:05:49.652Z"
   },
   {
    "duration": 10,
    "start_time": "2022-03-06T11:32:02.948Z"
   },
   {
    "duration": 11,
    "start_time": "2022-03-06T11:32:26.843Z"
   },
   {
    "duration": 12,
    "start_time": "2022-03-06T11:33:56.620Z"
   },
   {
    "duration": 18,
    "start_time": "2022-03-06T11:34:32.481Z"
   },
   {
    "duration": 15,
    "start_time": "2022-03-06T11:35:17.552Z"
   },
   {
    "duration": 15,
    "start_time": "2022-03-06T11:35:21.039Z"
   },
   {
    "duration": 496,
    "start_time": "2022-03-06T11:35:31.656Z"
   },
   {
    "duration": 27,
    "start_time": "2022-03-06T11:35:49.750Z"
   },
   {
    "duration": 57,
    "start_time": "2022-03-06T11:36:07.188Z"
   },
   {
    "duration": 21,
    "start_time": "2022-03-06T11:36:10.203Z"
   },
   {
    "duration": 28,
    "start_time": "2022-03-06T11:36:25.008Z"
   },
   {
    "duration": 13,
    "start_time": "2022-03-06T11:38:49.931Z"
   },
   {
    "duration": 11,
    "start_time": "2022-03-06T11:44:06.821Z"
   },
   {
    "duration": 15,
    "start_time": "2022-03-06T11:46:20.585Z"
   },
   {
    "duration": 683,
    "start_time": "2022-03-06T11:46:53.998Z"
   },
   {
    "duration": 15,
    "start_time": "2022-03-06T11:47:00.387Z"
   },
   {
    "duration": 60,
    "start_time": "2022-03-06T11:48:45.440Z"
   },
   {
    "duration": 13,
    "start_time": "2022-03-06T11:48:50.367Z"
   },
   {
    "duration": 2,
    "start_time": "2022-03-06T11:52:43.154Z"
   },
   {
    "duration": 13,
    "start_time": "2022-03-06T11:55:16.514Z"
   },
   {
    "duration": 14,
    "start_time": "2022-03-06T11:55:40.319Z"
   },
   {
    "duration": 11,
    "start_time": "2022-03-06T11:56:21.245Z"
   },
   {
    "duration": 12,
    "start_time": "2022-03-06T11:56:31.012Z"
   },
   {
    "duration": 15,
    "start_time": "2022-03-06T11:56:58.169Z"
   },
   {
    "duration": 12,
    "start_time": "2022-03-06T11:57:04.521Z"
   },
   {
    "duration": 1414,
    "start_time": "2022-03-14T07:56:33.837Z"
   },
   {
    "duration": 525,
    "start_time": "2022-03-14T07:56:35.255Z"
   },
   {
    "duration": 22,
    "start_time": "2022-03-14T07:56:35.784Z"
   },
   {
    "duration": 32,
    "start_time": "2022-03-14T07:56:35.809Z"
   },
   {
    "duration": 13,
    "start_time": "2022-03-14T07:56:35.843Z"
   },
   {
    "duration": 22,
    "start_time": "2022-03-14T07:56:35.883Z"
   },
   {
    "duration": 11,
    "start_time": "2022-03-14T07:56:35.908Z"
   },
   {
    "duration": 20,
    "start_time": "2022-03-14T07:56:36.068Z"
   },
   {
    "duration": 12,
    "start_time": "2022-03-14T07:56:36.556Z"
   },
   {
    "duration": 9,
    "start_time": "2022-03-14T07:56:36.724Z"
   },
   {
    "duration": 16,
    "start_time": "2022-03-14T07:56:37.221Z"
   },
   {
    "duration": 10,
    "start_time": "2022-03-14T07:56:37.392Z"
   },
   {
    "duration": 111,
    "start_time": "2022-03-14T07:56:38.539Z"
   },
   {
    "duration": 94,
    "start_time": "2022-03-14T07:56:38.708Z"
   },
   {
    "duration": 7,
    "start_time": "2022-03-14T07:56:39.045Z"
   },
   {
    "duration": 22,
    "start_time": "2022-03-14T07:56:43.789Z"
   },
   {
    "duration": 8,
    "start_time": "2022-03-14T07:56:44.116Z"
   },
   {
    "duration": 16,
    "start_time": "2022-03-14T07:56:44.620Z"
   },
   {
    "duration": 68,
    "start_time": "2022-03-14T07:56:45.243Z"
   },
   {
    "duration": 81,
    "start_time": "2022-03-14T07:56:45.400Z"
   },
   {
    "duration": 45,
    "start_time": "2022-03-14T07:56:45.700Z"
   },
   {
    "duration": 39,
    "start_time": "2022-03-14T07:56:45.876Z"
   },
   {
    "duration": 37,
    "start_time": "2022-03-14T07:56:46.212Z"
   },
   {
    "duration": 8,
    "start_time": "2022-03-14T07:56:46.540Z"
   },
   {
    "duration": 9,
    "start_time": "2022-03-14T07:56:46.709Z"
   },
   {
    "duration": 18,
    "start_time": "2022-03-14T07:56:47.189Z"
   },
   {
    "duration": 507,
    "start_time": "2022-03-14T07:56:47.351Z"
   },
   {
    "duration": 411,
    "start_time": "2022-03-14T07:56:48.358Z"
   },
   {
    "duration": 411,
    "start_time": "2022-03-14T07:56:48.771Z"
   },
   {
    "duration": 438,
    "start_time": "2022-03-14T07:56:49.185Z"
   },
   {
    "duration": 415,
    "start_time": "2022-03-14T07:56:49.625Z"
   },
   {
    "duration": 429,
    "start_time": "2022-03-14T07:56:50.043Z"
   },
   {
    "duration": 428,
    "start_time": "2022-03-14T07:56:50.474Z"
   },
   {
    "duration": 409,
    "start_time": "2022-03-14T07:56:50.904Z"
   },
   {
    "duration": 568,
    "start_time": "2022-03-14T07:56:51.317Z"
   },
   {
    "duration": 664,
    "start_time": "2022-03-14T07:56:51.888Z"
   },
   {
    "duration": 31,
    "start_time": "2022-03-14T07:56:52.555Z"
   },
   {
    "duration": 19,
    "start_time": "2022-03-14T07:56:52.594Z"
   },
   {
    "duration": 15,
    "start_time": "2022-03-14T07:56:56.378Z"
   },
   {
    "duration": 30,
    "start_time": "2022-03-14T07:57:03.174Z"
   },
   {
    "duration": 21,
    "start_time": "2022-03-14T07:57:12.347Z"
   },
   {
    "duration": 348,
    "start_time": "2022-03-14T14:27:01.973Z"
   },
   {
    "duration": 1089,
    "start_time": "2022-03-14T14:27:16.323Z"
   },
   {
    "duration": 391,
    "start_time": "2022-03-14T14:27:17.414Z"
   },
   {
    "duration": 12,
    "start_time": "2022-03-14T14:27:17.808Z"
   },
   {
    "duration": 35,
    "start_time": "2022-03-14T14:27:17.821Z"
   },
   {
    "duration": 9,
    "start_time": "2022-03-14T14:27:17.858Z"
   },
   {
    "duration": 19,
    "start_time": "2022-03-14T14:27:17.869Z"
   },
   {
    "duration": 8,
    "start_time": "2022-03-14T14:27:17.889Z"
   },
   {
    "duration": 49,
    "start_time": "2022-03-14T14:27:17.899Z"
   },
   {
    "duration": 11,
    "start_time": "2022-03-14T14:27:17.951Z"
   },
   {
    "duration": 15,
    "start_time": "2022-03-14T14:27:17.964Z"
   },
   {
    "duration": 34,
    "start_time": "2022-03-14T14:27:17.981Z"
   },
   {
    "duration": 26,
    "start_time": "2022-03-14T14:27:18.017Z"
   },
   {
    "duration": 235,
    "start_time": "2022-03-14T14:27:18.044Z"
   },
   {
    "duration": 71,
    "start_time": "2022-03-14T14:27:18.280Z"
   },
   {
    "duration": 5,
    "start_time": "2022-03-14T14:27:18.353Z"
   },
   {
    "duration": 11,
    "start_time": "2022-03-14T14:27:18.360Z"
   },
   {
    "duration": 65,
    "start_time": "2022-03-14T14:27:18.372Z"
   },
   {
    "duration": 62,
    "start_time": "2022-03-14T14:27:18.439Z"
   },
   {
    "duration": 51,
    "start_time": "2022-03-14T14:27:18.503Z"
   },
   {
    "duration": 29,
    "start_time": "2022-03-14T14:27:18.556Z"
   },
   {
    "duration": 28,
    "start_time": "2022-03-14T14:27:18.587Z"
   },
   {
    "duration": 26,
    "start_time": "2022-03-14T14:27:18.616Z"
   },
   {
    "duration": 10,
    "start_time": "2022-03-14T14:27:18.645Z"
   },
   {
    "duration": 13,
    "start_time": "2022-03-14T14:27:18.657Z"
   },
   {
    "duration": 294,
    "start_time": "2022-03-14T14:27:18.672Z"
   },
   {
    "duration": 267,
    "start_time": "2022-03-14T14:27:18.967Z"
   },
   {
    "duration": 316,
    "start_time": "2022-03-14T14:27:19.236Z"
   },
   {
    "duration": 322,
    "start_time": "2022-03-14T14:27:19.555Z"
   },
   {
    "duration": 313,
    "start_time": "2022-03-14T14:27:19.879Z"
   },
   {
    "duration": 307,
    "start_time": "2022-03-14T14:27:20.194Z"
   },
   {
    "duration": 323,
    "start_time": "2022-03-14T14:27:20.504Z"
   },
   {
    "duration": 296,
    "start_time": "2022-03-14T14:27:20.829Z"
   },
   {
    "duration": 366,
    "start_time": "2022-03-14T14:27:21.126Z"
   },
   {
    "duration": 416,
    "start_time": "2022-03-14T14:27:21.495Z"
   },
   {
    "duration": 26,
    "start_time": "2022-03-14T14:27:21.913Z"
   },
   {
    "duration": 25,
    "start_time": "2022-03-14T14:27:21.941Z"
   },
   {
    "duration": 34,
    "start_time": "2022-03-14T14:27:21.968Z"
   },
   {
    "duration": 33,
    "start_time": "2022-03-14T14:27:22.005Z"
   },
   {
    "duration": 113,
    "start_time": "2022-03-14T14:28:10.756Z"
   },
   {
    "duration": 42,
    "start_time": "2022-03-14T14:28:18.476Z"
   },
   {
    "duration": 48,
    "start_time": "2022-03-14T14:28:24.125Z"
   },
   {
    "duration": 6,
    "start_time": "2022-03-14T14:28:27.949Z"
   },
   {
    "duration": 10,
    "start_time": "2022-03-14T14:28:32.813Z"
   },
   {
    "duration": 176,
    "start_time": "2022-03-14T14:30:47.985Z"
   },
   {
    "duration": 189,
    "start_time": "2022-03-14T14:31:03.832Z"
   },
   {
    "duration": 6,
    "start_time": "2022-03-14T14:32:51.336Z"
   },
   {
    "duration": 7,
    "start_time": "2022-03-14T14:33:14.129Z"
   },
   {
    "duration": 7,
    "start_time": "2022-03-14T14:33:37.776Z"
   },
   {
    "duration": 10,
    "start_time": "2022-03-14T14:33:44.548Z"
   },
   {
    "duration": 7,
    "start_time": "2022-03-14T14:34:18.914Z"
   },
   {
    "duration": 7,
    "start_time": "2022-03-14T14:34:29.706Z"
   },
   {
    "duration": 284,
    "start_time": "2022-03-14T14:35:16.326Z"
   },
   {
    "duration": 190,
    "start_time": "2022-03-14T14:35:25.596Z"
   },
   {
    "duration": 229,
    "start_time": "2022-03-14T14:35:39.097Z"
   },
   {
    "duration": 191,
    "start_time": "2022-03-14T14:35:45.531Z"
   },
   {
    "duration": 5,
    "start_time": "2022-03-14T14:36:00.909Z"
   },
   {
    "duration": 47,
    "start_time": "2022-03-14T14:36:16.513Z"
   },
   {
    "duration": 4996,
    "start_time": "2022-03-14T14:36:43.695Z"
   },
   {
    "duration": 7,
    "start_time": "2022-03-14T14:37:20.145Z"
   },
   {
    "duration": 210,
    "start_time": "2022-03-14T14:37:36.186Z"
   },
   {
    "duration": 200,
    "start_time": "2022-03-14T14:37:49.353Z"
   },
   {
    "duration": 21,
    "start_time": "2022-03-14T14:38:57.749Z"
   },
   {
    "duration": 212,
    "start_time": "2022-03-14T14:39:13.119Z"
   },
   {
    "duration": 28,
    "start_time": "2022-03-14T14:39:25.044Z"
   },
   {
    "duration": 64,
    "start_time": "2022-03-14T14:40:51.850Z"
   },
   {
    "duration": 67,
    "start_time": "2022-03-14T14:42:17.459Z"
   },
   {
    "duration": 10,
    "start_time": "2022-03-14T14:44:24.680Z"
   },
   {
    "duration": 7,
    "start_time": "2022-03-14T14:44:39.752Z"
   },
   {
    "duration": 61,
    "start_time": "2022-03-14T14:50:25.109Z"
   },
   {
    "duration": 65,
    "start_time": "2022-03-14T14:50:47.977Z"
   },
   {
    "duration": 10,
    "start_time": "2022-03-14T14:51:07.003Z"
   },
   {
    "duration": 14,
    "start_time": "2022-03-14T14:51:28.066Z"
   },
   {
    "duration": 10,
    "start_time": "2022-03-14T14:51:34.545Z"
   },
   {
    "duration": 75,
    "start_time": "2022-03-14T14:53:11.066Z"
   },
   {
    "duration": 13,
    "start_time": "2022-03-14T14:53:21.127Z"
   },
   {
    "duration": 21,
    "start_time": "2022-03-14T14:54:24.061Z"
   },
   {
    "duration": 26,
    "start_time": "2022-03-14T14:54:38.459Z"
   },
   {
    "duration": 4,
    "start_time": "2022-03-14T14:57:21.944Z"
   },
   {
    "duration": 5,
    "start_time": "2022-03-14T14:57:45.728Z"
   },
   {
    "duration": 204,
    "start_time": "2022-03-14T14:58:22.781Z"
   },
   {
    "duration": 259,
    "start_time": "2022-03-14T14:58:45.106Z"
   },
   {
    "duration": 197,
    "start_time": "2022-03-14T15:00:29.506Z"
   },
   {
    "duration": 200,
    "start_time": "2022-03-14T15:02:04.433Z"
   },
   {
    "duration": 58,
    "start_time": "2022-03-14T15:05:29.003Z"
   },
   {
    "duration": 204,
    "start_time": "2022-03-14T15:06:36.279Z"
   },
   {
    "duration": 4,
    "start_time": "2022-03-14T15:06:50.723Z"
   },
   {
    "duration": 4,
    "start_time": "2022-03-14T15:07:04.021Z"
   },
   {
    "duration": 194,
    "start_time": "2022-03-14T15:07:42.945Z"
   },
   {
    "duration": 214,
    "start_time": "2022-03-14T15:07:53.768Z"
   },
   {
    "duration": 187,
    "start_time": "2022-03-14T15:08:50.424Z"
   },
   {
    "duration": 189,
    "start_time": "2022-03-14T15:09:24.085Z"
   },
   {
    "duration": 4,
    "start_time": "2022-03-14T15:09:31.081Z"
   },
   {
    "duration": 186,
    "start_time": "2022-03-14T15:10:56.559Z"
   },
   {
    "duration": 216,
    "start_time": "2022-03-14T15:11:19.464Z"
   },
   {
    "duration": 54,
    "start_time": "2022-03-14T15:12:18.169Z"
   },
   {
    "duration": 41,
    "start_time": "2022-03-14T15:12:27.730Z"
   },
   {
    "duration": 22,
    "start_time": "2022-03-14T15:12:46.675Z"
   },
   {
    "duration": 4,
    "start_time": "2022-03-14T15:18:19.876Z"
   },
   {
    "duration": 4,
    "start_time": "2022-03-14T15:18:52.926Z"
   },
   {
    "duration": 6938,
    "start_time": "2022-03-14T15:20:05.691Z"
   },
   {
    "duration": 4042,
    "start_time": "2022-03-14T15:20:14.089Z"
   },
   {
    "duration": 59,
    "start_time": "2022-03-14T15:20:59.514Z"
   },
   {
    "duration": 40,
    "start_time": "2022-03-14T15:21:05.748Z"
   },
   {
    "duration": 27,
    "start_time": "2022-03-14T15:21:10.649Z"
   },
   {
    "duration": 22,
    "start_time": "2022-03-14T15:21:23.320Z"
   },
   {
    "duration": 25,
    "start_time": "2022-03-14T15:26:53.371Z"
   },
   {
    "duration": 27,
    "start_time": "2022-03-14T15:27:16.142Z"
   },
   {
    "duration": 24,
    "start_time": "2022-03-14T15:27:24.915Z"
   },
   {
    "duration": 66,
    "start_time": "2022-03-14T15:28:41.844Z"
   },
   {
    "duration": 191,
    "start_time": "2022-03-14T15:30:25.099Z"
   },
   {
    "duration": 185,
    "start_time": "2022-03-14T15:30:38.124Z"
   },
   {
    "duration": 3057,
    "start_time": "2022-03-14T15:34:02.966Z"
   },
   {
    "duration": 3055,
    "start_time": "2022-03-14T15:34:24.229Z"
   },
   {
    "duration": 3223,
    "start_time": "2022-03-14T15:34:29.359Z"
   },
   {
    "duration": 1061,
    "start_time": "2022-03-14T15:35:25.457Z"
   },
   {
    "duration": 399,
    "start_time": "2022-03-14T15:35:26.520Z"
   },
   {
    "duration": 16,
    "start_time": "2022-03-14T15:35:26.921Z"
   },
   {
    "duration": 32,
    "start_time": "2022-03-14T15:35:26.939Z"
   },
   {
    "duration": 9,
    "start_time": "2022-03-14T15:35:26.973Z"
   },
   {
    "duration": 24,
    "start_time": "2022-03-14T15:35:26.984Z"
   },
   {
    "duration": 7,
    "start_time": "2022-03-14T15:35:27.010Z"
   },
   {
    "duration": 31,
    "start_time": "2022-03-14T15:35:27.019Z"
   },
   {
    "duration": 8,
    "start_time": "2022-03-14T15:35:27.052Z"
   },
   {
    "duration": 11,
    "start_time": "2022-03-14T15:35:27.062Z"
   },
   {
    "duration": 15,
    "start_time": "2022-03-14T15:35:27.075Z"
   },
   {
    "duration": 9,
    "start_time": "2022-03-14T15:35:27.092Z"
   },
   {
    "duration": 253,
    "start_time": "2022-03-14T15:35:27.103Z"
   },
   {
    "duration": 80,
    "start_time": "2022-03-14T15:35:27.358Z"
   },
   {
    "duration": 3118,
    "start_time": "2022-03-14T15:35:27.440Z"
   },
   {
    "duration": 1493,
    "start_time": "2022-03-14T15:35:29.069Z"
   },
   {
    "duration": 1492,
    "start_time": "2022-03-14T15:35:29.072Z"
   },
   {
    "duration": 1491,
    "start_time": "2022-03-14T15:35:29.074Z"
   },
   {
    "duration": 1491,
    "start_time": "2022-03-14T15:35:29.076Z"
   },
   {
    "duration": 1489,
    "start_time": "2022-03-14T15:35:29.079Z"
   },
   {
    "duration": 1488,
    "start_time": "2022-03-14T15:35:29.081Z"
   },
   {
    "duration": 1486,
    "start_time": "2022-03-14T15:35:29.085Z"
   },
   {
    "duration": 1485,
    "start_time": "2022-03-14T15:35:29.087Z"
   },
   {
    "duration": 1480,
    "start_time": "2022-03-14T15:35:29.093Z"
   },
   {
    "duration": 1479,
    "start_time": "2022-03-14T15:35:29.096Z"
   },
   {
    "duration": 1478,
    "start_time": "2022-03-14T15:35:29.098Z"
   },
   {
    "duration": 1477,
    "start_time": "2022-03-14T15:35:29.101Z"
   },
   {
    "duration": 1476,
    "start_time": "2022-03-14T15:35:29.103Z"
   },
   {
    "duration": 1475,
    "start_time": "2022-03-14T15:35:29.105Z"
   },
   {
    "duration": 1475,
    "start_time": "2022-03-14T15:35:29.107Z"
   },
   {
    "duration": 1474,
    "start_time": "2022-03-14T15:35:29.109Z"
   },
   {
    "duration": 1474,
    "start_time": "2022-03-14T15:35:29.111Z"
   },
   {
    "duration": 1472,
    "start_time": "2022-03-14T15:35:29.114Z"
   },
   {
    "duration": 1472,
    "start_time": "2022-03-14T15:35:29.115Z"
   },
   {
    "duration": 1471,
    "start_time": "2022-03-14T15:35:29.118Z"
   },
   {
    "duration": 1471,
    "start_time": "2022-03-14T15:35:29.120Z"
   },
   {
    "duration": 1469,
    "start_time": "2022-03-14T15:35:29.123Z"
   },
   {
    "duration": 1468,
    "start_time": "2022-03-14T15:35:29.125Z"
   },
   {
    "duration": 1463,
    "start_time": "2022-03-14T15:35:29.132Z"
   },
   {
    "duration": 15,
    "start_time": "2022-03-14T15:35:52.837Z"
   },
   {
    "duration": 12,
    "start_time": "2022-03-14T15:35:57.832Z"
   },
   {
    "duration": 193,
    "start_time": "2022-03-14T15:36:12.253Z"
   },
   {
    "duration": 210,
    "start_time": "2022-03-14T15:36:23.639Z"
   },
   {
    "duration": 12,
    "start_time": "2022-03-14T15:36:31.041Z"
   },
   {
    "duration": 204,
    "start_time": "2022-03-14T15:36:49.682Z"
   },
   {
    "duration": 8,
    "start_time": "2022-03-14T15:39:04.222Z"
   },
   {
    "duration": 8,
    "start_time": "2022-03-14T15:39:08.856Z"
   },
   {
    "duration": 7,
    "start_time": "2022-03-14T15:39:26.654Z"
   },
   {
    "duration": 8,
    "start_time": "2022-03-14T15:39:36.734Z"
   },
   {
    "duration": 7,
    "start_time": "2022-03-14T15:40:04.859Z"
   },
   {
    "duration": 7,
    "start_time": "2022-03-14T15:40:10.892Z"
   },
   {
    "duration": 17,
    "start_time": "2022-03-14T15:43:53.910Z"
   },
   {
    "duration": 4592,
    "start_time": "2022-03-14T15:44:19.786Z"
   },
   {
    "duration": 17,
    "start_time": "2022-03-14T15:45:36.265Z"
   },
   {
    "duration": 17,
    "start_time": "2022-03-14T15:46:33.930Z"
   },
   {
    "duration": 18,
    "start_time": "2022-03-14T15:47:02.753Z"
   },
   {
    "duration": 205,
    "start_time": "2022-03-14T16:07:29.454Z"
   },
   {
    "duration": 237,
    "start_time": "2022-03-14T16:08:27.011Z"
   },
   {
    "duration": 1042,
    "start_time": "2022-03-14T16:08:41.188Z"
   },
   {
    "duration": 400,
    "start_time": "2022-03-14T16:08:42.232Z"
   },
   {
    "duration": 12,
    "start_time": "2022-03-14T16:08:42.634Z"
   },
   {
    "duration": 24,
    "start_time": "2022-03-14T16:08:42.648Z"
   },
   {
    "duration": 10,
    "start_time": "2022-03-14T16:08:42.673Z"
   },
   {
    "duration": 18,
    "start_time": "2022-03-14T16:08:42.685Z"
   },
   {
    "duration": 37,
    "start_time": "2022-03-14T16:08:42.705Z"
   },
   {
    "duration": 16,
    "start_time": "2022-03-14T16:08:42.745Z"
   },
   {
    "duration": 10,
    "start_time": "2022-03-14T16:08:42.763Z"
   },
   {
    "duration": 13,
    "start_time": "2022-03-14T16:08:42.775Z"
   },
   {
    "duration": 16,
    "start_time": "2022-03-14T16:08:42.789Z"
   },
   {
    "duration": 31,
    "start_time": "2022-03-14T16:08:42.807Z"
   },
   {
    "duration": 233,
    "start_time": "2022-03-14T16:08:42.840Z"
   },
   {
    "duration": 77,
    "start_time": "2022-03-14T16:08:43.075Z"
   },
   {
    "duration": 18,
    "start_time": "2022-03-14T16:08:43.154Z"
   },
   {
    "duration": 6,
    "start_time": "2022-03-14T16:08:43.174Z"
   },
   {
    "duration": 10,
    "start_time": "2022-03-14T16:08:43.182Z"
   },
   {
    "duration": 72,
    "start_time": "2022-03-14T16:08:43.194Z"
   },
   {
    "duration": 70,
    "start_time": "2022-03-14T16:08:43.268Z"
   },
   {
    "duration": 31,
    "start_time": "2022-03-14T16:08:43.339Z"
   },
   {
    "duration": 27,
    "start_time": "2022-03-14T16:08:43.371Z"
   },
   {
    "duration": 44,
    "start_time": "2022-03-14T16:08:43.400Z"
   },
   {
    "duration": 6,
    "start_time": "2022-03-14T16:08:43.447Z"
   },
   {
    "duration": 7,
    "start_time": "2022-03-14T16:08:43.455Z"
   },
   {
    "duration": 14,
    "start_time": "2022-03-14T16:08:43.463Z"
   },
   {
    "duration": 286,
    "start_time": "2022-03-14T16:08:43.479Z"
   },
   {
    "duration": 262,
    "start_time": "2022-03-14T16:08:43.767Z"
   },
   {
    "duration": 265,
    "start_time": "2022-03-14T16:08:44.031Z"
   },
   {
    "duration": 267,
    "start_time": "2022-03-14T16:08:44.298Z"
   },
   {
    "duration": 268,
    "start_time": "2022-03-14T16:08:44.567Z"
   },
   {
    "duration": 302,
    "start_time": "2022-03-14T16:08:44.838Z"
   },
   {
    "duration": 275,
    "start_time": "2022-03-14T16:08:45.142Z"
   },
   {
    "duration": 336,
    "start_time": "2022-03-14T16:08:45.420Z"
   },
   {
    "duration": 288,
    "start_time": "2022-03-14T16:08:45.758Z"
   },
   {
    "duration": 377,
    "start_time": "2022-03-14T16:08:46.048Z"
   },
   {
    "duration": 14,
    "start_time": "2022-03-14T16:08:46.427Z"
   },
   {
    "duration": 14,
    "start_time": "2022-03-14T16:08:46.443Z"
   },
   {
    "duration": 18,
    "start_time": "2022-03-14T16:08:46.459Z"
   },
   {
    "duration": 22,
    "start_time": "2022-03-14T16:08:46.480Z"
   },
   {
    "duration": 262,
    "start_time": "2022-03-14T16:09:03.375Z"
   },
   {
    "duration": 287,
    "start_time": "2022-03-14T16:09:19.929Z"
   },
   {
    "duration": 271,
    "start_time": "2022-03-14T16:09:48.055Z"
   },
   {
    "duration": 265,
    "start_time": "2022-03-14T16:10:49.008Z"
   },
   {
    "duration": 427,
    "start_time": "2022-03-14T16:11:12.316Z"
   },
   {
    "duration": 265,
    "start_time": "2022-03-14T16:11:19.133Z"
   },
   {
    "duration": 260,
    "start_time": "2022-03-14T16:12:05.980Z"
   },
   {
    "duration": 260,
    "start_time": "2022-03-14T16:12:34.599Z"
   },
   {
    "duration": 87,
    "start_time": "2022-03-14T16:14:14.974Z"
   },
   {
    "duration": 253,
    "start_time": "2022-03-14T16:14:26.155Z"
   },
   {
    "duration": 252,
    "start_time": "2022-03-14T16:15:03.257Z"
   },
   {
    "duration": 265,
    "start_time": "2022-03-14T16:15:09.108Z"
   },
   {
    "duration": 1124,
    "start_time": "2022-03-16T14:35:23.532Z"
   },
   {
    "duration": 814,
    "start_time": "2022-03-16T14:35:24.658Z"
   },
   {
    "duration": 12,
    "start_time": "2022-03-16T14:35:25.474Z"
   },
   {
    "duration": 44,
    "start_time": "2022-03-16T14:35:25.488Z"
   },
   {
    "duration": 15,
    "start_time": "2022-03-16T14:35:25.534Z"
   },
   {
    "duration": 34,
    "start_time": "2022-03-16T14:35:25.551Z"
   },
   {
    "duration": 18,
    "start_time": "2022-03-16T14:35:25.587Z"
   },
   {
    "duration": 28,
    "start_time": "2022-03-16T14:35:25.607Z"
   },
   {
    "duration": 28,
    "start_time": "2022-03-16T14:35:25.637Z"
   },
   {
    "duration": 18,
    "start_time": "2022-03-16T14:35:25.667Z"
   },
   {
    "duration": 35,
    "start_time": "2022-03-16T14:35:25.687Z"
   },
   {
    "duration": 17,
    "start_time": "2022-03-16T14:35:25.723Z"
   },
   {
    "duration": 244,
    "start_time": "2022-03-16T14:35:25.742Z"
   },
   {
    "duration": 82,
    "start_time": "2022-03-16T14:35:25.988Z"
   },
   {
    "duration": 17,
    "start_time": "2022-03-16T14:35:26.071Z"
   },
   {
    "duration": 5,
    "start_time": "2022-03-16T14:35:26.090Z"
   },
   {
    "duration": 27,
    "start_time": "2022-03-16T14:35:26.097Z"
   },
   {
    "duration": 56,
    "start_time": "2022-03-16T14:35:26.126Z"
   },
   {
    "duration": 66,
    "start_time": "2022-03-16T14:35:26.184Z"
   },
   {
    "duration": 34,
    "start_time": "2022-03-16T14:35:26.251Z"
   },
   {
    "duration": 24,
    "start_time": "2022-03-16T14:35:26.287Z"
   },
   {
    "duration": 28,
    "start_time": "2022-03-16T14:35:26.313Z"
   },
   {
    "duration": 23,
    "start_time": "2022-03-16T14:35:26.343Z"
   },
   {
    "duration": 8,
    "start_time": "2022-03-16T14:35:26.368Z"
   },
   {
    "duration": 25,
    "start_time": "2022-03-16T14:35:26.377Z"
   },
   {
    "duration": 266,
    "start_time": "2022-03-16T14:35:26.404Z"
   },
   {
    "duration": 255,
    "start_time": "2022-03-16T14:35:26.674Z"
   },
   {
    "duration": 261,
    "start_time": "2022-03-16T14:35:26.932Z"
   },
   {
    "duration": 260,
    "start_time": "2022-03-16T14:35:27.195Z"
   },
   {
    "duration": 251,
    "start_time": "2022-03-16T14:35:27.457Z"
   },
   {
    "duration": 260,
    "start_time": "2022-03-16T14:35:27.710Z"
   },
   {
    "duration": 275,
    "start_time": "2022-03-16T14:35:27.973Z"
   },
   {
    "duration": 255,
    "start_time": "2022-03-16T14:35:28.250Z"
   },
   {
    "duration": 257,
    "start_time": "2022-03-16T14:35:28.508Z"
   },
   {
    "duration": 342,
    "start_time": "2022-03-16T14:35:28.767Z"
   },
   {
    "duration": 12,
    "start_time": "2022-03-16T14:35:29.111Z"
   },
   {
    "duration": 14,
    "start_time": "2022-03-16T14:35:29.125Z"
   },
   {
    "duration": 35,
    "start_time": "2022-03-16T14:35:29.141Z"
   },
   {
    "duration": 56,
    "start_time": "2022-03-16T14:35:29.178Z"
   },
   {
    "duration": 260,
    "start_time": "2022-03-16T14:37:15.711Z"
   },
   {
    "duration": 228,
    "start_time": "2022-03-16T14:38:05.492Z"
   },
   {
    "duration": 219,
    "start_time": "2022-03-16T14:38:56.837Z"
   },
   {
    "duration": 334,
    "start_time": "2022-03-16T14:47:59.501Z"
   },
   {
    "duration": 501,
    "start_time": "2022-03-16T14:48:50.974Z"
   },
   {
    "duration": 562,
    "start_time": "2022-03-16T14:49:02.742Z"
   },
   {
    "duration": 241,
    "start_time": "2022-03-16T14:49:28.752Z"
   },
   {
    "duration": 7,
    "start_time": "2022-03-16T14:53:39.359Z"
   },
   {
    "duration": 10,
    "start_time": "2022-03-16T14:53:49.595Z"
   },
   {
    "duration": 174,
    "start_time": "2022-03-16T14:54:08.248Z"
   },
   {
    "duration": 173,
    "start_time": "2022-03-16T14:54:19.678Z"
   },
   {
    "duration": 203,
    "start_time": "2022-03-16T14:55:07.918Z"
   },
   {
    "duration": 242,
    "start_time": "2022-03-16T14:56:09.230Z"
   },
   {
    "duration": 413,
    "start_time": "2022-03-16T14:57:04.445Z"
   },
   {
    "duration": 460,
    "start_time": "2022-03-16T15:00:35.474Z"
   },
   {
    "duration": 341,
    "start_time": "2022-03-16T15:00:43.034Z"
   },
   {
    "duration": 969,
    "start_time": "2022-03-16T15:01:15.927Z"
   },
   {
    "duration": 438,
    "start_time": "2022-03-16T15:01:21.913Z"
   },
   {
    "duration": 169,
    "start_time": "2022-03-16T15:01:27.202Z"
   },
   {
    "duration": 185,
    "start_time": "2022-03-16T15:01:57.808Z"
   },
   {
    "duration": 255,
    "start_time": "2022-03-16T15:02:35.422Z"
   },
   {
    "duration": 1243,
    "start_time": "2022-03-18T04:38:26.121Z"
   },
   {
    "duration": 396,
    "start_time": "2022-03-18T04:38:27.366Z"
   },
   {
    "duration": 14,
    "start_time": "2022-03-18T04:38:27.763Z"
   },
   {
    "duration": 28,
    "start_time": "2022-03-18T04:38:27.778Z"
   },
   {
    "duration": 9,
    "start_time": "2022-03-18T04:38:27.809Z"
   },
   {
    "duration": 23,
    "start_time": "2022-03-18T04:38:27.820Z"
   },
   {
    "duration": 8,
    "start_time": "2022-03-18T04:38:27.844Z"
   },
   {
    "duration": 21,
    "start_time": "2022-03-18T04:38:27.853Z"
   },
   {
    "duration": 34,
    "start_time": "2022-03-18T04:38:27.876Z"
   },
   {
    "duration": 10,
    "start_time": "2022-03-18T04:38:27.912Z"
   },
   {
    "duration": 12,
    "start_time": "2022-03-18T04:38:27.924Z"
   },
   {
    "duration": 10,
    "start_time": "2022-03-18T04:38:27.938Z"
   },
   {
    "duration": 260,
    "start_time": "2022-03-18T04:38:27.950Z"
   },
   {
    "duration": 77,
    "start_time": "2022-03-18T04:38:28.214Z"
   },
   {
    "duration": 27,
    "start_time": "2022-03-18T04:38:28.293Z"
   },
   {
    "duration": 7,
    "start_time": "2022-03-18T04:38:28.322Z"
   },
   {
    "duration": 10,
    "start_time": "2022-03-18T04:38:28.331Z"
   },
   {
    "duration": 76,
    "start_time": "2022-03-18T04:38:28.342Z"
   },
   {
    "duration": 60,
    "start_time": "2022-03-18T04:38:28.419Z"
   },
   {
    "duration": 43,
    "start_time": "2022-03-18T04:38:28.481Z"
   },
   {
    "duration": 25,
    "start_time": "2022-03-18T04:38:28.525Z"
   },
   {
    "duration": 21,
    "start_time": "2022-03-18T04:38:28.552Z"
   },
   {
    "duration": 5,
    "start_time": "2022-03-18T04:38:28.575Z"
   },
   {
    "duration": 29,
    "start_time": "2022-03-18T04:38:28.582Z"
   },
   {
    "duration": 13,
    "start_time": "2022-03-18T04:38:28.613Z"
   },
   {
    "duration": 167,
    "start_time": "2022-03-18T04:38:28.628Z"
   },
   {
    "duration": 224,
    "start_time": "2022-03-18T04:38:28.796Z"
   },
   {
    "duration": 224,
    "start_time": "2022-03-18T04:38:29.021Z"
   },
   {
    "duration": 221,
    "start_time": "2022-03-18T04:38:29.246Z"
   },
   {
    "duration": 210,
    "start_time": "2022-03-18T04:38:29.469Z"
   },
   {
    "duration": 226,
    "start_time": "2022-03-18T04:38:29.681Z"
   },
   {
    "duration": 221,
    "start_time": "2022-03-18T04:38:29.908Z"
   },
   {
    "duration": 215,
    "start_time": "2022-03-18T04:38:30.131Z"
   },
   {
    "duration": 225,
    "start_time": "2022-03-18T04:38:30.348Z"
   },
   {
    "duration": 219,
    "start_time": "2022-03-18T04:38:30.575Z"
   },
   {
    "duration": 19,
    "start_time": "2022-03-18T04:38:30.796Z"
   },
   {
    "duration": 17,
    "start_time": "2022-03-18T04:38:30.816Z"
   },
   {
    "duration": 11,
    "start_time": "2022-03-18T04:38:30.835Z"
   },
   {
    "duration": 14,
    "start_time": "2022-03-18T04:38:30.848Z"
   },
   {
    "duration": 303,
    "start_time": "2022-03-18T04:42:33.832Z"
   },
   {
    "duration": 154,
    "start_time": "2022-03-18T04:42:46.087Z"
   },
   {
    "duration": 185,
    "start_time": "2022-03-18T04:43:23.503Z"
   },
   {
    "duration": 171,
    "start_time": "2022-03-18T04:43:47.905Z"
   },
   {
    "duration": 157,
    "start_time": "2022-03-18T04:43:58.625Z"
   },
   {
    "duration": 199,
    "start_time": "2022-03-18T04:44:40.424Z"
   },
   {
    "duration": 179,
    "start_time": "2022-03-18T04:45:00.017Z"
   },
   {
    "duration": 180,
    "start_time": "2022-03-18T04:45:57.584Z"
   },
   {
    "duration": 19,
    "start_time": "2022-03-18T04:47:02.360Z"
   },
   {
    "duration": 19,
    "start_time": "2022-03-18T04:47:20.295Z"
   },
   {
    "duration": 165,
    "start_time": "2022-03-18T04:47:41.671Z"
   },
   {
    "duration": 165,
    "start_time": "2022-03-18T04:48:09.256Z"
   },
   {
    "duration": 242,
    "start_time": "2022-03-18T04:50:03.175Z"
   },
   {
    "duration": 161,
    "start_time": "2022-03-18T04:50:54.176Z"
   },
   {
    "duration": 160,
    "start_time": "2022-03-18T04:51:44.159Z"
   },
   {
    "duration": 169,
    "start_time": "2022-03-18T04:52:07.360Z"
   },
   {
    "duration": 159,
    "start_time": "2022-03-18T04:52:19.344Z"
   },
   {
    "duration": 154,
    "start_time": "2022-03-18T04:52:25.625Z"
   },
   {
    "duration": 154,
    "start_time": "2022-03-18T04:52:41.320Z"
   },
   {
    "duration": 157,
    "start_time": "2022-03-18T04:52:45.024Z"
   },
   {
    "duration": 143,
    "start_time": "2022-03-18T05:25:11.228Z"
   },
   {
    "duration": 115,
    "start_time": "2022-03-18T05:33:29.380Z"
   },
   {
    "duration": 162,
    "start_time": "2022-03-18T05:34:17.772Z"
   },
   {
    "duration": 249,
    "start_time": "2022-03-18T05:34:45.339Z"
   },
   {
    "duration": 64,
    "start_time": "2022-03-18T05:35:09.659Z"
   },
   {
    "duration": 149,
    "start_time": "2022-03-18T05:35:13.996Z"
   },
   {
    "duration": 67,
    "start_time": "2022-03-18T06:20:49.874Z"
   },
   {
    "duration": 162,
    "start_time": "2022-03-18T06:21:02.089Z"
   },
   {
    "duration": 167,
    "start_time": "2022-03-18T06:21:23.641Z"
   },
   {
    "duration": 174,
    "start_time": "2022-03-18T06:21:41.297Z"
   },
   {
    "duration": 174,
    "start_time": "2022-03-18T06:22:24.058Z"
   },
   {
    "duration": 177,
    "start_time": "2022-03-18T06:22:49.289Z"
   },
   {
    "duration": 180,
    "start_time": "2022-03-18T06:23:22.489Z"
   },
   {
    "duration": 335,
    "start_time": "2022-03-18T06:23:55.153Z"
   },
   {
    "duration": 341,
    "start_time": "2022-03-18T06:24:04.740Z"
   },
   {
    "duration": 209,
    "start_time": "2022-03-18T06:24:14.049Z"
   },
   {
    "duration": 4,
    "start_time": "2022-03-19T06:07:54.708Z"
   },
   {
    "duration": 414,
    "start_time": "2022-03-19T06:07:54.714Z"
   },
   {
    "duration": 11,
    "start_time": "2022-03-19T06:07:55.129Z"
   },
   {
    "duration": 27,
    "start_time": "2022-03-19T06:07:55.143Z"
   },
   {
    "duration": 10,
    "start_time": "2022-03-19T06:07:55.172Z"
   },
   {
    "duration": 43,
    "start_time": "2022-03-19T06:07:55.184Z"
   },
   {
    "duration": 8,
    "start_time": "2022-03-19T06:07:55.229Z"
   },
   {
    "duration": 20,
    "start_time": "2022-03-19T06:07:55.239Z"
   },
   {
    "duration": 8,
    "start_time": "2022-03-19T06:07:55.262Z"
   },
   {
    "duration": 45,
    "start_time": "2022-03-19T06:07:55.272Z"
   },
   {
    "duration": 12,
    "start_time": "2022-03-19T06:07:55.319Z"
   },
   {
    "duration": 10,
    "start_time": "2022-03-19T06:07:55.333Z"
   },
   {
    "duration": 205,
    "start_time": "2022-03-19T06:07:55.345Z"
   },
   {
    "duration": 86,
    "start_time": "2022-03-19T06:07:55.553Z"
   },
   {
    "duration": 17,
    "start_time": "2022-03-19T06:07:55.641Z"
   },
   {
    "duration": 5,
    "start_time": "2022-03-19T06:07:55.660Z"
   },
   {
    "duration": 13,
    "start_time": "2022-03-19T06:07:55.667Z"
   },
   {
    "duration": 76,
    "start_time": "2022-03-19T06:07:55.682Z"
   },
   {
    "duration": 77,
    "start_time": "2022-03-19T06:07:55.760Z"
   },
   {
    "duration": 33,
    "start_time": "2022-03-19T06:07:55.839Z"
   },
   {
    "duration": 54,
    "start_time": "2022-03-19T06:07:55.874Z"
   },
   {
    "duration": 23,
    "start_time": "2022-03-19T06:07:55.930Z"
   },
   {
    "duration": 6,
    "start_time": "2022-03-19T06:07:55.955Z"
   },
   {
    "duration": 4,
    "start_time": "2022-03-19T06:07:55.965Z"
   },
   {
    "duration": 51,
    "start_time": "2022-03-19T06:07:55.970Z"
   },
   {
    "duration": 152,
    "start_time": "2022-03-19T06:07:56.023Z"
   },
   {
    "duration": 225,
    "start_time": "2022-03-19T06:07:56.177Z"
   },
   {
    "duration": 225,
    "start_time": "2022-03-19T06:07:56.408Z"
   },
   {
    "duration": 233,
    "start_time": "2022-03-19T06:07:56.635Z"
   },
   {
    "duration": 217,
    "start_time": "2022-03-19T06:07:56.870Z"
   },
   {
    "duration": 231,
    "start_time": "2022-03-19T06:07:57.089Z"
   },
   {
    "duration": 224,
    "start_time": "2022-03-19T06:07:57.321Z"
   },
   {
    "duration": 223,
    "start_time": "2022-03-19T06:07:57.546Z"
   },
   {
    "duration": 224,
    "start_time": "2022-03-19T06:07:57.771Z"
   },
   {
    "duration": 316,
    "start_time": "2022-03-19T06:07:57.997Z"
   },
   {
    "duration": 12,
    "start_time": "2022-03-19T06:07:58.315Z"
   },
   {
    "duration": 13,
    "start_time": "2022-03-19T06:07:58.329Z"
   },
   {
    "duration": 10,
    "start_time": "2022-03-19T06:07:58.344Z"
   },
   {
    "duration": 57,
    "start_time": "2022-03-19T06:07:58.356Z"
   },
   {
    "duration": 128,
    "start_time": "2022-03-19T06:08:22.737Z"
   },
   {
    "duration": 206,
    "start_time": "2022-03-19T06:08:28.522Z"
   },
   {
    "duration": 119,
    "start_time": "2022-03-19T06:08:46.136Z"
   },
   {
    "duration": 207,
    "start_time": "2022-03-19T06:08:51.518Z"
   },
   {
    "duration": 203,
    "start_time": "2022-03-19T06:09:38.047Z"
   },
   {
    "duration": 218,
    "start_time": "2022-03-19T06:10:34.941Z"
   },
   {
    "duration": 219,
    "start_time": "2022-03-19T06:10:52.770Z"
   },
   {
    "duration": 229,
    "start_time": "2022-03-19T06:11:25.890Z"
   },
   {
    "duration": 219,
    "start_time": "2022-03-19T06:12:50.425Z"
   },
   {
    "duration": 217,
    "start_time": "2022-03-19T06:13:46.358Z"
   },
   {
    "duration": 332,
    "start_time": "2022-03-19T06:14:26.274Z"
   },
   {
    "duration": 234,
    "start_time": "2022-03-19T06:15:09.877Z"
   },
   {
    "duration": 207,
    "start_time": "2022-03-19T06:16:03.947Z"
   },
   {
    "duration": 215,
    "start_time": "2022-03-19T06:16:13.374Z"
   },
   {
    "duration": 211,
    "start_time": "2022-03-19T06:16:46.922Z"
   },
   {
    "duration": 243,
    "start_time": "2022-03-19T06:16:59.657Z"
   },
   {
    "duration": 184,
    "start_time": "2022-03-19T06:17:44.007Z"
   },
   {
    "duration": 188,
    "start_time": "2022-03-19T06:17:50.416Z"
   },
   {
    "duration": 198,
    "start_time": "2022-03-19T06:17:57.391Z"
   },
   {
    "duration": 193,
    "start_time": "2022-03-19T06:18:03.872Z"
   },
   {
    "duration": 179,
    "start_time": "2022-03-19T06:18:08.146Z"
   },
   {
    "duration": 311,
    "start_time": "2022-03-19T06:18:13.298Z"
   },
   {
    "duration": 177,
    "start_time": "2022-03-19T06:18:17.081Z"
   },
   {
    "duration": 196,
    "start_time": "2022-03-19T06:18:24.504Z"
   },
   {
    "duration": 205,
    "start_time": "2022-03-19T06:18:28.978Z"
   },
   {
    "duration": 177,
    "start_time": "2022-03-19T06:20:48.977Z"
   },
   {
    "duration": 180,
    "start_time": "2022-03-19T06:20:57.889Z"
   },
   {
    "duration": 159,
    "start_time": "2022-03-19T06:21:17.665Z"
   },
   {
    "duration": 184,
    "start_time": "2022-03-19T06:21:21.469Z"
   },
   {
    "duration": 181,
    "start_time": "2022-03-19T06:21:34.563Z"
   },
   {
    "duration": 10,
    "start_time": "2022-03-19T06:24:41.606Z"
   },
   {
    "duration": 55,
    "start_time": "2022-03-19T06:24:59.179Z"
   },
   {
    "duration": 353,
    "start_time": "2022-03-19T06:25:06.376Z"
   },
   {
    "duration": 14,
    "start_time": "2022-03-19T06:26:14.060Z"
   },
   {
    "duration": 14,
    "start_time": "2022-03-19T06:26:51.295Z"
   },
   {
    "duration": 16,
    "start_time": "2022-03-19T06:27:15.866Z"
   },
   {
    "duration": 16,
    "start_time": "2022-03-19T06:27:43.250Z"
   },
   {
    "duration": 216,
    "start_time": "2022-03-19T06:28:23.433Z"
   },
   {
    "duration": 210,
    "start_time": "2022-03-19T06:30:37.310Z"
   },
   {
    "duration": 5,
    "start_time": "2022-03-19T06:32:01.549Z"
   },
   {
    "duration": 10,
    "start_time": "2022-03-19T06:32:14.848Z"
   },
   {
    "duration": 10,
    "start_time": "2022-03-19T06:32:38.228Z"
   },
   {
    "duration": 187,
    "start_time": "2022-03-19T06:36:17.128Z"
   },
   {
    "duration": 204,
    "start_time": "2022-03-19T06:36:39.537Z"
   },
   {
    "duration": 68,
    "start_time": "2022-03-19T06:36:59.497Z"
   },
   {
    "duration": 1114,
    "start_time": "2022-03-19T06:37:49.793Z"
   },
   {
    "duration": 402,
    "start_time": "2022-03-19T06:37:50.909Z"
   },
   {
    "duration": 13,
    "start_time": "2022-03-19T06:37:51.313Z"
   },
   {
    "duration": 29,
    "start_time": "2022-03-19T06:37:51.329Z"
   },
   {
    "duration": 10,
    "start_time": "2022-03-19T06:37:51.360Z"
   },
   {
    "duration": 48,
    "start_time": "2022-03-19T06:37:51.371Z"
   },
   {
    "duration": 8,
    "start_time": "2022-03-19T06:37:51.421Z"
   },
   {
    "duration": 27,
    "start_time": "2022-03-19T06:37:51.431Z"
   },
   {
    "duration": 14,
    "start_time": "2022-03-19T06:37:51.460Z"
   },
   {
    "duration": 36,
    "start_time": "2022-03-19T06:37:51.476Z"
   },
   {
    "duration": 11,
    "start_time": "2022-03-19T06:37:51.514Z"
   },
   {
    "duration": 23,
    "start_time": "2022-03-19T06:37:51.526Z"
   },
   {
    "duration": 239,
    "start_time": "2022-03-19T06:37:51.551Z"
   },
   {
    "duration": 75,
    "start_time": "2022-03-19T06:37:51.810Z"
   },
   {
    "duration": 30,
    "start_time": "2022-03-19T06:37:51.887Z"
   },
   {
    "duration": 7,
    "start_time": "2022-03-19T06:37:51.919Z"
   },
   {
    "duration": 9,
    "start_time": "2022-03-19T06:37:51.928Z"
   },
   {
    "duration": 86,
    "start_time": "2022-03-19T06:37:51.938Z"
   },
   {
    "duration": 68,
    "start_time": "2022-03-19T06:37:52.026Z"
   },
   {
    "duration": 34,
    "start_time": "2022-03-19T06:37:52.108Z"
   },
   {
    "duration": 30,
    "start_time": "2022-03-19T06:37:52.144Z"
   },
   {
    "duration": 55,
    "start_time": "2022-03-19T06:37:52.176Z"
   },
   {
    "duration": 7,
    "start_time": "2022-03-19T06:37:52.233Z"
   },
   {
    "duration": 6,
    "start_time": "2022-03-19T06:37:52.242Z"
   },
   {
    "duration": 14,
    "start_time": "2022-03-19T06:37:52.250Z"
   },
   {
    "duration": 196,
    "start_time": "2022-03-19T06:37:52.266Z"
   },
   {
    "duration": 199,
    "start_time": "2022-03-19T06:37:52.464Z"
   },
   {
    "duration": 204,
    "start_time": "2022-03-19T06:37:52.665Z"
   },
   {
    "duration": 220,
    "start_time": "2022-03-19T06:37:52.871Z"
   },
   {
    "duration": 218,
    "start_time": "2022-03-19T06:37:53.093Z"
   },
   {
    "duration": 193,
    "start_time": "2022-03-19T06:37:53.313Z"
   },
   {
    "duration": 233,
    "start_time": "2022-03-19T06:37:53.509Z"
   },
   {
    "duration": 191,
    "start_time": "2022-03-19T06:37:53.743Z"
   },
   {
    "duration": 206,
    "start_time": "2022-03-19T06:37:53.936Z"
   },
   {
    "duration": 287,
    "start_time": "2022-03-19T06:37:54.144Z"
   },
   {
    "duration": 11,
    "start_time": "2022-03-19T06:37:54.432Z"
   },
   {
    "duration": 12,
    "start_time": "2022-03-19T06:37:54.445Z"
   },
   {
    "duration": 11,
    "start_time": "2022-03-19T06:37:54.458Z"
   },
   {
    "duration": 48,
    "start_time": "2022-03-19T06:37:54.470Z"
   },
   {
    "duration": 120,
    "start_time": "2022-03-20T06:34:35.677Z"
   },
   {
    "duration": 142,
    "start_time": "2022-03-20T06:37:33.868Z"
   },
   {
    "duration": 145,
    "start_time": "2022-03-20T06:37:45.462Z"
   },
   {
    "duration": 138,
    "start_time": "2022-03-20T06:37:53.071Z"
   },
   {
    "duration": 189,
    "start_time": "2022-03-20T06:39:12.562Z"
   },
   {
    "duration": 189,
    "start_time": "2022-03-20T06:39:39.359Z"
   },
   {
    "duration": 194,
    "start_time": "2022-03-20T06:39:52.656Z"
   },
   {
    "duration": 114,
    "start_time": "2022-03-20T06:40:06.154Z"
   },
   {
    "duration": 3,
    "start_time": "2022-03-20T06:40:18.816Z"
   },
   {
    "duration": 426,
    "start_time": "2022-03-20T06:40:18.821Z"
   },
   {
    "duration": 8,
    "start_time": "2022-03-20T06:40:19.250Z"
   },
   {
    "duration": 27,
    "start_time": "2022-03-20T06:40:19.260Z"
   },
   {
    "duration": 9,
    "start_time": "2022-03-20T06:40:19.289Z"
   },
   {
    "duration": 25,
    "start_time": "2022-03-20T06:40:19.299Z"
   },
   {
    "duration": 8,
    "start_time": "2022-03-20T06:40:19.325Z"
   },
   {
    "duration": 21,
    "start_time": "2022-03-20T06:40:19.334Z"
   },
   {
    "duration": 9,
    "start_time": "2022-03-20T06:40:19.356Z"
   },
   {
    "duration": 42,
    "start_time": "2022-03-20T06:40:19.367Z"
   },
   {
    "duration": 10,
    "start_time": "2022-03-20T06:40:19.412Z"
   },
   {
    "duration": 13,
    "start_time": "2022-03-20T06:40:19.424Z"
   },
   {
    "duration": 220,
    "start_time": "2022-03-20T06:40:19.439Z"
   },
   {
    "duration": 91,
    "start_time": "2022-03-20T06:40:19.661Z"
   },
   {
    "duration": 17,
    "start_time": "2022-03-20T06:40:19.754Z"
   },
   {
    "duration": 5,
    "start_time": "2022-03-20T06:40:19.772Z"
   },
   {
    "duration": 30,
    "start_time": "2022-03-20T06:40:19.779Z"
   },
   {
    "duration": 54,
    "start_time": "2022-03-20T06:40:19.811Z"
   },
   {
    "duration": 74,
    "start_time": "2022-03-20T06:40:19.867Z"
   },
   {
    "duration": 31,
    "start_time": "2022-03-20T06:40:19.943Z"
   },
   {
    "duration": 50,
    "start_time": "2022-03-20T06:40:19.976Z"
   },
   {
    "duration": 22,
    "start_time": "2022-03-20T06:40:20.027Z"
   },
   {
    "duration": 6,
    "start_time": "2022-03-20T06:40:20.051Z"
   },
   {
    "duration": 4,
    "start_time": "2022-03-20T06:40:20.059Z"
   },
   {
    "duration": 48,
    "start_time": "2022-03-20T06:40:20.065Z"
   },
   {
    "duration": 152,
    "start_time": "2022-03-20T06:40:20.115Z"
   },
   {
    "duration": 209,
    "start_time": "2022-03-20T06:40:20.268Z"
   },
   {
    "duration": 138,
    "start_time": "2022-03-20T06:40:20.479Z"
   },
   {
    "duration": 0,
    "start_time": "2022-03-20T06:40:20.619Z"
   },
   {
    "duration": 0,
    "start_time": "2022-03-20T06:40:20.621Z"
   },
   {
    "duration": 0,
    "start_time": "2022-03-20T06:40:20.622Z"
   },
   {
    "duration": 0,
    "start_time": "2022-03-20T06:40:20.623Z"
   },
   {
    "duration": 0,
    "start_time": "2022-03-20T06:40:20.624Z"
   },
   {
    "duration": 0,
    "start_time": "2022-03-20T06:40:20.625Z"
   },
   {
    "duration": 0,
    "start_time": "2022-03-20T06:40:20.627Z"
   },
   {
    "duration": 0,
    "start_time": "2022-03-20T06:40:20.628Z"
   },
   {
    "duration": 0,
    "start_time": "2022-03-20T06:40:20.629Z"
   },
   {
    "duration": 1,
    "start_time": "2022-03-20T06:40:20.630Z"
   },
   {
    "duration": 0,
    "start_time": "2022-03-20T06:40:20.632Z"
   },
   {
    "duration": 110,
    "start_time": "2022-03-20T06:40:40.425Z"
   },
   {
    "duration": 221,
    "start_time": "2022-03-20T06:41:25.604Z"
   },
   {
    "duration": 191,
    "start_time": "2022-03-20T06:41:58.567Z"
   },
   {
    "duration": 110,
    "start_time": "2022-03-20T06:43:40.762Z"
   },
   {
    "duration": 109,
    "start_time": "2022-03-20T06:44:10.572Z"
   },
   {
    "duration": 176,
    "start_time": "2022-03-20T06:44:23.533Z"
   },
   {
    "duration": 121,
    "start_time": "2022-03-20T06:45:16.051Z"
   },
   {
    "duration": 110,
    "start_time": "2022-03-20T06:45:45.684Z"
   },
   {
    "duration": 11,
    "start_time": "2022-03-20T06:47:26.686Z"
   },
   {
    "duration": 25,
    "start_time": "2022-03-20T06:47:43.022Z"
   },
   {
    "duration": 18,
    "start_time": "2022-03-20T06:48:31.039Z"
   },
   {
    "duration": 64,
    "start_time": "2022-03-20T06:49:41.035Z"
   },
   {
    "duration": 19,
    "start_time": "2022-03-20T06:50:56.343Z"
   },
   {
    "duration": 191,
    "start_time": "2022-03-20T06:51:32.004Z"
   },
   {
    "duration": 24,
    "start_time": "2022-03-20T06:54:10.606Z"
   },
   {
    "duration": 28,
    "start_time": "2022-03-20T06:54:27.372Z"
   },
   {
    "duration": 178,
    "start_time": "2022-03-20T06:57:29.466Z"
   },
   {
    "duration": 27,
    "start_time": "2022-03-20T07:00:02.016Z"
   },
   {
    "duration": 76,
    "start_time": "2022-03-20T07:00:47.442Z"
   },
   {
    "duration": 1166,
    "start_time": "2022-03-20T07:01:01.018Z"
   },
   {
    "duration": 405,
    "start_time": "2022-03-20T07:01:02.185Z"
   },
   {
    "duration": 16,
    "start_time": "2022-03-20T07:01:02.592Z"
   },
   {
    "duration": 29,
    "start_time": "2022-03-20T07:01:02.611Z"
   },
   {
    "duration": 11,
    "start_time": "2022-03-20T07:01:02.642Z"
   },
   {
    "duration": 58,
    "start_time": "2022-03-20T07:01:02.655Z"
   },
   {
    "duration": 9,
    "start_time": "2022-03-20T07:01:02.715Z"
   },
   {
    "duration": 24,
    "start_time": "2022-03-20T07:01:02.726Z"
   },
   {
    "duration": 9,
    "start_time": "2022-03-20T07:01:02.752Z"
   },
   {
    "duration": 51,
    "start_time": "2022-03-20T07:01:02.764Z"
   },
   {
    "duration": 13,
    "start_time": "2022-03-20T07:01:02.817Z"
   },
   {
    "duration": 13,
    "start_time": "2022-03-20T07:01:02.832Z"
   },
   {
    "duration": 267,
    "start_time": "2022-03-20T07:01:02.847Z"
   },
   {
    "duration": 74,
    "start_time": "2022-03-20T07:01:03.117Z"
   },
   {
    "duration": 18,
    "start_time": "2022-03-20T07:01:03.208Z"
   },
   {
    "duration": 8,
    "start_time": "2022-03-20T07:01:03.228Z"
   },
   {
    "duration": 10,
    "start_time": "2022-03-20T07:01:03.238Z"
   },
   {
    "duration": 88,
    "start_time": "2022-03-20T07:01:03.250Z"
   },
   {
    "duration": 80,
    "start_time": "2022-03-20T07:01:03.340Z"
   },
   {
    "duration": 33,
    "start_time": "2022-03-20T07:01:03.423Z"
   },
   {
    "duration": 53,
    "start_time": "2022-03-20T07:01:03.458Z"
   },
   {
    "duration": 25,
    "start_time": "2022-03-20T07:01:03.513Z"
   },
   {
    "duration": 8,
    "start_time": "2022-03-20T07:01:03.540Z"
   },
   {
    "duration": 5,
    "start_time": "2022-03-20T07:01:03.550Z"
   },
   {
    "duration": 56,
    "start_time": "2022-03-20T07:01:03.557Z"
   },
   {
    "duration": 158,
    "start_time": "2022-03-20T07:01:03.615Z"
   },
   {
    "duration": 217,
    "start_time": "2022-03-20T07:01:03.775Z"
   },
   {
    "duration": 35,
    "start_time": "2022-03-20T07:01:03.997Z"
   },
   {
    "duration": 220,
    "start_time": "2022-03-20T07:01:04.035Z"
   },
   {
    "duration": 29,
    "start_time": "2022-03-20T07:01:04.257Z"
   },
   {
    "duration": 178,
    "start_time": "2022-03-20T07:01:04.308Z"
   },
   {
    "duration": 39,
    "start_time": "2022-03-20T07:01:04.488Z"
   },
   {
    "duration": 12,
    "start_time": "2022-03-20T07:01:04.529Z"
   },
   {
    "duration": 14,
    "start_time": "2022-03-20T07:01:04.543Z"
   },
   {
    "duration": 50,
    "start_time": "2022-03-20T07:01:04.559Z"
   },
   {
    "duration": 18,
    "start_time": "2022-03-20T07:01:04.611Z"
   }
  ],
  "kernelspec": {
   "display_name": "Python 3 (ipykernel)",
   "language": "python",
   "name": "python3"
  },
  "language_info": {
   "codemirror_mode": {
    "name": "ipython",
    "version": 3
   },
   "file_extension": ".py",
   "mimetype": "text/x-python",
   "name": "python",
   "nbconvert_exporter": "python",
   "pygments_lexer": "ipython3",
   "version": "3.9.7"
  },
  "toc": {
   "base_numbering": 1,
   "nav_menu": {},
   "number_sections": true,
   "sideBar": true,
   "skip_h1_title": true,
   "title_cell": "Table of Contents",
   "title_sidebar": "Contents",
   "toc_cell": false,
   "toc_position": {
    "height": "calc(100% - 180px)",
    "left": "10px",
    "top": "150px",
    "width": "366.389px"
   },
   "toc_section_display": true,
   "toc_window_display": true
  }
 },
 "nbformat": 4,
 "nbformat_minor": 2
}
