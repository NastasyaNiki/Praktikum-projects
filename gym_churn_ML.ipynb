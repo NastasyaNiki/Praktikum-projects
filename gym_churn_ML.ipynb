{
 "cells": [
  {
   "cell_type": "markdown",
   "metadata": {},
   "source": [
    "<h2>Содержание<span class=\"tocSkip\"></span></h2>\n",
    "<p> </p>\n",
    "<div class=\"toc\"><ul class=\"toc-item\"><li><span><a href=\"#1-Загрузка-данных-и-предобработка-данных\" data-toc-modified-id=\"1-Загрузка-данных-и-предобработка-данных\"><span class=\"toc-item-num\"></span>1 Загрузка данных и предобработка данных</a></span></li><li><span><a href=\"#2-Предобработка-данных\" data-toc-modified-id=\"2-Предобработка-данных\"><span class=\"toc-item-num\"></span>2 Предобработка данных</a></span></li><li><span><a href=\"#3-Модель-для-прогнозирования-оттока-клиентов\" data-toc-modified-id=\"3-Модель-для-прогнозирования-оттока-клиентов\"><span class=\"toc-item-num\"></span>3 Модель для прогнозирования оттока клиентов</a></span></li><li><span><a href=\"#4-Кластеризация-клиентов\" data-toc-modified-id=\"4-Кластеризация-клиентов\"><span class=\"toc-item-num\"></span>4 Кластеризация клиентов</a></span></li><li><span><a href=\"#5-Общий-вывод\" data-toc-modified-id=\"5-Общий-вывод\"><span class=\"toc-item-num\"></span>5 Общий вывод"
   ]
  },
  {
   "cell_type": "markdown",
   "metadata": {},
   "source": [
    "# Описание проекта"
   ]
  },
  {
   "cell_type": "markdown",
   "metadata": {},
   "source": [
    "Сеть фитнес-центров разрабатывает стратегию взаимодействия с клиентами на основе аналитических данных. Необходимо проанализировать данные и подготовить план действий по удержанию клиентов.\n",
    "\n",
    "А именно:\n",
    "научиться прогнозировать вероятность оттока (на уровне следующего месяца) для каждого клиента;\n",
    "сформировать типичные портреты клиентов: выделить несколько наиболее ярких групп и охарактеризовать их основные свойства;\n",
    "проанализировать основные признаки, наиболее сильно влияющие на отток;\n",
    "сформулировать основные выводы и разработать рекомендации по повышению качества работы с клиентами:\n",
    "1) выделить целевые группы клиентов;\\\n",
    "2) предложить меры по снижению оттока;\\\n",
    "3) определить другие особенности взаимодействия с клиентами."
   ]
  },
  {
   "cell_type": "markdown",
   "metadata": {},
   "source": [
    "## 1 Загрузка данных и предобработка данных"
   ]
  },
  {
   "cell_type": "markdown",
   "metadata": {},
   "source": [
    "### 1.1 Импорт библиотек"
   ]
  },
  {
   "cell_type": "code",
   "execution_count": 1,
   "metadata": {},
   "outputs": [],
   "source": [
    "#Импорт библиотек необходимых для работы\n",
    "import pandas as pd\n",
    "\n",
    "import seaborn as sns\n",
    "import matplotlib.pyplot as plt\n",
    "\n",
    "from sklearn.preprocessing import StandardScaler\n",
    "from sklearn.model_selection import train_test_split\n",
    "\n",
    "from sklearn.linear_model import LogisticRegression\n",
    "from sklearn.ensemble import RandomForestClassifier\n",
    "from sklearn.metrics import accuracy_score, precision_score, recall_score, f1_score\n",
    "\n",
    "from scipy.cluster.hierarchy import dendrogram, linkage\n",
    "from sklearn.cluster import KMeans\n",
    "\n",
    "import plotly.express as px\n",
    "import plotly.figure_factory as ff"
   ]
  },
  {
   "cell_type": "markdown",
   "metadata": {},
   "source": [
    "### 1.2 Чтение данных"
   ]
  },
  {
   "cell_type": "code",
   "execution_count": 2,
   "metadata": {},
   "outputs": [
    {
     "data": {
      "text/html": [
       "<div>\n",
       "<style scoped>\n",
       "    .dataframe tbody tr th:only-of-type {\n",
       "        vertical-align: middle;\n",
       "    }\n",
       "\n",
       "    .dataframe tbody tr th {\n",
       "        vertical-align: top;\n",
       "    }\n",
       "\n",
       "    .dataframe thead th {\n",
       "        text-align: right;\n",
       "    }\n",
       "</style>\n",
       "<table border=\"1\" class=\"dataframe\">\n",
       "  <thead>\n",
       "    <tr style=\"text-align: right;\">\n",
       "      <th></th>\n",
       "      <th>gender</th>\n",
       "      <th>Near_Location</th>\n",
       "      <th>Partner</th>\n",
       "      <th>Promo_friends</th>\n",
       "      <th>Phone</th>\n",
       "      <th>Contract_period</th>\n",
       "      <th>Group_visits</th>\n",
       "      <th>Age</th>\n",
       "      <th>Avg_additional_charges_total</th>\n",
       "      <th>Month_to_end_contract</th>\n",
       "      <th>Lifetime</th>\n",
       "      <th>Avg_class_frequency_total</th>\n",
       "      <th>Avg_class_frequency_current_month</th>\n",
       "      <th>Churn</th>\n",
       "    </tr>\n",
       "  </thead>\n",
       "  <tbody>\n",
       "    <tr>\n",
       "      <th>0</th>\n",
       "      <td>1</td>\n",
       "      <td>1</td>\n",
       "      <td>1</td>\n",
       "      <td>1</td>\n",
       "      <td>0</td>\n",
       "      <td>6</td>\n",
       "      <td>1</td>\n",
       "      <td>29</td>\n",
       "      <td>14.227470</td>\n",
       "      <td>5.0</td>\n",
       "      <td>3</td>\n",
       "      <td>0.020398</td>\n",
       "      <td>0.000000</td>\n",
       "      <td>0</td>\n",
       "    </tr>\n",
       "    <tr>\n",
       "      <th>1</th>\n",
       "      <td>0</td>\n",
       "      <td>1</td>\n",
       "      <td>0</td>\n",
       "      <td>0</td>\n",
       "      <td>1</td>\n",
       "      <td>12</td>\n",
       "      <td>1</td>\n",
       "      <td>31</td>\n",
       "      <td>113.202938</td>\n",
       "      <td>12.0</td>\n",
       "      <td>7</td>\n",
       "      <td>1.922936</td>\n",
       "      <td>1.910244</td>\n",
       "      <td>0</td>\n",
       "    </tr>\n",
       "    <tr>\n",
       "      <th>2</th>\n",
       "      <td>0</td>\n",
       "      <td>1</td>\n",
       "      <td>1</td>\n",
       "      <td>0</td>\n",
       "      <td>1</td>\n",
       "      <td>1</td>\n",
       "      <td>0</td>\n",
       "      <td>28</td>\n",
       "      <td>129.448479</td>\n",
       "      <td>1.0</td>\n",
       "      <td>2</td>\n",
       "      <td>1.859098</td>\n",
       "      <td>1.736502</td>\n",
       "      <td>0</td>\n",
       "    </tr>\n",
       "    <tr>\n",
       "      <th>3</th>\n",
       "      <td>0</td>\n",
       "      <td>1</td>\n",
       "      <td>1</td>\n",
       "      <td>1</td>\n",
       "      <td>1</td>\n",
       "      <td>12</td>\n",
       "      <td>1</td>\n",
       "      <td>33</td>\n",
       "      <td>62.669863</td>\n",
       "      <td>12.0</td>\n",
       "      <td>2</td>\n",
       "      <td>3.205633</td>\n",
       "      <td>3.357215</td>\n",
       "      <td>0</td>\n",
       "    </tr>\n",
       "    <tr>\n",
       "      <th>4</th>\n",
       "      <td>1</td>\n",
       "      <td>1</td>\n",
       "      <td>1</td>\n",
       "      <td>1</td>\n",
       "      <td>1</td>\n",
       "      <td>1</td>\n",
       "      <td>0</td>\n",
       "      <td>26</td>\n",
       "      <td>198.362265</td>\n",
       "      <td>1.0</td>\n",
       "      <td>3</td>\n",
       "      <td>1.113884</td>\n",
       "      <td>1.120078</td>\n",
       "      <td>0</td>\n",
       "    </tr>\n",
       "  </tbody>\n",
       "</table>\n",
       "</div>"
      ],
      "text/plain": [
       "   gender  Near_Location  Partner  Promo_friends  Phone  Contract_period  \\\n",
       "0       1              1        1              1      0                6   \n",
       "1       0              1        0              0      1               12   \n",
       "2       0              1        1              0      1                1   \n",
       "3       0              1        1              1      1               12   \n",
       "4       1              1        1              1      1                1   \n",
       "\n",
       "   Group_visits  Age  Avg_additional_charges_total  Month_to_end_contract  \\\n",
       "0             1   29                     14.227470                    5.0   \n",
       "1             1   31                    113.202938                   12.0   \n",
       "2             0   28                    129.448479                    1.0   \n",
       "3             1   33                     62.669863                   12.0   \n",
       "4             0   26                    198.362265                    1.0   \n",
       "\n",
       "   Lifetime  Avg_class_frequency_total  Avg_class_frequency_current_month  \\\n",
       "0         3                   0.020398                           0.000000   \n",
       "1         7                   1.922936                           1.910244   \n",
       "2         2                   1.859098                           1.736502   \n",
       "3         2                   3.205633                           3.357215   \n",
       "4         3                   1.113884                           1.120078   \n",
       "\n",
       "   Churn  \n",
       "0      0  \n",
       "1      0  \n",
       "2      0  \n",
       "3      0  \n",
       "4      0  "
      ]
     },
     "execution_count": 2,
     "metadata": {},
     "output_type": "execute_result"
    }
   ],
   "source": [
    "gym = pd.read_csv('gym_churn.csv')\n",
    "gym.head()"
   ]
  },
  {
   "cell_type": "markdown",
   "metadata": {},
   "source": [
    "- `gender` — пол;\n",
    "- `Near_Location` — проживание или работа в районе, где находится фитнес-центр;\n",
    "- `Partner` — сотрудник компании-партнёра клуба (сотрудничество с компаниями, чьи сотрудники могут получать скидки на абонемент — в таком случае фитнес-центр хранит информацию о работодателе клиента);\n",
    "- `Promo_friends` — факт первоначальной записи в рамках акции «приведи друга» (использовал промо-код от знакомого при оплате первого абонемента);\n",
    "- `Phone` — наличие контактного телефона;\n",
    "- `Contract_period` — длительность текущего действующего абонемента (месяц, 6 месяцев, год);\n",
    "- `Group_visits` — факт посещения групповых занятий;\n",
    "- `Age` — возраст;\n",
    "- `Avg_additional_charges_total` — суммарная выручка от других услуг фитнес-центра: кафе, спорттовары, косметический и массажный салон;\n",
    "- `Month_to_end_contract` — срок до окончания текущего действующего абонемента (в месяцах);\n",
    "- `Lifetime` — время с момента первого обращения в фитнес-центр (в месяцах);\n",
    "- `Avg_class_frequency_total` — средняя частота посещений в неделю за все время с начала действия абонемента;\n",
    "- `Avg_class_frequency_current_month` — средняя частота посещений в неделю за предыдущий месяц;\n",
    "- `Churn` — факт оттока в текущем месяце."
   ]
  },
  {
   "cell_type": "code",
   "execution_count": 3,
   "metadata": {
    "scrolled": false
   },
   "outputs": [
    {
     "name": "stdout",
     "output_type": "stream",
     "text": [
      "<class 'pandas.core.frame.DataFrame'>\n",
      "RangeIndex: 4000 entries, 0 to 3999\n",
      "Data columns (total 14 columns):\n",
      " #   Column                             Non-Null Count  Dtype  \n",
      "---  ------                             --------------  -----  \n",
      " 0   gender                             4000 non-null   int64  \n",
      " 1   Near_Location                      4000 non-null   int64  \n",
      " 2   Partner                            4000 non-null   int64  \n",
      " 3   Promo_friends                      4000 non-null   int64  \n",
      " 4   Phone                              4000 non-null   int64  \n",
      " 5   Contract_period                    4000 non-null   int64  \n",
      " 6   Group_visits                       4000 non-null   int64  \n",
      " 7   Age                                4000 non-null   int64  \n",
      " 8   Avg_additional_charges_total       4000 non-null   float64\n",
      " 9   Month_to_end_contract              4000 non-null   float64\n",
      " 10  Lifetime                           4000 non-null   int64  \n",
      " 11  Avg_class_frequency_total          4000 non-null   float64\n",
      " 12  Avg_class_frequency_current_month  4000 non-null   float64\n",
      " 13  Churn                              4000 non-null   int64  \n",
      "dtypes: float64(4), int64(10)\n",
      "memory usage: 437.6 KB\n"
     ]
    }
   ],
   "source": [
    "#посмотрим общую информацию о датасете\n",
    "gym.info()"
   ]
  },
  {
   "cell_type": "code",
   "execution_count": 4,
   "metadata": {},
   "outputs": [
    {
     "data": {
      "text/plain": [
       "(4000, 14)"
      ]
     },
     "execution_count": 4,
     "metadata": {},
     "output_type": "execute_result"
    }
   ],
   "source": [
    "gym.shape"
   ]
  },
  {
   "cell_type": "markdown",
   "metadata": {},
   "source": [
    "В датасете 14 столбцов, 13 приходится на признаки, и 1 столбец с целевой переменной.\\\n",
    "В датасете 4000 строк.\\\n",
    "Отсутствующих данных нет.\\\n",
    "Для удобства работы переведем названия столбцов к нижнему регистру, изменим тип данных в столбце `month_to_end_contract` и проверим датасет на дубликаты."
   ]
  },
  {
   "cell_type": "markdown",
   "metadata": {},
   "source": [
    "## 2 Предобработка данных"
   ]
  },
  {
   "cell_type": "code",
   "execution_count": 5,
   "metadata": {},
   "outputs": [],
   "source": [
    "#переведем названия колонок в нижний регистр\n",
    "gym.columns = gym.columns.str.lower()"
   ]
  },
  {
   "cell_type": "code",
   "execution_count": 6,
   "metadata": {},
   "outputs": [],
   "source": [
    "#переведем тип данных в int\n",
    "gym['month_to_end_contract'] = gym['month_to_end_contract'].astype('int64')"
   ]
  },
  {
   "cell_type": "code",
   "execution_count": 7,
   "metadata": {},
   "outputs": [
    {
     "data": {
      "text/plain": [
       "0"
      ]
     },
     "execution_count": 7,
     "metadata": {},
     "output_type": "execute_result"
    }
   ],
   "source": [
    "#проверим датасет на дубликаты\n",
    "gym.duplicated().sum()"
   ]
  },
  {
   "cell_type": "code",
   "execution_count": 8,
   "metadata": {
    "scrolled": true
   },
   "outputs": [
    {
     "data": {
      "text/html": [
       "<div>\n",
       "<style scoped>\n",
       "    .dataframe tbody tr th:only-of-type {\n",
       "        vertical-align: middle;\n",
       "    }\n",
       "\n",
       "    .dataframe tbody tr th {\n",
       "        vertical-align: top;\n",
       "    }\n",
       "\n",
       "    .dataframe thead th {\n",
       "        text-align: right;\n",
       "    }\n",
       "</style>\n",
       "<table border=\"1\" class=\"dataframe\">\n",
       "  <thead>\n",
       "    <tr style=\"text-align: right;\">\n",
       "      <th></th>\n",
       "      <th>gender</th>\n",
       "      <th>near_location</th>\n",
       "      <th>partner</th>\n",
       "      <th>promo_friends</th>\n",
       "      <th>phone</th>\n",
       "      <th>contract_period</th>\n",
       "      <th>group_visits</th>\n",
       "      <th>age</th>\n",
       "      <th>avg_additional_charges_total</th>\n",
       "      <th>month_to_end_contract</th>\n",
       "      <th>lifetime</th>\n",
       "      <th>avg_class_frequency_total</th>\n",
       "      <th>avg_class_frequency_current_month</th>\n",
       "      <th>churn</th>\n",
       "    </tr>\n",
       "  </thead>\n",
       "  <tbody>\n",
       "    <tr>\n",
       "      <th>count</th>\n",
       "      <td>4000.000000</td>\n",
       "      <td>4000.000000</td>\n",
       "      <td>4000.000000</td>\n",
       "      <td>4000.000000</td>\n",
       "      <td>4000.000000</td>\n",
       "      <td>4000.000000</td>\n",
       "      <td>4000.000000</td>\n",
       "      <td>4000.000000</td>\n",
       "      <td>4000.000000</td>\n",
       "      <td>4000.000000</td>\n",
       "      <td>4000.000000</td>\n",
       "      <td>4000.000000</td>\n",
       "      <td>4000.000000</td>\n",
       "      <td>4000.000000</td>\n",
       "    </tr>\n",
       "    <tr>\n",
       "      <th>mean</th>\n",
       "      <td>0.510250</td>\n",
       "      <td>0.845250</td>\n",
       "      <td>0.486750</td>\n",
       "      <td>0.308500</td>\n",
       "      <td>0.903500</td>\n",
       "      <td>4.681250</td>\n",
       "      <td>0.412250</td>\n",
       "      <td>29.184250</td>\n",
       "      <td>146.943728</td>\n",
       "      <td>4.322750</td>\n",
       "      <td>3.724750</td>\n",
       "      <td>1.879020</td>\n",
       "      <td>1.767052</td>\n",
       "      <td>0.265250</td>\n",
       "    </tr>\n",
       "    <tr>\n",
       "      <th>std</th>\n",
       "      <td>0.499957</td>\n",
       "      <td>0.361711</td>\n",
       "      <td>0.499887</td>\n",
       "      <td>0.461932</td>\n",
       "      <td>0.295313</td>\n",
       "      <td>4.549706</td>\n",
       "      <td>0.492301</td>\n",
       "      <td>3.258367</td>\n",
       "      <td>96.355602</td>\n",
       "      <td>4.191297</td>\n",
       "      <td>3.749267</td>\n",
       "      <td>0.972245</td>\n",
       "      <td>1.052906</td>\n",
       "      <td>0.441521</td>\n",
       "    </tr>\n",
       "    <tr>\n",
       "      <th>min</th>\n",
       "      <td>0.000000</td>\n",
       "      <td>0.000000</td>\n",
       "      <td>0.000000</td>\n",
       "      <td>0.000000</td>\n",
       "      <td>0.000000</td>\n",
       "      <td>1.000000</td>\n",
       "      <td>0.000000</td>\n",
       "      <td>18.000000</td>\n",
       "      <td>0.148205</td>\n",
       "      <td>1.000000</td>\n",
       "      <td>0.000000</td>\n",
       "      <td>0.000000</td>\n",
       "      <td>0.000000</td>\n",
       "      <td>0.000000</td>\n",
       "    </tr>\n",
       "    <tr>\n",
       "      <th>25%</th>\n",
       "      <td>0.000000</td>\n",
       "      <td>1.000000</td>\n",
       "      <td>0.000000</td>\n",
       "      <td>0.000000</td>\n",
       "      <td>1.000000</td>\n",
       "      <td>1.000000</td>\n",
       "      <td>0.000000</td>\n",
       "      <td>27.000000</td>\n",
       "      <td>68.868830</td>\n",
       "      <td>1.000000</td>\n",
       "      <td>1.000000</td>\n",
       "      <td>1.180875</td>\n",
       "      <td>0.963003</td>\n",
       "      <td>0.000000</td>\n",
       "    </tr>\n",
       "    <tr>\n",
       "      <th>50%</th>\n",
       "      <td>1.000000</td>\n",
       "      <td>1.000000</td>\n",
       "      <td>0.000000</td>\n",
       "      <td>0.000000</td>\n",
       "      <td>1.000000</td>\n",
       "      <td>1.000000</td>\n",
       "      <td>0.000000</td>\n",
       "      <td>29.000000</td>\n",
       "      <td>136.220159</td>\n",
       "      <td>1.000000</td>\n",
       "      <td>3.000000</td>\n",
       "      <td>1.832768</td>\n",
       "      <td>1.719574</td>\n",
       "      <td>0.000000</td>\n",
       "    </tr>\n",
       "    <tr>\n",
       "      <th>75%</th>\n",
       "      <td>1.000000</td>\n",
       "      <td>1.000000</td>\n",
       "      <td>1.000000</td>\n",
       "      <td>1.000000</td>\n",
       "      <td>1.000000</td>\n",
       "      <td>6.000000</td>\n",
       "      <td>1.000000</td>\n",
       "      <td>31.000000</td>\n",
       "      <td>210.949625</td>\n",
       "      <td>6.000000</td>\n",
       "      <td>5.000000</td>\n",
       "      <td>2.536078</td>\n",
       "      <td>2.510336</td>\n",
       "      <td>1.000000</td>\n",
       "    </tr>\n",
       "    <tr>\n",
       "      <th>max</th>\n",
       "      <td>1.000000</td>\n",
       "      <td>1.000000</td>\n",
       "      <td>1.000000</td>\n",
       "      <td>1.000000</td>\n",
       "      <td>1.000000</td>\n",
       "      <td>12.000000</td>\n",
       "      <td>1.000000</td>\n",
       "      <td>41.000000</td>\n",
       "      <td>552.590740</td>\n",
       "      <td>12.000000</td>\n",
       "      <td>31.000000</td>\n",
       "      <td>6.023668</td>\n",
       "      <td>6.146783</td>\n",
       "      <td>1.000000</td>\n",
       "    </tr>\n",
       "  </tbody>\n",
       "</table>\n",
       "</div>"
      ],
      "text/plain": [
       "            gender  near_location      partner  promo_friends        phone  \\\n",
       "count  4000.000000    4000.000000  4000.000000    4000.000000  4000.000000   \n",
       "mean      0.510250       0.845250     0.486750       0.308500     0.903500   \n",
       "std       0.499957       0.361711     0.499887       0.461932     0.295313   \n",
       "min       0.000000       0.000000     0.000000       0.000000     0.000000   \n",
       "25%       0.000000       1.000000     0.000000       0.000000     1.000000   \n",
       "50%       1.000000       1.000000     0.000000       0.000000     1.000000   \n",
       "75%       1.000000       1.000000     1.000000       1.000000     1.000000   \n",
       "max       1.000000       1.000000     1.000000       1.000000     1.000000   \n",
       "\n",
       "       contract_period  group_visits          age  \\\n",
       "count      4000.000000   4000.000000  4000.000000   \n",
       "mean          4.681250      0.412250    29.184250   \n",
       "std           4.549706      0.492301     3.258367   \n",
       "min           1.000000      0.000000    18.000000   \n",
       "25%           1.000000      0.000000    27.000000   \n",
       "50%           1.000000      0.000000    29.000000   \n",
       "75%           6.000000      1.000000    31.000000   \n",
       "max          12.000000      1.000000    41.000000   \n",
       "\n",
       "       avg_additional_charges_total  month_to_end_contract     lifetime  \\\n",
       "count                   4000.000000            4000.000000  4000.000000   \n",
       "mean                     146.943728               4.322750     3.724750   \n",
       "std                       96.355602               4.191297     3.749267   \n",
       "min                        0.148205               1.000000     0.000000   \n",
       "25%                       68.868830               1.000000     1.000000   \n",
       "50%                      136.220159               1.000000     3.000000   \n",
       "75%                      210.949625               6.000000     5.000000   \n",
       "max                      552.590740              12.000000    31.000000   \n",
       "\n",
       "       avg_class_frequency_total  avg_class_frequency_current_month  \\\n",
       "count                4000.000000                        4000.000000   \n",
       "mean                    1.879020                           1.767052   \n",
       "std                     0.972245                           1.052906   \n",
       "min                     0.000000                           0.000000   \n",
       "25%                     1.180875                           0.963003   \n",
       "50%                     1.832768                           1.719574   \n",
       "75%                     2.536078                           2.510336   \n",
       "max                     6.023668                           6.146783   \n",
       "\n",
       "             churn  \n",
       "count  4000.000000  \n",
       "mean      0.265250  \n",
       "std       0.441521  \n",
       "min       0.000000  \n",
       "25%       0.000000  \n",
       "50%       0.000000  \n",
       "75%       1.000000  \n",
       "max       1.000000  "
      ]
     },
     "execution_count": 8,
     "metadata": {},
     "output_type": "execute_result"
    }
   ],
   "source": [
    "#посмотрим общую информацию о датасете\n",
    "gym.describe()"
   ]
  },
  {
   "cell_type": "markdown",
   "metadata": {},
   "source": [
    "Соотношение клиентов по полу примерно одинаковое.\\\n",
    "Больше половины клиентов проживают рядом с фитнес-центром\\\n",
    "Почти половина клиентов являются сотрудниками компании-партнера\\\n",
    "Меньше половины клиентов пришли по акции \"приведи друга\"\\\n",
    "Практически все клиенты преоставили номер телефона\\\n",
    "Больше половины клиентов имеют месячный абонемент, и лишь четверть абонемент на 6 месяцев\\\n",
    "40 % клиентов посещают групповые занятия\\\n",
    "Средний возраст клиентов - 29 лет\\\n",
    "В среднем клиент оставляет около 137 у.е. на дополнительные услуги центра\\\n",
    "Половина клиентов обратилась в центра 3 месяца назад\\\n",
    "Половина клиентов ходит в фитнес-центр 1,8 раза в неделю. Месяцем ранее эта величина была чуть ниже 1,7 раз в неделю.\\\n",
    "Около четверти клиентов попала в отток."
   ]
  },
  {
   "cell_type": "code",
   "execution_count": 9,
   "metadata": {
    "scrolled": false
   },
   "outputs": [
    {
     "data": {
      "text/html": [
       "<div>\n",
       "<style scoped>\n",
       "    .dataframe tbody tr th:only-of-type {\n",
       "        vertical-align: middle;\n",
       "    }\n",
       "\n",
       "    .dataframe tbody tr th {\n",
       "        vertical-align: top;\n",
       "    }\n",
       "\n",
       "    .dataframe thead th {\n",
       "        text-align: right;\n",
       "    }\n",
       "</style>\n",
       "<table border=\"1\" class=\"dataframe\">\n",
       "  <thead>\n",
       "    <tr style=\"text-align: right;\">\n",
       "      <th>churn</th>\n",
       "      <th>0</th>\n",
       "      <th>1</th>\n",
       "    </tr>\n",
       "  </thead>\n",
       "  <tbody>\n",
       "    <tr>\n",
       "      <th>gender</th>\n",
       "      <td>0.51</td>\n",
       "      <td>0.51</td>\n",
       "    </tr>\n",
       "    <tr>\n",
       "      <th>near_location</th>\n",
       "      <td>0.87</td>\n",
       "      <td>0.77</td>\n",
       "    </tr>\n",
       "    <tr>\n",
       "      <th>partner</th>\n",
       "      <td>0.53</td>\n",
       "      <td>0.36</td>\n",
       "    </tr>\n",
       "    <tr>\n",
       "      <th>promo_friends</th>\n",
       "      <td>0.35</td>\n",
       "      <td>0.18</td>\n",
       "    </tr>\n",
       "    <tr>\n",
       "      <th>phone</th>\n",
       "      <td>0.90</td>\n",
       "      <td>0.90</td>\n",
       "    </tr>\n",
       "    <tr>\n",
       "      <th>contract_period</th>\n",
       "      <td>5.75</td>\n",
       "      <td>1.73</td>\n",
       "    </tr>\n",
       "    <tr>\n",
       "      <th>group_visits</th>\n",
       "      <td>0.46</td>\n",
       "      <td>0.27</td>\n",
       "    </tr>\n",
       "    <tr>\n",
       "      <th>age</th>\n",
       "      <td>29.98</td>\n",
       "      <td>26.99</td>\n",
       "    </tr>\n",
       "    <tr>\n",
       "      <th>avg_additional_charges_total</th>\n",
       "      <td>158.45</td>\n",
       "      <td>115.08</td>\n",
       "    </tr>\n",
       "    <tr>\n",
       "      <th>month_to_end_contract</th>\n",
       "      <td>5.28</td>\n",
       "      <td>1.66</td>\n",
       "    </tr>\n",
       "    <tr>\n",
       "      <th>lifetime</th>\n",
       "      <td>4.71</td>\n",
       "      <td>0.99</td>\n",
       "    </tr>\n",
       "    <tr>\n",
       "      <th>avg_class_frequency_total</th>\n",
       "      <td>2.02</td>\n",
       "      <td>1.47</td>\n",
       "    </tr>\n",
       "    <tr>\n",
       "      <th>avg_class_frequency_current_month</th>\n",
       "      <td>2.03</td>\n",
       "      <td>1.04</td>\n",
       "    </tr>\n",
       "  </tbody>\n",
       "</table>\n",
       "</div>"
      ],
      "text/plain": [
       "churn                                   0       1\n",
       "gender                               0.51    0.51\n",
       "near_location                        0.87    0.77\n",
       "partner                              0.53    0.36\n",
       "promo_friends                        0.35    0.18\n",
       "phone                                0.90    0.90\n",
       "contract_period                      5.75    1.73\n",
       "group_visits                         0.46    0.27\n",
       "age                                 29.98   26.99\n",
       "avg_additional_charges_total       158.45  115.08\n",
       "month_to_end_contract                5.28    1.66\n",
       "lifetime                             4.71    0.99\n",
       "avg_class_frequency_total            2.02    1.47\n",
       "avg_class_frequency_current_month    2.03    1.04"
      ]
     },
     "execution_count": 9,
     "metadata": {},
     "output_type": "execute_result"
    }
   ],
   "source": [
    "#посмотрим на средние значения признаков в двух группах 'Churn'\n",
    "gym.groupby('churn').mean().round(2).T"
   ]
  },
  {
   "cell_type": "markdown",
   "metadata": {},
   "source": [
    "Клиенты, оставшиеся с фитнес-центром, в отличие от ушедших клиентов:\n",
    "- проживают или работают рядом с  фитнес-центром\n",
    "- являются сотрудником компании-партнера\n",
    "- имеют абонемент на большее количество месяцев\n",
    "- попали в фитнес-центр по акции \"пригласи друга\" в большей степени\n",
    "- больше посещают групповые занятия\n",
    "- оставляют больше денег на дополнительные услуга фитнес - центра\n",
    "- ходят в фитнес-центр в неделю чащеи"
   ]
  },
  {
   "cell_type": "code",
   "execution_count": 10,
   "metadata": {},
   "outputs": [
    {
     "data": {
      "image/png": "[encoded data removed]",
      "text/plain": [
       "<Figure size 402.375x360 with 1 Axes>"
      ]
     },
     "metadata": {
      "needs_background": "light"
     },
     "output_type": "display_data"
    },
    {
     "data": {
      "image/png": "[encoded data removed]",
      "text/plain": [
       "<Figure size 402.375x360 with 1 Axes>"
      ]
     },
     "metadata": {
      "needs_background": "light"
     },
     "output_type": "display_data"
    },
    {
     "data": {
      "image/png": "[encoded data removed]",
      "text/plain": [
       "<Figure size 402.375x360 with 1 Axes>"
      ]
     },
     "metadata": {
      "needs_background": "light"
     },
     "output_type": "display_data"
    },
    {
     "data": {
      "image/png": "[encoded data removed]",
      "text/plain": [
       "<Figure size 402.375x360 with 1 Axes>"
      ]
     },
     "metadata": {
      "needs_background": "light"
     },
     "output_type": "display_data"
    },
    {
     "data": {
      "image/png": "[encoded data removed]",
      "text/plain": [
       "<Figure size 402.375x360 with 1 Axes>"
      ]
     },
     "metadata": {
      "needs_background": "light"
     },
     "output_type": "display_data"
    },
    {
     "data": {
      "image/png": "[encoded data removed]",
      "text/plain": [
       "<Figure size 402.375x360 with 1 Axes>"
      ]
     },
     "metadata": {
      "needs_background": "light"
     },
     "output_type": "display_data"
    },
    {
     "data": {
      "image/png": "[encoded data removed]",
      "text/plain": [
       "<Figure size 402.375x360 with 1 Axes>"
      ]
     },
     "metadata": {
      "needs_background": "light"
     },
     "output_type": "display_data"
    },
    {
     "data": {
      "image/png": "[encoded data removed]",
      "text/plain": [
       "<Figure size 402.375x360 with 1 Axes>"
      ]
     },
     "metadata": {
      "needs_background": "light"
     },
     "output_type": "display_data"
    },
    {
     "data": {
      "image/png": "[encoded data removed]",
      "text/plain": [
       "<Figure size 402.375x360 with 1 Axes>"
      ]
     },
     "metadata": {
      "needs_background": "light"
     },
     "output_type": "display_data"
    },
    {
     "data": {
      "image/png": "[encoded data removed]",
      "text/plain": [
       "<Figure size 402.375x360 with 1 Axes>"
      ]
     },
     "metadata": {
      "needs_background": "light"
     },
     "output_type": "display_data"
    },
    {
     "data": {
      "image/png": "[encoded data removed]",
      "text/plain": [
       "<Figure size 402.375x360 with 1 Axes>"
      ]
     },
     "metadata": {
      "needs_background": "light"
     },
     "output_type": "display_data"
    },
    {
     "data": {
      "image/png": "[encoded data removed]",
      "text/plain": [
       "<Figure size 402.375x360 with 1 Axes>"
      ]
     },
     "metadata": {
      "needs_background": "light"
     },
     "output_type": "display_data"
    },
    {
     "data": {
      "image/png": "[encoded data removed]",
      "text/plain": [
       "<Figure size 402.375x360 with 1 Axes>"
      ]
     },
     "metadata": {
      "needs_background": "light"
     },
     "output_type": "display_data"
    }
   ],
   "source": [
    "for column in gym.loc[:,'gender':'avg_class_frequency_current_month']:\n",
    "    sns.displot(gym, x=column, hue=\"churn\", multiple=\"dodge\")\n",
    "    plt.title('Гистограмма для признака ' + column)\n",
    "    plt.ylabel('Частота')"
   ]
  },
  {
   "cell_type": "markdown",
   "metadata": {},
   "source": [
    "1) Признак пола у клиентов оставшихся и ушедших в отток не сильно отличается. В обеих группа количество примерно одинаково: пол 0 - ушедших 519 человек, пол 1 - ушедших 542 человека;\\\n",
    "2) Доля ушедших клиентов из тех, что проживала или работала рядом с фитнес-центром в два раза меньше, чем у тех, кто проживал или роботал в отдаленных от фитнес-центра районах: 31,76% против 65,95% ;\\\n",
    "3) Количество ушедших клиентов, попавших к фитнес-центр не от компании-партнера, почти в два раза больше, чем тех, кто является сотрудником компании-партнера - 684 против 377;\\\n",
    "4) Ушедших клиентов, не воспользовавшися акцией \"приведи друга\" в 4,5 раза больше, воспользовавшихся данной акцией;\\\n",
    "5) Среди тех, кто покупал абонемент на 1 месяц, ушедших больше: в 9 раз в сравнении с теми, кто приобрел абонемент на 3 месяца, и в 40 раз в сравнении с купившими годовой абонемент;\\\n",
    "6) Клиенты не посещавшие групповые занятия, попали в отток в большем количестве, почти в 3 раза больше таких клиентов, чем тех, кто ходил на групповые занятия;\\\n",
    "7) В разрезе по возрасту наблюдается отток клиентов в возрасте до 31 года, оставшихся клиентов до 31 года меньше. Зато после 31 года клиенты практические не уходят;\\\n",
    "8) Те клиенты, что ушли в отток тратили на дополнительные услуги в два раза меньше лояльных клиентов;\\\n",
    "9) Большая доля клиентов уходила в первый же месяц после первого обращения в фитнес центр: 817 человек в сравнении с 513 оставшимися клиентами. Но на 2-3 месяц доля ушедших оказалась на 20% меньше доли оставшихся клиентов;\\\n",
    "10) Самое большое количество клиентов, попавших в отток, посещали зал в среднем 1,5 раза в неделю за все время с начала действия абонемента;\\\n",
    "11) За последний месяц отток произошел среди клиентов, посещавших в зал в среднем 1 раз в неделю и даже меньше 1 раза."
   ]
  },
  {
   "cell_type": "code",
   "execution_count": 11,
   "metadata": {
    "scrolled": false
   },
   "outputs": [
    {
     "data": {
      "image/png": "[encoded data removed]",
      "text/plain": [
       "<Figure size 720x720 with 2 Axes>"
      ]
     },
     "metadata": {
      "needs_background": "light"
     },
     "output_type": "display_data"
    }
   ],
   "source": [
    "#расчитаем матрицу корреляций признаков и визуализируем ее\n",
    "cm = gym.corr()\n",
    "plt.figure(figsize=(10,10))\n",
    "sns.heatmap(cm, annot=True, square=True)\n",
    "plt.show()"
   ]
  },
  {
   "cell_type": "markdown",
   "metadata": {},
   "source": [
    "Из сильно коррелирующих между собой признаков можно выделить \"Средняя частота посещений в неделю за все время абонемента\" и \"Средняя частота посещений в неделю за предыдущий месяц\", а также \"Длительность абонемента\" и \"Срок до окончания текущего абонемента\". \\\n",
    "\n",
    "Также некую степень корреляции можно наблюдать у признаков \"Клиент, обратившийся в фитнес-центр в рамках акции \"Приведи друга\"\" и \"Сотрудник компании-партнера клуба\", и \"Сотрудник компании-партнера клуба\" и \"Длительность абонемента\" "
   ]
  },
  {
   "cell_type": "markdown",
   "metadata": {},
   "source": [
    "### ***Промежуточный вывод***\n",
    "\n",
    "После анализа признаков, влияющих на отток клиентов, выявлено, что чаще уходят клиенты в возрасте до 30 лет, также те, что берут абонемент всего на 1 месяц (вероятно пробный), те, кто проживает или работает вдали от фитнес-центра, не попадают в центр по акции \"приведи друга\" или не работающие в компании-партнера центра."
   ]
  },
  {
   "cell_type": "markdown",
   "metadata": {},
   "source": [
    "## 3 Модель для прогнозирования оттока клиентов"
   ]
  },
  {
   "cell_type": "markdown",
   "metadata": {},
   "source": [
    "Поскольку в датасете присутстуют 2 пары мультиколлинеарных признаков: `avg_class_frequency_total`/ `avg_class_frequency_current_month` и `month_to_end_contract`/`contract_period` - для более точного прогноза моделью попробуем построить модели на исходных данных и на данных без одного признака в каждой паре мультиколлинеарных признаков."
   ]
  },
  {
   "cell_type": "code",
   "execution_count": 12,
   "metadata": {},
   "outputs": [],
   "source": [
    "#Напишем функцию, которая принимает на вход модель и данные и выводит метрики\n",
    "def make_prediction(m, X, y):\n",
    "    #разобьем данные на обучающую и валидационнуб выборку\n",
    "    X_train, X_test, y_train, y_test = train_test_split(X, y, test_size=0.2, random_state=0)\n",
    "    \n",
    "    # стандартизируем данные \n",
    "    scaler = StandardScaler()\n",
    "    scaler.fit(X_train)\n",
    "    X_train_st = scaler.transform(X_train)\n",
    "    X_test_st = scaler.transform(X_test)\n",
    "    \n",
    "    #обучим модель и выведем метрики\n",
    "    model = m\n",
    "    model.fit(X_train_st, y_train)\n",
    "    y_pred = model.predict(X_test_st)\n",
    "    print('Метрики для модели:')\n",
    "    print(' Accuracy:{:.2f}\\n Precision:{:.2f}\\n Recall:{:.2f}\\n F1: {:.2f}'.format(\n",
    "    accuracy_score(y_test, y_pred),\n",
    "    precision_score(y_test, y_pred),\n",
    "    recall_score(y_test, y_pred),\n",
    "    f1_score(y_test,y_pred))\n",
    "    )"
   ]
  },
  {
   "cell_type": "markdown",
   "metadata": {},
   "source": [
    "### 3.1 Обучение модели на алгоритме \"Логистическая регрессия\""
   ]
  },
  {
   "cell_type": "markdown",
   "metadata": {},
   "source": [
    "#### Модель 1"
   ]
  },
  {
   "cell_type": "markdown",
   "metadata": {},
   "source": [
    "Построим модель на исходных данных:"
   ]
  },
  {
   "cell_type": "code",
   "execution_count": 13,
   "metadata": {},
   "outputs": [],
   "source": [
    "#разобъем данные на признаки и целевую переменную\n",
    "X1 = gym.drop('churn', axis = 1)\n",
    "y1 = gym['churn']"
   ]
  },
  {
   "cell_type": "code",
   "execution_count": 14,
   "metadata": {
    "scrolled": false
   },
   "outputs": [
    {
     "name": "stdout",
     "output_type": "stream",
     "text": [
      "Метрики для модели:\n",
      " Accuracy:0.92\n",
      " Precision:0.85\n",
      " Recall:0.83\n",
      " F1: 0.84\n"
     ]
    }
   ],
   "source": [
    "make_prediction(LogisticRegression(random_state=0, solver='liblinear') , X1, y1)"
   ]
  },
  {
   "cell_type": "markdown",
   "metadata": {},
   "source": [
    "Данная модель прогнозирует 92% ответов правильно."
   ]
  },
  {
   "cell_type": "markdown",
   "metadata": {},
   "source": [
    "#### Модель 2"
   ]
  },
  {
   "cell_type": "markdown",
   "metadata": {},
   "source": [
    "Построим модель на данных, из которых уберем по одному из мультиколлинеарных признаков из пар `avg_class_frequency_total`/ `avg_class_frequency_current_month` и `month_to_end_contract`/`contract_period`:"
   ]
  },
  {
   "cell_type": "code",
   "execution_count": 15,
   "metadata": {},
   "outputs": [],
   "source": [
    "#удаление скоррелированных признаков\n",
    "gym_1 = gym.drop(['month_to_end_contract', 'avg_class_frequency_total'], axis=1)"
   ]
  },
  {
   "cell_type": "code",
   "execution_count": 16,
   "metadata": {},
   "outputs": [],
   "source": [
    "#разобъем данные на признаки и целевую переменную\n",
    "X2 = gym_1.drop('churn', axis = 1)\n",
    "y2 = gym_1['churn']"
   ]
  },
  {
   "cell_type": "code",
   "execution_count": 17,
   "metadata": {},
   "outputs": [
    {
     "name": "stdout",
     "output_type": "stream",
     "text": [
      "Метрики для модели:\n",
      " Accuracy:0.90\n",
      " Precision:0.79\n",
      " Recall:0.82\n",
      " F1: 0.81\n"
     ]
    }
   ],
   "source": [
    "make_prediction(LogisticRegression(random_state=0, solver='liblinear') , X2, y2)"
   ]
  },
  {
   "cell_type": "markdown",
   "metadata": {},
   "source": [
    "Данная модель прогнозирует 90% ответов правильно."
   ]
  },
  {
   "cell_type": "markdown",
   "metadata": {},
   "source": [
    "### 3.2 Обучение модели на алгоритме \"Случайный лес\""
   ]
  },
  {
   "cell_type": "markdown",
   "metadata": {},
   "source": [
    "#### Модель 3"
   ]
  },
  {
   "cell_type": "markdown",
   "metadata": {},
   "source": [
    "Построим модель на исходных данных:"
   ]
  },
  {
   "cell_type": "code",
   "execution_count": 18,
   "metadata": {},
   "outputs": [],
   "source": [
    "#разобъем данные на признаки и целевую переменную\n",
    "X3 = gym.drop('churn', axis = 1)\n",
    "y3 = gym['churn']"
   ]
  },
  {
   "cell_type": "code",
   "execution_count": 19,
   "metadata": {
    "scrolled": true
   },
   "outputs": [
    {
     "name": "stdout",
     "output_type": "stream",
     "text": [
      "Метрики для модели:\n",
      " Accuracy:0.92\n",
      " Precision:0.84\n",
      " Recall:0.81\n",
      " F1: 0.83\n"
     ]
    }
   ],
   "source": [
    "make_prediction(RandomForestClassifier(n_estimators = 100, random_state = 0), X3, y3)"
   ]
  },
  {
   "cell_type": "markdown",
   "metadata": {},
   "source": [
    "Данная модель прогнозирует 92% ответов правильно."
   ]
  },
  {
   "cell_type": "markdown",
   "metadata": {},
   "source": [
    "Изменим число деревьев и снова построим модель."
   ]
  },
  {
   "cell_type": "code",
   "execution_count": 20,
   "metadata": {},
   "outputs": [],
   "source": [
    "#разобъем данные на признаки и целевую переменную\n",
    "X3_1 = gym.drop('churn', axis = 1)\n",
    "y3_1 = gym['churn']"
   ]
  },
  {
   "cell_type": "code",
   "execution_count": 21,
   "metadata": {},
   "outputs": [
    {
     "name": "stdout",
     "output_type": "stream",
     "text": [
      "Метрики для модели:\n",
      " Accuracy:0.92\n",
      " Precision:0.85\n",
      " Recall:0.83\n",
      " F1: 0.84\n"
     ]
    }
   ],
   "source": [
    "make_prediction(RandomForestClassifier(n_estimators = 30, random_state = 0), X3_1, y3_1)"
   ]
  },
  {
   "cell_type": "markdown",
   "metadata": {},
   "source": [
    "#### Модель 4"
   ]
  },
  {
   "cell_type": "markdown",
   "metadata": {},
   "source": [
    "Построим модель на данных, из которых уберем по одному из мультиколлинеарных признаков из пар `avg_class_frequency_total`/ `avg_class_frequency_current_month` и `month_to_end_contract`/`contract_period`:"
   ]
  },
  {
   "cell_type": "code",
   "execution_count": 22,
   "metadata": {},
   "outputs": [],
   "source": [
    "#удаление скоррелированных признаков\n",
    "gym_1 = gym.drop(['month_to_end_contract', 'avg_class_frequency_total'], axis=1)"
   ]
  },
  {
   "cell_type": "code",
   "execution_count": 23,
   "metadata": {},
   "outputs": [],
   "source": [
    "#разобъем данные на признаки и целевую переменную\n",
    "X4 = gym_1.drop('churn', axis = 1)\n",
    "y4 = gym_1['churn']"
   ]
  },
  {
   "cell_type": "code",
   "execution_count": 24,
   "metadata": {
    "scrolled": true
   },
   "outputs": [
    {
     "name": "stdout",
     "output_type": "stream",
     "text": [
      "Метрики для модели:\n",
      " Accuracy:0.90\n",
      " Precision:0.81\n",
      " Recall:0.75\n",
      " F1: 0.78\n"
     ]
    }
   ],
   "source": [
    "make_prediction(RandomForestClassifier(n_estimators = 100, random_state = 0), X4, y4)"
   ]
  },
  {
   "cell_type": "markdown",
   "metadata": {},
   "source": [
    "Данная модель прогнозирует 90% ответов правильно."
   ]
  },
  {
   "cell_type": "markdown",
   "metadata": {},
   "source": [
    "### ***Промежуточный вывод**\n",
    "\n",
    "Поскольку в данных нет баланса классов, то оптимальнее было бы ориентироваться на метрику Precision, выявляющую долю правильных ответов среди целевого класса \"1\". Таким образом модель 1, построенная Логистической регрессией на исходных данных показала себя лучше других моделей. В то же время при подборе параметров алгоритм Случайного леса показывает такие же результаты и имеет место быть. "
   ]
  },
  {
   "cell_type": "markdown",
   "metadata": {},
   "source": [
    "## 4 Кластеризация клиентов"
   ]
  },
  {
   "cell_type": "markdown",
   "metadata": {},
   "source": [
    "Изучим данные и проведем кластеризацию клиентов."
   ]
  },
  {
   "cell_type": "code",
   "execution_count": 25,
   "metadata": {},
   "outputs": [],
   "source": [
    "#Удалим из данных столбец с оттоком\n",
    "x = gym.drop('churn', axis = 1)"
   ]
  },
  {
   "cell_type": "code",
   "execution_count": 26,
   "metadata": {},
   "outputs": [],
   "source": [
    "#стандартизируем данные\n",
    "sc = StandardScaler()\n",
    "x_sc = sc.fit_transform(x)\n",
    "\n",
    "#построим матрицк расстояний\n",
    "linked = linkage(x_sc, method = 'ward')"
   ]
  },
  {
   "cell_type": "code",
   "execution_count": 27,
   "metadata": {
    "scrolled": false
   },
   "outputs": [
    {
     "data": {
      "image/png": "[encoded data removed]",
      "text/plain": [
       "<Figure size 1080x720 with 1 Axes>"
      ]
     },
     "metadata": {
      "needs_background": "light"
     },
     "output_type": "display_data"
    }
   ],
   "source": [
    "#нарисуем дендрограмму\n",
    "plt.figure(figsize=(15, 10))  \n",
    "dendrogram(linked, orientation='top')\n",
    "plt.title('Иерерхическая сластеризация для фитнес-центра')\n",
    "plt.show()"
   ]
  },
  {
   "cell_type": "markdown",
   "metadata": {},
   "source": [
    "Исходя из результатов можно выделить 4 кластера клиентов. Но один из кластеров намного больше других, и для уравновешивания целесообразно выделить 5 кластеров клиентов."
   ]
  },
  {
   "cell_type": "code",
   "execution_count": 28,
   "metadata": {
    "scrolled": true
   },
   "outputs": [
    {
     "data": {
      "text/html": [
       "<div>\n",
       "<style scoped>\n",
       "    .dataframe tbody tr th:only-of-type {\n",
       "        vertical-align: middle;\n",
       "    }\n",
       "\n",
       "    .dataframe tbody tr th {\n",
       "        vertical-align: top;\n",
       "    }\n",
       "\n",
       "    .dataframe thead th {\n",
       "        text-align: right;\n",
       "    }\n",
       "</style>\n",
       "<table border=\"1\" class=\"dataframe\">\n",
       "  <thead>\n",
       "    <tr style=\"text-align: right;\">\n",
       "      <th>cluster_km</th>\n",
       "      <th>0</th>\n",
       "      <th>4</th>\n",
       "      <th>1</th>\n",
       "      <th>2</th>\n",
       "      <th>3</th>\n",
       "    </tr>\n",
       "  </thead>\n",
       "  <tbody>\n",
       "    <tr>\n",
       "      <th>gender</th>\n",
       "      <td>0.502970</td>\n",
       "      <td>0.559666</td>\n",
       "      <td>0.522078</td>\n",
       "      <td>0.495050</td>\n",
       "      <td>0.485737</td>\n",
       "    </tr>\n",
       "    <tr>\n",
       "      <th>near_location</th>\n",
       "      <td>0.959406</td>\n",
       "      <td>0.976134</td>\n",
       "      <td>0.862338</td>\n",
       "      <td>0.000000</td>\n",
       "      <td>1.000000</td>\n",
       "    </tr>\n",
       "    <tr>\n",
       "      <th>partner</th>\n",
       "      <td>0.783168</td>\n",
       "      <td>0.356802</td>\n",
       "      <td>0.470130</td>\n",
       "      <td>0.463366</td>\n",
       "      <td>0.350238</td>\n",
       "    </tr>\n",
       "    <tr>\n",
       "      <th>promo_friends</th>\n",
       "      <td>0.574257</td>\n",
       "      <td>0.230310</td>\n",
       "      <td>0.306494</td>\n",
       "      <td>0.079208</td>\n",
       "      <td>0.240095</td>\n",
       "    </tr>\n",
       "    <tr>\n",
       "      <th>phone</th>\n",
       "      <td>1.000000</td>\n",
       "      <td>0.998807</td>\n",
       "      <td>0.000000</td>\n",
       "      <td>1.000000</td>\n",
       "      <td>1.000000</td>\n",
       "    </tr>\n",
       "    <tr>\n",
       "      <th>contract_period</th>\n",
       "      <td>10.889109</td>\n",
       "      <td>2.669451</td>\n",
       "      <td>4.787013</td>\n",
       "      <td>2.352475</td>\n",
       "      <td>1.948494</td>\n",
       "    </tr>\n",
       "    <tr>\n",
       "      <th>group_visits</th>\n",
       "      <td>0.542574</td>\n",
       "      <td>0.473747</td>\n",
       "      <td>0.425974</td>\n",
       "      <td>0.215842</td>\n",
       "      <td>0.341521</td>\n",
       "    </tr>\n",
       "    <tr>\n",
       "      <th>age</th>\n",
       "      <td>29.982178</td>\n",
       "      <td>30.125298</td>\n",
       "      <td>29.301299</td>\n",
       "      <td>28.477228</td>\n",
       "      <td>28.167987</td>\n",
       "    </tr>\n",
       "    <tr>\n",
       "      <th>avg_additional_charges_total</th>\n",
       "      <td>160.761016</td>\n",
       "      <td>161.657905</td>\n",
       "      <td>143.957664</td>\n",
       "      <td>135.457501</td>\n",
       "      <td>131.622204</td>\n",
       "    </tr>\n",
       "    <tr>\n",
       "      <th>month_to_end_contract</th>\n",
       "      <td>9.954455</td>\n",
       "      <td>2.459427</td>\n",
       "      <td>4.475325</td>\n",
       "      <td>2.198020</td>\n",
       "      <td>1.856577</td>\n",
       "    </tr>\n",
       "    <tr>\n",
       "      <th>lifetime</th>\n",
       "      <td>4.736634</td>\n",
       "      <td>4.898568</td>\n",
       "      <td>3.924675</td>\n",
       "      <td>2.809901</td>\n",
       "      <td>2.440571</td>\n",
       "    </tr>\n",
       "    <tr>\n",
       "      <th>avg_class_frequency_total</th>\n",
       "      <td>1.982055</td>\n",
       "      <td>2.852002</td>\n",
       "      <td>1.847220</td>\n",
       "      <td>1.660461</td>\n",
       "      <td>1.247634</td>\n",
       "    </tr>\n",
       "    <tr>\n",
       "      <th>avg_class_frequency_current_month</th>\n",
       "      <td>1.974789</td>\n",
       "      <td>2.850161</td>\n",
       "      <td>1.716369</td>\n",
       "      <td>1.477324</td>\n",
       "      <td>1.012983</td>\n",
       "    </tr>\n",
       "    <tr>\n",
       "      <th>churn</th>\n",
       "      <td>0.027723</td>\n",
       "      <td>0.068019</td>\n",
       "      <td>0.267532</td>\n",
       "      <td>0.443564</td>\n",
       "      <td>0.514263</td>\n",
       "    </tr>\n",
       "  </tbody>\n",
       "</table>\n",
       "</div>"
      ],
      "text/plain": [
       "cluster_km                                  0           4           1  \\\n",
       "gender                               0.502970    0.559666    0.522078   \n",
       "near_location                        0.959406    0.976134    0.862338   \n",
       "partner                              0.783168    0.356802    0.470130   \n",
       "promo_friends                        0.574257    0.230310    0.306494   \n",
       "phone                                1.000000    0.998807    0.000000   \n",
       "contract_period                     10.889109    2.669451    4.787013   \n",
       "group_visits                         0.542574    0.473747    0.425974   \n",
       "age                                 29.982178   30.125298   29.301299   \n",
       "avg_additional_charges_total       160.761016  161.657905  143.957664   \n",
       "month_to_end_contract                9.954455    2.459427    4.475325   \n",
       "lifetime                             4.736634    4.898568    3.924675   \n",
       "avg_class_frequency_total            1.982055    2.852002    1.847220   \n",
       "avg_class_frequency_current_month    1.974789    2.850161    1.716369   \n",
       "churn                                0.027723    0.068019    0.267532   \n",
       "\n",
       "cluster_km                                  2           3  \n",
       "gender                               0.495050    0.485737  \n",
       "near_location                        0.000000    1.000000  \n",
       "partner                              0.463366    0.350238  \n",
       "promo_friends                        0.079208    0.240095  \n",
       "phone                                1.000000    1.000000  \n",
       "contract_period                      2.352475    1.948494  \n",
       "group_visits                         0.215842    0.341521  \n",
       "age                                 28.477228   28.167987  \n",
       "avg_additional_charges_total       135.457501  131.622204  \n",
       "month_to_end_contract                2.198020    1.856577  \n",
       "lifetime                             2.809901    2.440571  \n",
       "avg_class_frequency_total            1.660461    1.247634  \n",
       "avg_class_frequency_current_month    1.477324    1.012983  \n",
       "churn                                0.443564    0.514263  "
      ]
     },
     "execution_count": 28,
     "metadata": {},
     "output_type": "execute_result"
    }
   ],
   "source": [
    "#обучим модель приняв за число кластеров \n",
    "km = KMeans(n_clusters = 5, random_state = 0)\n",
    "# прогнозируем кластеры для наблюдений\n",
    "labels = km.fit_predict(x_sc)\n",
    "# сохраним метки кластера в поле нашего датасета\n",
    "gym['cluster_km'] = labels\n",
    "# выведим статистику по средним значениям наших признаков по кластеру и проанализируем долю оттока в каждом кластере\n",
    "gym.groupby('cluster_km').mean().sort_values(by='churn').T"
   ]
  },
  {
   "cell_type": "markdown",
   "metadata": {},
   "source": [
    "Если проанализировать долю оттока по каждому кластеру, то больше всего уходящих в отток в кластере 3 - 51,4%, на втором месте кластер 2. \\\n",
    "Самые надежные клиенты из кластеров 0 и 4 - 2,7% и 6,8% уходящих в отток.\\\n",
    "В кластер 1 попали \"средние\" клиенты, доля \"оттекающих\" - 26,7%"
   ]
  },
  {
   "cell_type": "markdown",
   "metadata": {},
   "source": [
    "Если сравнивать признаки кластеров, то проживание рядом с фитнес-центром не мешает кластеру 3 прекратить пользоваться услугами фитнес-центра.\\\n",
    "Но тот факт, что клиент является сотрудником компании, хорошо влияет на лояльность клиентов.\\\n",
    "Также в кластере 0 клиенты, пришедшие по акции \"приведи друга\". \\\n",
    "А еще у лояльных клиентов абонемент на большее количество месяцев и они посещают групповые занятия.\\\n",
    "В кластере 1 в отток попадает каждый 3-й клиент, и судя по высокому показателю в признаках \"near_location\" и \"contract_period\" можно предположить, что им важны сами занятия и время, которое они тратят, чтобы добраться до фитнес-центра, а все остальное вторично. И вероятно чаще всего они посещают групповые занятия, и не любят \"тягать железо\" в зале. \\\n",
    "Кластер 2 отличает от всех, тот факт что они проживают и работают далеко от центра, и именно это вероятно влияет на их отток. Возможно цены на услуги их устраивают, потому как возраст в этой группе молодой и доходы у них еще невысокие, но со временем поездки до фитнес-центра им надоедают и они уходят. А еще вероятно, что на обращение в центр их мотивирует партнерская программа."
   ]
  },
  {
   "cell_type": "markdown",
   "metadata": {},
   "source": [
    "Дополнительно визуализируем распредение признаков для кластеров."
   ]
  },
  {
   "cell_type": "code",
   "execution_count": 29,
   "metadata": {},
   "outputs": [
    {
     "data": {
      "image/png": "[encoded data removed]",
      "text/plain": [
       "<Figure size 422.5x360 with 1 Axes>"
      ]
     },
     "metadata": {
      "needs_background": "light"
     },
     "output_type": "display_data"
    },
    {
     "data": {
      "image/png": "[encoded data removed]",
      "text/plain": [
       "<Figure size 422.5x360 with 1 Axes>"
      ]
     },
     "metadata": {
      "needs_background": "light"
     },
     "output_type": "display_data"
    },
    {
     "data": {
      "image/png": "[encoded data removed]",
      "text/plain": [
       "<Figure size 422.5x360 with 1 Axes>"
      ]
     },
     "metadata": {
      "needs_background": "light"
     },
     "output_type": "display_data"
    },
    {
     "data": {
      "image/png": "[encoded data removed]",
      "text/plain": [
       "<Figure size 422.5x360 with 1 Axes>"
      ]
     },
     "metadata": {
      "needs_background": "light"
     },
     "output_type": "display_data"
    },
    {
     "data": {
      "image/png": "[encoded data removed]",
      "text/plain": [
       "<Figure size 422.5x360 with 1 Axes>"
      ]
     },
     "metadata": {
      "needs_background": "light"
     },
     "output_type": "display_data"
    },
    {
     "data": {
      "image/png": "[encoded data removed]",
      "text/plain": [
       "<Figure size 422.5x360 with 1 Axes>"
      ]
     },
     "metadata": {
      "needs_background": "light"
     },
     "output_type": "display_data"
    },
    {
     "data": {
      "image/png": "[encoded data removed]",
      "text/plain": [
       "<Figure size 422.5x360 with 1 Axes>"
      ]
     },
     "metadata": {
      "needs_background": "light"
     },
     "output_type": "display_data"
    },
    {
     "data": {
      "image/png": "[encoded data removed]",
      "text/plain": [
       "<Figure size 422.5x360 with 1 Axes>"
      ]
     },
     "metadata": {
      "needs_background": "light"
     },
     "output_type": "display_data"
    },
    {
     "data": {
      "image/png": "[encoded data removed]",
      "text/plain": [
       "<Figure size 422.5x360 with 1 Axes>"
      ]
     },
     "metadata": {
      "needs_background": "light"
     },
     "output_type": "display_data"
    },
    {
     "data": {
      "image/png": "[encoded data removed]",
      "text/plain": [
       "<Figure size 422.5x360 with 1 Axes>"
      ]
     },
     "metadata": {
      "needs_background": "light"
     },
     "output_type": "display_data"
    },
    {
     "data": {
      "image/png": "[encoded data removed]",
      "text/plain": [
       "<Figure size 422.5x360 with 1 Axes>"
      ]
     },
     "metadata": {
      "needs_background": "light"
     },
     "output_type": "display_data"
    },
    {
     "data": {
      "image/png": "[encoded data removed]",
      "text/plain": [
       "<Figure size 422.5x360 with 1 Axes>"
      ]
     },
     "metadata": {
      "needs_background": "light"
     },
     "output_type": "display_data"
    },
    {
     "data": {
      "image/png": "[encoded data removed]",
      "text/plain": [
       "<Figure size 422.5x360 with 1 Axes>"
      ]
     },
     "metadata": {
      "needs_background": "light"
     },
     "output_type": "display_data"
    },
    {
     "data": {
      "image/png": "[encoded data removed]",
      "text/plain": [
       "<Figure size 422.5x360 with 1 Axes>"
      ]
     },
     "metadata": {
      "needs_background": "light"
     },
     "output_type": "display_data"
    },
    {
     "data": {
      "image/png": "[encoded data removed]",
      "text/plain": [
       "<Figure size 422.5x360 with 1 Axes>"
      ]
     },
     "metadata": {
      "needs_background": "light"
     },
     "output_type": "display_data"
    }
   ],
   "source": [
    "for column in gym:\n",
    "    sns.displot(gym, x=column, hue=\"cluster_km\", multiple=\"stack\")\n",
    "    plt.title('Гистограмма для признака ' + column)\n",
    "    plt.ylabel('Частота')"
   ]
  },
  {
   "cell_type": "markdown",
   "metadata": {},
   "source": [
    "По распределению в кластерах можно сделать следующие выводы:\n",
    "1) Самая многочисленная группа в кластере 3, как раз той, где отток выше всего. Но распределие по полу в каждом кластере примерно одинаковое, отличается лишь немного кластер 4, там больше клиентов с признаком \"1\", и исходя из предыддущих данных в этом кластера отток тоже небольшой, а значит возможно пол \"1\" влияет на устойчивость к оттоку;\\\n",
    "2) В самом \"оттекающем\" кластере 3 клиенты проживают или работают недалеко от фитнес-центра.А значит самые лояльные клиенты готовы тратить время на дорогу. Больше всего живущих далеко от фитнес-центра из кластера 2.\\\n",
    "3) Как было выявленно ранее самые лояльные клиенты являются сотрудниками компаний-партнеров центра. Но в то же время, второй по лояльности кластер таких клиентов имеет в меньшей степени. \"Середнечки\" из кластеров 1 и 2 по большей части не используют партнерскую программу.\\\n",
    "4) Такой же вывод можно сделать и для признака \"promo_friends\".\\\n",
    "5) Клиенты ушедшие в отток имеют абонемент на 1 или 6 месяцев, но взявших абонемент на 1 месяц почти в 5 раз больше тех, кто взял на 6 месяцев. Примерно такая же ситуация с клиентам из кластера 2. Самые лояльные клиенты берут абонемент на 12 месяцев, но есть и те, кто берет на 6. Второй по лояльности кластер все же предпочитает абонементы на 1 месяц, и в два раза меньше клиентов предпочитающих абонемент на 6 месяцев.\\\n",
    "6) Абсолютно точно клиенты из лояльных кластеров 0 и 4 ходят на групповые занятия, а те кто попадает в отток посещают такие занятия в меньшей степени.\\\n",
    "7) А вот по распределению признака \"age\" можно сказать, что лояльность \"наступает\" у клиентов после 30 лет, а более молодые клиенты как раз попадают в группу \"оттока\".\\\n",
    "8) С признаком \"avg_additional_charges_total\" все логично, клиенты из кластера 0 тратят большие суммы, а вот из кластера 3 оставляют в центре меньше денег.\\\n",
    "9) Те кто попал в кластер 0 и 4 раньше всех других из других кластеров обратились в центр.\\\n",
    "10) У кластеров 0 и 4 по признаку \"avg_class_frequency_total\" и \"avg_class_frequency_current_month\" смещение идет в большую строну, то есть они посещают центр чаще. А вот ушедшие в отток занимались реже 2 раз в неделю.\\"
   ]
  },
  {
   "cell_type": "markdown",
   "metadata": {},
   "source": [
    "### ***Промежуточный вывод***\n",
    "\n",
    "Выделены 5 кластеров клиентов и определены признаки влияющие на отток или удержание клиентов, такие как партнерские программы и акции, посещение групповых занятий, длительность абонемента и возраст."
   ]
  },
  {
   "cell_type": "markdown",
   "metadata": {},
   "source": [
    "## 5 Общий вывод"
   ]
  },
  {
   "cell_type": "markdown",
   "metadata": {},
   "source": [
    "По результату анализа выявлен самый лояльный клиент:\n",
    "- Чаще всего он работает или проживает недалеко от фитнес-центра, он пользуется партнерскими и акционными программами, ему больше 29 лет, и покупает абонемент на полгода или год.\n",
    "\n",
    "В отток попадают 2 типа клиета:\n",
    "- Живущий и работающий недалеко от фитнес-центра, редко пришедший по партнерской или акционной программе, практически не посещающий групповые занятия, ему меньше 29 лет, и он приобрел абонемент на 1 месяц.\n",
    "- Живущий и работающий далеко от фитнес-цетнра, но в половине случаев пришедший по партнерской программе, также практически не посещающий групповые занятия, ему меньше 29 лет, и он приобрел абонемент на 1 месяц.\n",
    "\n",
    "Некий переломный возраст, когда клиент попадает в \"лояльный\" кластер - 30 лет, вероятно стоит больше направлять маркетинговые дейтствия на эту группу людей. А также возможно стоит расширить список компаний-партнеров, поскольку пришедшие по этой программе клиенты дольше остаются с фитнес-центром, а срок жизни влияет на доход от клиента в разрезе продажи дополнительных услуг. Очень хорошо показывают себя групповые занятия и кластерах с лояльными клиентами, возможно стоит усилить продажи именно этого сегмента.\n",
    "\n",
    "В качестве алгоритма прогнозирующего отток клиентов можно применить логистическую регресиию. Она довольно точно предскажет вероятный отток клиента, но если применить Случайный лес с хорошо подобранными параметрами, можно применить и этот алгоритм."
   ]
  }
 ],
 "metadata": {
  "ExecuteTimeLog": [
   {
    "duration": 1766,
    "start_time": "2022-06-14T13:55:00.611Z"
   },
   {
    "duration": 79,
    "start_time": "2022-06-14T13:56:06.723Z"
   },
   {
    "duration": 11,
    "start_time": "2022-06-14T14:18:27.378Z"
   },
   {
    "duration": 10,
    "start_time": "2022-06-14T14:22:49.148Z"
   },
   {
    "duration": 107,
    "start_time": "2022-06-14T14:23:04.329Z"
   },
   {
    "duration": 5,
    "start_time": "2022-06-14T14:23:08.086Z"
   },
   {
    "duration": 42,
    "start_time": "2022-06-14T14:23:35.379Z"
   },
   {
    "duration": 11,
    "start_time": "2022-06-14T14:48:47.150Z"
   },
   {
    "duration": 4,
    "start_time": "2022-06-14T14:48:52.272Z"
   },
   {
    "duration": 15,
    "start_time": "2022-06-14T14:49:16.572Z"
   },
   {
    "duration": 10,
    "start_time": "2022-06-14T14:55:49.970Z"
   },
   {
    "duration": 10,
    "start_time": "2022-06-14T14:56:27.538Z"
   },
   {
    "duration": 106,
    "start_time": "2022-06-14T15:04:29.989Z"
   },
   {
    "duration": 512,
    "start_time": "2022-06-14T15:05:52.359Z"
   },
   {
    "duration": 65,
    "start_time": "2022-06-14T15:07:08.111Z"
   },
   {
    "duration": 70,
    "start_time": "2022-06-14T15:07:13.146Z"
   },
   {
    "duration": 989,
    "start_time": "2022-06-14T15:07:46.361Z"
   },
   {
    "duration": 944,
    "start_time": "2022-06-14T15:08:21.408Z"
   },
   {
    "duration": 82,
    "start_time": "2022-06-14T15:09:59.225Z"
   },
   {
    "duration": 5,
    "start_time": "2022-06-14T15:10:08.166Z"
   },
   {
    "duration": 17,
    "start_time": "2022-06-14T15:10:27.547Z"
   },
   {
    "duration": 13,
    "start_time": "2022-06-14T15:10:33.726Z"
   },
   {
    "duration": 960,
    "start_time": "2022-06-14T15:11:00.443Z"
   },
   {
    "duration": 13,
    "start_time": "2022-06-14T15:11:26.026Z"
   },
   {
    "duration": 1035,
    "start_time": "2022-06-14T15:12:03.817Z"
   },
   {
    "duration": 857,
    "start_time": "2022-06-14T15:13:34.976Z"
   },
   {
    "duration": 933,
    "start_time": "2022-06-14T15:14:29.197Z"
   },
   {
    "duration": 23,
    "start_time": "2022-06-14T15:14:38.965Z"
   },
   {
    "duration": 40,
    "start_time": "2022-06-14T15:14:46.404Z"
   },
   {
    "duration": 846,
    "start_time": "2022-06-14T15:14:57.945Z"
   },
   {
    "duration": 898,
    "start_time": "2022-06-14T15:15:47.270Z"
   },
   {
    "duration": 833,
    "start_time": "2022-06-14T15:16:11.704Z"
   },
   {
    "duration": 961,
    "start_time": "2022-06-14T15:16:58.711Z"
   },
   {
    "duration": 35,
    "start_time": "2022-06-14T15:17:04.430Z"
   },
   {
    "duration": 919,
    "start_time": "2022-06-14T15:17:10.110Z"
   },
   {
    "duration": 21,
    "start_time": "2022-06-14T15:17:15.067Z"
   },
   {
    "duration": 18,
    "start_time": "2022-06-14T15:18:08.574Z"
   },
   {
    "duration": 885,
    "start_time": "2022-06-14T15:18:13.471Z"
   },
   {
    "duration": 24,
    "start_time": "2022-06-14T15:20:17.114Z"
   },
   {
    "duration": 44,
    "start_time": "2022-06-14T15:20:35.433Z"
   },
   {
    "duration": 125,
    "start_time": "2022-06-14T15:20:42.137Z"
   },
   {
    "duration": 21,
    "start_time": "2022-06-14T15:20:53.898Z"
   },
   {
    "duration": 891,
    "start_time": "2022-06-14T15:22:07.607Z"
   },
   {
    "duration": 1340,
    "start_time": "2022-06-15T13:24:42.209Z"
   },
   {
    "duration": 131,
    "start_time": "2022-06-15T13:24:43.551Z"
   },
   {
    "duration": 11,
    "start_time": "2022-06-15T13:24:43.683Z"
   },
   {
    "duration": 6,
    "start_time": "2022-06-15T13:24:43.696Z"
   },
   {
    "duration": 40,
    "start_time": "2022-06-15T13:24:43.703Z"
   },
   {
    "duration": 15,
    "start_time": "2022-06-15T13:24:43.744Z"
   },
   {
    "duration": 1067,
    "start_time": "2022-06-15T13:24:43.761Z"
   },
   {
    "duration": 150,
    "start_time": "2022-06-15T13:31:30.202Z"
   },
   {
    "duration": 10,
    "start_time": "2022-06-15T13:31:35.387Z"
   },
   {
    "duration": 12,
    "start_time": "2022-06-15T13:31:40.158Z"
   },
   {
    "duration": 32,
    "start_time": "2022-06-15T13:31:44.661Z"
   },
   {
    "duration": 11,
    "start_time": "2022-06-15T13:31:54.355Z"
   },
   {
    "duration": 13,
    "start_time": "2022-06-15T13:32:31.865Z"
   },
   {
    "duration": 10,
    "start_time": "2022-06-15T13:32:42.977Z"
   },
   {
    "duration": 772,
    "start_time": "2022-06-15T13:36:51.587Z"
   },
   {
    "duration": 12,
    "start_time": "2022-06-15T13:37:05.430Z"
   },
   {
    "duration": 710,
    "start_time": "2022-06-15T13:38:14.201Z"
   },
   {
    "duration": 25,
    "start_time": "2022-06-15T13:46:27.235Z"
   },
   {
    "duration": 9857,
    "start_time": "2022-06-15T13:47:56.837Z"
   },
   {
    "duration": 4571,
    "start_time": "2022-06-15T13:55:51.553Z"
   },
   {
    "duration": 39,
    "start_time": "2022-06-15T13:56:26.874Z"
   },
   {
    "duration": 32,
    "start_time": "2022-06-15T13:56:49.059Z"
   },
   {
    "duration": 726,
    "start_time": "2022-06-15T13:56:54.974Z"
   },
   {
    "duration": 50,
    "start_time": "2022-06-15T13:58:22.579Z"
   },
   {
    "duration": 955,
    "start_time": "2022-06-15T13:59:08.556Z"
   },
   {
    "duration": 837,
    "start_time": "2022-06-15T13:59:42.790Z"
   },
   {
    "duration": 823,
    "start_time": "2022-06-15T14:00:41.042Z"
   },
   {
    "duration": 30,
    "start_time": "2022-06-15T14:01:55.698Z"
   },
   {
    "duration": 9801,
    "start_time": "2022-06-15T14:02:03.335Z"
   },
   {
    "duration": 795,
    "start_time": "2022-06-15T14:03:25.172Z"
   },
   {
    "duration": 11,
    "start_time": "2022-06-15T15:00:14.326Z"
   },
   {
    "duration": 1371,
    "start_time": "2022-06-15T15:00:22.119Z"
   },
   {
    "duration": 1295,
    "start_time": "2022-06-15T15:01:01.755Z"
   },
   {
    "duration": 1207,
    "start_time": "2022-06-15T15:01:09.851Z"
   },
   {
    "duration": 1232,
    "start_time": "2022-06-15T15:01:17.682Z"
   },
   {
    "duration": 544,
    "start_time": "2022-06-15T15:11:16.561Z"
   },
   {
    "duration": 608,
    "start_time": "2022-06-15T15:11:27.221Z"
   },
   {
    "duration": 304,
    "start_time": "2022-06-15T15:23:05.583Z"
   },
   {
    "duration": 300,
    "start_time": "2022-06-15T15:23:37.304Z"
   },
   {
    "duration": 303,
    "start_time": "2022-06-15T15:23:51.827Z"
   },
   {
    "duration": 1129,
    "start_time": "2022-06-15T15:24:32.916Z"
   },
   {
    "duration": 1006,
    "start_time": "2022-06-15T15:24:41.737Z"
   },
   {
    "duration": 1210,
    "start_time": "2022-06-15T15:25:01.465Z"
   },
   {
    "duration": 109,
    "start_time": "2022-06-15T15:25:52.325Z"
   },
   {
    "duration": 8753,
    "start_time": "2022-06-15T15:25:55.355Z"
   },
   {
    "duration": 5,
    "start_time": "2022-06-15T15:36:27.744Z"
   },
   {
    "duration": 1451,
    "start_time": "2022-06-16T13:16:15.184Z"
   },
   {
    "duration": 77,
    "start_time": "2022-06-16T13:16:16.637Z"
   },
   {
    "duration": 11,
    "start_time": "2022-06-16T13:16:16.715Z"
   },
   {
    "duration": 7,
    "start_time": "2022-06-16T13:16:16.727Z"
   },
   {
    "duration": 49,
    "start_time": "2022-06-16T13:16:16.736Z"
   },
   {
    "duration": 15,
    "start_time": "2022-06-16T13:16:16.787Z"
   },
   {
    "duration": 5,
    "start_time": "2022-06-16T13:16:16.803Z"
   },
   {
    "duration": 1290,
    "start_time": "2022-06-16T13:16:16.810Z"
   },
   {
    "duration": 1497,
    "start_time": "2022-06-16T13:16:18.102Z"
   },
   {
    "duration": 260,
    "start_time": "2022-06-16T13:18:01.201Z"
   },
   {
    "duration": 3390,
    "start_time": "2022-06-16T13:18:43.992Z"
   },
   {
    "duration": 339,
    "start_time": "2022-06-16T13:20:25.764Z"
   },
   {
    "duration": 16,
    "start_time": "2022-06-16T13:21:14.070Z"
   },
   {
    "duration": 416,
    "start_time": "2022-06-16T13:21:55.020Z"
   },
   {
    "duration": 448,
    "start_time": "2022-06-16T13:22:02.693Z"
   },
   {
    "duration": 320,
    "start_time": "2022-06-16T13:22:11.874Z"
   },
   {
    "duration": 338,
    "start_time": "2022-06-16T13:22:33.970Z"
   },
   {
    "duration": 378,
    "start_time": "2022-06-16T13:23:27.223Z"
   },
   {
    "duration": 344,
    "start_time": "2022-06-16T13:23:50.540Z"
   },
   {
    "duration": 598,
    "start_time": "2022-06-16T13:24:05.927Z"
   },
   {
    "duration": 14,
    "start_time": "2022-06-16T13:24:32.948Z"
   },
   {
    "duration": 365,
    "start_time": "2022-06-16T13:25:15.092Z"
   },
   {
    "duration": 441,
    "start_time": "2022-06-16T13:25:22.607Z"
   },
   {
    "duration": 438,
    "start_time": "2022-06-16T13:25:38.875Z"
   },
   {
    "duration": 325,
    "start_time": "2022-06-16T13:27:09.777Z"
   },
   {
    "duration": 12,
    "start_time": "2022-06-16T13:27:20.216Z"
   },
   {
    "duration": 66,
    "start_time": "2022-06-16T13:27:36.236Z"
   },
   {
    "duration": 77,
    "start_time": "2022-06-16T13:27:45.776Z"
   },
   {
    "duration": 66,
    "start_time": "2022-06-16T13:28:03.239Z"
   },
   {
    "duration": 60,
    "start_time": "2022-06-16T13:28:11.929Z"
   },
   {
    "duration": 61,
    "start_time": "2022-06-16T13:28:24.081Z"
   },
   {
    "duration": 60,
    "start_time": "2022-06-16T13:28:31.100Z"
   },
   {
    "duration": 82,
    "start_time": "2022-06-16T13:28:56.436Z"
   },
   {
    "duration": 80,
    "start_time": "2022-06-16T13:29:01.719Z"
   },
   {
    "duration": 9449,
    "start_time": "2022-06-16T13:29:44.444Z"
   },
   {
    "duration": 3007,
    "start_time": "2022-06-16T13:32:06.373Z"
   },
   {
    "duration": 2925,
    "start_time": "2022-06-16T13:32:25.363Z"
   },
   {
    "duration": 2292,
    "start_time": "2022-06-16T13:33:03.680Z"
   },
   {
    "duration": 1280,
    "start_time": "2022-06-16T13:34:28.381Z"
   },
   {
    "duration": 1264,
    "start_time": "2022-06-16T13:34:42.869Z"
   },
   {
    "duration": 1375,
    "start_time": "2022-06-16T13:35:02.409Z"
   },
   {
    "duration": 4,
    "start_time": "2022-06-16T13:40:29.285Z"
   },
   {
    "duration": 4,
    "start_time": "2022-06-16T13:42:01.501Z"
   },
   {
    "duration": 10,
    "start_time": "2022-06-16T13:42:13.688Z"
   },
   {
    "duration": 46,
    "start_time": "2022-06-16T13:45:46.885Z"
   },
   {
    "duration": 26,
    "start_time": "2022-06-16T13:46:13.272Z"
   },
   {
    "duration": 41,
    "start_time": "2022-06-16T13:46:30.781Z"
   },
   {
    "duration": 13,
    "start_time": "2022-06-16T13:46:38.903Z"
   },
   {
    "duration": 16,
    "start_time": "2022-06-16T13:49:29.027Z"
   },
   {
    "duration": 27,
    "start_time": "2022-06-16T13:49:43.409Z"
   },
   {
    "duration": 58,
    "start_time": "2022-06-16T13:49:59.260Z"
   },
   {
    "duration": 33,
    "start_time": "2022-06-16T13:57:37.694Z"
   },
   {
    "duration": 1250,
    "start_time": "2022-06-16T13:57:45.775Z"
   },
   {
    "duration": 1221,
    "start_time": "2022-06-16T13:58:35.367Z"
   },
   {
    "duration": 1845,
    "start_time": "2022-06-16T14:01:04.596Z"
   },
   {
    "duration": 5,
    "start_time": "2022-06-16T14:21:13.586Z"
   },
   {
    "duration": 7,
    "start_time": "2022-06-16T14:22:39.369Z"
   },
   {
    "duration": 5,
    "start_time": "2022-06-16T14:25:36.326Z"
   },
   {
    "duration": 9,
    "start_time": "2022-06-16T14:25:44.664Z"
   },
   {
    "duration": 12,
    "start_time": "2022-06-16T14:32:19.728Z"
   },
   {
    "duration": 5,
    "start_time": "2022-06-16T14:32:39.124Z"
   },
   {
    "duration": 13,
    "start_time": "2022-06-16T14:32:47.876Z"
   },
   {
    "duration": 6,
    "start_time": "2022-06-16T14:33:53.493Z"
   },
   {
    "duration": 26,
    "start_time": "2022-06-16T14:36:15.378Z"
   },
   {
    "duration": 31,
    "start_time": "2022-06-16T14:36:25.985Z"
   },
   {
    "duration": 18,
    "start_time": "2022-06-16T14:36:35.977Z"
   },
   {
    "duration": 17,
    "start_time": "2022-06-16T14:37:07.133Z"
   },
   {
    "duration": 4,
    "start_time": "2022-06-16T14:37:48.145Z"
   },
   {
    "duration": 13,
    "start_time": "2022-06-16T14:37:53.000Z"
   },
   {
    "duration": 4,
    "start_time": "2022-06-16T14:37:56.510Z"
   },
   {
    "duration": 9,
    "start_time": "2022-06-16T14:37:57.977Z"
   },
   {
    "duration": 15,
    "start_time": "2022-06-16T14:44:44.703Z"
   },
   {
    "duration": 16,
    "start_time": "2022-06-16T14:45:14.806Z"
   },
   {
    "duration": 14,
    "start_time": "2022-06-16T14:46:40.516Z"
   },
   {
    "duration": 7,
    "start_time": "2022-06-16T14:46:53.057Z"
   },
   {
    "duration": 9,
    "start_time": "2022-06-16T14:47:07.403Z"
   },
   {
    "duration": 7,
    "start_time": "2022-06-16T14:47:18.480Z"
   },
   {
    "duration": 4,
    "start_time": "2022-06-16T14:48:52.523Z"
   },
   {
    "duration": 12,
    "start_time": "2022-06-16T14:49:38.560Z"
   },
   {
    "duration": 4,
    "start_time": "2022-06-16T14:56:05.695Z"
   },
   {
    "duration": 4,
    "start_time": "2022-06-16T14:56:21.715Z"
   },
   {
    "duration": 6,
    "start_time": "2022-06-16T14:56:28.877Z"
   },
   {
    "duration": 4,
    "start_time": "2022-06-16T14:58:46.793Z"
   },
   {
    "duration": 10,
    "start_time": "2022-06-16T14:58:51.855Z"
   },
   {
    "duration": 19,
    "start_time": "2022-06-16T14:59:07.719Z"
   },
   {
    "duration": 4,
    "start_time": "2022-06-16T15:00:04.074Z"
   },
   {
    "duration": 1843,
    "start_time": "2022-06-16T15:00:26.673Z"
   },
   {
    "duration": 81,
    "start_time": "2022-06-16T15:00:28.518Z"
   },
   {
    "duration": 14,
    "start_time": "2022-06-16T15:00:28.601Z"
   },
   {
    "duration": 8,
    "start_time": "2022-06-16T15:00:28.616Z"
   },
   {
    "duration": 9,
    "start_time": "2022-06-16T15:00:28.626Z"
   },
   {
    "duration": 10,
    "start_time": "2022-06-16T15:00:28.636Z"
   },
   {
    "duration": 20,
    "start_time": "2022-06-16T15:00:28.647Z"
   },
   {
    "duration": 50,
    "start_time": "2022-06-16T15:00:28.668Z"
   },
   {
    "duration": 14,
    "start_time": "2022-06-16T15:00:28.720Z"
   },
   {
    "duration": 163,
    "start_time": "2022-06-16T15:00:28.736Z"
   },
   {
    "duration": 0,
    "start_time": "2022-06-16T15:00:28.901Z"
   },
   {
    "duration": 0,
    "start_time": "2022-06-16T15:00:28.902Z"
   },
   {
    "duration": 0,
    "start_time": "2022-06-16T15:00:28.903Z"
   },
   {
    "duration": 0,
    "start_time": "2022-06-16T15:00:28.904Z"
   },
   {
    "duration": 0,
    "start_time": "2022-06-16T15:00:28.904Z"
   },
   {
    "duration": 0,
    "start_time": "2022-06-16T15:00:28.905Z"
   },
   {
    "duration": 0,
    "start_time": "2022-06-16T15:00:28.906Z"
   },
   {
    "duration": 0,
    "start_time": "2022-06-16T15:00:28.907Z"
   },
   {
    "duration": 0,
    "start_time": "2022-06-16T15:00:28.909Z"
   },
   {
    "duration": 0,
    "start_time": "2022-06-16T15:00:28.909Z"
   },
   {
    "duration": 1612,
    "start_time": "2022-06-16T15:00:57.573Z"
   },
   {
    "duration": 1364,
    "start_time": "2022-06-16T15:01:05.927Z"
   },
   {
    "duration": 49,
    "start_time": "2022-06-16T15:01:07.293Z"
   },
   {
    "duration": 14,
    "start_time": "2022-06-16T15:01:07.343Z"
   },
   {
    "duration": 15,
    "start_time": "2022-06-16T15:01:07.359Z"
   },
   {
    "duration": 16,
    "start_time": "2022-06-16T15:01:07.376Z"
   },
   {
    "duration": 14,
    "start_time": "2022-06-16T15:01:07.394Z"
   },
   {
    "duration": 15,
    "start_time": "2022-06-16T15:01:07.409Z"
   },
   {
    "duration": 51,
    "start_time": "2022-06-16T15:01:07.426Z"
   },
   {
    "duration": 13,
    "start_time": "2022-06-16T15:01:07.478Z"
   },
   {
    "duration": 1572,
    "start_time": "2022-06-16T15:01:07.493Z"
   },
   {
    "duration": 1412,
    "start_time": "2022-06-16T15:01:09.067Z"
   },
   {
    "duration": 4,
    "start_time": "2022-06-16T15:01:10.481Z"
   },
   {
    "duration": 10,
    "start_time": "2022-06-16T15:01:10.486Z"
   },
   {
    "duration": 6,
    "start_time": "2022-06-16T15:01:10.498Z"
   },
   {
    "duration": 23,
    "start_time": "2022-06-16T15:01:10.505Z"
   },
   {
    "duration": 4,
    "start_time": "2022-06-16T15:01:10.530Z"
   },
   {
    "duration": 0,
    "start_time": "2022-06-16T15:01:10.535Z"
   },
   {
    "duration": 0,
    "start_time": "2022-06-16T15:01:10.536Z"
   },
   {
    "duration": 0,
    "start_time": "2022-06-16T15:01:10.537Z"
   },
   {
    "duration": 0,
    "start_time": "2022-06-16T15:01:10.559Z"
   },
   {
    "duration": 4,
    "start_time": "2022-06-16T15:01:41.820Z"
   },
   {
    "duration": 5,
    "start_time": "2022-06-16T15:01:43.087Z"
   },
   {
    "duration": 22,
    "start_time": "2022-06-16T15:01:51.754Z"
   },
   {
    "duration": 29,
    "start_time": "2022-06-16T15:03:10.920Z"
   },
   {
    "duration": 5,
    "start_time": "2022-06-16T15:03:35.853Z"
   },
   {
    "duration": 4,
    "start_time": "2022-06-16T15:03:48.405Z"
   },
   {
    "duration": 22,
    "start_time": "2022-06-16T15:03:55.020Z"
   },
   {
    "duration": 4,
    "start_time": "2022-06-16T15:04:44.471Z"
   },
   {
    "duration": 27,
    "start_time": "2022-06-16T15:04:52.045Z"
   },
   {
    "duration": 5,
    "start_time": "2022-06-16T15:11:46.193Z"
   },
   {
    "duration": 130,
    "start_time": "2022-06-16T15:11:48.937Z"
   },
   {
    "duration": 9,
    "start_time": "2022-06-16T15:11:55.284Z"
   },
   {
    "duration": 81,
    "start_time": "2022-06-16T15:11:56.586Z"
   },
   {
    "duration": 26,
    "start_time": "2022-06-16T15:11:58.702Z"
   },
   {
    "duration": 4,
    "start_time": "2022-06-16T15:12:03.429Z"
   },
   {
    "duration": 59,
    "start_time": "2022-06-16T15:12:04.710Z"
   },
   {
    "duration": 4,
    "start_time": "2022-06-16T15:12:06.015Z"
   },
   {
    "duration": 4,
    "start_time": "2022-06-16T15:12:06.940Z"
   },
   {
    "duration": 24,
    "start_time": "2022-06-16T15:12:08.844Z"
   },
   {
    "duration": 1432,
    "start_time": "2022-06-16T15:12:16.600Z"
   },
   {
    "duration": 43,
    "start_time": "2022-06-16T15:12:18.034Z"
   },
   {
    "duration": 12,
    "start_time": "2022-06-16T15:12:18.078Z"
   },
   {
    "duration": 13,
    "start_time": "2022-06-16T15:12:18.091Z"
   },
   {
    "duration": 9,
    "start_time": "2022-06-16T15:12:18.105Z"
   },
   {
    "duration": 11,
    "start_time": "2022-06-16T15:12:18.115Z"
   },
   {
    "duration": 12,
    "start_time": "2022-06-16T15:12:18.127Z"
   },
   {
    "duration": 50,
    "start_time": "2022-06-16T15:12:18.141Z"
   },
   {
    "duration": 14,
    "start_time": "2022-06-16T15:12:18.193Z"
   },
   {
    "duration": 1595,
    "start_time": "2022-06-16T15:12:18.210Z"
   },
   {
    "duration": 1586,
    "start_time": "2022-06-16T15:12:19.807Z"
   },
   {
    "duration": 5,
    "start_time": "2022-06-16T15:12:21.394Z"
   },
   {
    "duration": 15,
    "start_time": "2022-06-16T15:12:21.401Z"
   },
   {
    "duration": 49,
    "start_time": "2022-06-16T15:12:21.417Z"
   },
   {
    "duration": 91,
    "start_time": "2022-06-16T15:12:21.469Z"
   },
   {
    "duration": 15,
    "start_time": "2022-06-16T15:12:21.562Z"
   },
   {
    "duration": 98,
    "start_time": "2022-06-16T15:12:21.579Z"
   },
   {
    "duration": 1531,
    "start_time": "2022-06-18T06:30:43.380Z"
   },
   {
    "duration": 89,
    "start_time": "2022-06-18T06:30:44.913Z"
   },
   {
    "duration": 11,
    "start_time": "2022-06-18T06:30:45.004Z"
   },
   {
    "duration": 17,
    "start_time": "2022-06-18T06:30:45.017Z"
   },
   {
    "duration": 9,
    "start_time": "2022-06-18T06:30:45.036Z"
   },
   {
    "duration": 7,
    "start_time": "2022-06-18T06:30:45.047Z"
   },
   {
    "duration": 11,
    "start_time": "2022-06-18T06:30:45.055Z"
   },
   {
    "duration": 45,
    "start_time": "2022-06-18T06:30:45.068Z"
   },
   {
    "duration": 14,
    "start_time": "2022-06-18T06:30:45.115Z"
   },
   {
    "duration": 1532,
    "start_time": "2022-06-18T06:30:45.131Z"
   },
   {
    "duration": 1582,
    "start_time": "2022-06-18T06:30:46.665Z"
   },
   {
    "duration": 11,
    "start_time": "2022-06-18T06:30:48.249Z"
   },
   {
    "duration": 37,
    "start_time": "2022-06-18T06:30:48.262Z"
   },
   {
    "duration": 62,
    "start_time": "2022-06-18T06:30:48.300Z"
   },
   {
    "duration": 7,
    "start_time": "2022-06-18T06:30:48.365Z"
   },
   {
    "duration": 111,
    "start_time": "2022-06-18T06:30:48.374Z"
   },
   {
    "duration": 77,
    "start_time": "2022-06-18T06:30:48.487Z"
   },
   {
    "duration": 4,
    "start_time": "2022-06-18T06:34:27.010Z"
   },
   {
    "duration": 4,
    "start_time": "2022-06-18T06:34:28.403Z"
   },
   {
    "duration": 31,
    "start_time": "2022-06-18T06:34:29.396Z"
   },
   {
    "duration": 4,
    "start_time": "2022-06-18T06:46:38.581Z"
   },
   {
    "duration": 5,
    "start_time": "2022-06-18T06:46:46.162Z"
   },
   {
    "duration": 26,
    "start_time": "2022-06-18T06:46:48.906Z"
   },
   {
    "duration": 19,
    "start_time": "2022-06-18T06:47:06.213Z"
   },
   {
    "duration": 4,
    "start_time": "2022-06-18T06:49:04.739Z"
   },
   {
    "duration": 5,
    "start_time": "2022-06-18T06:51:15.262Z"
   },
   {
    "duration": 330,
    "start_time": "2022-06-18T06:51:48.385Z"
   },
   {
    "duration": 26,
    "start_time": "2022-06-18T06:54:17.581Z"
   },
   {
    "duration": 28,
    "start_time": "2022-06-18T06:54:19.470Z"
   },
   {
    "duration": 5,
    "start_time": "2022-06-18T06:54:22.734Z"
   },
   {
    "duration": 33,
    "start_time": "2022-06-18T06:54:23.700Z"
   },
   {
    "duration": 4,
    "start_time": "2022-06-18T06:54:25.725Z"
   },
   {
    "duration": 4,
    "start_time": "2022-06-18T06:54:26.465Z"
   },
   {
    "duration": 25,
    "start_time": "2022-06-18T06:54:27.187Z"
   },
   {
    "duration": 4,
    "start_time": "2022-06-18T06:54:30.652Z"
   },
   {
    "duration": 351,
    "start_time": "2022-06-18T06:54:35.802Z"
   },
   {
    "duration": 25,
    "start_time": "2022-06-18T06:55:26.948Z"
   },
   {
    "duration": 4,
    "start_time": "2022-06-18T06:56:04.726Z"
   },
   {
    "duration": 5,
    "start_time": "2022-06-18T06:56:11.880Z"
   },
   {
    "duration": 306,
    "start_time": "2022-06-18T06:56:23.312Z"
   },
   {
    "duration": 19,
    "start_time": "2022-06-18T06:56:40.433Z"
   },
   {
    "duration": 102,
    "start_time": "2022-06-18T07:33:26.387Z"
   },
   {
    "duration": 317,
    "start_time": "2022-06-18T07:33:36.046Z"
   },
   {
    "duration": 1391,
    "start_time": "2022-06-18T07:33:45.776Z"
   },
   {
    "duration": 51,
    "start_time": "2022-06-18T07:33:47.169Z"
   },
   {
    "duration": 13,
    "start_time": "2022-06-18T07:33:47.222Z"
   },
   {
    "duration": 12,
    "start_time": "2022-06-18T07:33:47.237Z"
   },
   {
    "duration": 9,
    "start_time": "2022-06-18T07:33:47.251Z"
   },
   {
    "duration": 10,
    "start_time": "2022-06-18T07:33:47.262Z"
   },
   {
    "duration": 19,
    "start_time": "2022-06-18T07:33:47.274Z"
   },
   {
    "duration": 58,
    "start_time": "2022-06-18T07:33:47.295Z"
   },
   {
    "duration": 17,
    "start_time": "2022-06-18T07:33:47.355Z"
   },
   {
    "duration": 1504,
    "start_time": "2022-06-18T07:33:47.375Z"
   },
   {
    "duration": 1385,
    "start_time": "2022-06-18T07:33:48.880Z"
   },
   {
    "duration": 4,
    "start_time": "2022-06-18T07:33:50.267Z"
   },
   {
    "duration": 7,
    "start_time": "2022-06-18T07:33:50.273Z"
   },
   {
    "duration": 81,
    "start_time": "2022-06-18T07:33:50.281Z"
   },
   {
    "duration": 92,
    "start_time": "2022-06-18T07:33:50.367Z"
   },
   {
    "duration": 12,
    "start_time": "2022-06-18T07:33:50.461Z"
   },
   {
    "duration": 41,
    "start_time": "2022-06-18T07:33:50.475Z"
   },
   {
    "duration": 4,
    "start_time": "2022-06-18T07:33:50.517Z"
   },
   {
    "duration": 363,
    "start_time": "2022-06-18T07:33:50.523Z"
   },
   {
    "duration": 133,
    "start_time": "2022-06-18T07:33:50.888Z"
   },
   {
    "duration": 4,
    "start_time": "2022-06-18T07:33:51.023Z"
   },
   {
    "duration": 9,
    "start_time": "2022-06-18T07:33:51.029Z"
   },
   {
    "duration": 322,
    "start_time": "2022-06-18T07:33:51.040Z"
   },
   {
    "duration": 157,
    "start_time": "2022-06-18T07:34:17.829Z"
   },
   {
    "duration": 44,
    "start_time": "2022-06-18T07:34:21.942Z"
   },
   {
    "duration": 1343,
    "start_time": "2022-06-18T07:35:16.706Z"
   },
   {
    "duration": 45,
    "start_time": "2022-06-18T07:35:18.051Z"
   },
   {
    "duration": 10,
    "start_time": "2022-06-18T07:35:18.097Z"
   },
   {
    "duration": 5,
    "start_time": "2022-06-18T07:35:18.109Z"
   },
   {
    "duration": 6,
    "start_time": "2022-06-18T07:35:18.115Z"
   },
   {
    "duration": 7,
    "start_time": "2022-06-18T07:35:18.122Z"
   },
   {
    "duration": 9,
    "start_time": "2022-06-18T07:35:18.131Z"
   },
   {
    "duration": 57,
    "start_time": "2022-06-18T07:35:18.142Z"
   },
   {
    "duration": 12,
    "start_time": "2022-06-18T07:35:18.201Z"
   },
   {
    "duration": 1484,
    "start_time": "2022-06-18T07:35:18.216Z"
   },
   {
    "duration": 1430,
    "start_time": "2022-06-18T07:35:19.701Z"
   },
   {
    "duration": 4,
    "start_time": "2022-06-18T07:35:21.133Z"
   },
   {
    "duration": 9,
    "start_time": "2022-06-18T07:35:21.139Z"
   },
   {
    "duration": 24,
    "start_time": "2022-06-18T07:35:21.159Z"
   },
   {
    "duration": 75,
    "start_time": "2022-06-18T07:35:21.185Z"
   },
   {
    "duration": 99,
    "start_time": "2022-06-18T07:35:21.262Z"
   },
   {
    "duration": 30,
    "start_time": "2022-06-18T07:35:21.363Z"
   },
   {
    "duration": 4,
    "start_time": "2022-06-18T07:35:21.394Z"
   },
   {
    "duration": 337,
    "start_time": "2022-06-18T07:35:21.400Z"
   },
   {
    "duration": 4,
    "start_time": "2022-06-18T07:35:21.738Z"
   },
   {
    "duration": 57,
    "start_time": "2022-06-18T07:35:21.743Z"
   },
   {
    "duration": 4,
    "start_time": "2022-06-18T07:35:21.802Z"
   },
   {
    "duration": 15,
    "start_time": "2022-06-18T07:35:21.807Z"
   },
   {
    "duration": 307,
    "start_time": "2022-06-18T07:35:21.823Z"
   },
   {
    "duration": 109,
    "start_time": "2022-06-18T07:35:48.314Z"
   },
   {
    "duration": 137,
    "start_time": "2022-06-18T07:35:51.328Z"
   },
   {
    "duration": 126,
    "start_time": "2022-06-18T07:35:56.682Z"
   },
   {
    "duration": 113,
    "start_time": "2022-06-18T07:35:59.815Z"
   },
   {
    "duration": 103,
    "start_time": "2022-06-18T07:39:02.107Z"
   },
   {
    "duration": 3,
    "start_time": "2022-06-18T07:39:04.223Z"
   },
   {
    "duration": 103,
    "start_time": "2022-06-18T07:39:05.077Z"
   },
   {
    "duration": 311,
    "start_time": "2022-06-18T07:39:09.397Z"
   },
   {
    "duration": 4,
    "start_time": "2022-06-18T07:40:18.630Z"
   },
   {
    "duration": 125,
    "start_time": "2022-06-18T07:40:20.700Z"
   },
   {
    "duration": 5,
    "start_time": "2022-06-18T07:53:51.512Z"
   },
   {
    "duration": 4,
    "start_time": "2022-06-18T07:55:24.192Z"
   },
   {
    "duration": 521,
    "start_time": "2022-06-18T07:55:25.765Z"
   },
   {
    "duration": 104624,
    "start_time": "2022-06-18T07:55:38.547Z"
   },
   {
    "duration": 17,
    "start_time": "2022-06-18T08:00:44.524Z"
   },
   {
    "duration": 526,
    "start_time": "2022-06-18T08:12:36.655Z"
   },
   {
    "duration": 156,
    "start_time": "2022-06-18T08:12:40.562Z"
   },
   {
    "duration": 13,
    "start_time": "2022-06-18T08:12:42.519Z"
   },
   {
    "duration": 3,
    "start_time": "2022-06-18T08:12:44.814Z"
   },
   {
    "duration": 533,
    "start_time": "2022-06-18T08:12:45.760Z"
   },
   {
    "duration": 14,
    "start_time": "2022-06-18T08:14:02.980Z"
   },
   {
    "duration": 35,
    "start_time": "2022-06-18T08:14:29.462Z"
   },
   {
    "duration": 1234,
    "start_time": "2022-06-18T08:14:33.827Z"
   },
   {
    "duration": 1301,
    "start_time": "2022-06-18T08:14:44.465Z"
   },
   {
    "duration": 1328,
    "start_time": "2022-06-18T08:15:14.035Z"
   },
   {
    "duration": 1158,
    "start_time": "2022-06-18T08:15:22.702Z"
   },
   {
    "duration": 12,
    "start_time": "2022-06-18T08:18:23.350Z"
   },
   {
    "duration": 15,
    "start_time": "2022-06-18T08:24:28.009Z"
   },
   {
    "duration": 5,
    "start_time": "2022-06-18T08:24:56.764Z"
   },
   {
    "duration": 1378,
    "start_time": "2022-06-18T08:28:50.789Z"
   },
   {
    "duration": 1503,
    "start_time": "2022-06-18T08:29:02.759Z"
   },
   {
    "duration": 1487,
    "start_time": "2022-06-18T08:29:07.986Z"
   },
   {
    "duration": 4,
    "start_time": "2022-06-18T08:39:17.714Z"
   },
   {
    "duration": 15,
    "start_time": "2022-06-18T08:40:52.975Z"
   },
   {
    "duration": 1567,
    "start_time": "2022-06-18T08:43:00.868Z"
   },
   {
    "duration": 1130,
    "start_time": "2022-06-18T08:43:06.167Z"
   },
   {
    "duration": 26,
    "start_time": "2022-06-18T09:36:22.364Z"
   },
   {
    "duration": 10,
    "start_time": "2022-06-18T09:36:43.747Z"
   },
   {
    "duration": 10,
    "start_time": "2022-06-18T09:36:52.514Z"
   },
   {
    "duration": 10,
    "start_time": "2022-06-18T09:38:30.816Z"
   },
   {
    "duration": 16,
    "start_time": "2022-06-18T10:04:43.500Z"
   },
   {
    "duration": 1253,
    "start_time": "2022-06-18T10:11:02.978Z"
   },
   {
    "duration": 47,
    "start_time": "2022-06-18T10:11:04.233Z"
   },
   {
    "duration": 11,
    "start_time": "2022-06-18T10:11:04.282Z"
   },
   {
    "duration": 10,
    "start_time": "2022-06-18T10:11:04.295Z"
   },
   {
    "duration": 5,
    "start_time": "2022-06-18T10:11:04.306Z"
   },
   {
    "duration": 6,
    "start_time": "2022-06-18T10:11:04.313Z"
   },
   {
    "duration": 10,
    "start_time": "2022-06-18T10:11:04.320Z"
   },
   {
    "duration": 64,
    "start_time": "2022-06-18T10:11:04.332Z"
   },
   {
    "duration": 22,
    "start_time": "2022-06-18T10:11:04.398Z"
   },
   {
    "duration": 1482,
    "start_time": "2022-06-18T10:11:04.423Z"
   },
   {
    "duration": 178,
    "start_time": "2022-06-18T10:11:05.907Z"
   },
   {
    "duration": 0,
    "start_time": "2022-06-18T10:11:06.086Z"
   },
   {
    "duration": 0,
    "start_time": "2022-06-18T10:11:06.087Z"
   },
   {
    "duration": 0,
    "start_time": "2022-06-18T10:11:06.088Z"
   },
   {
    "duration": 0,
    "start_time": "2022-06-18T10:11:06.089Z"
   },
   {
    "duration": 0,
    "start_time": "2022-06-18T10:11:06.090Z"
   },
   {
    "duration": 0,
    "start_time": "2022-06-18T10:11:06.091Z"
   },
   {
    "duration": 0,
    "start_time": "2022-06-18T10:11:06.092Z"
   },
   {
    "duration": 0,
    "start_time": "2022-06-18T10:11:06.093Z"
   },
   {
    "duration": 0,
    "start_time": "2022-06-18T10:11:06.094Z"
   },
   {
    "duration": 0,
    "start_time": "2022-06-18T10:11:06.095Z"
   },
   {
    "duration": 0,
    "start_time": "2022-06-18T10:11:06.095Z"
   },
   {
    "duration": 0,
    "start_time": "2022-06-18T10:11:06.097Z"
   },
   {
    "duration": 0,
    "start_time": "2022-06-18T10:11:06.097Z"
   },
   {
    "duration": 0,
    "start_time": "2022-06-18T10:11:06.098Z"
   },
   {
    "duration": 0,
    "start_time": "2022-06-18T10:11:06.099Z"
   },
   {
    "duration": 0,
    "start_time": "2022-06-18T10:11:06.100Z"
   },
   {
    "duration": 0,
    "start_time": "2022-06-18T10:11:06.101Z"
   },
   {
    "duration": 0,
    "start_time": "2022-06-18T10:11:06.102Z"
   },
   {
    "duration": 1359,
    "start_time": "2022-06-18T10:11:44.206Z"
   },
   {
    "duration": 46,
    "start_time": "2022-06-18T10:11:45.567Z"
   },
   {
    "duration": 11,
    "start_time": "2022-06-18T10:11:45.614Z"
   },
   {
    "duration": 6,
    "start_time": "2022-06-18T10:11:45.628Z"
   },
   {
    "duration": 12,
    "start_time": "2022-06-18T10:11:45.635Z"
   },
   {
    "duration": 12,
    "start_time": "2022-06-18T10:11:45.648Z"
   },
   {
    "duration": 10,
    "start_time": "2022-06-18T10:11:45.661Z"
   },
   {
    "duration": 42,
    "start_time": "2022-06-18T10:11:45.672Z"
   },
   {
    "duration": 14,
    "start_time": "2022-06-18T10:11:45.716Z"
   },
   {
    "duration": 1509,
    "start_time": "2022-06-18T10:11:45.732Z"
   },
   {
    "duration": 217,
    "start_time": "2022-06-18T10:11:47.259Z"
   },
   {
    "duration": 0,
    "start_time": "2022-06-18T10:11:47.478Z"
   },
   {
    "duration": 0,
    "start_time": "2022-06-18T10:11:47.479Z"
   },
   {
    "duration": 0,
    "start_time": "2022-06-18T10:11:47.480Z"
   },
   {
    "duration": 0,
    "start_time": "2022-06-18T10:11:47.481Z"
   },
   {
    "duration": 0,
    "start_time": "2022-06-18T10:11:47.482Z"
   },
   {
    "duration": 0,
    "start_time": "2022-06-18T10:11:47.483Z"
   },
   {
    "duration": 0,
    "start_time": "2022-06-18T10:11:47.484Z"
   },
   {
    "duration": 0,
    "start_time": "2022-06-18T10:11:47.485Z"
   },
   {
    "duration": 0,
    "start_time": "2022-06-18T10:11:47.486Z"
   },
   {
    "duration": 0,
    "start_time": "2022-06-18T10:11:47.487Z"
   },
   {
    "duration": 0,
    "start_time": "2022-06-18T10:11:47.488Z"
   },
   {
    "duration": 0,
    "start_time": "2022-06-18T10:11:47.489Z"
   },
   {
    "duration": 0,
    "start_time": "2022-06-18T10:11:47.490Z"
   },
   {
    "duration": 0,
    "start_time": "2022-06-18T10:11:47.491Z"
   },
   {
    "duration": 0,
    "start_time": "2022-06-18T10:11:47.492Z"
   },
   {
    "duration": 0,
    "start_time": "2022-06-18T10:11:47.493Z"
   },
   {
    "duration": 0,
    "start_time": "2022-06-18T10:11:47.494Z"
   },
   {
    "duration": 0,
    "start_time": "2022-06-18T10:11:47.495Z"
   },
   {
    "duration": 1394,
    "start_time": "2022-06-18T10:12:25.409Z"
   },
   {
    "duration": 44,
    "start_time": "2022-06-18T10:12:26.805Z"
   },
   {
    "duration": 12,
    "start_time": "2022-06-18T10:12:26.850Z"
   },
   {
    "duration": 18,
    "start_time": "2022-06-18T10:12:26.867Z"
   },
   {
    "duration": 7,
    "start_time": "2022-06-18T10:12:26.886Z"
   },
   {
    "duration": 7,
    "start_time": "2022-06-18T10:12:26.894Z"
   },
   {
    "duration": 9,
    "start_time": "2022-06-18T10:12:26.903Z"
   },
   {
    "duration": 43,
    "start_time": "2022-06-18T10:12:26.913Z"
   },
   {
    "duration": 19,
    "start_time": "2022-06-18T10:12:26.957Z"
   },
   {
    "duration": 2316,
    "start_time": "2022-06-18T10:12:26.979Z"
   },
   {
    "duration": 1509,
    "start_time": "2022-06-18T10:12:29.297Z"
   },
   {
    "duration": 5,
    "start_time": "2022-06-18T10:12:30.808Z"
   },
   {
    "duration": 19,
    "start_time": "2022-06-18T10:12:30.814Z"
   },
   {
    "duration": 126,
    "start_time": "2022-06-18T10:12:30.835Z"
   },
   {
    "duration": 95,
    "start_time": "2022-06-18T10:12:30.964Z"
   },
   {
    "duration": 9,
    "start_time": "2022-06-18T10:12:31.061Z"
   },
   {
    "duration": 26,
    "start_time": "2022-06-18T10:12:31.072Z"
   },
   {
    "duration": 3,
    "start_time": "2022-06-18T10:12:31.100Z"
   },
   {
    "duration": 357,
    "start_time": "2022-06-18T10:12:31.105Z"
   },
   {
    "duration": 4,
    "start_time": "2022-06-18T10:12:31.464Z"
   },
   {
    "duration": 124,
    "start_time": "2022-06-18T10:12:31.470Z"
   },
   {
    "duration": 4,
    "start_time": "2022-06-18T10:12:31.596Z"
   },
   {
    "duration": 9,
    "start_time": "2022-06-18T10:12:31.601Z"
   },
   {
    "duration": 337,
    "start_time": "2022-06-18T10:12:31.611Z"
   },
   {
    "duration": 9,
    "start_time": "2022-06-18T10:12:31.950Z"
   },
   {
    "duration": 526,
    "start_time": "2022-06-18T10:12:31.961Z"
   },
   {
    "duration": 106226,
    "start_time": "2022-06-18T10:12:32.489Z"
   },
   {
    "duration": 1345,
    "start_time": "2022-06-18T10:14:18.719Z"
   },
   {
    "duration": 1077,
    "start_time": "2022-06-18T10:14:20.065Z"
   },
   {
    "duration": 1812,
    "start_time": "2022-06-18T10:48:30.738Z"
   },
   {
    "duration": 160,
    "start_time": "2022-06-18T10:48:32.552Z"
   },
   {
    "duration": 12,
    "start_time": "2022-06-18T10:48:32.714Z"
   },
   {
    "duration": 4,
    "start_time": "2022-06-18T10:48:32.728Z"
   },
   {
    "duration": 8,
    "start_time": "2022-06-18T10:48:32.734Z"
   },
   {
    "duration": 7,
    "start_time": "2022-06-18T10:48:32.743Z"
   },
   {
    "duration": 11,
    "start_time": "2022-06-18T10:48:32.751Z"
   },
   {
    "duration": 48,
    "start_time": "2022-06-18T10:48:32.763Z"
   },
   {
    "duration": 17,
    "start_time": "2022-06-18T10:48:32.812Z"
   },
   {
    "duration": 1817,
    "start_time": "2022-06-18T10:48:32.831Z"
   },
   {
    "duration": 1581,
    "start_time": "2022-06-18T10:48:34.649Z"
   },
   {
    "duration": 5,
    "start_time": "2022-06-18T10:48:36.232Z"
   },
   {
    "duration": 13,
    "start_time": "2022-06-18T10:48:36.238Z"
   },
   {
    "duration": 40,
    "start_time": "2022-06-18T10:48:36.252Z"
   },
   {
    "duration": 101,
    "start_time": "2022-06-18T10:48:36.370Z"
   },
   {
    "duration": 13,
    "start_time": "2022-06-18T10:48:36.473Z"
   },
   {
    "duration": 24,
    "start_time": "2022-06-18T10:48:36.487Z"
   },
   {
    "duration": 4,
    "start_time": "2022-06-18T10:48:36.513Z"
   },
   {
    "duration": 376,
    "start_time": "2022-06-18T10:48:36.518Z"
   },
   {
    "duration": 4,
    "start_time": "2022-06-18T10:48:36.896Z"
   },
   {
    "duration": 121,
    "start_time": "2022-06-18T10:48:36.902Z"
   },
   {
    "duration": 4,
    "start_time": "2022-06-18T10:48:37.026Z"
   },
   {
    "duration": 6,
    "start_time": "2022-06-18T10:48:37.032Z"
   },
   {
    "duration": 353,
    "start_time": "2022-06-18T10:48:37.040Z"
   },
   {
    "duration": 4,
    "start_time": "2022-06-18T10:48:37.395Z"
   },
   {
    "duration": 598,
    "start_time": "2022-06-18T10:48:37.401Z"
   },
   {
    "duration": 115531,
    "start_time": "2022-06-18T10:48:38.001Z"
   },
   {
    "duration": 1355,
    "start_time": "2022-06-18T10:50:33.536Z"
   },
   {
    "duration": 1303,
    "start_time": "2022-06-18T10:50:34.893Z"
   },
   {
    "duration": 32,
    "start_time": "2022-06-19T06:48:08.770Z"
   }
  ],
  "kernelspec": {
   "display_name": "Python 3 (ipykernel)",
   "language": "python",
   "name": "python3"
  },
  "language_info": {
   "codemirror_mode": {
    "name": "ipython",
    "version": 3
   },
   "file_extension": ".py",
   "mimetype": "text/x-python",
   "name": "python",
   "nbconvert_exporter": "python",
   "pygments_lexer": "ipython3",
   "version": "3.9.7"
  },
  "toc": {
   "base_numbering": 1,
   "nav_menu": {},
   "number_sections": true,
   "sideBar": false,
   "skip_h1_title": true,
   "title_cell": "Table of Contents",
   "title_sidebar": "Contents",
   "toc_cell": false,
   "toc_position": {
    "height": "176.4px",
    "left": "143px",
    "top": "111.125px",
    "width": "229.075px"
   },
   "toc_section_display": true,
   "toc_window_display": false
  }
 },
 "nbformat": 4,
 "nbformat_minor": 2
}
